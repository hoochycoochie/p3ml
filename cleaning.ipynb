{
 "cells": [
  {
   "cell_type": "markdown",
   "metadata": {},
   "source": [
    "Le jeu de données Open Food Facts est disponible sur le site officiel (ou disponible à ce lien en téléchargement). Les variables sont définies à cette adresse.\n",
    "\n",
    "Les champs sont séparés en quatre sections :\n",
    "\n",
    "Les informations générales sur la fiche du produit : nom, date de modification, etc.\n",
    "Un ensemble de tags : catégorie du produit, localisation, origine, etc.\n",
    "Les ingrédients composant les produits et leurs additifs éventuels.\n",
    "Des informations nutritionnelles : quantité en grammes d’un nutriment pour 100 grammes du produit."
   ]
  },
  {
   "cell_type": "markdown",
   "metadata": {},
   "source": [
    "# Partie 1 Idée d'application\n",
    "\n",
    "Pour répondre à l'appel de l'Agence française santé publique, et en fonction des données à notre disposition,\n",
    "nous proposons une application (web et ou mobile) qui propose des produits et ou catégories de produits au consommateur suivant les caractéristiques suivantes:\n",
    "- le pays dans lequel où il réside et où les produits sont disponibles, \n",
    "- le sexe\n",
    "- l'âge\n",
    "- le poids \n",
    "- la taille\n",
    "- les maladies dont souffre éventuellement le consommateur\n",
    "- voir mêmes les éventuelles allergies\n",
    "\n",
    "Bien entendu, la mise en place d'une application nécessité une collaboration avec des médecins, diététiciens, nutritionnistes afin de connaitre les nutriments et leurs valeurs respectives dont le consommateur a besoin selon sa situation tout minimisant l'impact sur l'environnement voir le nutriscore"
   ]
  },
  {
   "cell_type": "code",
   "execution_count": 160,
   "metadata": {},
   "outputs": [],
   "source": [
    "import pandas as pd\n",
    "import numpy as np\n",
    "import matplotlib.pyplot as plt\n",
    "import seaborn as sns\n",
    "from sklearn.experimental import enable_iterative_imputer\n",
    "from sklearn.impute import IterativeImputer\n",
    "from sklearn.impute import KNNImputer \n",
    "from scipy import stats\n",
    "#pd.set_option('display.max_rows', None) "
   ]
  },
  {
   "cell_type": "code",
   "execution_count": 161,
   "metadata": {},
   "outputs": [],
   "source": [
    "df=pd.read_csv('./food.csv',sep='\\t',low_memory=False)"
   ]
  },
  {
   "cell_type": "code",
   "execution_count": 162,
   "metadata": {},
   "outputs": [
    {
     "data": {
      "text/plain": [
       "(320772, 162)"
      ]
     },
     "execution_count": 162,
     "metadata": {},
     "output_type": "execute_result"
    }
   ],
   "source": [
    "df.shape ## 320772 lignes et 172 colonnes"
   ]
  },
  {
   "cell_type": "markdown",
   "metadata": {},
   "source": [
    "Afin de répondre à notre idée d'application ,la première chose qu'on fait reste le filtrage des données par pays.Etant donnée, qu'on vit en France, on s'intéresse aux produits disponibles en France"
   ]
  },
  {
   "cell_type": "code",
   "execution_count": 163,
   "metadata": {},
   "outputs": [],
   "source": [
    "## filtrage des produits disponibles en France\n",
    "df=df[(pd.notnull(df['countries'])) & (\n",
    "(df['countries'].str.contains('FR')) |\n",
    "    (df['countries'].str.contains('France'))\n",
    "    | (df['countries'].str.contains('france'))\n",
    "    | (df['countries'].str.contains('French'))\n",
    "     | (df['countries'].str.contains('french'))\n",
    ")]"
   ]
  },
  {
   "cell_type": "code",
   "execution_count": 164,
   "metadata": {},
   "outputs": [
    {
     "data": {
      "text/plain": [
       "code                         0.000000\n",
       "url                          0.000000\n",
       "creator                      0.000000\n",
       "created_t                    0.000000\n",
       "created_datetime             0.001019\n",
       "                              ...    \n",
       "carbon-footprint_100g       99.820653\n",
       "nutrition-score-fr_100g     37.641388\n",
       "nutrition-score-uk_100g     37.641388\n",
       "glycemic-index_100g        100.000000\n",
       "water-hardness_100g        100.000000\n",
       "Length: 162, dtype: float64"
      ]
     },
     "execution_count": 164,
     "metadata": {},
     "output_type": "execute_result"
    }
   ],
   "source": [
    "df.isnull().sum()/len(df)*100"
   ]
  },
  {
   "cell_type": "code",
   "execution_count": null,
   "metadata": {},
   "outputs": [],
   "source": []
  },
  {
   "cell_type": "markdown",
   "metadata": {},
   "source": [
    "#  Traitements des colonnes"
   ]
  },
  {
   "cell_type": "code",
   "execution_count": 165,
   "metadata": {},
   "outputs": [],
   "source": [
    "## fonction renvoyant les colonnes et le pourcentage de valeurs nulles pour chacune d'elle\n",
    "def columns_na_percentage(df):\n",
    "    na_df=(df.isnull().sum()/len(df)*100).sort_values(ascending=False).reset_index()\n",
    "    na_df.columns = ['Column','na_rate_percent']\n",
    "    return na_df\n",
    "  "
   ]
  },
  {
   "cell_type": "code",
   "execution_count": 166,
   "metadata": {},
   "outputs": [
    {
     "data": {
      "text/html": [
       "<div>\n",
       "<style scoped>\n",
       "    .dataframe tbody tr th:only-of-type {\n",
       "        vertical-align: middle;\n",
       "    }\n",
       "\n",
       "    .dataframe tbody tr th {\n",
       "        vertical-align: top;\n",
       "    }\n",
       "\n",
       "    .dataframe thead th {\n",
       "        text-align: right;\n",
       "    }\n",
       "</style>\n",
       "<table border=\"1\" class=\"dataframe\">\n",
       "  <thead>\n",
       "    <tr style=\"text-align: right;\">\n",
       "      <th></th>\n",
       "      <th>Column</th>\n",
       "      <th>na_rate_percent</th>\n",
       "    </tr>\n",
       "  </thead>\n",
       "  <tbody>\n",
       "    <tr>\n",
       "      <th>0</th>\n",
       "      <td>water-hardness_100g</td>\n",
       "      <td>100.000000</td>\n",
       "    </tr>\n",
       "    <tr>\n",
       "      <th>1</th>\n",
       "      <td>nervonic-acid_100g</td>\n",
       "      <td>100.000000</td>\n",
       "    </tr>\n",
       "    <tr>\n",
       "      <th>2</th>\n",
       "      <td>mead-acid_100g</td>\n",
       "      <td>100.000000</td>\n",
       "    </tr>\n",
       "    <tr>\n",
       "      <th>3</th>\n",
       "      <td>gondoic-acid_100g</td>\n",
       "      <td>100.000000</td>\n",
       "    </tr>\n",
       "    <tr>\n",
       "      <th>4</th>\n",
       "      <td>elaidic-acid_100g</td>\n",
       "      <td>100.000000</td>\n",
       "    </tr>\n",
       "    <tr>\n",
       "      <th>...</th>\n",
       "      <td>...</td>\n",
       "      <td>...</td>\n",
       "    </tr>\n",
       "    <tr>\n",
       "      <th>115</th>\n",
       "      <td>generic_name</td>\n",
       "      <td>61.194897</td>\n",
       "    </tr>\n",
       "    <tr>\n",
       "      <th>116</th>\n",
       "      <td>purchase_places</td>\n",
       "      <td>56.025435</td>\n",
       "    </tr>\n",
       "    <tr>\n",
       "      <th>117</th>\n",
       "      <td>fiber_100g</td>\n",
       "      <td>53.524772</td>\n",
       "    </tr>\n",
       "    <tr>\n",
       "      <th>118</th>\n",
       "      <td>carbohydrates_100g</td>\n",
       "      <td>52.130760</td>\n",
       "    </tr>\n",
       "    <tr>\n",
       "      <th>119</th>\n",
       "      <td>fat_100g</td>\n",
       "      <td>51.691565</td>\n",
       "    </tr>\n",
       "  </tbody>\n",
       "</table>\n",
       "<p>120 rows × 2 columns</p>\n",
       "</div>"
      ],
      "text/plain": [
       "                  Column  na_rate_percent\n",
       "0    water-hardness_100g       100.000000\n",
       "1     nervonic-acid_100g       100.000000\n",
       "2         mead-acid_100g       100.000000\n",
       "3      gondoic-acid_100g       100.000000\n",
       "4      elaidic-acid_100g       100.000000\n",
       "..                   ...              ...\n",
       "115         generic_name        61.194897\n",
       "116      purchase_places        56.025435\n",
       "117           fiber_100g        53.524772\n",
       "118   carbohydrates_100g        52.130760\n",
       "119             fat_100g        51.691565\n",
       "\n",
       "[120 rows x 2 columns]"
      ]
     },
     "execution_count": 166,
     "metadata": {},
     "output_type": "execute_result"
    }
   ],
   "source": [
    "## variables comportant plus de 50% de valeurs manquantes\n",
    "na_df=columns_na_percentage(df)\n",
    "na_columns=na_df[na_df['na_rate_percent']>=50] ## 120 colonnes ont plus de 50% de valeurs nulles\n",
    "#na_columns[na_columns['Column']=='manufacturing_places']\n",
    "na_columns"
   ]
  },
  {
   "cell_type": "code",
   "execution_count": 167,
   "metadata": {},
   "outputs": [],
   "source": [
    "## suppression des colonnes ayant plus 50% de valeurs nulles\n",
    "df.drop(columns=na_columns['Column'].tolist(),axis=1,inplace=True)"
   ]
  },
  {
   "cell_type": "code",
   "execution_count": 168,
   "metadata": {},
   "outputs": [],
   "source": [
    "## les colonnes code, url,creator,created_t,created_datetime,last_modified_t,last_modified_datetime\n",
    "  # sont peu utiles, et plus relatives au stockage en base de données\n",
    "  # par conséquent, nous les supprimons\n",
    "unuseless_columns =['code', 'url','creator','created_t','created_datetime','last_modified_t','last_modified_datetime']\n",
    "df.drop(columns=unuseless_columns,axis=1,inplace=True)"
   ]
  },
  {
   "cell_type": "code",
   "execution_count": 169,
   "metadata": {},
   "outputs": [],
   "source": [
    "## ['categories','categories_tags','categories_fr','main_category'] restent les mêmes, on ne garde que categories\n",
    "## ['brands','brands_tags'] restent les mêmes, on ne garde que brands\n",
    "## ['additives_n','additives'] restent les mêmes, on ne garde que additives_n\n",
    "\n",
    "## Au final, on ne retient que les variables suivantes\n",
    "relevant_cols=[\n",
    "    'product_name',\n",
    "    \n",
    "    'categories',\n",
    "    'additives_n',\n",
    "    'ingredients_from_palm_oil_n',\n",
    "    'nutrition_grade_fr',\n",
    "    \n",
    "    \n",
    "    ## toutes les valeurs nutritionnelles\n",
    "    'energy_100g', \n",
    "    'saturated-fat_100g',\n",
    "    'sugars_100g',\n",
    "    'proteins_100g',\n",
    "    'salt_100g', \n",
    "    'sodium_100g',\n",
    "    'nutrition-score-fr_100g',\n",
    "       \n",
    "    \n",
    "]\n",
    "df=df[relevant_cols]"
   ]
  },
  {
   "cell_type": "markdown",
   "metadata": {},
   "source": [
    "## Traitement des lignes"
   ]
  },
  {
   "cell_type": "code",
   "execution_count": 170,
   "metadata": {},
   "outputs": [
    {
     "data": {
      "text/html": [
       "<div>\n",
       "<style scoped>\n",
       "    .dataframe tbody tr th:only-of-type {\n",
       "        vertical-align: middle;\n",
       "    }\n",
       "\n",
       "    .dataframe tbody tr th {\n",
       "        vertical-align: top;\n",
       "    }\n",
       "\n",
       "    .dataframe thead th {\n",
       "        text-align: right;\n",
       "    }\n",
       "</style>\n",
       "<table border=\"1\" class=\"dataframe\">\n",
       "  <thead>\n",
       "    <tr style=\"text-align: right;\">\n",
       "      <th></th>\n",
       "      <th>product_name</th>\n",
       "    </tr>\n",
       "  </thead>\n",
       "  <tbody>\n",
       "    <tr>\n",
       "      <th>48</th>\n",
       "      <td>NaN</td>\n",
       "    </tr>\n",
       "    <tr>\n",
       "      <th>183</th>\n",
       "      <td>NaN</td>\n",
       "    </tr>\n",
       "    <tr>\n",
       "      <th>187</th>\n",
       "      <td>NaN</td>\n",
       "    </tr>\n",
       "    <tr>\n",
       "      <th>227</th>\n",
       "      <td>NaN</td>\n",
       "    </tr>\n",
       "    <tr>\n",
       "      <th>280</th>\n",
       "      <td>NaN</td>\n",
       "    </tr>\n",
       "    <tr>\n",
       "      <th>...</th>\n",
       "      <td>...</td>\n",
       "    </tr>\n",
       "    <tr>\n",
       "      <th>320718</th>\n",
       "      <td>NaN</td>\n",
       "    </tr>\n",
       "    <tr>\n",
       "      <th>320745</th>\n",
       "      <td>NaN</td>\n",
       "    </tr>\n",
       "    <tr>\n",
       "      <th>320746</th>\n",
       "      <td>NaN</td>\n",
       "    </tr>\n",
       "    <tr>\n",
       "      <th>320747</th>\n",
       "      <td>NaN</td>\n",
       "    </tr>\n",
       "    <tr>\n",
       "      <th>320755</th>\n",
       "      <td>NaN</td>\n",
       "    </tr>\n",
       "  </tbody>\n",
       "</table>\n",
       "<p>7172 rows × 1 columns</p>\n",
       "</div>"
      ],
      "text/plain": [
       "       product_name\n",
       "48              NaN\n",
       "183             NaN\n",
       "187             NaN\n",
       "227             NaN\n",
       "280             NaN\n",
       "...             ...\n",
       "320718          NaN\n",
       "320745          NaN\n",
       "320746          NaN\n",
       "320747          NaN\n",
       "320755          NaN\n",
       "\n",
       "[7172 rows x 1 columns]"
      ]
     },
     "execution_count": 170,
     "metadata": {},
     "output_type": "execute_result"
    }
   ],
   "source": [
    "## le nom du produit censé être unique et non nul\n",
    "## suppression de toutes les lignes dont le nom du produit est non renseigné ou nul\n",
    "missing_product_name=df[(pd.isna(df['product_name']))|(df['product_name'].str.strip()=='')]\n",
    "missing_product_name[['product_name']] ##7172 lignes à supprimmer\n",
    "#df=df[~pd.isna(df['product_name'])]"
   ]
  },
  {
   "cell_type": "code",
   "execution_count": 171,
   "metadata": {},
   "outputs": [],
   "source": [
    "## suppression des produits dont les noms ne sont pas renseignés\n",
    "df.drop(missing_product_name.index,inplace=True)"
   ]
  },
  {
   "cell_type": "code",
   "execution_count": 172,
   "metadata": {},
   "outputs": [
    {
     "data": {
      "text/html": [
       "<div>\n",
       "<style scoped>\n",
       "    .dataframe tbody tr th:only-of-type {\n",
       "        vertical-align: middle;\n",
       "    }\n",
       "\n",
       "    .dataframe tbody tr th {\n",
       "        vertical-align: top;\n",
       "    }\n",
       "\n",
       "    .dataframe thead th {\n",
       "        text-align: right;\n",
       "    }\n",
       "</style>\n",
       "<table border=\"1\" class=\"dataframe\">\n",
       "  <thead>\n",
       "    <tr style=\"text-align: right;\">\n",
       "      <th></th>\n",
       "      <th>product_name</th>\n",
       "    </tr>\n",
       "  </thead>\n",
       "  <tbody>\n",
       "    <tr>\n",
       "      <th>0</th>\n",
       "      <td>Farine de blé noir</td>\n",
       "    </tr>\n",
       "    <tr>\n",
       "      <th>240</th>\n",
       "      <td>7Up</td>\n",
       "    </tr>\n",
       "    <tr>\n",
       "      <th>242</th>\n",
       "      <td>Madeleines nature</td>\n",
       "    </tr>\n",
       "    <tr>\n",
       "      <th>271</th>\n",
       "      <td>Terrine de campagne</td>\n",
       "    </tr>\n",
       "    <tr>\n",
       "      <th>284</th>\n",
       "      <td>Chair à saucisse</td>\n",
       "    </tr>\n",
       "    <tr>\n",
       "      <th>...</th>\n",
       "      <td>...</td>\n",
       "    </tr>\n",
       "    <tr>\n",
       "      <th>320711</th>\n",
       "      <td>Lardons</td>\n",
       "    </tr>\n",
       "    <tr>\n",
       "      <th>320715</th>\n",
       "      <td>Graine couscous fin</td>\n",
       "    </tr>\n",
       "    <tr>\n",
       "      <th>320743</th>\n",
       "      <td>Gingembre</td>\n",
       "    </tr>\n",
       "    <tr>\n",
       "      <th>320757</th>\n",
       "      <td>Amandes</td>\n",
       "    </tr>\n",
       "    <tr>\n",
       "      <th>320760</th>\n",
       "      <td>Poireaux</td>\n",
       "    </tr>\n",
       "  </tbody>\n",
       "</table>\n",
       "<p>23497 rows × 1 columns</p>\n",
       "</div>"
      ],
      "text/plain": [
       "               product_name\n",
       "0        Farine de blé noir\n",
       "240                     7Up\n",
       "242       Madeleines nature\n",
       "271     Terrine de campagne\n",
       "284        Chair à saucisse\n",
       "...                     ...\n",
       "320711              Lardons\n",
       "320715  Graine couscous fin\n",
       "320743            Gingembre\n",
       "320757              Amandes\n",
       "320760             Poireaux\n",
       "\n",
       "[23497 rows x 1 columns]"
      ]
     },
     "execution_count": 172,
     "metadata": {},
     "output_type": "execute_result"
    }
   ],
   "source": [
    "## vérification de doublons pour le nom du produit 23497 doublons\n",
    "df[df['product_name'].duplicated(keep=False)][['product_name']]"
   ]
  },
  {
   "cell_type": "code",
   "execution_count": 173,
   "metadata": {},
   "outputs": [],
   "source": [
    "## suppression des doublons sur les produits\n",
    "df.drop_duplicates(subset='product_name',keep='last',inplace=True)"
   ]
  },
  {
   "cell_type": "code",
   "execution_count": 174,
   "metadata": {},
   "outputs": [
    {
     "data": {
      "text/plain": [
       "['energy_100g',\n",
       " 'saturated-fat_100g',\n",
       " 'sugars_100g',\n",
       " 'proteins_100g',\n",
       " 'salt_100g',\n",
       " 'sodium_100g',\n",
       " 'nutrition-score-fr_100g']"
      ]
     },
     "execution_count": 174,
     "metadata": {},
     "output_type": "execute_result"
    }
   ],
   "source": [
    "## identification des colonnes décrivant la part nutritionnelle pour 100g\n",
    "nutriment_cols=[i for i in df.columns.tolist() if i.endswith('_100g')]\n",
    "nutriment_cols"
   ]
  },
  {
   "cell_type": "code",
   "execution_count": 175,
   "metadata": {},
   "outputs": [
    {
     "name": "stdout",
     "output_type": "stream",
     "text": [
      "columns with negative values ['sugars_100g', 'nutrition-score-fr_100g']\n"
     ]
    }
   ],
   "source": [
    "## vérification des lignes comportant des valeurs nutritionnelles négatives\n",
    "negative_cols=[]\n",
    "for col in nutriment_cols:\n",
    "    if len(df[df[col]<0])>0:\n",
    "        negative_cols.append(col)\n",
    "\n",
    "print('columns with negative values',negative_cols) \n",
    "## les variables ['sugars_100g', 'fiber_100g', 'proteins_100g', 'nutrition-score-fr_100g']\n",
    "              ## comportent des valeurs négatives\n",
    "## suppression des lignes comportant des valeurs nutritionnelles négatives\n",
    "for col in negative_cols:\n",
    "    df.drop(index=df.loc[df[col]<0,col].index,inplace=True)\n",
    "\n"
   ]
  },
  {
   "cell_type": "code",
   "execution_count": 176,
   "metadata": {},
   "outputs": [
    {
     "data": {
      "text/plain": [
       "21582"
      ]
     },
     "execution_count": 176,
     "metadata": {},
     "output_type": "execute_result"
    }
   ],
   "source": [
    "## identification des lignes dont toutes les valeurs nutritionnelles sont inconnues\n",
    "all_missing_nutritional = df[df[\"energy_100g\"].isna()\n",
    "                            & df[\"proteins_100g\"].isna()\n",
    "                            & df[\"sugars_100g\"].isna()\n",
    "                          \n",
    "            &df['sugars_100g'].isna()\n",
    "                            \n",
    "   \n",
    "                             & df[ 'nutrition-score-fr_100g'].isna()\n",
    "                           \n",
    "                            & df[\"saturated-fat_100g\"].isna()\n",
    "                             \n",
    "                            & df[\"sodium_100g\"].isna() \n",
    "                    ] \n",
    "len(all_missing_nutritional[nutriment_cols] )## 21582"
   ]
  },
  {
   "cell_type": "code",
   "execution_count": 177,
   "metadata": {},
   "outputs": [],
   "source": [
    "## suppression des lignes dont toutes les valeurs nutritives sont inconnues ainsi que les nutriscores\n",
    "df.drop(all_missing_nutritional.index,inplace=True)\n",
    "\n"
   ]
  },
  {
   "cell_type": "code",
   "execution_count": 178,
   "metadata": {},
   "outputs": [
    {
     "data": {
      "text/plain": [
       "product_name                    0.000000\n",
       "categories                     28.778580\n",
       "additives_n                    33.956071\n",
       "ingredients_from_palm_oil_n    33.956071\n",
       "nutrition_grade_fr              6.274589\n",
       "energy_100g                     0.537308\n",
       "saturated-fat_100g              4.552506\n",
       "sugars_100g                     4.260246\n",
       "proteins_100g                   1.027405\n",
       "salt_100g                       4.192801\n",
       "sodium_100g                     4.195050\n",
       "nutrition-score-fr_100g         6.274589\n",
       "dtype: float64"
      ]
     },
     "execution_count": 178,
     "metadata": {},
     "output_type": "execute_result"
    }
   ],
   "source": [
    "df.isnull().sum()/len(df)*100"
   ]
  },
  {
   "cell_type": "markdown",
   "metadata": {},
   "source": [
    "# Analyse et recherche des valeurs aberrantes avec IQR (Inter Quartile Range)"
   ]
  },
  {
   "cell_type": "code",
   "execution_count": 179,
   "metadata": {},
   "outputs": [
    {
     "data": {
      "text/html": [
       "<div>\n",
       "<style scoped>\n",
       "    .dataframe tbody tr th:only-of-type {\n",
       "        vertical-align: middle;\n",
       "    }\n",
       "\n",
       "    .dataframe tbody tr th {\n",
       "        vertical-align: top;\n",
       "    }\n",
       "\n",
       "    .dataframe thead th {\n",
       "        text-align: right;\n",
       "    }\n",
       "</style>\n",
       "<table border=\"1\" class=\"dataframe\">\n",
       "  <thead>\n",
       "    <tr style=\"text-align: right;\">\n",
       "      <th></th>\n",
       "      <th>additives_n</th>\n",
       "      <th>ingredients_from_palm_oil_n</th>\n",
       "      <th>energy_100g</th>\n",
       "      <th>saturated-fat_100g</th>\n",
       "      <th>sugars_100g</th>\n",
       "      <th>proteins_100g</th>\n",
       "      <th>salt_100g</th>\n",
       "      <th>sodium_100g</th>\n",
       "      <th>nutrition-score-fr_100g</th>\n",
       "    </tr>\n",
       "  </thead>\n",
       "  <tbody>\n",
       "    <tr>\n",
       "      <th>count</th>\n",
       "      <td>29377.000000</td>\n",
       "      <td>29377.000000</td>\n",
       "      <td>44242.000000</td>\n",
       "      <td>42456.000000</td>\n",
       "      <td>42586.000000</td>\n",
       "      <td>44024.000000</td>\n",
       "      <td>42616.000000</td>\n",
       "      <td>42615.000000</td>\n",
       "      <td>41690.000000</td>\n",
       "    </tr>\n",
       "    <tr>\n",
       "      <th>mean</th>\n",
       "      <td>2.348334</td>\n",
       "      <td>0.099976</td>\n",
       "      <td>1192.784382</td>\n",
       "      <td>6.388728</td>\n",
       "      <td>15.455371</td>\n",
       "      <td>7.748537</td>\n",
       "      <td>1.311959</td>\n",
       "      <td>0.516530</td>\n",
       "      <td>11.102279</td>\n",
       "    </tr>\n",
       "    <tr>\n",
       "      <th>std</th>\n",
       "      <td>2.757704</td>\n",
       "      <td>0.304591</td>\n",
       "      <td>1173.160069</td>\n",
       "      <td>8.970960</td>\n",
       "      <td>20.003384</td>\n",
       "      <td>7.929492</td>\n",
       "      <td>4.680861</td>\n",
       "      <td>1.842803</td>\n",
       "      <td>7.790992</td>\n",
       "    </tr>\n",
       "    <tr>\n",
       "      <th>min</th>\n",
       "      <td>0.000000</td>\n",
       "      <td>0.000000</td>\n",
       "      <td>0.000000</td>\n",
       "      <td>0.000000</td>\n",
       "      <td>0.000000</td>\n",
       "      <td>0.000000</td>\n",
       "      <td>0.000000</td>\n",
       "      <td>0.000000</td>\n",
       "      <td>0.000000</td>\n",
       "    </tr>\n",
       "    <tr>\n",
       "      <th>25%</th>\n",
       "      <td>0.000000</td>\n",
       "      <td>0.000000</td>\n",
       "      <td>503.000000</td>\n",
       "      <td>0.600000</td>\n",
       "      <td>1.200000</td>\n",
       "      <td>1.900000</td>\n",
       "      <td>0.100000</td>\n",
       "      <td>0.039370</td>\n",
       "      <td>4.000000</td>\n",
       "    </tr>\n",
       "    <tr>\n",
       "      <th>50%</th>\n",
       "      <td>1.000000</td>\n",
       "      <td>0.000000</td>\n",
       "      <td>1106.000000</td>\n",
       "      <td>2.900000</td>\n",
       "      <td>5.500000</td>\n",
       "      <td>6.000000</td>\n",
       "      <td>0.680000</td>\n",
       "      <td>0.267716</td>\n",
       "      <td>11.000000</td>\n",
       "    </tr>\n",
       "    <tr>\n",
       "      <th>75%</th>\n",
       "      <td>4.000000</td>\n",
       "      <td>0.000000</td>\n",
       "      <td>1770.000000</td>\n",
       "      <td>9.300000</td>\n",
       "      <td>24.700000</td>\n",
       "      <td>10.200000</td>\n",
       "      <td>1.400000</td>\n",
       "      <td>0.551181</td>\n",
       "      <td>17.000000</td>\n",
       "    </tr>\n",
       "    <tr>\n",
       "      <th>max</th>\n",
       "      <td>21.000000</td>\n",
       "      <td>2.000000</td>\n",
       "      <td>182764.000000</td>\n",
       "      <td>210.000000</td>\n",
       "      <td>105.000000</td>\n",
       "      <td>100.000000</td>\n",
       "      <td>211.000000</td>\n",
       "      <td>83.000000</td>\n",
       "      <td>40.000000</td>\n",
       "    </tr>\n",
       "  </tbody>\n",
       "</table>\n",
       "</div>"
      ],
      "text/plain": [
       "        additives_n  ingredients_from_palm_oil_n    energy_100g  \\\n",
       "count  29377.000000                 29377.000000   44242.000000   \n",
       "mean       2.348334                     0.099976    1192.784382   \n",
       "std        2.757704                     0.304591    1173.160069   \n",
       "min        0.000000                     0.000000       0.000000   \n",
       "25%        0.000000                     0.000000     503.000000   \n",
       "50%        1.000000                     0.000000    1106.000000   \n",
       "75%        4.000000                     0.000000    1770.000000   \n",
       "max       21.000000                     2.000000  182764.000000   \n",
       "\n",
       "       saturated-fat_100g   sugars_100g  proteins_100g     salt_100g  \\\n",
       "count        42456.000000  42586.000000   44024.000000  42616.000000   \n",
       "mean             6.388728     15.455371       7.748537      1.311959   \n",
       "std              8.970960     20.003384       7.929492      4.680861   \n",
       "min              0.000000      0.000000       0.000000      0.000000   \n",
       "25%              0.600000      1.200000       1.900000      0.100000   \n",
       "50%              2.900000      5.500000       6.000000      0.680000   \n",
       "75%              9.300000     24.700000      10.200000      1.400000   \n",
       "max            210.000000    105.000000     100.000000    211.000000   \n",
       "\n",
       "        sodium_100g  nutrition-score-fr_100g  \n",
       "count  42615.000000             41690.000000  \n",
       "mean       0.516530                11.102279  \n",
       "std        1.842803                 7.790992  \n",
       "min        0.000000                 0.000000  \n",
       "25%        0.039370                 4.000000  \n",
       "50%        0.267716                11.000000  \n",
       "75%        0.551181                17.000000  \n",
       "max       83.000000                40.000000  "
      ]
     },
     "execution_count": 179,
     "metadata": {},
     "output_type": "execute_result"
    }
   ],
   "source": [
    "df.describe()"
   ]
  },
  {
   "cell_type": "code",
   "execution_count": 180,
   "metadata": {},
   "outputs": [
    {
     "data": {
      "image/png": "[encoded data removed]",
      "text/plain": [
       "<Figure size 1440x720 with 1 Axes>"
      ]
     },
     "metadata": {
      "needs_background": "light"
     },
     "output_type": "display_data"
    }
   ],
   "source": [
    "## afin de détecter d'éventuelles valeurs aberrantes, \n",
    "## nous traçons les boxplot pour  chaque valeurs nutritives ainsi que les nutriscore\n",
    "\n",
    "## boxplot\n",
    "from matplotlib import rcParams\n",
    "\n",
    "rcParams['figure.figsize'] = 20,10\n",
    "g=sns.boxplot(data=df[nutriment_cols])\n",
    "g.set_yscale(\"log\")\n",
    "\n",
    "## présence de plusieurs valeurs aberrantes sauf pour le nutriscore\n"
   ]
  },
  {
   "cell_type": "code",
   "execution_count": 181,
   "metadata": {},
   "outputs": [],
   "source": [
    "## suppression de toutes les valeurs nutririonnelles supérieures à 100g\n",
    "##df[df[nutriment_cols]>100]\n",
    "nutriment_cols=[i for i in df.columns.tolist() if i.endswith('_100g')]\n",
    "for col in nutriment_cols:\n",
    "    if col !='energy_100g':\n",
    "        if len(df[df[col]>100]):\n",
    "            #print(df[df[col]>100][col])\n",
    "            df.drop(index=df[df[col]>100].index,inplace=True)"
   ]
  },
  {
   "cell_type": "code",
   "execution_count": 182,
   "metadata": {},
   "outputs": [
    {
     "name": "stdout",
     "output_type": "stream",
     "text": [
      "<class 'pandas.core.frame.DataFrame'>\n",
      "Int64Index: 44475 entries, 106 to 320763\n",
      "Data columns (total 12 columns):\n",
      " #   Column                       Non-Null Count  Dtype  \n",
      "---  ------                       --------------  -----  \n",
      " 0   product_name                 44475 non-null  object \n",
      " 1   categories                   31674 non-null  object \n",
      " 2   additives_n                  29372 non-null  float64\n",
      " 3   ingredients_from_palm_oil_n  29372 non-null  float64\n",
      " 4   nutrition_grade_fr           41685 non-null  object \n",
      " 5   energy_100g                  44236 non-null  float64\n",
      " 6   saturated-fat_100g           42451 non-null  float64\n",
      " 7   sugars_100g                  42580 non-null  float64\n",
      " 8   proteins_100g                44019 non-null  float64\n",
      " 9   salt_100g                    42611 non-null  float64\n",
      " 10  sodium_100g                  42610 non-null  float64\n",
      " 11  nutrition-score-fr_100g      41685 non-null  float64\n",
      "dtypes: float64(9), object(3)\n",
      "memory usage: 4.4+ MB\n"
     ]
    }
   ],
   "source": [
    "df.info() ##44475 lignes"
   ]
  },
  {
   "cell_type": "code",
   "execution_count": 183,
   "metadata": {},
   "outputs": [],
   "source": [
    "## fonction qui calcule les valeurs aberrantes sur un échantillon homogène de même catégorie\n",
    " # et   renvoit les noms des produits sous forme de list\n",
    "\n",
    " \n",
    " \n",
    "\n",
    "def find_outliers_and_clean(col,category,df):\n",
    "\n",
    "    df_by_category=df[df['categories']==category]\n",
    "    Q1 = df_by_category[col].quantile(0.25)\n",
    "    Q3 = df_by_category[col].quantile(0.75)\n",
    "    IQR = Q3 - Q1\n",
    "\n",
    "    outliers= df_by_category[((df_by_category[col] < (Q1 - 1.5 * IQR)) |(df_by_category[col] > (Q3 + 1.5 * IQR))).any(axis=1)]\n",
    "   \n",
    "    #df=outliers.drop(index=outliers.index,inplace=True)\n",
    "    if len(outliers)>0:\n",
    "        #print('outliers for column '+str(col[0])+' and category '+str(category),outliers[['product_name',col[0]]])\n",
    "        return outliers['product_name'].values.tolist()\n",
    "    else:\n",
    "        #print('no outliers for column '+str(col[0])+' and category '+str(category))\n",
    "        return []\n",
    "    "
   ]
  },
  {
   "cell_type": "code",
   "execution_count": 184,
   "metadata": {},
   "outputs": [
    {
     "data": {
      "text/plain": [
       "['Cola Edulcorant Naturel ', 'Cola Classic Carrefour', 'Coca-Cola life ']"
      ]
     },
     "execution_count": 184,
     "metadata": {},
     "output_type": "execute_result"
    }
   ],
   "source": [
    "## exemple pour la catégorie Soda au cola sur la variable energy_100g\n",
    "product_name=find_outliers_and_clean(['energy_100g'],'Sodas au cola',df)\n",
    "product_name\n",
    " ## les produits Cola Edulcorant Naturel,Cola Classic Carrefour,Coca-Cola life \n",
    "    # sont considérés comme valeurs aberrantes selon la méthode interquartile\n",
    "    \n"
   ]
  },
  {
   "cell_type": "code",
   "execution_count": 185,
   "metadata": {},
   "outputs": [
    {
     "name": "stdout",
     "output_type": "stream",
     "text": [
      "['Cola Edulcorant Naturel ', 'Cola Classic Carrefour', 'Coca-Cola life ', 'Pure Sensation Cola Cherry', 'Planet Cola Cherry', 'Cola Edulcorant Naturel ', 'Fizz Cola Bio', 'Cola Classic Carrefour', 'Coca-Cola life ', 'Montania Cola', 'Soda aux extraits végétaux Cola', 'Pure Sensation Cola Cherry', 'Planet Cola Cherry', 'Limonade au cola pur sucre', 'Pepsi, Nouveau goût !', 'Soda aux extraits végétaux Cola', 'Quebec Soda', 'Cola Classic Carrefour', 'Pepsi, Nouveau goût !', 'Soda aux extraits végétaux Cola', 'Quebec Soda', 'Cola Classic Carrefour', 'Cola Edulcorant Naturel ', 'Cola Classic Carrefour', 'Coca-Cola life ', 'Stem Ginger Cookies', 'Cookies aux pépites de chocolat ', 'Organiser cookies', 'Cookies Noix de précan & pépites de chocolat', 'Organiser cookies', 'Saveur Tropical', 'Fun Pocket Saveur Pomme Cassis', 'Aloe Vera Grape & Apple Juice', 'Sunny Delight Boisson orange fraise', 'Aloe Vera Grape & Apple Juice', 'Sunny Delight Boisson orange fraise', 'Céréales et chicorée bio', 'Boisson bio au soja saveur chocolat', 'Boisson bio au soja saveur chocolat', 'Céréales et chicorée bio', 'Boisson bio au soja saveur chocolat', 'Soya drink natural ', 'Céréales et chicorée bio', 'Water & What U Need Watermelon & Lychee', 'Boisson Aux Graines De Basilic Aromes Passion', 'Céréales et chicorée bio', 'Water & What U Need Watermelon & Lychee', 'Boisson Aux Graines De Basilic Aromes Passion', 'Boisson Aux Graines De Basilic Aromes Passion', 'Tyrkisk Peber', 'Tyrkisk Peber', 'Tyrkisk Peber', 'Tyrkisk Peber', 'Mini cookies noix de pécan millet', 'Mini cookies noix de pécan millet', 'Shortbread Cookies', 'Mini cookies noix de pécan millet', 'Mini cookies noix de pécan millet', 'Mini cookies cœur fondant, chocolat au lait et noisettes', 'Cookies tendres Chocolat', 'Cookies Tout choco - Chocolat Noir et Pépites de Chocolat', 'Cookies aux Pépites de Chocolat', 'Cookies Tout Choco', 'Cookies Tout Choco', 'Mini choux goût bleu et noix', 'Mini-Choux saveur Bleu-Noix', 'Mini choux goût chèvre & poivre', 'Mini choux goût bleu et noix', 'Mini-Choux saveur Bleu-Noix', 'Mini choux goût chèvre & poivre', 'Crêpes Fourrées Chèvre & Romarin', 'Torsades feuilletées pur beurre', 'Mini craquants Origan', 'Coktail fruits', 'Ticru sésame coco', 'Crusty fromage, graines de courge', 'Snack-Mix', \"Croc'Balls\", 'Gaufrettes au sel de Guérande', 'Sticks et Bretzels', 'Coktail fruits', \"Les ApériSablés pur beurre saveur Bacon / Bière du Ch'ti\", 'Ticru sésame coco', 'Snack-Mix', \"Croc'Balls\", 'Gaufrettes au sel de Guérande', 'Sticks et Bretzels', 'Coktail fruits', \"Les ApériSablés pur beurre saveur Bacon / Bière du Ch'ti\", 'Ticru sésame coco', 'Vinaigre balsamique de Modène', 'Bio Cartoon Fraise', 'Guanabana', 'Guanabana', 'Oasis Zéro Tropical', \"Casino Pomme Cassis à l'eau de source\", 'Boisson Orange 2L Ep*,', \"L'incroyable Passionnade Aux Goyaves Roses\", 'Concentré &quot;Tonus et Vitalité&quot; Bio', 'Concentré &quot;Jambes légères&quot; Bio', 'Jus de Cranberry Classic', 'Boisson multifruits', 'Mojito juice drink', \"Boisson au jus d'orange\", 'Plein sud Orange', 'Apple & Prickly Pear Juice Drink', 'Fruits Exotiques', 'Boisson goût fraise-framboise', \"Cranberry Framboise à l'eau de source\", 'Au Jus De Pêche', 'Boisson au jus de Cranberry', 'Le Verger Bio Multifruits', 'Jus de framboise', 'Jus de Litchi', 'Boissons aux fruits Ananas Orange Carotte', 'Cranberry & Myrtille', 'Boisson pasteurisée aux Poires', 'Bionade gingembre orange', 'Lemon & Green Tea', 'Pure Infusion', 'Oasis Pocket Cassis Framboise', 'Fruit revolution', 'Tomate, ananas & carotte', 'Oasis Zéro Tropical', 'Boisson Orange 2L Ep*,', 'Concentré &quot;Tonus et Vitalité&quot; Bio', 'Concentré &quot;Jambes légères&quot; Bio', 'Jus de Cranberry Classic', \"P'tit Oasis Tropical\", 'Mon petit dej cereales  fraise banane', 'Concentré &quot;Tonus et Vitalité&quot; Bio', 'Boisson à base de jus de goyave', 'Boisson Passion', 'Boisson à base de Jus de Mangue', 'Mojito juice drink', 'Oasis Zéro Tropical', 'Fruits Exotiques', \"Tropical à l'eau de source\", 'Jus Mango Multi-fruits', 'Lemon & Green Tea', 'Oasis Pocket Cassis Framboise', 'Boisson à base de jus de goyave', 'Boisson Passion', 'Boisson à base de Jus de Mangue', 'Mojito juice drink', 'Oasis Zéro Tropical', 'Fruits Exotiques', \"Tropical à l'eau de source\", 'Jus Mango Multi-fruits', 'Lemon & Green Tea', 'Oasis Pocket Cassis Framboise', 'Oasis Zéro Tropical', 'Boisson Orange 2L Ep*,', 'Chips campagnardes', 'Hand Cooked Potato Chips Mature Cheddar & Caramelized Onion', 'Chips ondulées saveur chèvre & poivre', 'Chips craquantes poulet rôti au citron et thym', 'Chips bleues pommes de terre Vitelotte', 'La Chips Bio', 'Mature Cheddar & Red Onion', 'Hand Cooked Potato Chips Black pepper & Sea salt', 'Hand Cooked Potato Chips', 'Chips craquantes poulet rôti au citron et thym', 'Hand Cooked Potato Chips', 'Chips craquantes poulet rôti au citron et thym', 'Bonbons goût fruit', 'Puré Apple & Honey', 'Les Minis carambar fête', 'Les Minis carambar fête', 'Bonbons goût fruit', 'Diet Lemonade', 'Look', 'Limonade artisanale Fruit de la Passion', 'Mountain Dew', 'Mate', 'Ascania limonade fraise', 'limonade', 'Diet Lemonade', 'Look', 'Mountain Dew', 'Ascania limonade fraise', 'limonade', 'Bionade', 'Lemonade', 'Limonade traditionnelle :Arôme naturel de citron-citron vert', 'Limonade artisanale Fruit de la Passion', 'Lemonade Orange', 'Limonade traditionnelle :Arôme naturel de citron-citron vert', 'Limonade artisanale Fruit de la Passion', 'Lemonade Orange', 'Diet Lemonade', 'Look', 'Mountain Dew', 'Ascania limonade fraise', 'limonade', 'All-Bran Fibre Plus', 'Cruesli au chocolat (Offre Spéciale)', 'Cruesli chocolat au lait', 'Cruesli 4 Noix (Format 600 g)', 'Cruesli, Edition Limitée (Automne - Hiver 3 Chocolats)', 'Cruesli, Caramel', 'Cruesli goût Cookies & Cream', 'Céréales Croustillantes Amaranthe & Chocolat', 'Croustillant Chocolat Bio', 'Crisp muesli 2 chocolats et caramel', 'Fibra plus', 'Crousty premium caramel', 'Crousty premium 3 chocolats', 'Cruesli, 4 Noix', 'Cruesli, Chocolat au lait', 'Country Crisp 4 noix', 'Country Crisp - Chocolat au lait extra fin', 'Country Crisp Céréales Complètes & Chocolat au Lait Extra Fin', \"Country Crisp sirop d'érable et noix de pécan\", 'Country Crisp chocolat noir', 'Country Crisp Chocolat au Lait Extra Fin', 'Extra pépites morceaux de chocolat au lait', 'Extra® Pépites Noisettes Caramélisées', 'Trésor break Chocolat Noisette', 'Pensal Farinha com cacau', 'Céréales germées chocolat noisette', 'Extra pépites morceaux de chocolat au lait', 'Extra® Pépites Noisettes Caramélisées', 'super flakes copeaux de chocolat noir, riz et épautre complet', 'All-Bran Fibre Plus', 'Chabrior Forme & Nature', 'Fibra plus', 'Stylesse Fruits rouges', \"Coussins d'avoine\", 'Forme Flakes Chocolat au Lait', 'Bran flakes', 'Special K Nature', 'Special K Nourish Pétales & Pépites Noisettes, Amandes & Graines de Courge', \"Croquant d'Avoine\", \"Fitness croquant d'avoine\", 'Peanut Butter Crunch', 'Forme & Chocolat au Lait', 'Peanut Butter Crunch', 'Forme & Chocolat au Lait', 'Peanut Butter Crunch', 'Pétales de Blé fruits rouges', 'Pétales de blé chocolat', 'Forme & Chocolat au Lait', \"Cao Flake's petales de blé au chocolat\", 'Fitness nature (-30% de sucres)', 'Krounchy fruits', \"Coussins d'avoine\", 'Amaranth crunchy schokolade', 'Minis Banana', 'Extra pépites morceaux de chocolat au lait', 'Extra® Pépites Noisettes Caramélisées', 'Special K Nourish Pétales & Pépites Noisettes, Amandes & Graines de Courge', 'Disney Frozen', 'nourish myrtilles, mûres, framboises & groseilles', 'Disney Vaiana Multi-Céréales goût Miel', 'Pensal Farinha com cacau', 'Eyguebelle - Sirop De Peche-abricot 100 CL', 'Eyguebelle - Sirop De Citron Vert 70 CL', 'Sirop Fraise Framboise', 'Menthe verte', 'Dukan CACAO', 'Boisson aux fruits plate multivitamines Capri Sun', 'Soda Stream - Orange', 'Succédané de Café aux Fruits et Céréales Bio', \"75CL Vin De Pays D' Oc Merlot Ormes\", 'Yop Fraise', 'Soupe velouté Régal Soupe Potiron chataigne', 'Vache à boire vanille érable collector', 'Dukan CACAO', 'Super Smoothie Berry & Protein', 'Lait sans lactose', 'Eyguebelle - Sirop De Peche-abricot 100 CL', 'Eyguebelle - Sirop De Citron Vert 70 CL', 'Sirop Fraise Framboise', 'Menthe verte', 'Soda Stream - Orange', 'Yop Fraise', 'Vache à boire vanille érable collector', 'Dukan CACAO', 'Super Smoothie Berry & Protein', 'Lait sans lactose', 'Succédané de Café aux Fruits et Céréales Bio', 'Boisson Réfrigérée Fuitopia Fruits', 'Paquito Cokt.legumes BC4X', 'Yop Fraise', \"Nectar Poire D'été\", \"Jus De Pomme Cox's Orange\", 'Soupe velouté Régal Soupe Potiron chataigne', 'Limonade Fraise Des Bois', 'Jus Et Nectar De Fruit', 'Zitronenlimonade, Ohne Zucker', 'Lait sans lactose', '1L OAT DRINK CALCIUM', 'Edhayfane', 'Soda Stream - Orange', 'Succédané de Café aux Fruits et Céréales Bio', 'S. Pellegrino Mineralwasser', 'Aloe water', 'Boisson Réfrigérée Fuitopia Fruits', 'Paquito Cokt.legumes BC4X', 'Yop Fraise', \"Nectar Poire D'été\", \"Jus De Pomme Cox's Orange\", 'Soupe velouté Régal Soupe Potiron chataigne', 'Limonade Fraise Des Bois', 'Jus Et Nectar De Fruit', 'Zitronenlimonade, Ohne Zucker', 'Lait sans lactose', '1L OAT DRINK CALCIUM', 'Edhayfane', 'Soda Stream - Orange', 'Succédané de Café aux Fruits et Céréales Bio', 'S. Pellegrino Mineralwasser', 'Aloe water', 'Dark chocolate almond', 'Chocolat noir amandes effilées', \"Chocolat Noir aux Éclats d'amandes\", 'Dark with almonds', 'Dark with almonds', \"Reese's Pieces\", 'Bonbons sans sucre avec édulcorant arôme menthe', \"Pralissim' papillotes pralinés\", 'Cassis Bonbons suisses aux plantes (lot de 2)', 'Mini bonbons thé vert à la menthe sans sucres', 'Bonbons durs Assortiment Fruité Sans Sucre', 'Bonbons durs aux Plantes sans sucres', 'Mini bonbons menthe sans sucres', 'Velamints', 'Pastilles Menthe sans sucres', 'Ricola Orange Menthe', 'Cassis Bonbons suisses aux plantes', 'Réglisse', 'Bonbon suisse aux plantes sans sucres Menthe des Montagnes', 'Menthe des Glaciers', 'Bonbons Suisses aux Plantes Citron - Mélisse', 'Le Bonbon Double Effet Parfum Réglisse sans sucres', 'Célébrations', 'Golia', \"Reese's Pieces\", 'Sensation Fruit Grenade', \"Pralissim' papillotes pralinés\", 'Bonbons tendres 6 parfums U', 'Tendres goûts fruits ', \"Caramel l'original\", 'Carambar Caramel', 'Célébrations', '3 Sticks Strawberry', \"Reese's Pieces\", 'Gummy Bear', 'Sensation Fruit Grenade', \"Gom's Assortiment de Saveurs\", \"L'île au Trésor\", 'Love Pik Pêche', 'Just for me… and my friends!', \"Pralissim' papillotes pralinés\", 'Tendres goûts fruits ', 'La Brique du Capitole', 'nid coquetier', 'Confiserie gélifiée Caiman bi-texture citrique', 'Dracula', 'Dragolo', 'Lutti BESTFIZZ', \"Caramel l'original\", 'Carambar Caramel', 'Célébrations', 'Amore Pizza', \"Gourmandise d'autrefois\", 'Bonbons sans sucres goût caramel', 'Les anis de flavigny à la violette', 'Têtes brûlées framboise/fraise', 'Têtes brulées la bille double choc goût Citroïd Megacide', 'Têtes Brûlées Dynamite', 'Têtes Brûlées : Le Kysmache goût Cola', 'Bonbons goût caramel', 'Bonbons durs café sans sucres', \"Werther's Original - Bonbons Classiques Sans Sucre\", \"Werther's original sans sucre\", \"Werther's original Cappuccino sans sucres\", \"Caramel l'original\", 'Carambar Caramel', 'Fruit-tella sans sucres Expresso', 'Mini cables', 'Justice League', 'Pez Despicable Me', \"Gourmandise d'autrefois\", 'Bonbons sans sucres goût caramel', 'Les anis de flavigny à la violette', 'Têtes brûlées framboise/fraise', 'Têtes brulées la bille double choc goût Citroïd Megacide', 'Têtes Brûlées Dynamite', 'Têtes Brûlées : Le Kysmache goût Cola', 'Bonbons goût caramel', 'Bonbons durs café sans sucres', \"Werther's Original - Bonbons Classiques Sans Sucre\", \"Werther's original sans sucre\", \"Werther's original Cappuccino sans sucres\", \"Caramel l'original\", 'Carambar Caramel', 'Fruit-tella sans sucres Expresso', 'Mini cables', 'Justice League', 'Pez Despicable Me', \"Reese's Pieces\", \"Gourmandise d'autrefois\", 'Sensation Fruit Grenade', \"Gom's Assortiment de Saveurs\", \"Pralissim' papillotes pralinés\", 'Cassis Bonbons suisses aux plantes (lot de 2)', 'Mini bonbons thé vert à la menthe sans sucres', 'Bonbons sans sucres goût caramel', 'Les anis de flavigny à la violette', 'Têtes brulées la bille double choc goût Citroïd Megacide', 'Têtes Brûlées : Le Kysmache goût Cola', 'Bonbons durs café sans sucres', 'Bonbons durs Assortiment Fruité Sans Sucre', 'Bonbons durs aux Plantes sans sucres', 'Mini bonbons menthe sans sucres', \"Werther's original Cappuccino sans sucres\", 'Velamints', 'Pastilles Menthe sans sucres', 'Ricola Orange Menthe', 'Cassis Bonbons suisses aux plantes', 'Réglisse', 'Bonbon suisse aux plantes sans sucres Menthe des Montagnes', 'Menthe des Glaciers', 'Bonbons Suisses aux Plantes Citron - Mélisse', \"Caramel l'original\", 'Carambar Caramel', 'Le Bonbon Double Effet Parfum Réglisse sans sucres', 'Célébrations', 'Golia', 'Fruit-tella sans sucres Expresso', 'Sun Pat smooth peanut spread', 'Beurre Bio De Cacahuete', 'Original Peanutbutter Creamy', 'Beurre Bio De Cacahuete', 'Beurre Bio De Cacahuete', 'Beurre Bio De Cacahuete', \"Lait caramel Dupont d'isigny à la fleur de sel de Guérande\", 'Lindor Noisettes', 'Lindor passionnément fondant lait', 'Friture Lait', 'Lindor caramel', 'Lindor passionnément fondant lait', 'Lindor caramel', 'Chocolat au lait Noisettes entières', 'Chocolat Lait Maïs Bio', 'Grand Cru Sambirano Lait', 'Chocolat au lait sans sucre ajouté', 'Milkschokolade mit Haselnüsse', 'Chocolat au Lait de Madagascar', 'Peanut butter cups', 'Riz Croustillant', 'Chocolat Lait Fleur de Sel', 'Lait Café', 'Chocolat lait amandes sel de guérande', 'Grand Chocolat Lait Caramel Pointe de Sel', 'Alpenmilch Schokolade & TUC Cracker', 'milka avec tuc', 'Riz Croustillant (Lot familial)', 'Peanut butter cups', 'Riz Croustillant', 'Chocolat Lait Fleur de Sel', 'Lait Café', 'Chocolat lait amandes sel de guérande', 'Grand Chocolat Lait Caramel Pointe de Sel', 'Alpenmilch Schokolade & TUC Cracker', 'milka avec tuc', 'Riz Croustillant (Lot familial)', 'Lait Café', 'Grand Cru Sambirano Lait', 'Chocolat au lait sans sucre ajouté', 'Ours lait', 'Lindor Caramel', 'Peanut Butter Cups Miniatures', 'Peanut Butter Cups Miniatures', 'Skippy Smooth', 'Beurre de cacahuètes', 'Beurre de cacahuètes', 'Special K Biscuit Moments Cioccolato', 'Bueno Dark', 'TWINS - Sandwich Cookies sans sucre ajouté ', \"Les Petits Déj' Croustillants Amaranthe et Chocolat\", 'Biscuits meringués au chocolat', 'Canttuccini', 'Choco Leibniz Caramel', \"Crousti'fibres chocolat pécan\", 'Galettes froment chocolat au lait', 'Bâtonnets Chocolat au Lait', 'Les Florentins ® Chocolat lait et orange', 'Canttuccini', 'TWINS - Sandwich Cookies sans sucre ajouté ', 'Biscuits Lait Choco Gerblé', 'Biscuit chocolat amande', 'Coup Double Bio Bjorg', 'Coup double', 'Biscuits nappés au chocolat noir', '6 Large Choc Macaroons', 'Bueno Dark', 'Petit LU Pépites de Chocolat', \"Granola l'original à emporter partout\", 'Croquants goût chocolat Stylesse', 'Petit beurre aux pépites de chocolat', 'Canttuccini', 'Brisures de biscuits', 'Oreo Peanut Butter Flavour', \"Granola l'original\", 'Petit LU Pépites de Chocolat', \"Granola l'original à emporter partout\", 'Croquants goût chocolat Stylesse', 'Petit beurre aux pépites de chocolat', 'Canttuccini', 'Brisures de biscuits', 'Oreo Peanut Butter Flavour', \"Granola l'original\", \"Crousti'fibres chocolat pécan\", \"Les Petits Déj' Croustillants Amaranthe et Chocolat\", 'TWINS - Sandwich Cookies sans sucre ajouté ', 'Biscuits Sésame', \"Biscuits de son d'avoine saveur noisette\", \"Biscuits de son d'avoine aux pépites de chocolat\", 'Biscuits diététiques saveur beurre', \"Biscuit diététique au son d'avoine Gerlinéa\", 'Biscuits saveur Vanille Citron', 'Diet Sparkling Florida Orange', 'Fanta orange', '6 venison sausages 74% venison', 'Saucisse au mètre', 'Saucisse sèche pur porc sans gluten', 'Saucisse sèche pur porc sans gluten', 'La Fine Saint Agaûne 210 g', 'Saint Agaûne Délicatement Fumé', '6 venison sausages 74% venison', 'Saucisse au mètre', 'Saucisse sèche pur porc sans gluten', 'Honey Mustard', ' moutarde au moût de raisin ', 'Moutarde au pinot noir', 'Moutarde Curry', 'Moutarde piment doux fumé', 'Parmesan et Basilic Moutarde au vin blanc', 'Honey Mustard', 'Honey Mustard', 'Classic Yellow', 'La Pizza 3 Fromages', 'Pizza alla Parmigiana', 'La Pizza 3 Fromages', '4 paniers noix de st Jacques à la bretonne ', \"2 Roulés à l'emmental\", \"Boulettes de poulet à l'italienne Picard\", 'Moules à la marinière', '4 Hachés au Saumon', '4 paniers noix de st Jacques à la bretonne ', \"2 Roulés à l'emmental\", 'Fondants de pomme de terre au foie gras', 'Mozzarelline panate', '4 bonshommes de Neige', 'Daim Glace', 'Daim Glace', 'Arbroath Lochmuir Honey Roast Salmon Slices', \"Saumon de Norvège Fumé à l'Ancienne Ferme et Fondant\", 'Arbroath Lochmuir Honey Roast Salmon Slices', 'saumon atlantique fumé élevé en Norvège', 'Arbroath Lochmuir Honey Roast Salmon Slices', 'saumon atlantique fumé élevé en Norvège', 'Arbroath Lochmuir Honey Roast Salmon Slices', 'Rice Drink Coco', 'Coco Milk, 5 à 7% mg', 'Coco Milk, 5 à 7% mg', 'Chocolat au lait aux noiettes', 'Chocolat au lait aux noiettes', 'FLUFF Caramel', 'chocolade Crunchy', \"Gaufres à l'Érable Biologiques\", 'Gaufres Moelleuses', \"Gaufre Sirop d'Agave à la farine d'épeautre\", 'Gaufre liégeoise choco', 'Fines Gaufres sans sucres', \"Gaufres à l'Érable Biologiques\", \"Gaufre Sirop d'Agave à la farine d'épeautre\", 'Gaufres pépites de chocolat', \"Gaufres au miel à la farine d'épeautre\", 'Fines Gaufres sans sucres', \"Gaufres à l'Érable Biologiques\", 'Gaufres Moelleuses', 'Gaufres Moelleuses', \"Gaufre Sirop d'Agave à la farine d'épeautre\", 'Fines Gaufres sans sucres', \"Pâte d'arachide \", 'Pâte de cacahuètes', \"beurre d'arachide croquant\", 'Mélange de fruits et de noix', 'Mélange de fruits et de noix', 'Mélange de fruits et de noix', 'Mélange de fruits et de noix', 'Mélange de fruits et de noix', \"Miniroulés L'original aux Abricots\", 'Petits fours pâtissiers', 'Savoureux Fruits Rouges et son biscuit pain de Gênes', 'Gâteau au fromage blanc saveur vanille', 'Gâteaux au fromage blanc', 'Saint Amour aux pommes', 'Gâteau au fromage blanc fermier nature', 'Pruneau', 'Suprême du Ventoux aux amandes', 'Berliner', 'Berliner', 'Gâteaux au fromage blanc', 'BelVita Petit-déjeuner Avoine aux bananes et chocolat tendres', 'BelVita Petit-déjeuner Avoine aux bananes et chocolat tendres', 'Biscuits fourrés goût chocolat ', 'Biscuits fourrés goût chocolat ', 'BelVita Petit-déjeuner Avoine aux bananes et chocolat tendres', 'Pasta & Bruschetta Champignons, Ail, Tomates', 'Pasta & Bruschetta Champignons, Ail, Tomates', 'Pasta & Bruschetta Champignons, Ail, Tomates', 'Pasta & Bruschetta Champignons, Ail, Tomates', 'Rouge Sensation', 'Pur jus Multifruits BIO', 'Jus Raisin, Cassis, Acérola', 'Pur jus Multifruits BIO', 'Rouge Sensation', 'Pur jus Fruits rouges', 'Jus Raisin, Cassis, Acérola', 'Collection Nature Orange Framboise Fruit de la Passion', 'Cocktail 4 Agrumes', 'Pressade - 1,5 L', 'Pur Jus Pomme Mangue Passion', 'Jus Raisin, Cassis, Acérola', 'Pure Premium Créations Oranges Orange Fruit de la Passion', 'Intense Appel & Mango Juice', 'Rouge Sensation', 'Jus Raisin, Cassis, Acérola', '100% pur jus Multifruits Exotique', 'Intense Appel & Mango Juice', 'Rouge Sensation', 'Jus Raisin, Cassis, Acérola', '100% pur jus Multifruits Exotique', 'Rouge Sensation', 'Jus Raisin, Cassis, Acérola', 'Café Zero° Espresso', 'Café Zero° Espresso', 'Maille Mayonnaise Fine Qualité Traiteur', 'Mayonnaise fin gourmets qualité traiteur', 'Mayonnaise à la Pulpe de Citron Vert', \"Mayonnaise L'authentique\", 'Mayonnaise Fine', 'Mayonnaise Fins Gourmets qualité traiteur', 'Peri Peri Mayo', 'Roasted Garlic Mayo', 'Roasted Garlic Mayo', 'Mayonnaise fin gourmets qualité traiteur', 'Mayonnaise Jérôme Dubois', 'Mayonnaise aux œufs frais', 'Mayonnaise Fins Gourmets qualité traiteur', 'Roasted Garlic Mayo', 'Mayonnaise fin gourmets qualité traiteur', 'Mayonnaise Jérôme Dubois', 'Mayonnaise aux œufs frais', 'Mayonnaise Fins Gourmets qualité traiteur', 'Roasted Garlic Mayo', 'Cookies Choco Nougatine', 'Cookies nougatine et pépites de chocolat (x 12)', 'Cookies nougatine et pépites de chocolat (x 12)', 'Luxury Cookies Nougatine', 'Grandino Pépites de Chocolat & Nougatine', 'Cookies Pépites de Chocolat et Nougatine ', 'Cookies Choco Nougatine', 'Luxury Cookies Nougatine', 'Cookies Pépites de Chocolat et Nougatine ', 'Cookies Choco Nougatine', 'Cookies nougatine et pépites de chocolat (x 12)', 'Luxury Cookies Nougatine', 'Cookies Pépites de Chocolat et Nougatine ', 'Cookies Choco Nougatine', 'Cookies nougatine et pépites de chocolat (x 12)', 'Nos Régions ont du talent - Lunettes de romans', 'Petit Beurre', 'Barquette Lulu abricot', 'Biscuits saveur coco sans sucres', 'Biscuit Sablé Sarrasin Poireau', 'Gluco-d Fleur Hibiscus', 'Gluco-d Fleur Hibiscus', 'Amaretti siciliani morbidi', 'BJORG Spéculoos Bio', 'Beurrés Bretons Pur Beurre', 'Petit beurre sablé au sel de Guérande', 'Biscuits nappés au chocolat au lait', 'Biscuit Sablé Sarrasin Poireau', \"L'incroyable Cookie aux éclats de caramel et de noix de pécan\", 'BJORG Spéculoos Bio', 'Beurrés Bretons Pur Beurre', 'Petit beurre sablé au sel de Guérande', 'Biscuits nappés au chocolat au lait', 'Biscuit Sablé Sarrasin Poireau', \"L'incroyable Cookie aux éclats de caramel et de noix de pécan\", 'Biscuits saveur coco sans sucres', 'Gluco-d Fleur Hibiscus', 'Finger', 'Moelleux aux pépites de chocolat', 'Chocolat Noir Dégustation 90%', 'Chocolat noir menthe', 'Chocolat noir fleur de sel saveur caramel', 'Goût Pistache', 'After Eight extra dark', 'Citron Zestes de Citron Noir', 'Fruits Rouges Noir (offre Gourmande)', 'Fruit Passion Noir', 'Fruit Citron Noir', 'Chocolat noir 100% cacao ', 'Chocolat noir 99% de cacao du Pérou Bio', 'Cacao noir 100%', 'Chocolat noir fleur de sel saveur caramel', 'Goût Pistache', 'Dark Chocolate with Almonds', 'Pineapple coated in dark chocolate', 'Chocolat noir 47% et pointe de fleur de sel', 'Chocolat noir aux cristaux de Fleur de Sel', 'Noir Dégustation à la fleur de sel', 'Chocolat Noir supérieur', 'Chocolat Noir Noix de Coco', 'Tablette chocolat noir café 70% cacao Pérou', 'Chocolat noir (70%) à la fleur de sel de Guérande', 'Chocolat noir fleur de sel ', 'Chocolat noir fleur de sel saveur caramel', 'Chocolat noir croustillant', 'Chocolat Noir', \"Recettes de l'Atelier N°8 Eclats de Caramel\", 'Coeur croustillant chocolat noir', 'Fin noir pistache', 'Pécan Noir - Pointe de Sel', \"L'original Noir\", 'Fleur de sel noir ', 'Dark Chocolate with Almonds', 'Pineapple coated in dark chocolate', 'Chocolat noir 47% et pointe de fleur de sel', 'Chocolat noir aux cristaux de Fleur de Sel', 'Noir Dégustation à la fleur de sel', 'Chocolat Noir supérieur', 'Chocolat Noir Noix de Coco', 'Tablette chocolat noir café 70% cacao Pérou', 'Chocolat noir (70%) à la fleur de sel de Guérande', 'Chocolat noir fleur de sel ', 'Chocolat noir fleur de sel saveur caramel', 'Chocolat noir croustillant', 'Chocolat Noir', \"Recettes de l'Atelier N°8 Eclats de Caramel\", 'Coeur croustillant chocolat noir', 'Fin noir pistache', 'Pécan Noir - Pointe de Sel', \"L'original Noir\", 'Fleur de sel noir ', 'Noir dessert ', 'Pineapple coated in dark chocolate', 'Chocolat noir 47% et pointe de fleur de sel', 'Chocolat noir aux cristaux de Fleur de Sel', \"L'étonnant Chocolat Noir Menthe\", 'Chocolat Noir Noix de Coco', 'Chocolat noir 95 %', 'Chocolat noir 100% cacao ', 'Chocolat noir 99% de cacao du Pérou Bio', 'Tablette chocolat noir café 70% cacao Pérou', 'Chocolate negro 52% cacao', 'Chocolat noir fleur de sel saveur caramel', 'Ritter Sport Pfefferminz', 'Dark chocolate chilli', 'Super-Graines Original Carob hit', 'Super-Graines Potiron Original Lift', 'Barre Généreuse Amandes grillées et chocolat', 'Sésame', 'Barre Arachides Amandes et Cannelle', 'Air Heads Blue Raspberry', 'Barres céréales Pomme', 'Chocolat - barres céréales', 'Barres Céréales Chocolat Blanc', 'Barre Figue', 'Barres riz & blé complet Fruits rouges', 'Barres gourmandes cranberries amandes', 'Barres céréalières aux noisettes', 'Barre céréales ', \"Barres de son d'avoine extra gourmand\", 'Extra Barre généreuse Amandes grillées et Cranberries', 'Barre cashew cookie', 'Air Heads Blue Raspberry', \"Barres de son d'avoine extra gourmand\", 'Super-Graines Original Carob hit', 'Super-Graines Potiron Original Lift', 'Barre Généreuse Amandes grillées et chocolat', 'Barre cashew cookie', 'Sésame', 'Barre Arachides Amandes et Cannelle', 'Barres riz & blé complet Fruits rouges', 'Barres riz & blé complet Fruits rouges', 'Chocolat - barres céréales', \"Barres de son d'avoine extra gourmand\", 'Génoises framboise', 'Gaufrettes Fourrées Vanille', 'Palets pur beurre', 'Cuillers de dégustation', 'Véritables biscuits de Montbozon', \"Biscuits de son d'avoine\", 'Girella', 'Médaillons au coco', 'Palets pur beurre', 'Kambly Délice de coco', 'Sockerfria Kakor Havre', 'Amaretti Italian Biscuits', \"La Paille D'Or aux framboises\", 'Sable Nature', 'Génoises fourrage framboise', 'Biscuits fourrés cerise', 'Génoises fourrées à la framboise', \"Génoises fourrage à l'orange nappées de chocolat noir\", 'Palets citron', 'Poussins fourrés à la crème de noisette', 'Mandorlini', 'Tuiles Framboises', \"Biscuits de son d'avoine\", 'Crackers Sans Gluten Sésame et Graines de Chia', 'Biscuit Maria', 'Biscuit chocolat céréales', \"Biscuit son d'avoine\", 'Biscuits vitalité Soja Orange', 'Crackers Sans Gluten Sésame et Graines de Chia', 'Petit LU Beurre et Sel de Guérande', 'Grany Biscuit Céréales', 'Petit LU Beurre et Sel de Guérande', 'Grany Biscuit Céréales', 'Sable Nature', 'Tuiles Framboises', \"Biscuits de son d'avoine saveur coco\", \"Biscuits de son d'avoine\", 'Biscuit Maria', 'Demae Ramen Crevettes', 'Nouilles instantanées', 'Noodles saveur crevettes', 'Instant Thai Noodles Prawn Flavour', 'Demae Ramen Crevettes', 'Nouilles instantanées', 'Instant Thai Noodles Prawn Flavour', 'Demae Ramen Crevettes', 'Nouilles instantanées', 'Instant Thai Noodles Prawn Flavour', 'Demae Ramen Crevettes', 'Nouilles instantanées', 'Noodles saveur crevettes', 'Demae Ramen Crevettes', 'Nouilles instantanées', 'Moutarde mi-forte délicate', 'Moutarde mi-forte délicate', 'Moutarde miel', 'Banana Chocolate Puffs', 'Honey Chocolate Puffs', 'Stylesse Nature', 'Banana Chocolate Puffs', \"Crousti'Miel\", 'Sauce pimentée pour pizza', 'Sauce Beurre Citron', 'Sauce beurre citron portionnable', 'Pâte pour « Padthai »', 'Sauce Classic Chinoise', 'Bacon & Onion Sauce', 'Sauce pour Rouleaux de Printemps et Nems', 'Argentina Steak & Grill', 'American Smokey BBQ Sauce', 'Hoi Sin Sauce', 'Sauce Salade Thaï Épicée', 'sauce fromage et champignons', \"Sauce à l'Échalote\", 'Bolo Balls aux mini knacks', 'Sauce oignons Borettane, pistaches & abricots secs', 'Ragù Toscano di carne Chianina', 'nước mắm', \"Sauce à l'Échalote\", 'Sauce créoline', \"Sauce César au fromage italien et à l'ail\", 'Hoi Sin Sauce', 'Sauce Salade Thaï Épicée', 'nước mắm', 'Pâte de Curry Vert', \"Sauce à l'Échalote\", 'Sauce créoline', \"Sauce César au fromage italien et à l'ail\", 'Hoi Sin Sauce', 'Sauce Salade Thaï Épicée', 'nước mắm', 'Pâte de Curry Vert', 'Salsa de la Muerte with Chipotle ', 'Sauce Chili aux haricots rouges', '100 Biscottes', \"Céréacol aux fibres d'avoine\", 'Biscottes gout Brioché', '100 Biscottes', \"Céréacol aux fibres d'avoine\", 'Lutti Mint', 'Ricola Réglisse', 'Mini-bonbons Sans Sucres, Menthe', 'Mini bonbons sans sucres à la menthe', 'Bonbons goût citron mélisse', 'Original Pastilles Menthol - Eucalyptus avec édulcorant', 'Heroes', 'Frisk menthe extra forte', 'Kräuter Original', 'Ricola Eucalyptus', 'Ricola Verveine citronnée', 'Eucalyptus ', 'Ricola  menthol', 'Fleurs de Sureau', 'Menthe Pomme', 'Le bonbon double effet parfum Citron sans sucres', \"Régal'ad Bigoût (offre économique)\", 'Tic tac breeze goût eucalyptus', 'TIC TAC BREEZE goût anis', 'Spearmint sans sucres', \"Carambar caramel - l'original\", 'CHOCO MINI (mini oursons)', 'Multi Frutti', \"Werther'S Original goût Pomme Caramélisée\", 'Heroes', 'Bonbons tendres aux goûts fruités', 'Mokatine ', 'Lutti Mint', 'Ricola Réglisse', 'Mini-bonbons Sans Sucres, Menthe', 'Mini bonbons sans sucres à la menthe', 'Bonbons goût citron mélisse', \"Werther'S Original goût Pomme Caramélisée\", 'Original Pastilles Menthol - Eucalyptus avec édulcorant', 'Frisk menthe extra forte', 'Kräuter Original', 'Ricola Eucalyptus', 'Ricola Verveine citronnée', 'Eucalyptus ', 'Ricola  menthol', 'Fleurs de Sureau', 'Menthe Pomme', 'Le bonbon double effet parfum Citron sans sucres', 'Tic tac breeze goût eucalyptus', 'TIC TAC BREEZE goût anis', 'Spearmint sans sucres', \"Carambar caramel - l'original\", 'Happé box', 'Music Mix', 'Tirlibibi Maxi Format', 'Dragibus P!k', 'Haribo Dragibus Pik', 'Réglisse Florent arôme violette', \"O'Tablo\", 'Cola bomb', 'Têtes brulées Billes Choc Termik', 'World Mix', 'Cachets Poudre Acide', \"Candy Fizz' trio\", 'PEZ', 'Trolls', 'Rio 2', \"Carambar caramel - l'original\", 'Happé box', 'Music Mix', 'Tirlibibi Maxi Format', 'Dragibus P!k', 'Haribo Dragibus Pik', 'Réglisse Florent arôme violette', \"O'Tablo\", 'Cola bomb', 'Têtes brulées Billes Choc Termik', 'World Mix', 'Cachets Poudre Acide', \"Candy Fizz' trio\", 'PEZ', 'Trolls', 'Rio 2', \"Carambar caramel - l'original\", 'Lutti Mint', 'Ricola Réglisse', 'Mini bonbons sans sucres à la menthe', 'Bonbons goût citron mélisse', \"Werther'S Original goût Pomme Caramélisée\", 'Original Pastilles Menthol - Eucalyptus avec édulcorant', 'Heroes', 'Mokatine ', 'Frisk menthe extra forte', 'Kräuter Original', 'Ricola Eucalyptus', 'Ricola Verveine citronnée', 'Eucalyptus ', 'Ricola  menthol', 'Fleurs de Sureau', 'Menthe Pomme', 'Le bonbon double effet parfum Citron sans sucres', 'Tic tac breeze goût eucalyptus', 'TIC TAC BREEZE goût anis', \"Candy Fizz' trio\", 'Spearmint sans sucres', 'À saupoudrer (38% MG)', 'À saupoudrer (38% MG)', 'Quart de Vieux Lille', 'À saupoudrer (38% MG)', 'Quart de Vieux Lille', 'À saupoudrer (38% MG)', 'Quart de Vieux Lille', 'Granola Nutty by Nature - Cajou, Coco & Noisettes', 'Muesli Petit épeautre Framboise', 'Bio-Kokos-Marille Müsli', '4 fruit, almond & hazelnut Muesli ', 'Chunky Guacamole', 'Sweet chilli sauce for chicken', 'Mild Shoyu', 'Mild Shoyu', 'Mild Shoyu', \"Curry d'aubergines\", 'Aubergines mozzarella & basilic', 'Pommes de terre créoles ', 'Kimchi / Chou chinois', 'Kimchi / Chou chinois', 'Tomato & basil soup', 'Gaspacho Recette Gourmet aux Amandes', \"Moussaka au bœuf et à l'agneau\", 'Crevettes lait de coco et riz thaï', \"Moussaka au bœuf et à l'agneau\", \"Saumon Fusil et Crème à l'Aneth\", 'Crevettes lait de coco et riz thaï', \"Moussaka au bœuf et à l'agneau\", \"Saumon Fusil et Crème à l'Aneth\", \"Moussaka au bœuf et à l'agneau\", 'Chewing gum Coeur Liquide Menthe', 'Mentos White ', 'Mentos White ', '100% Pur Jus Rouge Velours', 'Jus rouge gourmand', 'Cocktail Pruneau', 'Jus de fruits kiwi, mangue, banane Selection', 'Fruit break Fruits mixés & lait de coco Tropical', 'Jus Pomme-Raisin-Cranberry', 'jus multifruit jaune', 'Jus Multifruits Rouges', 'Fruit break Fruits mixés & lait de coco Tropical', 'Jus de pomme & poire', '100% Pur Jus Rouge Velours', 'Jus rouge gourmand', 'Jus de fruits kiwi, mangue, banane Selection', 'Pure Premium Créations Oranges Orange Citron Vert', 'Multifruits source de fibres', 'Cocktail Pruneau', 'Jus Orange Mangue', 'Confiance', 'Jus Carotte Pomme Gingembre', 'Fruity Greens', 'Jus 100% Pomme-Carotte', 'Pomme & Bettrave Rouge', 'Jus de fruit', 'Multifruits source de fibres', 'Cocktail Pruneau', 'Jus Orange Mangue', 'Confiance', 'Jus Carotte Pomme Gingembre', 'Fruity Greens', 'Jus 100% Pomme-Carotte', 'Pomme & Bettrave Rouge', 'Jus de fruit', '100% Pur Jus Rouge Velours', 'Jus de fruits kiwi, mangue, banane Selection', 'Fruit break Fruits mixés & lait de coco Tropical', 'Nature de Pommes Pink Lady', 'Pur Jus De Pomme Bio', 'Jus 100%pommes', 'Jus De Pomme Juliet', 'Jus De Pomme Juliet', 'Bâtonnets goût crabe (x 28 Bâtonnets)', 'Le Bâtonnet Moelleux (21 Bâtonnets)', 'Le Bâtonnet Léger (0 % MG) 14 Bâtonnets', 'Bâtonnets Moelleux (28 Bâtonnets)', 'Le Bâtonnet Léger (0 % MG) 14 Bâtonnets', 'Bâtonnets de surimi, saveur crabe', '24 Bâtonnets à base de surimi (4 sachets fraîcheur)', 'Miettes de Surimi Longues ', 'Le Bâtonnet Moelleux (21 Bâtonnets)', 'Bâtonnets de surimi, saveur crabe', '24 Bâtonnets à base de surimi (4 sachets fraîcheur)', 'Miettes de Surimi Longues ', 'Le Bâtonnet Moelleux (21 Bâtonnets)', 'Bâtonnets de surimi, saveur crabe', 'Miettes de Surimi Longues ', 'Pure Premium Pomme pressée 100% pur fruit pressé', 'spiced British apple juice', 'jus de pomme', 'spiced British apple juice', 'spiced British apple juice', 'Pure Premium Pomme pressée 100% pur fruit pressé', 'Petits Pains Grillés au Froment (Recette Suédoise)', 'Petits Pains Grillés au Froment (Recette Suédoise)', 'Petits Pains Grillés au Froment (Recette Suédoise)', 'Petits Pains Grillés au Froment (Recette Suédoise)', 'Pain grillé à la farine comlète', 'Tartines de pain brioché', 'Pain grillé à la farine complète', 'Comté Râpé', \"Crousty Chicken l'original\", 'Cubes de filet de poulet rôti nature', 'Dés de poulet', 'Cubes de filet de poulet rôti nature', 'Dés de poulet', \"Crousty Chicken l'original\", 'Émincés de poulet rôti', \"jus d'ananas bio\", 'Pur Jus Ananas', 'Pur Jus Ananas', \"jus d'ananas bio\", 'Pur Jus Ananas', \"Marpom's fraise\", 'Douceur du verger', \"Margarine a tartiner light a l'huile de tournesol\", 'Bridelight Doux 15% M.G', 'Margarine De Tournesol', 'Nadya Forme Doux', 'NAT&vie cuisine', 'Margarine Pro active', 'Bridelight Doux 15% M.G', 'Astra', 'British Honey Roast Ham', 'Jambon cuit et fumé (XXL)', 'Jambon cuit et fumé (XXL)', 'Confiture extra abricots (+20% gratuit)', 'Abricot cuit au chaudron', \"Confiture d'abricots du Roussillon\", 'Abricot de la Vallée du Rhône', 'Cremosa Abricot', 'Cremosa Abricot', 'Cremosa Abricot', 'Émincés de poulet Kebab', 'Émincés de poulet Kebab', 'Spécialité de Saucisson Sec', 'Porc & Boeuf', 'Porc & Canard', 'La spécialité de saucisson sec ', 'Saint Agaûne (format familial)', 'Spécialité de Saucisson Sec', '2 Tournedos tendres & fondants', 'Beef Jerky Teriyaki', 'Beef Jerky Teriyaki', 'Beef Jerky Teriyaki', 'Beef Jerky Teriyaki', 'Beef Jerky Teriyaki', 'Mûres Confiture Extra', 'Mûres sauvages Cuit au chaudron', 'Mûres sauvages Cuit au chaudron', 'Mûres sauvages Cuit au chaudron', \"Jus d'orange 100% pur fruit pressé\", \"Vitafit Pur jus d'orange\", \"100% pur jus d'orange \", '100% pur jus orange de Floride ', 'Paquito 100% pur jus Orange Sans pulpe', \"Pur Jus d'Orange Avec Pulpe\", 'Orange avec pulpe pur jus de fruits pressés Innocent', '100 % pur jus Orange', \"100% pur jus d'orange \", '100% pur jus orange de Floride ', \"Pur jus d'Orange bio\", 'Brésil 100% pur jus Orange', 'Pur Jus Orange', \"Jus d'orange 100% pur fruit pressé\", 'Pâte Feulletée Sans Gluten', 'Huile De Noix De Coco Désodorisée', 'Huile de coco', 'Huile de coco', 'Ricola argousier', 'CARenSAC', 'pan con tomate', 'Pain con tomate origan', 'Toasts briochés', 'Toasts briochés', 'Petits pains suédois krisprolls', 'Toasts briochés', 'Petits pains suédois krisprolls', 'Pain Grillé', 'Pain grillé au blé complet bio', 'Pain Grillé Blé Complet', \"Pain grillé à la farine complète issu de l'agriculture biologique\", 'pan con tomate', 'Barre au sésame et à la canneberge', 'Croquant Sésame Chocolat', 'Cacahuète sans gluten', 'Crackers de riz soufflé coréen', 'Sundy', 'Barres enrobées aux fruits secs Amande & Abricot', 'Grany Coeur fondant tout chocolat', 'Barres céréales yaourt', 'Crackers de riz soufflé coréen', 'Barre au sésame et à la canneberge', 'Original sans gluten', 'Potiron sans gluten', 'Cacahuète sans gluten', 'Fruité sans gluten', 'Sesam bar', 'Barres riz et blé complet chocolat', 'Barres de céréales au chocolat', 'Barres riz et blé complet chocolat', 'Barres de céréales au chocolat', 'Jam YP LANDS - Quandong Preserve', 'Jam YP LANDS - Quandong Preserve', 'Jam YP LANDS - Quandong Preserve', ' Iced Tea Peche ', 'Citron Citron Vert', 'Iced Tea Green Bio', 'Green ice tea mint lime', 'Ice Tea Peach', 'Iced Tea Perzik', 'Green Tea Cranberries Citron', 'Ice Tea (lemon)', 'Ice Tea pêche', 'Ice Tea Green', \"Boisson aux extraits de thé vert, jus d'orange, jus de fruits de la passion\", ' Iced Tea Peche ', 'Iced Tea Green Bio', 'Green ice tea mint lime', 'Ice Tea Peach', 'Iced Tea Perzik', 'Thé Glacé Bio Aux Baies', 'Iced Tea Perzik', 'Lipton ice tea saveur mangue', 'karma kombucha ginger', \"Baie d'Açaï & Thé Vert\", 'Ice Tea Peach', 'Iced Tea Perzik', 'Lipton ice tea saveur mangue', 'karma kombucha ginger', \"Baie d'Açaï & Thé Vert\", 'Ice Tea Peach', 'Iced Tea Green Bio', 'Green tea Lemon', 'Green tea Lemon', 'Ici tea peach flavor', 'Green tea Lemon', 'Nutriamande', 'Figue citron', 'Cécémel &quot;Le Seul Vrai&quot; ', 'Nutriamande', 'Figue citron', 'Mars Milk', 'Cécémel &quot;Le Seul Vrai&quot; ', 'Fast hydratation', 'Fast hydratation', 'Pesca Italiana', 'Pago A.C.E.', 'Pesca Italiana', 'Pago A.C.E.', 'Pago A.C.E.', 'Pago A.C.E.', 'Boissons soja vanille', 'Mogu Mogu Orange flavour drink', 'Allure Mango', 'Mogu Mogu Orange flavour drink', 'Boissons soja vanille', 'Lipton Ice Tea Limón', 'Allure Mango', 'Mogu Mogu Orange flavour drink', 'Allure Mango', 'Mogu Mogu Orange flavour drink', 'Allure Mango', 'Mogu Mogu Orange flavour drink', 'Sablés fourrés noisette ', \"Sablés noisette sirop d'érable\", 'Sablés fourrés noisette ', 'Petits sablés ronds et bons au beurre, pointe de sel', 'Petits sablés ronds et bons au beurre, pointe de sel', \"Sablés noisette sirop d'érable\", 'Carrefour crunchy muesli 5 fruits secs', 'Vanilla Crunch Granola', 'Snack poppé saveur fromage', 'Tyrells sea salt & black pepper', 'Chipster', 'Snack poppé saveur fromage', 'Pétales de Tompinambour', 'Snack poppé saveur fromage', 'Chipster', 'Pétales de Tompinambour', 'Chipster', 'Pétales de Tompinambour', 'Spirtonic', 'Sitec Nutrition 100% whey protein professional', 'Spirulina ', 'Crème dessert HP HC saveur Chocolat', 'Spirtonic', 'Crème dessert HP HC saveur Chocolat', 'Spirtonic', 'Magnésium Marin équilibre nerveux', 'Spirtonic', 'Banana Ketchup', 'Tomato Ketchup Light', 'Ketchup au sirop de riz', 'Tomato Ketchup allégé en sucre', 'Tomato Ketchup -50% de sucre (+25% gratuit)', 'Ketchup light (-50% sucres)', 'Ketchup Plaisir +', 'Banana Ketchup', 'Sauce Ketchup par Marc Veyrat', 'Ketchup Bio', 'Ketchup (offre saisonnière)', 'Céréales Croque-matin chocolat', 'Extra ® Pépites (Morceaux de Chocolat Noir & Noisettes Grillées)', 'Extra Pepites', 'Extra ® Pépites (Morceaux de Chocolat Noir & Noisettes Grillées)', 'Extra Pepites', 'Céréales carrées miel', 'Croki miel', 'Mops miel', 'Boules de maïs au miel', 'Céréales Croque-matin chocolat', 'Céréales Croque-matin chocolat', 'Céréales Croque-matin chocolat', 'Extra Pepites', 'Tomato ketchup allégé en sucres', 'Heinz ketchup 50% moins sucres', 'Tomato Ketchup (50% less sugar)', 'Véritable Ketchup Américain', 'Ketchup Hot', 'Tomato ketchup allégé en sucres', 'Heinz ketchup 50% moins sucres', 'Tomato Ketchup (50% less sugar)', 'Véritable Ketchup Américain', 'Curry Ketchup', 'Ghiradelli Chocolate - Milk & Caramel', 'Ghiradelli Chocolate - Milk & Caramel', 'Lindor lait', 'Chocolat noir Grand Dessert', 'Chocolat noir Grand Dessert', 'Ghiradelli Chocolate - Milk & Caramel', 'Sesame bites', 'Les Schtroumpfs P!k', 'Milka - Crispello - Saveur Chocolat', 'Liberty Sans sucres goût fruits des bois', 'Milka - Crispello - Saveur Chocolat', 'Sesame bites', 'Aeroshot Chocolate', 'Milka - Crispello - Saveur Chocolat', 'Aeroshot Chocolate', 'Milka - Crispello - Saveur Chocolat', 'Japanese style Red bean moshi', 'Milka - Crispello - Saveur Chocolat', 'Liberty Sans sucres goût fruits des bois', \"Filets d'anchois allongés\", \"Filets d'anchois allongés à l'huile d'olive\", \"Filets d'anchois marinés à la Provençale\", \"Filets d'anchois allongés\", 'Anchois marinés à la provençale', \"Filets d'anchois allongés\", \"Filets d'anchois allongés à l'huile d'olive\", \"Filets d'anchois allongés\", \"Filets d'anchois allongés à l'huile d'olive\", \"Filets d'anchois allongés à l'huile d'olive\", 'Dessert végétal myrtille', 'Assortiment de mochi : Haricot rouge, sésame, arachide', 'Boules de Blancs en Neige', 'Senoble cheese cake nappage fruits rouges', 'Boules de Blancs en Neige', 'Senoble cheese cake nappage fruits rouges', 'Pulco Tropical', 'Coconut drink', 'Pulco Tropical', 'Nature Pomme de Terre', 'Nature Pomme de Terre', 'Snacks frites salées', 'Orange 100% pur jus orange sans pulpe (format familial)', 'Orange 100% pur jus orange sans pulpe (format familial)', 'Pur jus d orange', '100% Pur jus Orange Pulpée', '100% Pur Jus Orange avec Pulpe', '100% Pur Jus Pressé Orange avec Pulpe', \"100% Pur Jus d'orange\", \"Extra Fruit - Pur Jus d'orange (100% Pur Jus)\", \"Brick 1L Pur Jus D'orange Bio Grand Jury\", 'Marque Repère', \"Pur jus d'Orange du Brésil\", 'Oranges Pressées', '100% Oranges Pressées sans pulpe', 'Valensina, Mildes Frühstück Milde Orange', \"Jus d'orange de Floride\", \"Pur jus d'orange Bio\", '100% Jus Orange', 'Oranges pressées Grande Récolte', \"Jus pasteurisé d'Oranges Pressées\", \"100% pur jus pasteurisé d'Oranges pressées Andros\", \"100% Pur Jus D'orange\", 'Jus Orange Bio', \"100% Pur Jus D'orange\", '100% Oranges Pressées sans pulpe', 'Jus Orange Bio', \"100% Pur Jus D'orange\", '100% Oranges Pressées sans pulpe', 'Orange 100% pur jus orange sans pulpe (format familial)', \"Pur jus d'orange fraichement pressé\", \"Jus pasteurisé d'Oranges Pressées\", \"100% pur jus pasteurisé d'Oranges pressées Andros\", 'Panettone Classico', 'Panettone Classico', ' Ginger drink ', 'Mini Sour JELLY BEANS', 'Mini Fruity JELLY BEANS', 'Brazil P!k', 'Goût Cola', 'Assortiment Oursons, œufs, crocodiles', 'Bandeaux citron-cola', 'Sticks Fraise', 'Take away Candy Sushi', 'Surffizz Goûts Fruits', 'Assortiment Oursons, œufs, crocodiles', 'Surffizz Goûts Fruits', 'Assortiment Oursons, œufs, crocodiles', 'Les Schtroumpfs', \"Cap's Mania P!k\", 'Surffizz Goûts Fruits', 'Acid Mix', 'Gommes saveur fruits', 'Assortiment Oursons, œufs, crocodiles', 'Spookies', 'Oursons aux fruits', 'Bandeaux citron-cola', 'Sticks Fraise', 'Volvic Citron', \"Boisson à l'eau de source aromatisée fraise\", \"Exotique à l'eau de source\", \"O'Fresh Saveur Fraise\", 'Eau gazeuse aromatisée framboise', \"Exotique à l'eau de source\", 'Eau Aromatisé Fraise', \"O'Fresh Saveur Fraise\", 'Eau Saveur Fraise', 'Eau gazeuse aromatisée framboise', 'Cristaline goût citron', 'Eau Aromatisé Fraise', 'Perrier 1l aromatisé fraise', 'Eau de fruits Framboise & Menthe', 'Eau Saveur Fraise', 'Eau gazeuse aromatisée framboise', 'Cristaline goût citron', 'Eau Aromatisé Fraise', 'Perrier 1l aromatisé fraise', 'Eau de fruits Framboise & Menthe', 'Madeleines Amande', 'Madeleines Sans Sucres Ajoutés', 'Madeleine du Pâtissier Pur Beurre', 'Madeleines amande', 'Madeleines Sans Sucres Ajoutés', 'Madeleines au Citron', 'Madeleinettes', 'Madeleinettes', 'Le Pesto alla siciliana ', 'Ekologisk Ost Blåmögel (36% MG)', 'Chocolat noir 85%', 'After Eight Menthe & Saveur Citron', 'Tuiles Chocolat Noir aux Éclats de Menthe', '100% Cacao', 'Noir aux éclats de Pécan caramélisés', 'Excellence Noir Pistache à la Pointe de Sel', 'Chocolat noir dégustation fleur de sel', 'Chocolat Noir à croquer', 'Pralinés sucre fleur de coco', 'Noir crêpe dentelle', 'Esprit Noir à la fleur de sel', 'Chocolat dégustation Noir Fleur de Sel', 'Chocolat Noir Fleur de sel', 'Chocolat Noir Crêpe dentelle', 'Noir fourré au caramel fudge', 'Crunch Noir', 'Chocolat noir pâtissier 64%', 'Noir aux éclats de Pécan caramélisés', 'Excellence Noir Pistache à la Pointe de Sel', 'Chocolat noir dégustation fleur de sel', 'Chocolat Noir à croquer', 'Pralinés sucre fleur de coco', 'Noir crêpe dentelle', 'Esprit Noir à la fleur de sel', 'Chocolat dégustation Noir Fleur de Sel', 'Chocolat Noir Fleur de sel', 'Chocolat Noir Crêpe dentelle', 'Noir fourré au caramel fudge', 'Crunch Noir', 'Chocolat noir pâtissier 64%', 'Chocolat noir noisettes entières ', 'Jus de Cranberry', 'Cocktail pomme groseille ', 'Cocktail pomme groseille ', 'Cocktail pomme groseille ', 'Jus de Cranberry', 'Pains Suédois', 'Knäckebröd dill', 'Pains Suédois', 'Knäckebröd dill', 'Knäckebröd dill', 'Pains Suédois', 'La vanille de Madagascar - Pure Sélection', 'La Laitière Vanille Gousses Infusées de Madagascar', 'La vanille de Madagascar - Pure Sélection', 'La Laitière Vanille Gousses Infusées de Madagascar', 'Citrus Blast', 'Freeway Lemon', 'Look Tonic Pet', 'Diabolo Menthe', 'Freeway Lemon', 'Orangina Bad Jack', 'Look Tonic Pet', \"Pom'de Lisbeth\", 'Diabolo Menthe', \"Pom'de Lisbeth\", \"Jean's Tonic\", 'Mister Lemon', 'Rivella rouge', \"Pom'de Lisbeth\", \"Jean's Tonic\", 'Mister Lemon', 'Rivella rouge', 'Citrus Blast', 'Skorpor kardemumma', 'Pain complet Bis Pérène', 'VERITABLE PAIN CRAQUANT NORVEGIEN', 'Togo 95%', 'Dessert Noir Extra au Carambar', 'Togo 95%', 'Caramel à la pointe de sel', 'Excellence Noir Caramel à la Pointe de Sel (Offre Gourmet)', 'Caramel à la pointe de sel', 'Excellence Noir Caramel à la Pointe de Sel (Offre Gourmet)', 'Sirop Pêche Prune Coing', 'Sodastream concentré Saveur Limonade', \"Sirop d'agrumes\", 'Sapin Sirop artisanal de Franche-Comté', 'Concentré saveur orange, pêche, passion', 'Concentré saveur orange, pêche, passion', 'Cheeseburger', 'Mini Cheese Burgers', 'Mini Cheese Burgers', '2 Cheeseburgers au bœuf avec du Gouda', 'Maxi Cheese', 'Double Cheese', 'Mini Cheese Burgers', 'Mini Cheese Burgers', '2 Cheeseburgers au bœuf avec du Gouda', 'Cheese Burger Maxi', '2 Cheeseburgers au bœuf avec du Gouda', 'Cheese Burger Maxi', 'Cheese Burger Maxi', 'Mini Cheese Burgers', 'palmier pur beurre', 'Palmiers Feuilletés Pur Beurre Bio', 'Palmier pur beurre', 'palmier pur beurre', 'Mini Gougères au Comté', 'Mini Gougères au Comté', 'Paniers de fromage de chèvre', 'Brochette BBQ Cherry Peppers', 'Mini Gougères au Comté', '4 brochettes Royal Grill de canard aux 3 poivres', 'Paupiettes de saumon farcies', 'Brochette BBQ Cherry Peppers', 'Mini Gougères au Comté', '2 Galettes de Sarrasin lardons, chèvre', 'Paniers de fromage de chèvre', 'Galette feuilletée fourrée', 'Brochette BBQ Cherry Peppers', \"4 Ch'ticanos\", 'Tourtain (33% MG)', 'Tranche du soleil, 23% de MG', 'Le Carré', 'Tomates confites Basilic - Oignon - Poivron (29% MG)', 'Apérivrais saveurs provençales - poivrons - thym - ciboulette', 'Tomates confites Basilic - Oignon - Poivron (29% MG)', 'Tranche du soleil, 23% de MG', 'Le Petit Touquet (32% MG)', 'Tranche du soleil, 23% de MG', 'Le Petit Touquet (32% MG)', 'Tranche du soleil, 23% de MG', 'Le Petit Touquet (32% MG)', 'Mini yaourts à boire', 'Actimel goût Noix de Coco', 'Mini yaourts à boire', 'Mini MAX', 'Actimel goût Noix de Coco', 'Mini yaourts à boire', 'Croque-monsieur gratinés jambon fromage', 'Croque Monsieur Gratiné', 'Croque Monsieur Cheddar Jambon cru', 'Croque-monsieur gratinés jambon fromage', 'Croque McDo', 'Croque-monsieur gratinés jambon fromage', \"Tendre Croc' Brioché Jambon & Emmental\", 'Croque McDo', 'Croque-monsieur gratinés jambon fromage', 'Croque Monsieur Gratiné', 'GrandLait Demi-écrémé', 'Lait 1/2 écrémé Stérilisé UHT', 'GrandLait demi-écrémé', 'GrandLait Demi-écrémé', 'Le lait de ma Région Demi-Écrémé (Plaines du Nord)', 'GrandLait demi-écrémé', 'GrandLait Demi-écrémé', 'Lait entier Bio', 'Lait entier Bio', 'Long Fish', 'Long Fish', 'Long Fish', 'Long Fish', 'Wrap Mozzarella Tomate', 'McWrap Chicken Bacon & BBQ', 'Wrap Porc Caramel', 'McWrap Chicken Bacon & BBQ', 'McWrap Chicken Bacon & BBQ', 'Mon cervelas Sauce Vinaigrette', 'Salade de thon Américaine', 'Concombres au fromage blanc et ciboulette', 'Salade de Poulpes aux olives', 'Salade & Compagnie Roma Jambon Speck', 'Pepsi Next (+1 boîte gratuite)', 'Russia Cola', 'Cola Bio', 'Breizh Cola', 'Cola Bio', 'Pepsi Next (+1 boîte gratuite)', 'Russia Cola', 'Cola Bio', 'Breizh Cola', 'Cola Bio', \"Cola'rdeche\", 'Cola Bio', \"Cola'rdeche\", 'Cola Bio', 'Pepsi Next (+1 boîte gratuite)', 'Russia Cola', 'Cola Bio', 'Chorizo Espagnol', 'Les minis chorizos', 'Fuet Chorizo doux', 'Fuet Chorizo doux', 'Chorizo Supérieur Doux [même code barre 26013077 que Chorizo Supérieur Fort, voir 2000000007433]', 'Chorizo sec de volaille et au veau', 'Fuet Chorizo doux', 'Billes de chèvre saumon fumé', 'Billes de chèvre saumon fumé', 'Apérifruits', 'Soya Party Chili doux', \"Peppi's club\", 'Apérifruits', \"Peppi's club\", 'Apérifruits', \"Jus D'orange\", 'Granini orange', 'Granini orange', 'Minute Maid multivitamines', 'Granini orange', \"Jus d'orange - Pulpé, 100% pur fruit pressé\", 'Granini orange', \"Jus d'orange - Pulpé, 100% pur fruit pressé\", 'La Tartine Briochée', 'Goût Brioché savoureuse et fondante', 'La Tartine Briochée', 'Biscottes complètes sans sucres ajoutés', 'Goût Brioché savoureuse et fondante', 'Jacquet le toast raisin', 'Biscottes saveur briochée', 'Biscottes La Bretonne', 'Biscottes complètes sans sucres ajoutés', 'Biscottes complètes sans sucres ajoutés', 'Jacquet le toast raisin', 'Biscottes La Bretonne', 'Biscottes complètes sans sucres ajoutés', 'Jacquet le toast raisin', 'Biscottes La Bretonne', 'farine de souchet', 'farine de souchet', 'McFish', 'Grand Big Mac', 'McFish', \"Le P'tit Tex Mex\", 'Chicken Bacon & BBQ', 'The B.O.S.S® Bacon', 'Western Burger sauce Barbecue', 'Chicken Bacon & BBQ', 'The B.O.S.S® Bacon', 'Western Burger sauce Barbecue', 'Boeuf Ranch Moutarde', \"Le P'tit Tex Mex\", 'McFish', \"P'tit Bagel\", 'SUPREME Pâte CLASSIC (taille individuelle)', 'Pizza pâte fine au feu de bois Margarita', 'Pizza Giant 4 fromages', 'Pizza cuite au feu de bois quatre fromages', \"Pizza Royale Les P'tits Chefs du Bio\", 'Pizza pâte fine au feu de bois Margarita', \"Pizza Royale Les P'tits Chefs du Bio\", 'Pizza pâte fine au feu de bois Margarita', 'Tropical Juice Drink', 'Tropical Juice Drink', \"Pomme Cassis à l'eau de source\", 'Pago Fraise', \"Pomme Cassis à l'eau de source\", 'Pago Fraise', 'Tropical Juice Drink', 'Soupe Passée aux 9 Légumes', '8 Légumes à la Crème Fraiche', 'Soupe Passée aux 9 Légumes', 'Soupe de Poissons & Langoustines', 'Soupe Passée aux 9 Légumes', 'Suprême de volaille aux morilles', 'Velouté de légumes à la crème fraiche', 'Soupe Passée aux 9 Légumes', 'Soupe miso tofu', 'Suprême de volaille aux morilles', 'Velouté de légumes à la crème fraiche', 'Soupe Passée aux 9 Légumes', 'Soupe miso tofu', \"PurSoup' Fèves Pois Cassés\", 'Suprême de volaille aux morilles', 'Velouté de légumes à la crème fraiche', 'Soupe Passée aux 9 Légumes', 'Filet de saumon et ratatouille provençale', 'Joues de porc au romarin et lentilles vertes', 'Paleron de bœuf confit concassée de tomates et  choux-fleurs', 'Paleron de bœuf confit concassée de tomates et  choux-fleurs', '6 beignets crevette et sauce aigre-douce', 'Fruits de mer à la Provençale', '6 beignets crevette et sauce aigre-douce', 'Fruits de mer à la Provençale', '6 beignets crevette et sauce aigre-douce', 'Fruits de mer à la Provençale', 'Farci fromager au saumon', 'Farci fromager au saumon', \"Petits Filous tub's (offre €co)\", 'Petits Filous Tub’s fraise pêche framboise', \"Petits Filous tub's (offre €co)\", 'Boisson lactée à base de yaourt aromatisée fraise-banane', 'To Drink parfum Fraise', 'Yaourt au goût pêche, fruit de la passion', 'Palets fromagers Camembert', '4 Bouchées Traiteur', '4 Bouchées Traiteur', '6 bouchées à garnir', '4 Bouchées Traiteur', '4 Bouchées Pâtissières', '4 Bouchées Pâtissières', 'Crêpes au konjac et au tofu soyeux Dukan', 'Crêpes au konjac et au tofu soyeux Dukan', '12 Crêpes Bretonnes', 'Wrap - crabe au wasabi et petits légumes croquants', 'Wrap Chicken façon Tex Mex', 'Confiture de lait au bon goût de caramel', 'Délice de Pomme Caramel', 'Délice de Pomme Caramel', 'Confiture allégé Framboises', 'Confiture allégé Reines-Claudes', 'Confiture allégé Framboises', 'Confiture allégé Reines-Claudes', 'Confiture allégé Framboises', 'Délice de Pomme Caramel', \"Nomad' Mix super fruits figues moelleuses\", \"Nomad' Mix super fruits figues moelleuses\", \"Nomad' Mix super fruits figues moelleuses\", 'Original Sweet Mustard', \"L'instant Bagel Bœuf Pastrami Cornichons & Cream Cheese\", 'Pita Poulet Classic', \"Sandwich Oeuf et Cresson pain malté à l'anglaise\", \"Sandwich Oeuf et Cresson pain malté à l'anglaise\", 'Velouté de tomates & basilic', 'Velouté de tomates & basilic', 'Velouté de Tomates ', 'Oasis So Fuzz', 'Caramel Fleur de Sel', 'Caramel Fleur de Sel', 'Hydrate & Perform arôme Citron Vert', 'Fontainebleau Nature', 'Fontainebleau Nature', 'La Faisselle et son coulis de mûre et myrtille', 'Fontainebleau Nature', 'Creamy Touch Spécialité laitière', \"Déli'time Sur lit de fraise\", 'Dessert Grand Marnier', 'Andros liégeois pomme vanille sur coulis de fraise', 'Dessert Grand Marnier', 'Andros liégeois pomme vanille sur coulis de fraise', 'Maxi King', 'Coeur de Liégeois Chocolat coeur Caramel beurre salé', 'Maxi King', 'Cheesecake au Citron', 'Île Fondante sur lit de caramel (0.6% MG)', 'Gourmand Crème saveur Pop Corn', 'Maxi King', 'Cheesecake à la Framboise', 'Cheesecake au Citron', 'Cheesecake à la Framboise', 'Cheesecake au Citron', 'Maxi King', 'Salade de Viande', 'Salade de cervelas Rémoulade', 'Salade boulgour quinoa saumon & brousse', \"Chicken' Pic goût barbecue\", 'Grignottes de poulet - TeX Mex', \"Chicken' Pic goût barbecue\", 'Cocos & Choco', 'Chocolat au lait à croquer à la noix de coco râpée', 'Noël chocolat lait', 'Chocolat Au Lait Sans Lactose', 'Noël chocolat lait', 'Chocolat Citron vert muesli', 'Orange Amère', 'Cannelle ', 'Amande ', 'recette n°11', 'Chocolat au lait à croquer à la noix de coco râpée', 'Lait dessert origine république dominicaine', 'Çikolata', 'Chocolat au lait à croquer à la noix de coco râpée', 'Lait dessert origine république dominicaine', 'Çikolata', 'Lait dessert origine république dominicaine', 'Orange Amère', 'Amande ', 'Chocolat noir sésame grillé', 'Chocolat Noir 64% de Cacao', 'Chocolat noir sésame grillé', 'Chocolat noir sésame grillé', 'Poudre cacaotée intense', 'Granules cacaotés', 'Granules cacaotés', 'Granules cacaotés', 'Préparation artisanale pain sans gluten au sarrasin', 'Mexican Style Yogurt Passion Fruit & Lime', 'Yogurt Vaniglia', 'Mexican Style Yogurt Passion Fruit & Lime', 'Yogurt Vaniglia', 'Mini-choux saveur chèvre-poivre', 'Mini choux saveur chèvre poivre', 'Mini Gaufres Cocktail', \"Apéri' Crêpes tomate & romarin\", 'Mini-crêpes fourrées bacon', 'Mini-crêpes fourrées cheddar', 'Les Dentelles Roquefort', 'Les Dentelles Chèvre Miel Baies Roses', 'Les Dentelles Cheddar saveur noix', 'Crackers Gout Herbes De Provences', 'Biscuits au gouda', 'Biscuits salés croustillants goût Bacon', \"Les P'tits Dodus Chocolat au Lait\", 'Jumblies Chocolat et Eclats de Noisette', 'Fourré Tout Choco - Bio', \"Les P'tits Dodus Chocolat au Lait\", 'Jumblies Tout Chocolat', \"Les P'tits Dodus Chocolat au Lait\", 'Jumblies Tout Chocolat', \"Les P'tits Dodus Chocolat au Lait\", \"Ka'ré fourré chocolinette\", '2 Petits Beurre', 'Petit beurre Pocket', 'Flamichettes Maroilles, Mozzarella', 'Muesli chocolat noir et graines de lin', 'Ancient Legends Muesli Croustillant Petit Épeautre, Cacao, Noix de Cajou, Amandes et Graines de Tournesol', 'Muesli Croustillant Chocolat & châtaigne ', 'Muesli chocolat noir et graines de lin', 'Extra Crunchy Muesli Milk Chocolate', 'Cruesli Banane & Chocolat édition limitée 2017', \"Ka'ré caramel beurre salé\", 'Fitness Delice Céréales croustillantes avec un coeur aux fruits rouges', \"Creamy Choc'\", \"Crica Choc'\", \"Doodingues Fourré Choc' cœur lait\", 'Toppas Choco', 'Fitness delice', 'Confipote Cerise', 'Confiture extra cerise', 'Confiture allégée Cerise', 'Cerises noires griottes 100% cuit au chaudron', 'Pêche Bio', 'Pêche Bio', 'Crousty Chocolat Noir et Noisettes', 'All-bran fibre plus', 'Cruesli Chocolat', 'Cruesli Chocolat', 'Cruesli Chocolat', 'Déliform Nature', 'Flakes de sarrasin', 'Forme Flakes Nature', 'Frosties ', 'All-bran fibre plus', 'Flakes de sarrasin', 'Pétales de blé au chocolat', 'Forme Flakes Nature', 'Cruesli Chocolat', 'Flakes de sarrasin', 'Pétales de blé au chocolat', 'Forme Flakes Nature', 'Cruesli Chocolat', 'Cruesli Chocolat', 'Bubblizz Bomb', 'Bonbons pomme acidulée', \"140G Gom's Saveur\", 'MIAMI P!k', 'Roller, Pik ', 'Happy Cola coeur coulant', 'Bonbons Lutti Scoubidou', 'Long fizz', 'The Lapins Crétins', 'PartyFizz', 'Scoubi Fizz', 'Bubblizz fil', 'Colorfizz', 'Bubblizz Bomb', 'Dofus Fizz', 'Bouteilles goût piquant', 'Colas', 'Mini billes dragéifiées', 'Anneaux', 'Cactus qui piquent', 'Crocodiles qui piquent...', \"Dinozor's\", 'Bandeaux citriques goût Framboise', 'Têtes brûlées Jelly goût Cola', 'Party Mix', 'Crazy mix', 'Cola Acid', 'Grizzly', 'Lucioles Acid', \"Boul' Acid\", \"Moustach'Acid\", 'Oeufs sur le plat', \"Crocodil'\", \"Planch' Acid\", 'Bananes Chabada', 'Bouteilles Bubble', 'Mon Cola', 'Bubblizz Original', 'Filli-tubs', 'Flexi-Fizz', 'Very Bad Kids Bluffeur', 'Very Bad Kids Extreme', 'Jelly Kisses Bisous Fraise', 'Flirty', 'Splashy', 'Sour Octopus', 'Dynamite goût fraise', 'Lassos citriques goût fraise', 'Bonbons Bandeaux multicolores', 'Tropic 1000 pattes', 'Candy Pizza® ø 24cm', 'Candy Barbecue', 'Goleador Candy Mix', 'Bandes citriques goût fraise', 'Bandes citriques goût pomme', 'Surffizz Goûts Fruits extra acide', 'Bonbons fraise', 'Fizz Ball', 'Bubblizz Bomb', 'Super piquant Cactus', 'Cactus qui piquent', \"Dinozor's\", 'Têtes brûlées Jelly goût Cola', 'Fizz Ball', 'Bubblizz Bomb', 'Super piquant Cactus', 'Cactus qui piquent', \"Dinozor's\", 'Têtes brûlées Jelly goût Cola', 'Bubblizz Bomb', 'Têtes brûlées Jelly goût Cola', 'Nescafé® 3 en 1 - 18 g', 'Cacao Morning', 'Mount hagen bio aromalt', 'Le Chocolat', 'Exótica!', 'Nescafé Dolce Gusto Chococino Caramel', '100% Cacao Boissons et Pâtisseries ', 'Chocolat en poudre Van Houten', 'Exótica!', '100% CACAO', 'Le Chocolat', '100% Cacao Boissons et Pâtisseries ', 'Chocolat en poudre Van Houten', 'Exótica!', '100% CACAO', 'Chocolat en poudre lacté 4 étoiles ', '100% Cacao Boissons et Pâtisseries ', 'Chocolat en poudre Van Houten', '100% CACAO', 'Super Choco', 'Nescafé Dolce Gusto Chococino Caramel', 'Super Choco', 'Nescafé Dolce Gusto Chococino Caramel', 'Le Chocolat', 'Champignons de Paris entiers (lot de 3 x 200 g) Carrefour', 'Champignons de Paris entiers', 'Champignon de Paris entiers', 'Champignons de Paris Entiers', 'Champignons de Paris Entiers', 'Champignons de Paris Entiers', 'Sablés Raisins - Pur beurre', 'Sablés Bio Pur Beurre Aux Châtaignes', 'Sablés  coeur fondant à la noisette', \"Sablé noix de pécan au sirop d'érable\", 'VIVANI VANILLE, blanc vanille', 'VIVANI VANILLE, blanc vanille', 'White vanilla ', 'Mousse à la vanille blanc', 'White nougat crisp ', 'Mousse à la vanille blanc', 'White nougat crisp ', 'Chocolat blanc Noisettes entières', 'Chocolat blanc coco céréales', 'Les carrés gourmands Noisettes Entières', 'Tranches Croustillantes Crusty Chia', 'Les Grillettines Froment', 'Break Up Muffins', 'Break Up Muffins', 'Cappuccino allégé en sucre*', 'Nescafé Sélection', 'Cappuccino allégé en sucre*', 'Cappuccino allégé en sucre*', 'Nescafé Sélection', 'Cappuccino allégé en sucre*', 'Nescafé Sélection', 'Cappuccino allégé en sucre*', 'Cappuccino allégé en sucre*', 'Cappuccino allégé en sucre*', 'Nescafé Sélection', 'Crème fraîche épaisse entière (30% MG)', 'Crème fraîche épaisse (45% MG)', 'Si légère épaisse 7% M.G.', 'Si légère épaisse 7% M.G.', 'Crème Fraîche Épaisse 7% de Matière grasse', 'Crème fraîche épaisse (45% MG)', 'Crème fraîche épaisse (45% MG)', \"CHOCOLAT NOIR EXTRA FIN TRADITIONNEL FOURRE INTERIEUR SAVEUR PISTACHE ET ECLATS D'AMANDES\", 'Chocolat noir extra fin', 'Chocolat noir extra fin', 'Chocolat noir extra fin', 'Smoothie cerise et banane', 'Le Schorlé Jus de pomme Goûd', 'Pago goyave', 'Le Schorlé Jus de pomme Goûd', 'Instant gourmand passion', 'Pur jus de Myrtille', 'Pago goyave', 'Pago goyave', 'Smoothie cerise et banane', 'Pago goyave', 'Fromage frais aux dés de pommes caramélisés', 'Société léger et fondant (11% MG)', 'Fromage frais aux dés de pommes caramélisés', 'Société léger et fondant (11% MG)', 'Fromage frais aux dés de pommes caramélisés', 'Nature à Tartiner', 'Fromage frais aux dés de pommes caramélisés', 'Nature à Tartiner', 'Roquefort société', 'Fromage frais aux dés de pommes caramélisés', 'Tranche de Fromage nature', 'Roquefort société', 'Fromage frais aux dés de pommes caramélisés', 'Tranche de Fromage nature', 'Société léger et fondant (11% MG)', 'Fromage frais aux dés de pommes caramélisés', 'Brézain', 'Tranche de Fromage nature', 'Frulos (Goûts : Fraise, Pêche, Vanille, Framboise, Abricot) 16 Pots ', 'Yaourt sucré aromatisé (12 Pots) ', 'Yaourt sucré aromatisé (12 Pots) ', 'Frulos (Goûts : Fraise, Pêche, Vanille, Framboise, Abricot) 16 Pots ', 'Bridélice Épaisse (15 % MG)', 'Crème fraîche epaisse entière', 'Crème fraîche de Normandie (42 % MG)', 'Crème Fraîche (7% M.G.)', 'Bridélice Épaisse (15 % MG)', 'Crème fraîche epaisse entière', 'Crème fraîche de Normandie (42 % MG)', 'Crème Fraîche (7% M.G.)', 'Crème fraîche de Normandie (42 % MG)', 'Crème Fraîche (7% M.G.)', 'Crème fraîche de Normandie (42 % MG)', 'Crème fraîche de Normandie (42 % MG)', 'Bridélice Épaisse (15 % MG)', 'Crème fraîche epaisse entière', 'Crème fraîche de Normandie (42 % MG)', 'Crème Fraîche (7% M.G.)', 'Blanc de Dinde (Choix) 4 Tranches', \"Blanc de Dinde, Cuit à l'étouffée (4 tranches)\", 'Blanc de Dinde (Choix) 4 Tranches', 'Blanc de Dinde (Choix) 4 Tranches', 'Barre patissière', 'Barre patissière', 'Barre patissière', '2 barres pâtissières emballées individuellement', 'Quiche lorraine - Cora', 'Quiche lorraine aux oeufs frais', 'Quiche lorraine - Cora', 'Quiche lorraine aux oeufs frais', 'Ma Quiche Lorraine', 'Ma Quiche Lorraine', 'Quiche lorraine - Cora', 'Quiche lorraine aux oeufs frais', 'Carottes râpées au jus de citron', 'Carottes râpées au jus de citron', 'Carottes râpées bio', 'Carottes râpées au jus de citron', 'Carottes râpées au jus de citron de Sicile*', \"Céleri Rémoulade, Moutarde à l'ancienne\", 'Céleri Rémoulade au fromage blanc', 'Petits pains grillés Pépites de chocolat', 'Petits Pains Grillés Aux Pépites De Chocolat', 'Ovale double crème (29% MG)', 'Cœur Complice (31 % MG)', 'Fromage Doux et Crémeux (31 % MG)', 'Fromage de Chèvre ', 'Pur chèvre doux (12% MG)', '6 Petits Chèvres Miel', 'Fromage au lait de chèvre pasteurisé', 'Fromage au lait de chèvre pasteurisé', 'Petit chèvre frais', 'Fromage de Chèvre ', 'Pur chèvre doux (12% MG)', 'Crème liquide entière UHT', 'Crème Liquide 35% de Matières Grasses', 'Finesse Crème Culinaire Entière', 'Crème Liquide 35% de Matières Grasses', 'Crème fouettée entière ', 'Crème fouettée entière ', 'Crème liquide entière 30% MG', 'Crème liquide entière UHT', 'Crème Liquide 35% de Matières Grasses', 'Finesse Crème Culinaire Entière', 'Guimauves enrobées de chocolat au lait', 'Chamallows viva samba', 'Guimauves enrobées de chocolat au lait', 'Pépito Mini Roulés Chocolat', \"schoks l'original\", 'DéliChoc (maxi pack)', \"P'tit Beurre Pépites de Chocolat bio\", 'Choco pancakes', 'Longues fantaisie fourrées', 'Chocolune', 'Petits fours ', 'GlucoRegul Biscuits Chocolat-Noisettes', 'Briefing', 'Petit Beurre Aux Pépites De Chocolat', 'Petit Beurre Aux Pépites De Chocolat', 'Biscuits sablés chocolat au lait', 'Biscuits Biologiques chocolat', 'Biscuits sablés chocolat au lait', 'Biscuits Biologiques chocolat', 'GlucoRegul Biscuits Chocolat-Noisettes', 'Petit Beurre Aux Pépites De Chocolat', 'Star Wars Biscuits multi-céréales', 'Craquandises Noisettes', 'Craquandises Sésame', 'Craquandises Noisettes', 'Craquandises Sésame', 'Craquandises Sésame', '12 moelleux châtaigne', '12 moelleux châtaigne', 'Olio extra vergine di oliva 100 % Italiano', 'Olio extra vergine di oliva 100 % Italiano', 'Olio extra vergine di oliva 100 % Italiano', 'Olio extra vergine di oliva 100 % Italiano', 'Lebkuchen Allerlei', 'Runde braune lebkuchen', 'Lebkuchen Allerlei', \"Pain d'épices pur miel\", \"Pain d'épices pur miel\", 'Sauce Tomate & Parmesan', 'Sauce Tomate Ricotta basilic', 'Sauce Tomates Poivrons et Mozzarella', 'Sauce Tomate Poivron Mozzarella', \"Sauce aux tomates séchées et à l'ail bio sans gluten Sacla\", 'Sauce tomate cerise Origan', 'Sauce Tomate & Parmesan', 'Bolo Balls Spicy', 'tomates cuisinées & emmental', 'Xtra Beef', 'Sauce Tomate Ricotta basilic', 'Sauce Tomates Poivrons et Mozzarella', 'Sauce Tomate Poivron Mozzarella', 'Sauce poivron aubergine', 'Sauce tomates roquette', 'SauceTomate Cuisinée Oignons & Ail', 'Sauce Tomate & Parmesan', 'Bolo Balls Spicy', 'Xtra Beef', 'Sauce Tomate Ricotta basilic', 'Sauce Italienne', 'Sauce tomate à la bolognaise', 'Sauce tomates roquette', 'Passata di pomodoro Rustica', 'Sauce Tomate cuisinée aux petits légumes', 'Sauce Tomates & Basilic aux Tomates Fraîches ', 'Passata di pomodoro Rustica', 'Sauce Tomate cuisinée aux petits légumes', 'Sauce Tomates & Basilic aux Tomates Fraîches ', 'Sauce Tomate & Parmesan', 'graviers du Guiers', 'Boursin figue et 3 noix', 'Rondou', \"L'Ortolan Léger\", 'graviers du Guiers', 'Fromage 12 portions', 'RACLETTE EN TRANCHES', 'Rondou', 'Fromage fondu au cheddar en tranches', 'RACLETTE EN TRANCHES', 'Rondou', 'Fromage fondu au cheddar en tranches', \"L'Ortolan Léger\", 'activia figue', 'Letchi yaourt aux fruits ', 'Panier de Yoplait 0% sur Fruits', 'Letchi yaourt aux fruits ', 'Panier de Yoplait 0% sur Fruits', 'Yaourt sucré Fruits Rouge', 'Panier de Yoplait 0% sur Fruits', 'Filets de Maquereaux (A la Moutarde)', \"Filets de maquereaux à la moutarde à l'ancienne\", 'Filets de Maquereaux (A la Moutarde)', \"Filets de maquereaux à la moutarde à l'ancienne\", 'Limonade Carrefour Discount', \"Limonade à l'arôme naturel de citron\", 'Freeway lemon', 'Limonade au Sucre de Canne', \"Limonade à l'arôme naturel de citron\", 'Limonade Carrefour Discount', \"Limonade à l'arôme naturel de citron\", 'Freeway lemon', 'Limonade (lot de 6 x 33 cl) Carrefour', 'Limonade au Sucre de Canne', 'Limonade Carrefour Discount', \"Limonade à l'arôme naturel de citron\", 'Petits Bâtons de Berger (x 7 environ)', 'Petits Bâtons de Berger (x 7 environ)', 'Petits Bâtons de Berger (x 7 environ)', 'Petits Bâtons de Berger (x 7 environ)', 'Petits Bâtons de Berger (x 7 environ)', 'Petits Bâtons de Berger (x 7 environ)', 'Mini saucissons secs Nature Pur Porc', \"3D's Bugles, Goût Cacahuète\", \"3D's Bugles, Goût Cacahuète (Lot de 2)\", \"Cricfie's Cacahuète\", 'Soufflés Cacahuète', 'Curves cacahuètes ', 'Monster Munch goût Cacahuète', 'Soufflés de maïs à la cacahuète', 'Curves cacahuètes ', 'Soufflés goût Cacahuète', 'Soufflés de maïs à la cacahuète', 'Snacks goût Cacahuète', 'Croustilles Cacahuète', \"3D's Bugles, Goût Cacahuète\", \"3D's Bugles, Goût Cacahuète (Lot de 2)\", 'Monster Munch goût Cacahuète', 'Soufflés de maïs à la cacahuète', 'Soufflé de maïs à la cacahuète', 'Soufflés de maïs à la cacahuète', 'Snacks goût Cacahuète', 'Soufflé de maïs à la cacahuète', 'Soufflés de maïs à la cacahuète', 'Snacks goût Cacahuète', \"Yaourt à l'amande et au café\", 'Viennois au chocolat', 'Le Nature', 'K. Philus Bio lait maigre', \"Yaourt à l'amande et au café\", 'Viennois au chocolat', 'K. Philus Bio lait maigre', 'Danio minis', 'Yaourt caramel beurre salé', 'Danio minis', 'Yaourt caramel beurre salé', \"Yaourt à l'amande et au café\", 'Viennois au chocolat', 'Véritables Andouillettes De Troyes', 'Andouillettes supérieures', 'Véritables Andouillettes De Troyes', 'Andouillettes supérieures', 'Véritables Andouillettes De Troyes', 'Andouillettes pur porc', 'Cola léger en sucre', 'Cola léger en sucre', 'Freeway Cola', 'Cola léger en sucre', 'Cola léger en sucre', 'Cola léger en sucre', \"Huile d'Olive vierge extra\", \"Marque Repère - Tablette d'Or - Noisettes entières\", 'Mon chéri', 'Chocolat au lait aux céréales croustillantes Dia', 'Chocolat au lait aux céréales croustillantes Dia', 'Fine Ligne Gourmandises Fruits Rouges', 'Biscuits petit déjeuner ', 'Airwaves menthol & eucalyptus', 'Electrik Mix', 'Frizzy Pazzy', 'Style parfum fraise onctueuse', 'Style parfums fruits rouges', 'Ice Fresh', 'Electrik Mix', 'Frizzy Pazzy', 'Hollywood Parfums menthe fraîche, menthe forte', '2 Fresh parfum menthe verte / chlorophylle', 'Hollywood 2 Fresh Parfum Menthe verte Chlorophylle', 'Honey & Lemon Strong', 'Hollywood Blancheur parfum Menthe Verte', 'Chewing-gum sans sucres', 'Honey & Lemon Strong', 'Hollywood Blancheur parfum Menthe Verte', 'Chewing-gum sans sucres', 'Airwaves menthol & eucalyptus', '5 Instinct goût Menthe ', 'Style parfums fruits rouges', 'Electrik Mix', 'Frizzy Pazzy', 'Chewing-gum sans sucres goût Menthe Fraîche', 'Euka Menthol Strong', 'Chewing-gum sans sucres goût Menthe Fraîche', 'Green Fresh parfum menthe vente', 'Green Fresh parfum Menthe Verte', 'Sweet Gum Fraise & Citron Vert', '2Fresh parfum menthe extra-fort', '2Fresh parfums menthe fraîche / menthe forte', 'Chewing gum sans sucres menthol', 'Chewing gum Sans Sucres', 'Chewing gum sans sucres menthol', 'Chewing gum Sans Sucres', 'Chewing gum Sans Sucres', 'Sweet Gum Fraise & Citron Vert', '2Fresh parfum menthe extra-fort', 'Freedent white goût Fruit', '2Fresh parfums menthe fraîche / menthe forte', \"Gaufres liégoise P'tit Déli Nappée chocolat x7\", '5 gaufres liégeoises aux perles de sucre ', \"Gaufres liégoise P'tit Déli Nappée chocolat x7\", 'Longue Conservation nature', 'Le Pain de Mie', 'Pain de mie Nature (14 Grandes tranches)', 'Pain de Mie en tranches', 'Spécial sandwich Nature (x 14 Grandes tranches)', 'Pain de mie en tranches ', 'Pain de Mie (24 tranches)', 'pain de mie nature', 'Maestro Classic', 'Crousti Moelleux, Nature (12 tranches)', 'Longue Conservation nature', 'Pain de mie Nature - Recette Anglaise ', 'pain de mie nature', 'Pain de mie céréales & graines bio', 'Maestro Classic', 'Le Pain de Mie', 'Pain de mie céréales & graines bio', 'Le Pain de Mie', 'Pain de mie céréales & graines bio', 'Longue Conservation nature', 'Le Pain de Mie', 'Pain de mie céréales & graines bio', '8 Tortillas de Blé Nature', 'Blanquette de Veau aux cèpes et duo de riz ', 'Blanquette de veau et son riz blanc  ', 'Blanquette de Veau aux cèpes et duo de riz ', 'Blanquette de Veau aux cèpes et duo de riz ', 'Blanquette de Veau aux cèpes et duo de riz ', 'Blanquette de veau et son riz blanc  ', 'Blanquette de Veau aux cèpes et duo de riz ', 'Blanquette de veau et son riz blanc  ', 'Pain de mie moelleux', 'Paine De Mie Moelleux', 'Paine De Mie Moelleux', 'Pain de mie bio nature', 'Bio Pain de mie nature', 'Pain de mie moelleux', 'Apéro Bio', 'Croustilles Emmental', 'Soufflés Saveur Fromage', 'Snacks goût Fromage', 'Croustilles emmental (lot x4)', 'Croustilles goût Emmental', \"Les Super Z'héros au fromage\", 'Boulettes goût fromage', 'Curves goût fromage', 'Hula Hoops Goût Fromage', 'Apéro Bio', 'Apéro Bio', 'Soufflés Saveur Fromage', 'Apéro Bio', 'Snacks goût Fromage', '6 Smoothies Pêche - Mangue', '6 Smoothies Orange Passion', 'Sorbets Citronnade', 'Sorbet Mini 7 fruits', '6 Smoothies Pêche - Mangue', '6 Smoothies Orange Passion', 'Sorbets Citronnade', 'Sorbet Mini 7 fruits', 'Envie de Macadamia - noisettes croquantes', '6 Smoothies Pêche - Mangue', 'Sorbets Citronnade', 'Salted Caramel Caramel au beurre salé', 'Salted Caramel Caramel au beurre salé', 'Fruit Dream Vanilla, Orange & Passion Fruit', '6 Smoothies Pêche - Mangue', '6 Smoothies Orange Passion', 'Sorbets Citronnade', 'Sorbet Mini 7 fruits', \"Assortiment de pains d'épices aux 3 chocolats\", \"Pains d'Épices Spécial Foie Gras\", \"Assortiment de pains d'épices aux 3 chocolats\", \"Pains d'Épices Spécial Foie Gras\", \"Pains d'Épices Spécial Foie Gras\", \"Assortiment de pains d'épices aux 3 chocolats\", 'Barres chocolat farines de riz et de teff', 'Lion peanut', 'Barres chocolat farines de riz et de teff', 'Lion peanut', \"m&m's biscuit\", 'Tramier - 220 G', 'Olives noires dénoyautées à la grecque', 'Tramier - 220 G', 'Lindor 15 Carrés individuels lait', 'Barres de céréales Noisette + Amande', 'Choco Cereals bars', 'Barres aux fruits secs Chocolat Noir avec Airelles et Noix de Macadamia', 'Blackcurrant, cherry & raspberry bars', 'Barres céréales Chocolat + Banane', 'Barres de céréales Noisette + Amande', 'Gaufrettes framboises', 'Gaufrettes à la framboise', 'Gaufrettes framboises', 'Gaufrettes à la framboise', 'XL Together Hazelnut', 'Wafers Cacau', 'Wafers Cacau', 'Croustifondante Chocolat', 'Wafers Cacau', 'Croustifondante Chocolat', 'Gaufrettes framboises', 'Gaufrettes à la framboise', 'XL Together Hazelnut', 'Croustifondante Chocolat', 'Rocher aux amandes ', 'DéliChoc chocolat croustillant au lait (lot de 3)', '6 Petits Biscuits avec tablette de chocolat au lait fourré lait', 'Biscuits Chocolat au lait (x 12)', 'Biscuits Tablette Chocolat au Lait', 'Prince goût tout choco', 'Mikado Chocolat au lait amandes grillées', 'Petit arlequin Chocolat au lait', 'DéliChoc chocolat croustillant au lait (lot de 3)', 'Le petit Normand Chocolat au lait', 'Sprits Chocolat au Lait', 'Twix Top', 'Rocher aux amandes ', 'Granola chocolat au lait', 'Granola chocolat au lait', 'Prince goût tout choco', 'Massepain déorées garniture en sucre', 'Massepain déorées garniture en sucre', 'Le Jambon Serrano', 'Le Jambon Serrano', 'Jambon Serrano Espagnol Bodega', 'Le Jambon Serrano', 'Le Jambon Serrano', 'Le Jambon Serrano', 'Léger (14% MG)', 'Léger (14% MG)', 'Léger (14% MG)', 'Léger (14% MG)', \"P'tit Déj Extra Céréales\", 'Belvita petit déjeuner', 'Belvita - Petit Déjeuner - Brut 5 & Céréales Complètes', 'Belvita - Petit Déjeuner - Brut 5 & Céréales Complètes', 'Biscuits Petit Déjeuner céréales pépites de chocolat ', \"P'tit Déj Extra Céréales\", 'Cuites au four nature', 'Chips aux 3 pommes de terre', 'Sea Salt & Cracked Black Pepper', 'Cuites au four nature', 'Cuites au four nature', 'Saveur Pata Negra', 'Pétales salés', 'Pétales soufflés croquants', 'Chips artisanales cuites au chaudron', 'Pétales salés', 'Pétales soufflés croquants', 'Hand-Cooked Crisps Lightly Sea Salted', 'Classic potato chips unsalted', 'Pétales salés', 'Pétales soufflés croquants', 'Hand-Cooked Crisps Lightly Sea Salted', 'Classic potato chips unsalted', 'Mozzarella Spécial Cuisine (23 % MG)', 'Mozzarella Spécial Cuisine (23 % MG)', 'Mozzarella Spécial Cuisine (23 % MG)', 'Fromage râpé (25,8% MG)', 'Fromage à pâte dure râpé', 'Fromage râpé (25,8% MG)', 'Fromage râpé (25,8% MG)', \"Gran' Grattugiato\", 'Fromage râpé (25,8% MG)', \"Gran' Grattugiato\", 'Fromage râpé (25,8% MG)', 'Mousse au chocolat', 'Chips Prawn Crackers (Beignets de crevettes)', 'Chips à la crevette', 'Chips à la crevette', 'Chips à la crevette', 'Chips à la crevette', 'Chips à la crevette croquantes', 'Minigrill', 'Minigrill', 'Biscottes complètes Sans sucres ajoutés', 'Crica Abricot', 'Duo Choc croustillant & fondant', 'Shredded wheat apple crumble', 'Céréales fourrées au Cacao et aux Noisettes', 'Céréales chocolatées fourrées Lait', 'Céréales fourrées lait', 'Trésor Duo choco', 'U Fourrées Chocolat', 'Céréales chocolatées fourrées chocolat', 'U Fourrées Chocolat', 'Céréales chocolatées fourrées chocolat', 'Shredded wheat apple crumble', 'Pain de Noël', 'Confiture extra abricots au sucre de canne', \"Confiture extra d'Abricots\", 'Les Pyrénéens Lait', 'Chocolats Côté Sud', 'Les Pyrénéens Lait', 'Oh ! Surprises éclatantes', 'Chocolats Côté Sud', 'Petit chocolat', 'Les Pyrénéens Lait', 'Assortiment de chocolats biologiques', 'Goûter gourmand', 'Oh ! Desserts surprises Perles de Chocolat (façon Framboisier, façon Tarte au Citron, façon Crème brulée)', 'Goûter gourmand', 'Oh ! Desserts surprises Perles de Chocolat (façon Framboisier, façon Tarte au Citron, façon Crème brulée)', \"L'Original Big Choco\", 'Biscuits tablette chocolat noir', 'Fourrés Chocolat noir BIO', \"L'Original Big Choco\", 'Biscuits tablette chocolat noir', 'Biscuits nappés chocolat noir', 'Granola chocolat noir', 'Granola chocolat noir', 'Fourrés Chocolat noir BIO', 'Biscuits tablette chocolat noir', 'barre minceur', 'Barres minceur saveur Orange', 'Barres minceur saveur vanille', 'Barre de régime hyper-protéinée Chocolat Noir', 'Barres Chocolat Lait et Caramel', 'Pause chocolat aux éclats de noisettes caramélisées', 'Protein 35 bars', 'barre minceur', 'Barres Chocolat Lait et Caramel', 'barre minceur', 'Barres Chocolat Lait et Caramel', 'Barres minceur saveur Orange', 'Barres minceur saveur vanille', 'Barre de régime hyper-protéinée Chocolat Noir', 'Beurre cru de vache jersiaise', 'Beurre doux à teneur réduite en M.G. (60%)', 'Beurre cru de vache jersiaise', 'Beurre doux à teneur réduite en M.G. (60%)', 'Beurre cru de vache jersiaise', 'Beurre Gastronomique Doux', 'Beurre gastronomique fin doux', 'Beurre doux (82 % MG)', 'Le Beurre Moule Doux Paysan Breton 125G', 'Beurre extra-fin doux', 'Beurre doux à teneur réduite en M.G. (60%)', 'Beurre doux (82% M.G)', \"Beurre d'Ardenne Doux\", 'Beurre doux', 'Beurre Le Hameau Doux', 'Beurre Le Fin Moulé doux', 'Beurre doux (82% M.G)', 'Beurre Le Hameau Doux', 'Beurre Le Fin Moulé doux', 'Beurre doux (82% M.G)', 'Doux', 'Beurre Le Hameau Doux', 'Beurre Le Fin Moulé doux', 'Beurre D Isigny', 'Beurre doux à teneur réduite en M.G. (60%)', 'Crème à la vanille de Madagascar', 'Crème à la vanille de Madagascar', 'Pause Snack Jambon Pain de mie malté', 'Club Jambon', 'Maxi Simple & Bon! Jambon Beurre', 'Jambon beurre', 'Sandwich Club Jambon Beurre Pain de mie complet', \"Pur'Mie Jambon Emmental\", 'Le Méga Rosette Cornichon', 'Le Méga Rosette Cornichon', 'Le poulet crudités et parmesan', 'Poulet rôti', \"Navettes façon Bretzel Médaillons de Poulet rôti sauce Moutarde à l'Ancienne\", \"Navettes façon Bretzel Médaillons de Poulet rôti sauce Moutarde à l'Ancienne\", 'Club poulet cornichons', \"Navettes façon Bretzel Médaillons de Poulet rôti sauce Moutarde à l'Ancienne\", 'Club poulet cornichons', 'Le Petit Viennois Poulet Rôti Concombre', 'Le poulet crudités et parmesan', \"Navettes façon Bretzel Médaillons de Poulet rôti sauce Moutarde à l'Ancienne\", 'Sauce au poivre de madagascar', \"Vinaigre balsamique huile d'olive\", \"Vinaigre balsamique huile d'olive\", \"Vinaigre balsamique huile d'olive\", 'Jambon cru légèrement fumé', 'Jambon cru grandes tranches', 'Jambon Speck', 'Jambon cru', 'Jambon cru légèrement fumé', 'Jambon Speck', 'Pétales AOSTE', 'Jambon cru légèrement fumé', 'Tortilla Chips Original', 'Spicy Chili tortilla', 'Tortilla Bio Chips Chili', 'Tortillas chili', 'Tortilla Chips', \"Beurre de Baratte d'Excellence Demi-Sel AOP\", 'Beurre de Baratte', 'Fromage frais & fruit Pêche & Fruit de la passion', 'Danio nectarine-framboise', 'Fromage frais & fruit Pêche & Fruit de la passion', 'Yaourts aromatisés au lait entier', 'Danio nectarine-framboise', 'Danio nectarine-framboise', 'Quenelles lyonnaises de brochet', 'Hollywood Max Framboise Pêche', 'Hollywood Max Framboise Pêche', 'Hollywood 2 Fresh ', 'Hollywood Max Framboise Pêche', 'Fromage Blanc Lisse 5% MG', 'Fromage blanc framboise ', 'Le fromage blanc des Limousins', 'Cuajada', 'Fromage Blanc Lisse 5% MG', 'Fromage blanc framboise ', 'Le fromage blanc des Limousins', 'Cuajada', 'Palmiers Allongés à la Vanille', \"Palmito L'original\", \"Palmito L'original\", 'Douceur laitière, Fameuh Nature', 'Velouté (Nature) 16 Pots', 'Douceur laitière, Fameuh Nature', 'Douceur laitière, Fameuh Nature', 'Eucalyptus', 'Fraîcheurs Lait chocolat lait fondant', 'Eucalyptus', 'Fraîcheurs Lait chocolat lait fondant', 'Eucalyptus', 'Lentilky', 'Mini Eggs', 'Sucette au chocolat', 'Eucalyptus', 'Maltesers (maxi pack)', 'Maltesers (maxi pack)', 'Eucalyptus', 'Cuneesi di Cuneo al rum', 'Sandwich thon crudités', \"J'ai envie d'un… Italien Thon Poivron grillé, Pesto\", 'Le Sandwich Baguette Thon Basilic', 'Le Sandwich Baguette Thon Basilic', 'XXL Thon Crudités', 'XXL Thon Crudités', 'Sandwich thon crudités', \"J'ai envie d'un… Italien Thon Poivron grillé, Pesto\", 'Ckub thon oeufs mimosa', \"Nectar d'orange à base de concentré\", 'Le bio à emporter partout orange', 'Fraîcheur de fruits orange', 'Le bio à emporter partout orange', 'Le bio à emporter partout orange', 'Le Bio! Orange sans pulpe', 'Verveine orange', 'Verveine orange', 'Verveine orange', 'Chocolat noir Fruit Orange', 'Chocolat noir intense', 'Chocolat noir Fruit Orange', 'Edelschokolade aus original Arriba Ecuador Edelcacao 70% - Noir Dégustation 70% au croquant de caramel Equateur', 'Chocolat Noir 64% au Sucre de Coco', 'Chocolat noir Fruit Orange', 'Edelschokolade aus original Arriba Ecuador Edelcacao 70% - Noir Dégustation 70% au croquant de caramel Equateur', 'Chocolat Noir 64% au Sucre de Coco', 'Chocolat noir Fruit Orange', 'Chocolat noir fourré au praliné', 'Boisson Ginbriscus Énergie', 'Boisson Ginbriscus Énergie', \"Sticks de son d'avoine façon Bretzels\", 'Bretzels Ancel', 'Bretzels Ancel', 'petits suisses Montebourg with chocolate Fresh cheese', 'petits suisses Montebourg with chocolate Fresh cheese', 'petits suisses Montebourg with chocolate Fresh cheese', \"Gressins à l'huile d'olive vierge extra\", 'Grissini gusto Pizza', 'Sesame & spice crispbread sticks', 'Torinesi', \"P'tite Poulette Guimauve\", 'Orangettes chocolat noir', 'After Eight Menthe & Orange', 'Galler Noir 85% Profond', 'Mini croquants cacahuètes', 'Mini croquants cacahuètes', 'Mini croquants cacahuètes', 'Rillettes de Thon au fromage frais', 'Rillettes de Thon Blanc aux Tomates Séchées', 'Rillettes de Thon au fromage frais', 'Rillettes de Thon au fromage frais', 'Thon Piquant', 'Cake aux Cerises Amarena', 'Kinder délice cacao', 'Kinder délice cacao', 'Kinder délice cacao', 'Tortilla chips goût fromage', 'Chili Tortilla Chips', 'Pringles Tortilla Chips Spicy Chilli', 'Nacho Cheese', 'Chili Tortilla Chips', 'Biscuits petit déjeuner pépites de chocolat ', 'BelVita Petit Déjeuner Duo Fourré Abricot Yaourt & 5 céréales complètes', 'Biscuits petit déjeuner céréales fruits rouge', 'Biscuits petit déjeuner pépites de chocolat ', 'Belvita Le Moelleux pépites de chocolat & 5 céréales complètes', 'Belvita Petit déjeuner Céréales & Lait', \"Biscuits P'tit Déj céréales & Pépites de chocolat\", 'Belvita Le Moelleux pépites de chocolat & 5 céréales complètes', \"Biscuits P'tit Déj céréales & Pépites de chocolat\", 'Fanta Orange', 'Orange à la Pulpe', 'Orange à la Pulpe', 'Pulpé orange sanguine', 'Pulpé orange sanguine', 'Pulpé orange sanguine', 'Fanta Orange', \"Douceur à Base d'Aceto Balsamico di Modena IGP\", 'Vinaigre Balsamique de Modène (acidité 6%)', \"Douceur à Base d'Aceto Balsamico di Modena IGP\", \"Douceur à Base d'Aceto Balsamico di Modena IGP\", \"Chocolat noir fourré pâte d'Amande\", \"Noir fourré à la Pâte d\\\\'Amande Côte d\\\\'Or\", \"Noir fourré à la Pâte d\\\\'Amande Côte d\\\\'Or\", 'Zartbitter-Schokolade mit ganzen Mandeln', 'Chocolat noir aux amandes entières', 'Brut noir', 'Chocolat noir avec oranges et amandes', \"Grand Chocolat Pâte d'amande Noir\", 'Chocolat noir avec oranges et amandes', \"Grand Chocolat Pâte d'amande Noir\", 'Chocolat noir avec oranges et amandes', \"Les recettes de l'atelier raisins, amandes & noisettes\", \"Noir fourré à la Pâte d\\\\'Amande Côte d\\\\'Or\", 'Cornichons au vinaigre de cidre Bio', 'Mini cornichons hot', 'Cornichons', '100 % pur jus orange', '100 % pur jus orange', '100 % pur jus orange', 'Multivitaminé', 'Yogurt allo zabaione', 'Perle de lait - coco en fins éclats ', 'Perle de lait - coco en fins éclats ', 'Perle de lait - coco en fins éclats ', 'Sauce salade au Vinaigre Balsamique 6% MG', 'Sugar peanuts XXL', 'Cruspies paprika', 'Cruspies paprika', 'Cruspies paprika', 'Confiture de fraise fraise des bois au sucre de canne', 'Confiture de fraises au sucre de canne Bio', 'Fraise cuite aux pommes et au chaudron', 'Confiture extra fraises', 'Cremosa Fraise', 'Cremosa Fraise', 'Confiture de fraises - 75 % de fruits', 'Confiture allégée Fraise', 'Cremosa Fraise', 'Max Chocolat', 'Yaggo! saveur Chocolat', 'Max Chocolat', 'Sportéus au Chocolat', 'Sportéus au Chocolat', 'Sportéus au Chocolat', 'Les Allégés en Sucres - Framboise', 'Fiordifrutta framboise', 'Les Allégés en Sucres - Framboise', 'Fiordifrutta framboise', 'Les Allégés en Sucres - Framboise', 'Fiordifrutta framboise', 'Fiordifrutta framboise', 'Fiordifrutta framboise', 'Fromage frais au lait de chèvre pasteurisé (15 % M.G.)', 'Chèvre raisin blond (22% MG)', 'Tranches de Chèvre (32% MG)', 'Bouchons du Quercy', 'Tranches de Chèvre (32% MG)', 'Chèvre raisin blond (22% MG)', 'Billes de chèvre coeur de miel', 'Fromage frais au lait de chèvre pasteurisé (15 % M.G.)', 'Billes de chèvre coeur de miel', 'Fromage frais au lait de chèvre pasteurisé (15 % M.G.)', 'Billes de chèvre coeur de miel', 'Fromage frais au lait de chèvre pasteurisé (15 % M.G.)', 'Chèvre raisin blond (22% MG)', 'Pansotti', 'Ciufetti al prosciutto crudo', 'Papillotes Ricotta épinards', 'Papillotes Ricotta épinards', 'Raviolis à poêler', 'Boudins blancs aux cèpes', 'Boudin Blanc Au Porto', 'Boudin Blanc Au Porto', 'Boudin Blanc Au Porto', 'Boudin Blanc Au Porto', 'Tarte Saint Jacques à la crème fraîche', 'Tartes aux poireaux et à la crème fraîche', 'Tartes aux poireaux et à la crème fraîche', 'Pommes-snack Tomato Ketchup Flavour', 'Diablotins goût Ketchup', 'Fantomask goût Ketchup', 'Pommes-snack Tomato Ketchup Flavour', 'Diablotins goût Ketchup', 'Fantomask goût Ketchup', 'Yaourt de brebis à la grecque', 'Garniture pour Flammekueche', 'Yaourt de brebis à la grecque', 'Garniture pour Flammekueche', 'Yaourt de brebis à la grecque', 'Yaourt de brebis à la grecque', 'Tiramisu à la framboise', 'Tiramisú', 'Tiramisu à la framboise', 'Jambon cuit supérieur au Torchon avec couenne', 'Le Supérieur avec Couenne', 'Jambon supérieur avec couenne', 'Jambon cuit supérieur au Torchon avec couenne', 'Le Supérieur avec Couenne', 'Jambon supérieur avec couenne', 'Jambon cuit choix découenné dégraissé', 'Le Supérieur, sans couenne', 'Le Supérieur avec Couenne', 'Jambon cuit Choix', 'Rapé de Jambon -25 % de sel', 'Jambon cuit Choix', 'Jambon cuit choix découenné dégraissé', 'Mon Gourmand Supérieur (25 % de Sel en Moins)', 'Jambon cuit choix découenné dégraissé', 'Mon Gourmand Supérieur (25 % de Sel en Moins)', 'Jambon cuit supérieur au Torchon avec couenne', 'Jambon cuit choix découenné dégraissé', 'Jambon supérieur avec couenne', '10 Pains au Lait', '8 Pains au lait Bio ', \"Pur jus d'orange avec pulpe\", 'Pur jus Orange douce', \"100% Pur Jus d'Orange\", '100% Pur Jus Orange Sans Pulpe', \"100% Pur Jus d'Orange\", '100% Pur Jus Orange Sans Pulpe', 'Sauce Samouraï Spicy', 'Sauce apéritif tomate basilic', 'Sauce rouleaux de printemps et nems', 'Sauce pour Nems', 'Sweet Chilli Sauce', 'Pad Thaï Sauce Wok', 'Sauce Bourguignon, cuisinée au vin rouge et aux petits légumes', \"Sauce d'huitres\", 'Garlic, Mushroom & Cream Sauce mix', 'Sauce radicchio & noix', 'Marinade barbecue', 'Sauce Bourguignon, cuisinée au vin rouge et aux petits légumes', \"Sauce d'huitres\", 'Sauce rouleaux de printemps et nems', 'Sauce wasabi', 'Garlic, Mushroom & Cream Sauce mix', 'Sauce pour Nems', 'Pad Thaï Sauce Wok', 'Marinade barbecue', 'Sauce Bourguignon, cuisinée au vin rouge et aux petits légumes', \"Sauce d'huitres\", 'Sauce rouleaux de printemps et nems', 'Sauce wasabi', 'Garlic, Mushroom & Cream Sauce mix', 'Sauce pour Nems', 'Pad Thaï Sauce Wok', 'Multi enrichi en vitamines B1, B9, B6, C et A', 'Nectar multrifruits', 'Nectar multrifruits', 'Multi enrichi en vitamines B1, B9, B6, C et A', 'Nectar multrifruits', 'Multi enrichi en vitamines B1, B9, B6, C et A', 'Assortiment Mini Vanille Fruits', '6 smoothies Fraise - Banane Picard', 'Royal Fruizz Citron', 'Glace caramel beurre salé', 'Glace caramel beurre salé', '6 smoothies Fraise - Banane Picard', 'Royal Fruizz Citron', 'Filets de maquereaux grillés à la tomate et aux herbes de provence', 'Les Grillettines briochée', 'Crusty Tomate - Mozzarella', 'Tartines craquantes à la châtaigne', 'Tartines Croustillantes Seigle', 'Les Grillettines briochée', 'Crusty Tomate - Mozzarella', 'Tartines Craquantes Au Sarrasin', \"Mon Flan Gourmand au Chocolat d'Equateur\", 'Clafoutis', 'Entremets parfum Chocolat', 'Saint Albray ® (33% MG) Format Familial', 'Saint Albray ® (33% MG) Format Familial', 'Saint Albray ® (33% MG) Format Familial', 'Yaourts à la Grecque noix de coco', 'Yaourt grec (10% MG)', 'Yaourt grec (10% MG)', 'Yaourt grec (10% MG)', 'Mozart Pralines', 'Amidala', 'Amidala', 'Mozart Pralines', 'Rocher lait', 'Mozart Pralines', 'Rocher lait', 'Pur Jus de pomme', 'Pur jus de pomme 100%', 'Pur Jus de pomme', 'Pure Premium Pomme Bio', 'Pur jus de pomme 100%', 'Pur jus de pomme 100%', 'Brioche grillée', 'Crousti Moelleux Brioché', 'Brioche suisse aux pépites de chocolat', '6 Petits Chinois', 'Brioche des rois', 'Brioche grillée', 'Brioche suisse aux pépites de chocolat', 'Brioche suisse aux pépites de chocolat', '6 Petits Chinois', 'Brioche aux Pralinettes', 'Brioche suisse aux pépites de chocolat', '6 Petits Chinois', 'Brioche aux Pralinettes', 'Crousti Moelleux Brioché', '10 steaks hachés surgelés', 'Steaks hachés pur boeuf', 'Steaks hachés surgelés', 'Steaks hachés surgelés', \"Sauce Beurre Blanc à l'échalote\", \"Sauce Beurre Blanc à l'échalote\", 'Family Brownie Chocolat noisettes', 'Brownie choco noisettes', \"Papillottes Spécial Poêle Saumon à l'aneth et au jus de citron\", \"Papillottes Spécial Poêle Saumon à l'aneth et au jus de citron\", \"Papillottes Spécial Poêle Saumon à l'aneth et au jus de citron\", 'Chupa chups Bubble Gum', 'Sucettes au lait U', 'Sucettes 3 effets Astérix', 'Mix Sucettes', 'Mini chupa chups', 'Sucettes au lait U', 'Sucettes au lait U', 'Sucettes au lait U', 'Quart de Jambon Sec Supérieur', 'Aoste, les grandes tranches', 'Jambon Sec Supérieur', 'Jambon sec qualité supérieure', 'Chiffonade de Jambon sec', 'Jambon sec qualité supérieure', 'Chiffonade de Jambon sec', '2 Cordons Bleus de poulet', 'Cordon Bleu au Comté fondu (x 2)', 'Cordon Bleu au Comté fondu (x 2)', \"Salmorejo à l'huile d'olive vierge extra\", 'Soupissime instant Thai', \"Douceur à l'italienne tomates, mozzarella et pointe de balsamique\", 'Fondue de poireaux aux St Jacques', 'Soupe de légumes biologiques - carotte, lait de coco et curcuma', 'Potage Gourmand Légumes au fromage fondu ', \"Douceur à l'italienne tomates, mozzarella et pointe de balsamique\", 'Légumes et Vermicelles', 'Velouté de potiron et courge bio', 'Trio de Courges', \"Butternut & Piment d'Espelette\", 'Soupe de légumes biologiques - carotte, lait de coco et curcuma', 'Mange ta soupe ! à la carotte & au potiron', 'Potage poireaux lauriers', 'Légumes et Vermicelles', 'Velouté de potiron et courge bio', 'Trio de Courges', \"Butternut & Piment d'Espelette\", 'Soupe de légumes biologiques - carotte, lait de coco et curcuma', 'Mange ta soupe ! à la carotte & au potiron', 'Potage poireaux lauriers', 'Légumes et Vermicelles', \"Salmorejo à l'huile d'olive vierge extra\", 'Jambon de Bayonne (opération XXL 6+1 tranche gratuite)', 'Jambon de Bayonne (opération XXL 6+1 tranche gratuite)', 'Jambon de Bayonne (opération XXL 6+1 tranche gratuite)', 'Jambon de Bayonne IGP', 'Jambon de Bayonne (opération XXL 6+1 tranche gratuite)', 'Blanc de Poulet, Aux herbes (4 tranches)', 'Salade alsacienne ', 'Salade de Surimi, Carottes Ananas', 'Salade de Surimi, Carottes Ananas', 'Salade alsacienne ', 'Ancel cocktail', 'Mélange Grillé à Sec', 'melange gourmand', 'Snacks Goût Fromage', 'Les Apérigaufres fourrées saveur Bacon', \"Croc'soja - graines de soja salées\", 'melange gourmand', \"Croc'soja - graines de soja salées\", 'Gressins au Romarin', 'melange gourmand', \"Croc'soja - graines de soja salées\", 'Gressins au Romarin', 'Ravioli Pur Bœuf (Sauce Italienne)', 'Ravioli (pur Bœuf)', 'Ravioli (Pur Bœuf)', \"Ravioli (Pur Bœuf, Sauce à l'italienne)\", 'Ravioli, Pur Bœuf ', 'Ravioli (pur Bœuf)', 'Ravioli, Pur Bœuf ', 'Ravioli (pur Bœuf)', \"Le Ravioli à l'Italienne (Pur Bœuf)\", 'Saucisses grillées aux herbes pommes de terre', 'Saucisses grillées aux herbes pommes de terre', 'Hot Dog', 'Saucisses grillées aux herbes pommes de terre', 'Hot Dog', 'Saucisses grillées aux herbes pommes de terre', 'Bambo Citron', 'Multi-Vitamin', 'Grenade boisson aux fruits', 'Fraise', 'Bambo Citron', 'Fruit Shoot Tropical', 'Fraise', 'Fruit Shoot Tropical', 'Fraise', \"Fizzy Têt'Choco\", 'Gauffrettes cacao noisettes', \"Fizzy Têt'Choco\", 'Gauffrettes cacao noisettes', \"Résille d'Or Praliné-Noisette\", \"Fizzy Têt'Choco\", 'Bites Strawberry', \"Résille d'Or Praliné-Noisette\", \"Fizzy Têt'Choco\", 'Bites Strawberry', 'Gauffrettes cacao noisettes', 'Bites Strawberry', 'Cruspies BBQ', 'Cacahuètes grillées des États-Unis', 'Cacahuètes grillées des États-Unis', 'Cacahuètes grillées des États-Unis', 'Cruspies BBQ', 'Amande Caramel', 'Amande Caramel', 'Amandes brisées caramélisées et pointe de sel', \"Les recettes de l'atelier Chocolat au lait Raisins, Amandes & Noisettes\", 'Le Bio Multifruits', 'Nectar multifruit', 'Necar Multifruits', 'Nectar multi vitamine', 'Nectar Multifruit', 'Nectar Multivitaminé', 'Fruits exotiques multifruits ', 'Nectar Orange Pêche Abricot', 'Nectar multi fruits', 'Mango', 'Nectar multifruit', 'Nectar Pêche Orange', 'Nectar Pêche Orange', 'Le Bio! Multifruit', 'Fraicheur de Fruits Pomme Poire', 'Nectar multifruit', 'demi baguettes précuites', 'Préfou Tomate-Basilic', 'Baguettes précuites', 'Petits pains précuits', 'Préfou Tomate-Basilic', 'Baguettes précuites', 'Petits pains précuits', '2 demi-baguettes de campagne précuites', 'Préfou Tomate-Basilic', 'demi baguettes précuites', '2 demi-baguettes de campagne précuites', 'Préfou Tomate-Basilic', 'Petite Fournée à finir de cuire Demi-Baguettes Nature', 'demi baguettes précuites', 'Préfou Tomate-Basilic', 'Petite Fournée à finir de cuire Demi-Baguettes Nature', 'demi baguettes précuites', 'Préfou Tomate-Basilic', 'demi baguettes précuites', '4 Baguettes Précuites', 'Petits Pains Précuit - Nature', '2 demi-baguettes de campagne précuites', 'Préfou Tomate-Basilic', 'Truffes pralinées (73% cacao) Pérou', \"Truffes Origine Côte d'Ivoire\", \"Truffes Origine Côte d'Ivoire\", 'Speculoos à tartiner', \"Délice d'Amandes\", 'Onctueux de Caramel', 'Génoise chocolat noir framboise ', 'Biscuits aux céréales au chocolat au lait', 'Biscuits aux céréales au chocolat au lait', 'Dés basilic & ciboulette pour salades et apéritifs', 'Tranches Pave Light (18% MG)', 'Dés basilic & ciboulette pour salades et apéritifs', 'Fromage Carré', 'Dés basilic & ciboulette pour salades et apéritifs', 'Olives vertes farcies à la pâte de cacahuète', \"Olives farcies à l'ail\", 'Olives vertes farcies à la pâte de cacahuète', \"Olives farcies à l'ail\", 'Olives vertes farcies à la pâte de cacahuète', 'Velouté, Poireaux Pommes de terre, à la crème fraîche ', 'Velouté de légumes du potager à la crême fraîche', 'Velouté de courgettes, pommes de terre & gruyère', 'Velouté de légumes du potager à la crême fraîche', 'Velouté de légumes du potager à la crême fraîche', 'Kinder maxi', 'Chocolate Almond bars', 'Kinder Bueno', 'Chocolate Almond bars', 'Chocolate Almond bars', '4 Knacki fumée', 'Knacks, Saucisses de Strasbourg', 'Knacks, Saucisses de Strasbourg', 'Knacks, Saucisses de Strasbourg', 'Recette crémeuse aux fruits', 'RICOLA MENTHE DES GLACIERS', 'Chocolate Pretzel Dippers - Graze - 29 G', 'RICOLA MENTHE DES GLACIERS', 'Chouchou cacahuetes sucrees', 'Grosses cacahouètes sucrées', 'Go-Go-Goji Berries', 'RICOLA MENTHE DES GLACIERS', 'Grandino Cookies Nougatine', 'Mini roses des Sables', 'RICOLA MENTHE DES GLACIERS', 'Mousse saveur vanille & sauce caramel', 'Mousse saveur vanille & sauce caramel', 'Mousse saveur vanille & sauce caramel', 'Mousse saveur vanille & sauce caramel', 'Le Tradition (-25% de sel)', 'Le Tradition (-25% de sel)', 'Le Torchon -25% de Sel', 'Mon Gourmand au Torchon (25% de sel en moins)', 'Le Supérieur teneur réduite en sel', 'Mon Gourmand au Torchon (25% de sel en moins)', 'Mon Gourmand au Torchon (25% de sel en moins)', 'Le Torchon -25% de Sel', 'Le Tradition (-25% de sel)', 'Mon Gourmand au Torchon (25% de sel en moins)', \"Cônes chocolat avec nougatines d'amandes\", 'Cônes façon crème brûlée sauce caramel', 'Cônes coco x6', 'MiniCônes Vanille', 'Extrême vanille praliné', 'Cônes façon crème brûlée sauce caramel', '6 cônes fruits rouges', 'Cônes coco x6', 'Extrême vanille praliné', 'Apéro La couronne + Sauce Cocktail', 'Nos grandes crevettes', 'Nos grandes crevettes', 'Nos grandes crevettes', \"Jambon cuisiné à l'Os avec couenne\", 'Jambon supérieur avec couenne - 4 tranches', \"Recette à l'Italienne Tranches fines au Miel\", 'Jambon cuit supérieur avec couenne aux herbes', 'Jambon au torchon', 'Jambon cuit Supérieur avec couenne', 'Jambon supérieure avec couenne 2 tranches Bio Carrefour', 'Jambon avec couenne', 'Jambon supérieur avec Couenne Label Rouge', 'Le Jambon bien élevé avec couenne', \"Jambon cuisiné à l'Os avec couenne\", \"Recette à l'Italienne Tranches fines au Miel\", 'Jambon au torchon', 'Jambon blanc avec couenne', 'Jambon supérieure avec couenne 2 tranches Bio Carrefour', 'Jambon avec couenne', 'Jambon à griller avec couenne', 'Jambon supérieur avec Couenne Label Rouge', 'Le Jambon bien élevé avec couenne', \"Recette à l'Italienne Tranches fines au Miel\", 'Le supérieur avec couenne', 'Le supérieur sans couenne', 'Le supérieur', 'Le Supérieur Avec Couenne', 'Jambon choix sans couenne (lot de 2 sachets de 10 tranches)', 'Chiffonnades Jambon Cuit', 'Le Gascon Passion', 'Jambon avec couenne', 'Jambon cuit découenné dégraissé', 'Jambon supérieur découenné - dégraissé', 'Tranchettes de Jambon Spécial Croque', 'Jambon Supérieur (6+3 tranches gratuites)', 'Jambon Supérieur Sans Couenne', 'Jambon Cuit Choix Découenné dégraissé', 'Le Jambon bien élevé sans antibiotique sans couenne', 'Le Jambon bien élevé avec couenne', 'Jambon cuit qualité choix', 'Tendre Noix à la Broche cuisiné aux figues', 'Tendre Noix à la Broche cuisiné aux Figues', 'Mon Gourmand Braisé', 'Jambon choix sans couenne (lot de 2 sachets de 10 tranches)', 'Jambon cuit Supérieur avec couenne', 'Chiffonade de jambon', 'Jambon avec couenne', 'Tranchettes de Jambon Spécial Croque', 'Jambon cuit qualité choix', 'Le Supérieur', 'Jambon cuit torchon découenné dégraissé (4 tranches)', 'Jambon choix sans couenne (lot de 2 sachets de 10 tranches)', 'Jambon au torchon', 'Jambon Blanc Découenné Dégraissé', 'Chiffonnades Jambon Cuit', 'Jambon blanc avec couenne', 'Le Gascon Passion', \"Jambon cuit cuisiné au bouillon à l'os\", 'Jambon à griller ou à poeler', 'Jambon avec couenne', 'Jambon cuit découenné dégraissé', 'Jambon cuit supérieur découenné-dégraissé', \"Jambon cuit à l'ancienne\", 'Jambon Cuit Choix Découenné dégraissé', 'Le Jambon bien élevé sans antibiotique sans couenne', 'Le Jambon bien élevé avec couenne', 'Jambon cuit qualité choix', 'Le Supérieur', 'Jambon cuit torchon découenné dégraissé (4 tranches)', 'Jambon Supérieur sans couenne', 'Jambon choix sans couenne (lot de 2 sachets de 10 tranches)', 'Jambon au torchon', 'Jambon Blanc Découenné Dégraissé', 'Chiffonnades Jambon Cuit', 'Jambon blanc avec couenne', 'Le Gascon Passion', \"Jambon cuit cuisiné au bouillon à l'os\", 'Jambon à griller ou à poeler', 'Jambon avec couenne', 'Jambon cuit découenné dégraissé', 'Jambon cuit supérieur découenné-dégraissé', \"Jambon cuit à l'ancienne\", 'Jambon Cuit Choix Découenné dégraissé', 'Le Jambon bien élevé sans antibiotique sans couenne', 'Le Jambon bien élevé avec couenne', 'Jambon cuit qualité choix', 'Jambon cuit supérieur découenné, dégraissé', \"Jambon cuisiné à l'Os avec couenne\", 'Jambon supérieur avec couenne - 4 tranches', 'Le Tradition à la Broche', 'Le Supérieur', 'Mon Gourmand Supérieur avec couenne', 'Mon Gourmand Supérieur avec couenne (+1 tranche gratuite)', 'Mon Gourmand Supérieur avec Couenne', 'Jambon choix sans couenne (lot de 2 sachets de 10 tranches)', 'Jambon cuit supérieur avec couenne aux herbes', 'Jambon au torchon', 'Jambon Blanc Découenné Dégraissé', 'Chiffonnades Jambon Cuit', 'Le Gascon Passion', \"Jambon cuit cuisiné au bouillon à l'os\", 'Jambon à griller ou à poeler', 'Jambon supérieure avec couenne 2 tranches Bio Carrefour', 'Jambon avec couenne', 'Jambon cuit découenné dégraissé', 'Jambon cuit supérieur découenné-dégraissé', \"Jambon cuit à l'ancienne\", 'Jambon à griller avec couenne', 'Jambon supérieur avec Couenne Label Rouge', 'Jambon Cuit Choix Découenné dégraissé', 'Le Jambon bien élevé sans antibiotique sans couenne', 'Jambon cuit qualité choix', 'Cuscinelli Croccanti Sardi', 'Cuscinelli Croccanti Sardi', 'Snacks saveur Paprika', 'Snacks saveur Paprika', 'Mayonnaise nature biologique', 'Mayonnaise Nature', 'Mayonnaise gourmande', 'Belgian Mayon(n)aise', 'Mayonnaise gourmande', 'Belgian Mayon(n)aise', '[Einfach] Lecker Mayonnaise', 'Lindor Blanc Fraise édition limitée', 'Blanc Coco Céréales', 'Chocolat Blanc', 'Lindor Blanc Fraise édition limitée', 'Blanc Coco Céréales', 'Blond Caramélisé', 'Blanc Coco Céréales', 'Blond Caramélisé', 'Poulet Aux Pleurotes', 'Boudin noir aux oignons et son écrasé de pommes de terre persillé', 'Poulet Aux Pleurotes', 'Riz Byriani Bio', 'Duo de Quinoa Alicante', 'Poulet Aux Pleurotes', 'Cuisses de canard confites', 'Boulettes veggie, Epices douces', 'Poulet Aux Pleurotes', 'Cuisses de canard confites', 'Duo de Quinoa Alicante', 'Poulet Aux Pleurotes', 'Cuisses de canard confites', 'Duo de Quinoa Alicante', 'Poulet Aux Pleurotes', 'Cuisses de canard confites', 'Pizza Cantal aux noix & au bleu', 'Pizza Cantal aux noix & au bleu', \"Les Pizzas Créatives (Légumes grillés, chèvre, chutney d'olives noires)\", 'Saumon Crevettes', 'Pizza margarita pâte traditionnelle', 'Pizza Romana', 'Pizza Cantal aux noix & au bleu', 'Pizza Romana', 'Pizza Cantal aux noix & au bleu', 'Tuiles Gout fromage', 'Pringles (Crème et Oignon)', 'Salt & Vinegar', 'Multi grain Classic', 'Tuiles Fromage', 'Chips saveur crème et oignon', 'Tuiles salées à base de pommes de terre et céréales saveur crème & oignon', 'Crunchips Poivre et Sel', 'Chips saveur crème et oignon', 'Salt & Pepper', 'Hot & Spicy', 'Salt & Pepper', 'Hot & Spicy', 'Chips saveur crème et oignon', 'Plateau Apéro 2 sauces Ail-Ciboulette & rémoulade', \"Les Apéro' Champi Piment\", 'Apéro Roll Ail & Fines Herbes', 'Cocktail Exotique', \"Apérifruits - L'Exotique\", 'Melange Salé', 'Sardinade aux 2 olives', 'Gaufrettes goût Gouda', 'Plaisir Brut Non Salé', 'Gaufrettes goût Gouda', 'Peperino Picante', 'Plaisir Brut Non Salé', 'Peperino Picante', 'Plaisir Brut Non Salé', 'Duo twists provençal', 'Cruspies', 'Gaufrettes goût Gouda', 'Méga Choco', 'Cakes au chocolat', 'Swiss roll with cocoa filling', 'Torta crujiente de chocolate', 'Moelleux chocolat & noix.', 'Méga Choco', 'Pause Snack Fondant Chocolat', 'Gâteau de fête Star Wars R2-D2', \"14 mini fondants au chocolat, éclats d'amande et noix de pécan\", '5 mini-cakes aux pépites de chocolat Bio', 'Mini moelleux au chocolat', 'Gâteau de fête Star Wars R2-D2', 'Torta crujiente de chocolate', 'Moelleux chocolat & noix.', 'Breizh cola sans sucre', 'Max Cool Lemon', 'Freeway-cola (Diet)-330ml-cola 0% / / Can For S-spain', 'Breizh cola sans sucre', 'Pepsi Max Cool Lemon', 'Pepsi Max Cherry', 'Freeway-cola (Diet)-330ml-cola 0% / / Can For S-spain', 'Breizh cola sans sucre', 'Pepsi Max Cool Lemon', 'Pepsi Max Cherry', 'Breizh cola sans sucre', 'Cola Zéro', \"Jean's cola zero\", \"Jean's cola zero\", 'Freeway-cola (Diet)-330ml-cola 0% / / Can For S-spain', 'Coca-cola zéro 2L', 'Breizh cola sans sucre', 'Pepsi Max Cool Lemon', 'Pepsi Max Cherry', 'Coca-cola zéro', 'Jus de grenade', 'Smoothie pomme et framboise', 'Fruits pressés 100% pur jus 3 agrumes', 'Pur jus de fruits du verger bio', 'Jus de grenade', 'Jus de Fruits Multivitaminé ', \"Pur jus d'ananas sélection Caraïbes\", 'Jus de Fruits Multivitaminé ', \"Pur jus d'ananas sélection Caraïbes\", \"Saveurs d'été\", 'Pomme & framboise', '12 sushis', 'Les Entremets Chocolat Noir Surgelés avec glaçage fondant', '9 petits canelés', 'Croquant chocolat', '9 petits canelés', 'Cheesecake au caramel', 'Cheesecake au caramel', 'Be Wrappy poulet rôti, tomates marinées, sauce pesto', 'Be Wrappy Jambon, Fromage de brebis, Sauce Yaourt', 'Be Wrappy Jambon, Fromage de brebis, Sauce Yaourt', 'Be Wrappy Jambon, Fromage de brebis, Sauce Yaourt', 'Epices Bio aigre doux', 'Bleu fondant', 'Monster energy ultra red', 'Cécémel boisson', 'Powerade', 'Powerade goût Ice Storm', 'Red Bull sugar free', 'Caipirinha Flavour Stimulation Drink', 'Human Energy', 'Cécémel boisson', 'Monster energy ultra red', 'Powerade', 'Powerade goût Ice Storm', 'Red Bull sugar free', 'Caipirinha Flavour Stimulation Drink', 'Impact de balle energy drink', 'Human Energy', 'Cécémel boisson', 'Burn', 'Cécémel boisson', 'Powerade', 'Powerade goût Ice Storm', 'Red Bull sugar free', 'Saumon fumé Ecosse', 'Chutes de saumon fumé', \"Saumon sauvage d'Alaska\", 'Pavé de saumon mi cuit sésame et pavot', \"Saumon sauvage d'Alaska\", 'Dés de saumon', 'Chutes de saumon fumé', 'Saumon Fumé du Cercle Arctique Élevé en Islande - Premier Cru', 'Pavé de saumon mi cuit sésame et pavot', 'Dés de saumon', 'Chutes de saumon fumé', 'Saumon Fumé du Cercle Arctique Élevé en Islande - Premier Cru', 'Pavé de saumon mi cuit sésame et pavot', 'Saumon fumé Ecosse', 'Pavé de saumon mi cuit sésame et pavot', 'Jockey avec du bon lait entier', 'Jockey avec du bon lait entier', 'Jockey avec du bon lait entier', 'Yaourt nature biologique ', 'Jockey avec du bon lait entier', 'Yaourt nature biologique ', 'Mini financiers - Pépites de chocolat', 'Mini financiers orange - Miribel', 'Financiers', 'Mini financiers - Pépites de chocolat', 'Mini financiers orange - Miribel', 'Mini financiers - Pépites de chocolat', 'Mini financiers - Pépites de chocolat', 'Mini financiers orange - Miribel', 'Mini financiers - Pépites de chocolat', 'Mini financiers orange - Miribel', 'Mini financiers - Pépites de chocolat', 'Spécialité praliné Pâtissier', 'Le Moelleux Jambon Emmental', 'Maxi Jambon Crudités, Emmental, Mayonnaise allégée', 'Salade Jambon Emmental Mayonnaise allégée Maxi', \"J'ai envie d'un… Italien Jambon Cru Tomate, Olive\", \"J'ai envie d'un… Italien Jambon Cru Tomate, Olive\", 'Le sandwich baguette Jambon Crudités', \"J'ai envie d'un… Italien Jambon Cru Tomate, Olive\", 'Jambon crudités pain de mie complet', 'Diots de Savoie à cuire nature', 'Diots fumés de Savoie', 'Gâche en Tranches au Beurre et à la Crème Fraîche', 'Gâche de Pâques', 'La Gâche Tranchee', 'Gâche en Tranches au Beurre et à la Crème Fraîche', 'Gâche de Pâques', 'Gâche Tranchée aux Pépites de Chocolat', 'Gâche en Tranches au Beurre et à la Crème Fraîche', 'Gâche Tranchée aux Pépites de Chocolat', 'Gâche en Tranches au Beurre et à la Crème Fraîche', 'Gâche en Tranches au Beurre et à la Crème Fraîche', 'Gâche de Pâques', '8 mini-gâches aux carreaux de chocolat belge', '8 mini gâches pur beurre à la crême fraîche', 'Crudité Thon Maïs et Oeuf Riz long', 'Mon cervelas façon rémoulade', 'Formule Salade + Dessert Thon', 'Mon cervelas façon rémoulade', 'Mon cervelas façon rémoulade', 'Mon cervelas façon rémoulade', 'Nuggets au Poulet', 'Nuggets au Poulet', 'Nuggets aux Filets de Poulet', 'Diplomates', 'Tartelettes Abricot', 'Tartelettes façon Pomme Tatin et éclats de Nougatine croustillantes', 'Tartelettes Abricot', 'Pizza au chèvre', '3 Pizzas Margherita surgelées', 'Pizza 4 saisons', 'Calzone Royale', 'Pizza 4 saisons', 'Calzone Royale', 'Soufflés salés', 'Chips Kettle Cooked Goût Bacon Fumé', 'Sour cream & onion potato chips', 'Chips salées', 'Chips de pomme de terre au fenouil', 'Deep ridged saveur nature', \"la chips d'allauch, depuis 1976\", 'Chips salées', 'Soufflés salés', \"la chips d'allauch, depuis 1976\", 'Chips de pomme de terre au fenouil', 'Soufflés salés', \"la chips d'allauch, depuis 1976\", 'Les natures classique ', 'Sour cream & onion potato chips', 'Soufflés salés', \"la chips d'allauch, depuis 1976\", 'Les natures classique ', 'Sour cream & onion potato chips', 'Chips salées', 'Pizza au chorizo', 'Pizza Fiesta! Chorizo', \"Pizza Chorizo d'Espagne\", 'Pizza Fiesta! Chorizo', 'Pizza Fiesta! Chorizo', 'Jus de pêche et de raisin partiellement à base de concentré', 'Jus de pêche et de raisin partiellement à base de concentré', 'Jus de pêche et de raisin partiellement à base de concentré', 'Perrier citron vert, limoen', 'Eau pétillante aromatisée Citron citron vert', 'Perrier citron vert, limoen', 'Eau pétillante aromatisée Citron citron vert', 'Eau pétillante aromatisée Citron citron vert', 'Dolce Pizza 4 Formaggi', 'La Bella Pizza Italiana 4 Formaggi', 'Pizza 4 fromages', '4 formaggi', 'Dolce Pizza 4 Formaggi', '10 pains au lait aux œufs frais', 'pains au lait pur beurre ', '8 Pains au lait Bio', 'Pain au lait + Barre de chocolat', 'Pain au lait + Barre de chocolat', 'Pains au lait (format familial)', '10 Pains au lait', 'Pain au lait + Barre de chocolat', 'Pains au lait (format familial)', '10 Pains au lait', 'Croque Party Emmental Jambon', '8 bouchées apéritives au fromage', 'Pain surprise au pain polaire', '10 mini cheeseburgers', 'Blanc de poulet fumé au bois de hêtre', \"Blanc de poulet à l'algérienne\", 'Blanc de poulet doré au four (2 tranches)', 'Blanc de poulet fumé au bois de hêtre', 'Blanc De Poulet', 'Blanc de poulet halal', \"Blanc de poulet à l'algérienne\", 'Blanc De Poulet', 'Blanc De Poulet', \"Blanc de poulet à l'algérienne\", 'Le Filet de Poulet doré au four', 'Blanc De Poulet', 'Blanc de poulet aux fines herbes 4 tranches', 'Blanc de Poulet -25% de Sel', 'Blanc de Poulet', \"Blanc de poulet à l'algérienne\", 'Le Filet de Poulet doré au four', 'Blanc De Poulet', 'Blanc de poulet aux fines herbes 4 tranches', 'Blanc de Poulet -25% de Sel', 'Blanc de Poulet', \"Blanc de poulet à l'algérienne\", 'Le Filet de Poulet doré au four', 'Blanc De Poulet', 'Blanc de poulet aux fines herbes 4 tranches', \"Blanc de poulet à l'algérienne\", 'Croque Monsieur Pomme de terre', 'Snack Air au sel de mer', 'Crousty Pop Snack poppé Maïs arôme naturel salé', 'Croque Monsieur Pomme de terre', 'Snack Air au sel de mer', 'Frites saveur salée', 'Crousty Pop Snack poppé Maïs arôme naturel salé', 'Frites salées', 'Snacks Frites Salées', 'Assortiment soufflés salés', 'Assortiment snack', 'Bits Sweet Paprika Flavour', 'Sun Moon Stars salé épicé (ou Ketchup)', 'Sun Moon Stars salé épicé (ou Ketchup)', 'Frites saveur salée', 'Savoie yaourt', 'Yaourt de brebis brassé à la confiture de cerises noires', 'Savoie yaourt', 'ENCAS Spécialié laitière sucrée, avec 10%de préparation à la framboise, 7% de crème et arôme naturel.', 'Mousse chocolat & sauce caramel', 'Mousse chocolat & sauce caramel', 'Mousse chocolat & sauce caramel', 'Flan nappé Chocolat', 'Flan nappé Chocolat', 'Mousse chocolat & sauce caramel', 'Mousse chocolat & sauce caramel', 'Mousse chocolat & sauce caramel', 'Cœur ChocoBrownie Sensations', 'Cookies aux Pépites de Chocolat (Moins de Matières Grasses)', 'Le vrai cookie avec gros morceaux de chocolat', 'Cookies aux Pépites de Chocolat (Moins de Matières Grasses)', 'Cookies Pépites de Chocolat', 'American Favorites Cookie', 'American Favorites Cookie', 'Muesli croustillant 6 fruits', 'Crevettes cuites ', 'Queues de crevettes décortiquées cuites', 'Nos petites crevettes roses', 'Crevettes tropicales roses décortiquées cuites', 'Nos petites crevettes roses', 'Crevettes tropicales roses décortiquées cuites', 'Nos petites crevettes roses', 'Biscuits nappés Chocolat au Lait', 'Bâtonnet au Chocolat au Lait sans Gluten', 'Sablé Lait', 'Sablé Lait', '8 Légumes à la Crème fraîche', 'Soupe courgettes parmesan et noisettes', 'Tomates fraîches et séchées, pecorino & pignons', 'Tomates fraîches et séchées, pecorino & pignons', 'Steak haché 10% mat. gr.', '10+2 Steaks hachés', 'Steak haché 10% mat. gr.', '10+2 Steaks hachés', '4 steaks hachés bio pur boeuf', 'Steak haché pur bœuf surgelés (15 % MG)', 'Steaks hachés Pur boeuf', 'Steaks Hachés Charolais Façon Bouchère', '4 steaks hachés bio pur boeuf', 'Steak haché pur bœuf surgelés (15 % MG)', 'Steaks hachés Pur boeuf', 'Steaks Hachés Charolais Façon Bouchère', 'Steak haché 10% mat. gr.', '10+2 Steaks hachés', \"Chipster L'original (format familial)\", \"Dégustation Sel de mer d'Anglesey\", 'Dégustation Saveur Vinaigre de malt', \"La chips d'Allauch\", 'chips pomme de terre bleue', 'Les Frenchips goût Finement salé', 'Oven Olive Oil & herbs', 'Potato chips flame grillad spanish chorizo with roasted onions flavour', 'Potato Chips Anglesey Sea Salt PDO flavour', \"Chipster L'original (format familial)\", 'Blondes ondulées', 'Più Gusto Saveur Amour de Tomate', \"Dégustation Sel de mer d'Anglesey\", 'Dégustation Saveur Vinaigre de malt', 'Saveur Fromage', 'Saveur Fondue Savoyarde', 'Recette Méditerranéenne goût Nature (format familial)', 'La Savoureuse', \"La chips d'Allauch\", 'chips saveur poulet braisé', 'chips pomme de terre bleue', 'Les Frenchips goût Finement salé', 'Chips Allumettes', 'Oven Olive Oil & herbs', 'Potato chips flame grillad spanish chorizo with roasted onions flavour', 'Potato Chips Anglesey Sea Salt PDO flavour', 'Les Frenchips goût Finement salé', 'Oven Olive Oil & herbs', \"Chipster L'original (format familial)\", 'chips pomme de terre bleue', \"Chipster L'original (format familial)\", 'Chips Allumettes', \"Chipster L'original (format familial)\", 'Chips Allumettes', \"Chipster L'original (format familial)\", \"La chips d'Allauch\", 'KitKat', \"C'est beau Noël\", 'KitKat', 'Red Pasta Pik (goût Tagada acide)', 'KitKat', 'Red Pasta Pik (goût Tagada acide)', 'KitKat', 'Muesli croustillant éclats de chocolat', 'Muesli Pépites croustillantes Chocolat au lait', 'Muesli Pépites croustillantes Chocolat au lait', 'Muesli Pépites croustillantes Chocolat au lait', \"Préparation de Fraises d'Aquitaine\", 'Confiture Extra de Fraise', 'Aardbeien', \"Préparation de Fraises d'Aquitaine\", 'Aardbeien', 'Confiture extra fraises bio ', 'Confiture de fraise de Dordogne', 'Confiture extra de fraise', 'Confiture extra de fraise', 'Ivoria Lait', 'Ivoria Lait', 'BTE 300G LAIT EN POUDRE ECREME VITALITE REGILAIT', 'Ivoria Lait', 'BTE 300G LAIT EN POUDRE ECREME VITALITE REGILAIT', 'Bledidej Lait Et Céréales Saveur Madeleine, Dès 9 Mois,', 'BTE 300G LAIT EN POUDRE ECREME VITALITE REGILAIT', 'Ivoria Lait', 'Lait Ribot Fermier Le Craulois 1L Ferme de la Craulee', 'Bledidej Lait Et Céréales Saveur Madeleine, Dès 9 Mois,', 'BTE 300G LAIT EN POUDRE ECREME VITALITE REGILAIT', 'Ivoria Lait', 'Lait Ribot Fermier Le Craulois 1L Ferme de la Craulee', 'BTE 300G LAIT EN POUDRE ECREME VITALITE REGILAIT', 'Ivoria Lait', 'Accras de crevettes', 'Poulpes au citron et à la coriandre', 'Accras de crevettes', 'Poulpes au citron et à la coriandre', 'Cookies, chocolat, noix de coco', 'Cookies Noix de Coco pépites de chocolat (12 biscuits)', 'Cookies noix de coco / pépites de chocolat', 'Grandino', 'Cookies Noix de Coco pépites de chocolat (12 biscuits)', 'Grandino', 'Cookies Noix de Coco pépites de chocolat (12 biscuits)', 'Galettes de maïs nappage saveur caramel', 'Galettes de maïs nappage saveur caramel', 'Crème entière fluide Bio (30 % MG) ', 'Crème Fluide Entière ', 'Crème entière liquide (30 % MG)', 'Crème entière fluide Bio (30 % MG) ', 'Crème entière fluide Bio (30 % MG) ', 'Crème entière fluide Bio (30 % MG) ', 'Comté AOP (34% MG)', 'Comté Portion AOP au Lait Cru (32% MG) - Affinage 6 mois', 'Comté AOP (34% MG)', 'Comté Portion AOP au Lait Cru (32% MG) - Affinage 6 mois', 'Comté AOP (34% MG)', 'Comté Portion AOP au Lait Cru (32% MG) - Affinage 6 mois', 'Paupiettes au porc', 'Paupiettes au porc', 'Souris de Porc Sauce aux pommes caramélisées', 'Paupiettes au porc', 'Les fondus', 'Mini Babybel light', \"Noix de cajou grillées issues de l'agriculture biologique\", 'Noix de Cajou grillées à sec non salées', 'noix de cajou griléles non salées', \"Noix de cajou grillées issues de l'agriculture biologique\", 'Noix de cajou grillées et salée', 'Noix de Cajou grillées à sec non salées', 'Noix de cajou grillées et salée', 'Noix de Cajou grillées à sec non salées', 'Poitrine Fumée (10 Tranches)', 'Poitrine de porc fumée au bois de hêtre', 'Poitrine de porc fumée au bois de hêtre', 'Sirop Iced Tea Pêche', 'Sirop parfum agrimes', 'Soda Mix Concentré Cola sans sucres', 'Soda Mix Concentré Cola sans sucres', 'Croustillant au Chocolat Noir', 'Sablé Noir', 'Sablé Noir', 'Sablé Noir', 'Sablés nappés chocolat noir', 'Milkervé', 'Milkervé', 'Milkervé', 'Mini Gâches Pur Beurre', 'Mini Gâches Pur Beurre', 'Pain de mie sandwich complet', 'Pain Sandwich, Complet (Extra Moelleux) 14 Maxi Tranches', 'Pain Sandwich, Complet (Extra Moelleux) 14  Maxi Tranches', 'Boisson aux Fruits Façon Pina Colada', 'Boisson aux Fruits Façon Pina Colada', 'Look Tropical', 'Citron & Thé vert', 'Grenade & Thé Vert', 'Look Tropical', 'Superfruits Grenade Framboise', 'Mon instant Bio Orange', \"Tropical à l'eau de source sans bulle\", 'Pomme Kiwi', 'Boisson au lychee', 'Boisson au lychee', 'Boisson au lychee', 'the glace', 'Look iced tea zéro - saveur pêche', 'the glace', 'Look iced tea zéro - saveur pêche', 'the glace', 'Look iced tea zéro - saveur pêche', 'the glace', 'Look iced tea zéro - saveur pêche', 'Beltè Pêche', 'Beltè Pêche', 'the glace', 'Look iced tea zéro - saveur pêche', \"T'Glacé\", 'Orange à la pulpe', 'Orange à la pulpe', 'Soda saveur Orange', 'Goût Orange', 'Lait demi-écrémé UHT', 'Lait demi-écrémé UHT', 'Lait demi-écrémé UHT', 'Lait demi-écrémé UHT', 'Lait Demi-Écrémé stérilisé UHT ', 'Lait Bio Demi-Écrémé ', 'Lait Bio Demi-Écrémé ', 'Véritable pain craquant norvégien', 'Véritable pain craquant norvégien', 'Pain aux Fibres tranché ', 'Véritable pain craquant norvégien', 'Crème Liquide (30 % MG) ', \"Jog'Frit\", 'graisse de coco', 'Matière grasse allégée', 'Cuisine facile Planta Fin', 'Cuisine facile Planta Fin', 'Cuisine facile Planta Fin', 'Margarine 15 % doux', 'Soma', 'Margarine 15 % doux', 'Margarine 15 % doux', 'Margarine 15 % doux', 'Oméga 3', 'Cuisine pratique', 'Saveur à la méditerranéenne', 'Cuisine pratique', 'Cuisine pratique', 'Véritable Saucisse sèche (2,5x moins gras)', 'Fuet Extra au Fromage Espagnol - Tradition Espagnole', 'Véritable Saucisse sèche (2,5x moins gras)', 'Fuet Extra au Fromage Espagnol - Tradition Espagnole', 'Véritable Saucisse sèche (2,5x moins gras)', 'Fuet Extra au Fromage Espagnol - Tradition Espagnole', 'Véritable Saucisse sèche (2,5x moins gras)', 'Fuet Extra au Fromage Espagnol - Tradition Espagnole', 'Smoothie multilégume & fruits', 'Smoothie multilégume & fruits', 'Smoothie multilégume & fruits', 'Cool Carrot Oranges, Carrots & Mangoes', 'Smoothie multilégume & fruits', 'Cool Carrot Oranges, Carrots & Mangoes', 'Cool Carrot Oranges, Carrots & Mangoes', \"Sardines à l'Huile d'Olive Verge Extra\", \"Sardines à l'huile d'olive vierge extra Millésime 2014\", \"Sardines à l'huile d'olive vierge extra Bio\", \"Sardines à l'huile d'olive vierge aux épices et aux aromates\", \"Sardines à l'Huile d'Olive Verge Extra\", \"Sardines à l'huile d'olive vierge aux épices et aux aromates\", 'Sardines de Saint Gilles Croix de Vie', 'Arsène Saupiquet Sardines', \"Sardines à l'huile d'olive vierge extra Millésime 2014\", \"Sardines à l'huile d'olive vierge extra Bio\", \"Sardines à l'huile d'olive vierge aux épices et aux aromates\", 'Arsène Saupiquet Sardines', \"Sardines à l'Huile d'Olive Verge Extra\", \"Sardines à l'huile d'olive vierge extra Millésime 2014\", \"Sardines à l'huile d'olive vierge extra Bio\", \"Sardines à l'huile d'olive vierge aux épices et aux aromates\", 'Sardines de Saint Gilles Croix de Vie', \"Sardines (Huile d'olive & Basilic)\", \"Sardines Sélection (à l'Huile d'Olive et Herbes de Provence)\", \"Sardines (Huile d'olive & Basilic) Lot de 4\", 'Arsène Saupiquet Sardines', \"Sardines de l'Ile de Ré\", \"Sardines à l'huile d'olive vierge extra aux achards et piment\", \"Sardines à l\\\\'huile\", \"Sardines à l'huile d'olive vierge aux épices et aux aromates\", \"Sardines à l'huile d'olive Comur\", 'Sardines de Saint Gilles Croix de Vie', \"Sardines (Huile d'olive & Basilic)\", \"Sardines Sélection (à l'Huile d'Olive et Herbes de Provence)\", \"Sardines (Huile d'olive & Basilic) Lot de 4\", 'Arsène Saupiquet Sardines', \"Sardines de l'Ile de Ré\", \"Sardines à l'huile d'olive vierge extra aux achards et piment\", \"Sardines à l\\\\'huile\", \"Sardines à l'huile d'olive vierge aux épices et aux aromates\", \"Sardines à l'huile d'olive Comur\", \"Sardines à l'huile d'olive Les DORIS\", 'Sardines de Saint Gilles Croix de Vie', \"Sardines de l'Ile de Ré\", \"Sardines à l'huile d'olive vierge extra aux achards et piment\", \"Sardines à l'huile d'olive vierge extra Millésime 2014\", \"Sardines à l'huile d'olive vierge extra Bio\", \"Sardines à l'huile d'olive vierge aux épices et aux aromates\", 'Sardines au citron', 'Sardines (Huile de Tournesol)', \"Sardines à l'huile de tournesol (Lot de 3 boîtes 1/4) \", \"Sardines à l'huile de tournesol bio\", 'Filets de Maquereaux (Sauce Moutarde)', 'Filets de Maquereaux Espagnols (Sauce Moutarde)', 'Filets de Maquereaux Espagnols (Sauce Moutarde)', 'Filets de Maquereaux Espagnols (Sauce Moutarde)', 'Filets de Maquereaux Espagnols (Sauce Moutarde)', 'Filets de Maquereaux (Marinés au vin blanc et aux aromates)', 'Filets de Maquereaux (marinés au muscadet et aux aromates)', 'Filets de Maquereaux (Marinés au vin blanc et aux aromates)', 'Filets de Maquereaux (Marinés au vin blanc et aux aromates)', 'Emmental  français Râpé (28 % MG)', 'Emmental français Râpé (28 % MG)', 'Emmental français râpé', 'Emmental  français Râpé (28 % MG)', 'Feta A.O.P', 'Feta A.O.P', 'Feta A.O.P', '8 brownies', 'Le Chocolatier', 'Brownie Chocolat Noisettes', 'Le Chocolatier', 'Brownie Chocolat Noisettes', 'Le Chocolatier', 'Cracotte Froment', \"Mange ta purée à l'emmental\", \"Mange ta purée à l'emmental\", \"Mousline Saveur à l'Ancienne Carottes & Crème\", 'Vite une Purée ! Pommes de terre & Châtaigne', \"Mange ta purée à l'emmental\", 'Pasta & Buschetta - Aubergines, Parmesan, Basilic', 'Pasta & Bruschetta Asperges, Tomate, Parmesan', 'Sauce 4 Fromages', 'Pasta & Buschetta - Aubergines, Parmesan, Basilic', 'Sauce Italienne à la viande', 'Sauce Italienne Max de Bœuf', 'Sauce crudité nature 15,7% MG', 'Sauce salade nature à la moutarde de Dijon légère', 'Sauce Crudités Bulgare Plaisir & Légèreté Concombre Ail Aneth 27,7% MG', 'Sauce crudité 39,9% MG', \"Vinaigrette légère Isio 4 Huile d'Olive & Vinaigre de Xérès\", 'Vinaigrette légère Isio 4 Vinaigre de vin rouge & Oignons Échalotes', 'Vinaigrette Vinaigre Balsamique', 'Sauce Crudités allégée en matières grasses 15,8% MG', 'Vinaigrette Huile de Noix Poivron Rouge, Légère', 'Sauce crudité 39,9% MG', 'Vinaigrette Huile de Noix Poivron Rouge, Légère', 'Sauce Crudités Bulgare Plaisir & Légèreté Concombre Ail Aneth 27,7% MG', 'Vinaigrette légère Isio 4 Vinaigre de vin rouge & Oignons Échalotes', 'Vinaigrette Vinaigre Balsamique', \"Vinaigrette moutarde à l'ancienne allégée en matière grasses\", 'Vinaigrette Nature allégée en matières grasses 19,8% MG', \"Vinaigrette à la Moutarde à l'ancienne (25,8 % MG)\", \"Vinaigrette à la Moutarde à l'ancienne (25,8 % MG)\", 'Velouté de poireaux pomme de terre', 'Velouté de poireaux & saint jacques', 'Velouté de poireaux & saint jacques', 'Velouté de poireaux pomme de terre', 'Velouté de poireaux & saint jacques', 'Paëlla (Volaille & fruits de mer)', 'Paëlla (Volaille & fruits de mer)', 'Paëlla (Volaille et Fruits de mer)', \"P'tit Velouté Légumes au Fromage fondu\", 'Velouté 8 Légumes', 'Velouté de Légumes ', 'Soupe à la chinoise légumes et vermicelles ', \"P'tit Velouté Légumes au Fromage fondu\", 'Velouté de Légumes ', 'Soupe à la chinoise légumes et vermicelles ', \"P'tit Velouté Légumes au Fromage fondu\", 'Filets de Maquereaux (à la sauce Tomate et au Basilic)', 'Filets de Maquereaux (tomate basilic)', 'Filets de Maquereaux (tomate basilic)', '2 Tranches de Saumon Fumé Sauvage', 'Saumon Sauvage Rouge du Pacifique Fumé', \"Saumon fumé sauvage d'Alaska, ferme et intense\", '2 Tranches de Saumon Fumé Sauvage', 'Chutes de saumon fumé décongelées', '2 Tranches de Saumon Fumé Sauvage', 'Saumon argenté du Pacifique sauvage fumé tranché', '2 Tranches de Saumon Fumé Sauvage', 'Saumon argenté du Pacifique sauvage fumé tranché', '2 Tranches de Saumon Fumé Sauvage', '2 Tranches de Saumon Fumé Sauvage', 'Sablé chocolat framboise ', 'Sablés amandes épeautre', 'Sablé chocolat framboise ', 'Sablés noix de coco', 'Sablés fourrés Cacao', 'Sablés beurré nantais', 'Sablés beurré nantais', 'Sablé chocolat framboise ', \"pastille de réglisse à l'essence de menthe\", \"pastille de réglisse à l'essence de menthe\", \"pastille de réglisse à l'essence de menthe\", 'Crème caramel de bug de mon cul de merde de bug tout à retaper', 'Lardons nature (sans couenne, sans cartilage)', 'Lardons nature (sans couenne, sans cartilage)', 'Lardons nature Qualité Supérieure', 'Mousse au café', 'Mousse au café', 'Sucre Vanillé Bourbon', 'Sucre vanillé Madagascar à la vanille Bourbon (5 sachets) - Vahiné', 'Sucre vanillé Madagascar à la vanille Bourbon (5 sachets) - Vahiné', 'La Laitière Velours de Crème saveur Chocolat Noisette', 'La Laitière Velours de Crème saveur Chocolat Noisette', 'Dessert De Riz Cacao Bio', 'La Laitière Velours de Crème saveur Chocolat Noisette', 'Dessert De Riz Cacao Bio', 'Nesquik Go!!', 'Danette Pop Chocolat Billes 3 Chocos', 'Crème dessert au chocolat bio', 'Dessert De Riz Cacao Bio', 'Nesquik Go!!', 'Danette Pop Chocolat Billes 3 Chocos', 'Crème dessert au chocolat bio', 'Dessert De Riz Cacao Bio', 'La Laitière Velours de Crème saveur Chocolat Noisette', 'Croissant X3', '4 Croissants au beurre', 'Croissant X3', 'Boisson Instantanée Thé Citron', 'Frappuccino', 'Boisson Instantanée Thé Citron', \"Boisson à l'aloé vera\", 'Concentré de réglisse pomme et cannelle', 'Frappuccino', 'Boisson Instantanée Thé Citron', 'Boisson Instantanée Thé Citron', 'Coffee Whitener', 'Cappuccino Saveur chocolat', 'Petits soufflés Amandes', \"Canistrelli corses aux éclats d'amandes\", 'Petits soufflés Amandes', 'Petits soufflés Amandes', \"Canistrelli corses aux éclats d'amandes\", 'Madeleines aux œufs frais', '20 madeleines longues aux oeufs frais', 'Madeleines longues aux oeufs frais', 'Mini Génoises fourrées au Cacao', 'Coeur fondant chocolat noir', 'Brinky Choco Fourré à La vanille', 'Napolitain signature chocolat poire', 'Dark Plunk al Cacao', 'Brinky Choco Fourré à La vanille', 'Colazione Più', 'Mon Petit Goûter au Cacao', \"Chips à l'ancienne Nature (format familial)\", \"Chips à l'ancienne Nature (format familial)\", \"Chips, Recette à l'Ancienne\", \"Chips à l'ancienne au sel fin\", \"Chips à l'ancienne Nature (format familial)\", \"Chips, Recette à l'Ancienne\", \"Chips à l'ancienne saveur Moutarde\", \"Chips à l'ancienne au sel fin\", \"Chips à l'ancienne Nature (format familial)\", \"Chips, Recette à l'Ancienne\", \"Chips à l'ancienne saveur Moutarde\", \"Chips à l'ancienne Nature (format familial)\", \"Chips, Recette à l'Ancienne\", \"Chips à l'ancienne saveur Moutarde\", \"Sticks & Bretzels d'Alsace &quot;L'Original&quot;(offre économique)\", 'Les Petits Écus Tomate & Basilic', 'Les Petits Écus Oignon & Cheddar', 'Wasabi Mix Mitsuba - Crackers de Riz', \"Sticks & Bretzels d'Alsace &quot;L'Original&quot;(offre économique)\", \"Sticks & Bretzels d'Alsace &quot;L'Original&quot;(offre économique)\", '4 Rochers au lait fourrés au praliné', \"Pains pour Hamburgers Classic'\", 'Burger à la farine de soja', \"4 Brioch' Burger\", 'Gingembrettes confites chocolat noir', \"Tablette de chocolat à l'orange confite\", 'After Eight Mint & Orange', 'After Eight Mint & Orange', 'Noir fourré façon mousse ou Lait fourré façon mousse', 'Noir fourré façon mousse ou Lait fourré façon mousse', 'Chocolat noir 98 % Équateur grand cru Esmeraldas', 'Chocolat noir 98 % Équateur grand cru Esmeraldas', 'Excellence Caramel à la Pointe de sel Noir', 'Chocolat noir et pointe de fleur de sel', 'Excellence Caramel à la Pointe de sel Noir', 'Chocolat noir et pointe de fleur de sel', 'Chocolat au lait suisse fourré Génépi liquide', 'Crispy Snax', 'Lait amandes ou lait raisins noisettes', 'Biscuits Moments Chocolat', 'Délichoc original - Paquet géant', 'Crêpes Chocolat noir', 'Truffet', 'Tartinettes chocolat', 'Goûter Fourré chocolat Bio', 'Petites baguettes ', \"Granola l'Original Chocolat au Lait\", 'Petites baguettes ', \"Granola l'Original Chocolat au Lait\", 'Champignons de Paris émincés 1er Choix', 'champignons de paris emincés', 'champignons de paris emincés', 'Champignons de Paris émincés 1er Choix', 'champignons de paris emincés', 'Champignons de Paris émincés 1er Choix', 'champignons de paris emincés', 'Champignons de Paris émincés 1er Choix', 'champignons de paris emincés', 'champignons de paris emincés', 'Biscottes aux 7 céréales et 4 graines', 'Biscottes aux 7 céréales et 4 graines', 'Biscottes aux 7 céréales et 4 graines', 'Biscottes aux 7 céréales et 4 graines', 'Fruit shoot', \"Moutarde à l'ancienne aux graines de moutarde\", \"Moutarde à l'Ancienne\", \"Moutarde à l'Ancienne\", 'Olives dénoyautées', 'Minut Apero', \"Olives farcies à la pâte d'anchois\", 'Cocktail, Mélange Olives et lupins', 'Minut Apero', 'Minut Apero', \"Cornichons Français extra-fins au vinaigre d'Orléans à l'ancienne\", 'Fromage au lait pasteurisé &quot;Le Vicaire&quot; (23 % MG)', 'Frère Augustin (28,5 % MG) ', 'Fromage au lait pasteurisé &quot;Le Vicaire&quot; (23 % MG)', 'Frère Augustin (28,5 % MG) ', 'Fromage au lait pasteurisé &quot;Le Vicaire&quot; (23 % MG)', 'Snacks goût Bacon', 'Bacon Snack', 'Tubes goût Bacon', 'Snacks goût Bacon', 'Émincés de saumon fumé aux 5 baies', 'Saumon fumé au bois de hêtre (Écosse)', \"Saumon Fumé à l'Ancienne - Ferme et Fondant\", 'Saumon Fumé Irlande', 'Saumon Fumé Irlande', 'Émietté de Crevettes - Sauce Aïoli Légère', 'Émietté de Crevettes - Sauce Aïoli Légère', 'Pâte de Crevette façon Hanoi', 'Pâte de Crevette façon Hanoi', '10 Beefburger', \"10 Burgers a l'oignon surgelés\", '10 Beefburger', 'Super Moelleux', 'Super Moelleux', 'Extrême Sorbet Citron Jaune Zestes de Citron', 'Extrême Sorbet Citron Jaune Zestes de Citron', 'Cônes Citron Framboise', 'Citron Framboise', 'Extrême Sorbet Citron Jaune Zestes de Citron', '6 cones caramel au beurre salé', 'Smarties fun cones', '6 cones caramel au beurre salé', 'Smarties fun cones', 'Extrême Sorbet Citron Jaune Zestes de Citron', 'Crème glacée Confiture de lait', 'Inspiration Spéculoos', 'Peanut Butter Cup Ice Cream ', 'Glace caramel au beurre salé ', 'Glace caramel au beurre salé ', 'Beurre de Bretagne Doux ', 'Fromage blanc fraises', 'Le Fromage blanc battu', 'Le Fromage blanc battu', 'Emmental Francais Grand Cru', 'Emmental français ', 'Dés de fromage, aux herbes de provence & poivrons rouges', 'Fromage de chévre', 'mozzarella di bufala campna', 'mozzarella di bufala campna', 'Cranberry & Poivre (38 % MG)', 'Le Fromage Fouetté Madame Loïk, Nature au sel de Guérande (25 % MG) Pot €co', 'Camembert, Doux Plaisir (20 % MG)', 'Camembert, Le Rustique de Printemps (20 % MG) ', 'Camembert de caractère au lait pasteurisé (21 % MG) ', 'Camembert (20 % MG), Offre Gourmande', 'Camembert de caractère au lait pasteurisé (21 % MG) ', 'Camembert (20 % MG), Offre Gourmande', 'Camembert de caractère au lait pasteurisé (21 % MG) ', 'Camembert (20 % MG), Offre Gourmande', 'Camembert de caractère au lait pasteurisé (21 % MG) ', 'Coulommiers au lait de vache pasteurisé en portions (23 % MG)', 'Le Paris & Cheddar spécial Baguette', 'Mon Paris avec couenne', 'Le Paris & Cheddar spécial Baguette', 'Mon Paris avec couenne', 'le Bon Paris avec Couenne', 'Jambon de Paris - 6 tranches', 'Jambon de Paris découenné dégraissé', 'Jambon de Paris doré au four', 'Jambon de Paris découenné dégraissé (2 tranches)', 'Le Paris & Cheddar spécial Baguette', 'Jambon de Paris - 6 tranches', 'Jambon de Paris découenné dégraissé', 'Le Paris supérieur', 'Le Paris Supérieur', 'Jambon de Paris découenné dégraissé (2 tranches)', 'Jambon de Paris - 6 tranches', 'Jambon de Paris découenné dégraissé', 'Le Paris supérieur', 'Le Paris Supérieur', 'Jambon de Paris découenné dégraissé (2 tranches)', 'Le Paris & Cheddar spécial Baguette', 'Mon Paris avec couenne', 'Le Paris supérieur', 'Le Paris Supérieur', 'le Bon Paris avec Couenne', 'Bacon fûmé au bois de hêtre', 'Bacon fûmé au bois de hêtre', 'Bacon fumé', 'Bacon fûmé au bois de hêtre', 'Bacon fûmé au bois de hêtre', 'Bacon fûmé au bois de hêtre', 'Baton de berger', 'Fuet + Naturel SANS LACTOSE  - Tradition Espagnole - Soélia', 'Baton de berger', 'Les Fines Tranches', 'Blanc de poulet cuit au bouillon x 4', 'Blanc de Poulet (2 Tranches)', 'Blanc de Poulet (6 Tranches)', 'Blancs de poulet (4 Tranches)', 'Blanc de Poulet Supérieur (Doré au Four) 4 Tranches', 'Blanc de Poulet (6 Tranches)', 'Blanc de poulet (4 tranches)', 'Blancs de poulet (4 Tranches)', 'Blanc de poulet (4 tranches)', 'Blanc de Poulet doré au Four (Qualité Supérieure) 4 Tranches', '10 Pains au Lait (Extra moelleux)', '10 Pains au Lait (Extra moelleux)', '10 Pains au Lait  Déjà Fendus Pur Beurre', '15 Pains au Lait aux Œufs Frais (Format Familial)', '10 Pains au Lait  Déjà Fendus Pur Beurre', '10 Pains au Lait  Déjà Fendus Pur Beurre', '10 Pains au Lait  Déjà Fendus Pur Beurre', \"Brioche Tranchée Epi d'Or\", 'Brioche tranchée - Pur beurre', 'Briochettes (x 8) aux pépites de chocolat au lait 280 g', 'Brioches (x 8) aux Pépites de Chocolat - 336 g - Chabrior', 'Galette des Rois 40% Frangipane', 'Galette des Rois 40% Frangipane', 'Parmiggiano Reggiano DOP', 'Parmigiano Reggiano Pétales', 'Parmigiano Reggiano Pétales', 'Parmigiano Reggiano copeaux OU Parmigiano Reggiano râpé', 'Grana Padano Grattugiato (32% MG)', 'Grana Padano Grattugiato (32% MG)', 'Parmigiano Reggiano Pétales', 'Amandes ', 'Amandes Emondées', 'Amandes décortiquées grillées sans sel ', 'Amandes goût fumé', 'Amandes goût fumé', 'Jambon supérieur sans couenne -25% de sel', 'Jambon supérieur sans couenne 25% de sel en moins', 'Jambon supérieur sans couenne 25% de sel en moins', 'Riz Au Lait Brebis', 'Riz Au Lait Brebis', 'Riz Au Lait Brebis', 'Riz Au Lait Brebis', \"Jus d'orange des tropiques\", 'Jus à base de concentré', \"Jus d'orange à base de jus d'orange concentré\", 'Miel et ginseng', 'Miel et ginseng', 'Miel et ginseng', 'Miel et ginseng', 'Roquefort - au lait cru de Brebis -Bio', 'Roquefort Vernières frères', 'Roquefort Vernières frères', 'Nestlé Grand Chocolat - Éclat caramel', 'Nestlé Grand Chocolat - Éclat caramel', 'lait amandes au Praliné Café', 'Nestlé Grand Chocolat - Éclat caramel', 'lait amandes au Praliné Café', 'Nestlé Grand Chocolat - Éclat caramel', 'Président au Chèvre (28% MG)', 'Boursault (36% MG)', \"L'Edel de Cléron aux truffes\", \"Le Pavé de l'Helpe affiné à la bière de Jenlain (26% MG)\", 'Tranche de fromage au lait de vache', 'Petit Pont Cidre (24% MG)', 'Apetina Classic block', 'Boursault (36% MG)', \"L'Edel de Cléron aux truffes\", \"Le Pavé de l'Helpe affiné à la bière de Jenlain (26% MG)\", 'Tranche de fromage au lait de vache', 'Petit Pont Cidre (24% MG)', 'Apetina Classic block', 'Président au Chèvre (28% MG)', \"Le Pavé de l'Helpe affiné à la bière de Jenlain (26% MG)\", 'Tranche de fromage au lait de vache', 'Apetina Classic block', 'Lait concentré non sucré 1/2 écrémé', 'Lait concentré non sucré 1/2 écrémé', 'Lait concentré non sucré 1/2 écrémé', 'Lait concentré non sucré 1/2 écrémé', 'Lait concentré non sucré 1/2 écrémé', 'Lait concentré non sucré 1/2 écrémé', 'Escalope Cordon Bleu (x 2)', \"Maxis Croq'\", \"L'escalope Cordon Bleu Dinde\", \"L'escalope Cordon Bleu Dinde\", 'Croq&Moi, Jambon de dinde (x 2)', \"Spicy Filet's de Poulet goût relevé\", 'Donuts de Poulet aux pépites de fromage fondu', 'Donuts de Poulet aux pépites de fromage fondu', \"P'tit Velouté Potiron au Fromage fondu\", 'Velouté Potiron & Châtaigne', 'Velouté de Potiron à la Crème Fraîche', 'Velouté Potiron & Châtaigne', 'Velouté de Potiron et Châtaignes', 'potagere de legunes', 'Soupe de Poule aux Vermicelles', 'Potage poireaux pommes de terre', 'Soupe Exotique Chinoise aux 7 parfums', 'Soupe Instantanée aux 10 Légumes', \"Saveur à l'Ancienne Riewele Supp à l'Alsacienne\", 'potagere de legunes', 'Soupe Instantanée aux 10 Légumes', 'potagere de legunes', 'Soupe Instantanée aux 10 Légumes', \"Saveur à l'Ancienne Riewele Supp à l'Alsacienne\", 'Soupissime Instant Tomates à la provençale', 'potagere de legunes', 'Soupe de Poule aux Vermicelles', 'Potage poireaux pommes de terre', 'Soupe Exotique Chinoise aux 7 parfums', 'Soupe Instantanée aux 10 Légumes', \"Saveur à l'Ancienne Riewele Supp à l'Alsacienne\", 'potagere de legunes', 'Soupe de Poule aux Vermicelles', 'Légumes du Soleil et croûtons extra-craquants', 'Soupe Instantanée aux 10 Légumes', \"Saveur à l'Ancienne Riewele Supp à l'Alsacienne\", 'Soupe repas curry', 'potagere de legunes', 'Soupe de Poule aux Vermicelles', 'Légumes du Soleil et croûtons extra-craquants', 'Soupe Instantanée aux 10 Légumes', \"Saveur à l'Ancienne Riewele Supp à l'Alsacienne\", 'Soupe repas curry', 'Nouilles cuisinées saveur Poulet et Champignons', 'Secrets de Grand-Mère Petits pois & pois gourmands au bacon', 'Soupe Vietnamienne Nouilles, émincé de carotte et coriandre', 'Soupe Vietnamienne Nouilles, émincé de carotte et coriandre', 'Cup a Soup Soupe Tomate et Basilic', 'Cup a Soup Soupe Tomate et Basilic', \"Soupe détox aux légumes verts et à l'artichaut\", 'Harira Marocaine', 'Préparation instantanée pour Potage Provençal', 'Cup a Soup Soupe Tomate et Basilic', 'Préparation instantanée pour Potage Provençal', 'Cup a Soup Soupe Tomate et Basilic', 'Préparation instantanée pour Potage Provençal', 'Sauce Béchamel avec une touche de crème', 'Sauce Béchamel avec une touche de crème', 'Caesar Parmesan', 'Sauce crudité Bulgare Plaisir & Légèreté Citron - Ciboulette', 'Sauce salade au sésame', 'La légère sauce crudités', 'Sauce salade au sésame', 'Sauce salade Dijonnaise sans Huile', \"Sirop d'agaves\", \"Sirop d'agaves\", 'Tuti Free', 'Sucre complet de canne (origine Pérou)', 'Sucre complet de canne (origine Pérou)', 'crème anglaise', 'crème anglaise', 'Soupe chinoise du Sichuan', 'Soupe chinoise du Sichuan', 'Vite une Soupe Estivale', 'Le Chocolat - Pure Sélection', 'Le Chocolat - Pure Sélection', 'Häagens-Dazs Classics Vanilla', 'La Laitière Les crèmes glacées Chocolat éclats de chocolat', 'Häagen-Dazs - Vanilla Pecan', 'La Laitière Les crèmes glacées Chocolat éclats de chocolat', 'Le caramel au beurre salé - Pure Sélection', 'Salted caramel', 'Caramel fleur de sel', 'Le caramel au beurre salé - Pure Sélection', 'Salted caramel', 'Caramel fleur de sel', 'La Laitière Les crèmes glacées Chocolat éclats de chocolat', 'Glace rhum & raisins', 'Glace rhum & raisins', 'Chewing Gum - Chlorophylle', 'Têtes Brûlées Le Bubble goût Cola', 'Bubble Mix', 'Mabulle Mix', 'Sporty Mix Chewing Gum', 'Malabar', 'Style parfum Cocktail de Fruits', 'Senses tropical mix', '7 chewing-gums parfum cocktail de fruits', 'Chewing Gum - Chlorophylle', 'Têtes Brûlées Le Bubble goût Cola', 'Bubble Mix', 'Mabulle Mix', 'Chewing gum Mentos Squeez', 'Sporty Mix Chewing Gum', '2Fresh', 'Chewing-gum goût menthe coeur liquide sans sucres', 'Blancheur parfum Menthe Verte', 'Airwave ice fruit', 'Senses tropical mix', 'Hollywood Environ', 'Sporty Mix Chewing Gum', 'Blancheur parfum Menthe Verte', 'Airwave ice fruit', 'Senses tropical mix', 'Hollywood Environ', 'Sporty Mix Chewing Gum', 'Chewing Gum - Chlorophylle', 'Bubble Mix', 'Style parfum Cocktail de Fruits', 'Senses tropical mix', '7 chewing-gums parfum cocktail de fruits', 'Mabulle Mix', 'Sporty Mix Chewing Gum', \"Verte farcie à la pâte d'anchois\", \"Verte farcie à la pâte d'anchois\", 'Olives vertes dénoyautées -25% de sel', 'Olives vertes dénoyautées ', 'Olives vertes dénoyautées ', 'Lotao Royal Pearl Black', 'Lotao Royal Pearl Black', 'Pâte à Tartiner Noisettes Chocolat Noir', 'Pâte à Tartiner Bio Chocolat au Lait - Noisettes', 'Veritable pâte à tartiner Noisettes - Chocolat noir', 'Cacao noisette à tartiner bio', 'Pâte à Tartiner Duo aux Noisettes', 'Cacao noisette à tartiner bio', 'Cacao noisette à tartiner bio', 'Petit beurre au sel de Guérande', 'Petit beurre sans gluten', 'Le Véritable Petit Beurre &quot;dans la poche&quot;', 'Le Véritable Petit Beurre', 'Petits beurre ', 'Petit beurre au sel de Guérande', 'Le Véritable Petit Beurre &quot;dans la poche&quot;', 'Le Véritable Petit Beurre', 'Petits beurre ', 'Petit beurre au sel de Guérande', 'Petits beurre ', 'Petit beurre au sel de Guérande', 'Déclic aux Graines', 'Cookie cacao pépites', 'Cookie cacao pépites', 'Lulu la barquette chocolat', 'Lulu la barquette chocolat', 'Lulu la barquette chocolat', \"Canard o'Choc\", 'Pick Up ! Minis Milk Chocolate', 'Véritable Petit écolier Chocolat au lait', 'Bouchées saveur chocolat menthe', 'Bouchées saveur chocolat menthe', 'Bouchées saveur chocolat menthe', \"Ratatouille Cuisinée À LA PROVENÇALE à l'huile d'olive vierge extra 2%\", \"Colin d'Alaska sauce citron et son riz\", 'Gratin de Ravioles aux Noix de St Jacques', 'Les St Jacques au Noilly & Riz Basmati cuisiné', 'Knacks purée', 'Knacks purée', 'Gratin de Ravioles aux Noix de St Jacques', 'Saucisse grillée purée de pommes de terre', 'Les St Jacques au Noilly & Riz Basmati cuisiné', 'Médaillon de coeurs de palmiers', 'Quinoa & Poulet', 'Quinoa & Poulet', 'Poulet tomates et purée de courgettes', 'Poulet à la crème et aux champignons, Farfalles', 'Poulet jus au thym, risotto champignons et parmesan ', 'Sur le Pouce ! : Poulet à la moutarde & Riz', 'Poulet à la Normande à la crème et aux champignons accompagné de riz', 'Poulet Rôti Pommes de Terre', 'Sur le Pouce ! : Poulet à la moutarde & Riz', 'Poulet à la Normande à la crème et aux champignons accompagné de riz', 'Poulet Rôti Pommes de Terre', 'Quinoa & Poulet', \"Les Bons Plans! Boulettes de boeuf à l'Orientale et Pommes de terre\", 'Le Boeuf, fondue de tomates et purée de pommes de terre', 'Emincés de Bœuf Sauce au Poivre, Pommes de Terrre', 'Kit pour Poêlée Yucatan', 'Kit pour Poêlée Yucatan', 'Au coeur du mexique', 'Formule Salade + Dessert Jambon dés de Gouda + Délice à la framboise', 'Formule Salade + Dessert Poulet grillé + Crème caramel', 'Salade & Compagnie Bergerac : Pommes de terre, Salade, Gésiers de Canard, Tomate et Noix', 'Salade de Poulpes entiers', 'Salade de Poulpes entiers', 'Salade grecque', 'Filets de Maquereaux au court bouillon', 'Filets de maquereaux vin blanc et aromates', 'Maquereaux aux herbes aromatiques', 'Maquereaux aux herbes aromatiques', 'Maquereaux aux herbes aromatiques', 'Filets de maquereaux Sauce Crème Moutarde', 'Filets de maquereaux à la moutarde bio', 'Filets de Sardines Aux Herbes Et Petits Legumes', 'Sardines cuisinées à déguster chaud au beurre de baratte', 'Filets de Sardines Aux Herbes Et Petits Legumes', 'Sardines de saint-gilles-croix-de-vie millésime 2015', 'Sardines de saint-gilles-croix-de-vie millésime 2015', 'Sardines cuisinées à déguster chaud au beurre de baratte', \"Émietté de thon au piment d\\\\'espelette\", 'Thon entier au naturel Pêché à la canne', 'Thon entier au naturel Pêché à la canne', 'Filets de maquereaux - aromates et muscadet', \"Filets de maquereaux sauce à l'aneth\", \"Filets de maquereaux huile d'olive citron et 5 baies\", \"Filets de maquereaux huile d'olive citron et 5 baies\", \"Sardines à l'huile d'olive vierge extra\", \"Sardines à l'huile d'olive extra vierge\", \"Sardines sans arêtes à l'huile d'olive vierge extra\", \"Sardines à l'Huile d'Olive Biologique\", \"Les petites sardines à l'huile d'olive vierge extra\", 'Les tonnerres de Brest 2012', \"Sardines à l'huile d'olive vierge extra\", \"Sardines sans arêtes à l'huile d'olive vierge extra\", \"Sardines à l'huile d'olive extra vierge\", \"Sardines à l'Huile d'Olive Biologique\", 'Paquito Orange', 'Paquito Orange', \"Jus d'orange à base de concentré \", \"Jus d'Orange à Base de Jus Concentré\", \"Jus d'Orange à Base de Jus Concentré\", 'Minute maid Orange', 'Boisson Raisin Grenade Framboise Cassis', \"Cerise Banane à l'eau de source\", 'Les Petits Plaisirs Soja Multifruit', 'Les Petits Plaisirs Soja Multifruit', 'Ravioli Bolognaise (Riche en viande)', 'Ravioli Bolognaise (Riche en viande) ', 'Torsades Max de Bœuf (1 Pers.)', 'Torsades Max de Bœuf (1 Pers.)', 'Torsades Max de Bœuf (1 Pers.)', 'Suprême de Volaille rôti & Polenta crémeuse aux champignons', 'Le poulet aux Cèpes en Parmentier', 'Sauce Napolitaine aux légumes cuisinés', 'Napolitaine Zapetti', 'Noix de Saint Jacques à la bretonne', 'Macaroni au Jambon sauce tomate cuisinée', 'Noix de Saint Jacques à la bretonne', 'American Bolognaise', 'Sauce à la Bolognaise', 'Pasta Sauce Bolognese', 'Pasta Sauce Bolognese', 'Sauce bolognaise avec du boeuf rissolé', 'Sauce à la bolognaise', 'Sauce tomate bolognaise bio', 'Sauce Bolognese', 'Bolognaise Bourguignonne', 'Sauce à la Bolognaise', 'Gorgonzola oignons doux', 'Gorgonzola oignons doux', 'Sauce Tomate Cuisinée Ail & Oignons', 'Sauce aux tomates cerises', 'Xtra Chicken Poulet XXL', 'Sauce Tomate Chèvre et Miel', 'Sauce aux tomates fraîches', 'Gorgonzola oignons doux', 'Sauce olives-tomates', 'Sauce aux tomates cerises', 'Gorgonzola oignons doux', 'Sauce olives-tomates', 'Sauce aux tomates cerises', 'Gorgonzola oignons doux', \"Confipote d'Abricot & Brugnon\", 'Confipote Fraise & de Rhubarbe', 'Confipote de Figue', 'Figue violette du Var', 'Confipote de Figue', 'Confipote de Figue', 'Confiture de figue', 'Confipote Fruits Rouges', 'Confipote Fruits Rouges', '4 Fruits rouges', 'Confipote de Quetsche', 'Confipote de Quetsche', \"Confiture de quetsches d'Alsace\", 'Confipote de Quetsche', 'Confipote de Quetsche', 'Confipote Fraise', 'Confipote Fraise', 'Confiture de Fraise Allégée', 'Terrine Légumes du soleil', 'Terrine Légumes du soleil', 'Rollini Épinards', \"Choucroûte d'Alsace Bio\", 'Choucroute royale au Riesling', 'Choucroute gourmande', 'Choucroute gourmande', 'Choucroute gourmande', 'Choucroute gourmande', 'Roquefort AOP au lait cru de brebis (31 % MG)', '  Bridelight 3% Les carrés fondants goût Emmental', \"L'Original Ail & Fines Herbes\", '  Bridelight 3% Les carrés fondants goût Emmental', \"L'Original Ail & Fines Herbes\", '  Bridelight 3% Les carrés fondants goût Emmental', '  Bridelight 3% Les carrés fondants goût Emmental', '  Bridelight 3% Les carrés fondants goût Emmental', 'Le Truffé au Chocolat', 'Le Truffé au Chocolat', 'Petit nesquik', 'Petit nesquik', \"La Laitière L'Original MaronSui's\", 'Feuilleté de Mousse Chocolat (4 Pots)', 'Blanc onctueux', 'Yaourt des Pyrénées', 'Yaourt des Pyrénées', 'Yaourt des Pyrénées', 'Petit pot de yaourt à la vanille de Magagascar', 'Yaourt à boire sucré et aromatisé, saveur fraise', 'Parfait chocolat blanc et framboise', 'la Laitière crème dessert craquante chocolat', 'la Laitière crème dessert craquante chocolat', 'Crème Dessert Speculoos', 'Crème Dessert Speculoos', 'la Laitière crème dessert craquante chocolat', 'Le Petit Pot de Crème Saveur Biscuit', 'Nesquik Petit', 'Nesquik Petit', 'Yaourt au lait entier Nature (4 Pots)', 'Yaourt nature Bio (Au lait entier) 12 Pots', 'Yaourt nature Bio (Au lait entier) 12 Pots', 'Rillettes pur canard', 'Rillette De Canard', 'Rillettes pur canard aux figues', 'Rillette De Canard', 'Rillette De Canard', 'Rillettes pur canard', 'Rillette De Canard', '12 mini-wraps', 'Mini Choux saveur Bleu Noix', \"Sticks & Bretzels d'Alsace L'Original\", \"Sticks & Bretzels d'Alsace L'Original\", 'Mes 5 Gâteaux', 'Cookies aux pépites de chocolat', 'Mes 5 Gâteaux', 'Moelleux Nature', '100% mie brioché sans croûte, 10 tranches', '100% Mie Spécial Foie Gras', '100% mie brioché sans croûte, 10 tranches', '100% Mie Spécial Foie Gras', \"Just' Mie Nature\", 'Coeur de mie', 'Solo Pane Senza Crosta', 'Carrément Mie, Nature (sans croûte) 22 tranches', 'Carrément Mie à Rouler Nature sans croûte', '100% mie Nature', \"Just' Mie Nature\", 'Coeur de mie', 'Cœur de mie', 'Pain de mie Sans Croûte Nature (21 tranches)', 'Le Carré de Mie Nature', 'Solo Pane Senza Crosta', '100% mie brioché sans croûte, 10 tranches', '100% Mie Spécial Foie Gras', 'Battonets citron sauce citron', 'Glace chocolat-vanille Milka', 'Sorbet passion avec morceaux de pêche', 'Huit kidcups', 'Glace façon Tiramisu morceaux de biscuits', 'Crème glacée Banoffee (Caramel-Banane)', 'Crème glacée Banoffee (Caramel-Banane)', 'Battonets citron sauce citron', 'Glace chocolat-vanille Milka', '2 duos de pommes et marron - pomme de terre, pomme, marron', '8 bouchées de poulet au saté', 'Kidiboo', 'Fromage Frais Sucré 40% MG', 'Kidiboo', 'La Faisselle', 'Kidiboo', 'Fromage blanc aux fines herbes (8,1% MG)', 'Fromage Frais Sucré 40% MG', 'Calin', 'Kidiboo', 'Fromage blanc aux fines herbes (8,1% MG)', 'Fromage Frais Sucré 40% MG', 'Calin', 'Kidiboo', 'L. Casei nature', 'L. Casei nature', 'Actimel + (10 Bouteilles + 2 Gratuites)', 'Actimel + (10 Bouteilles + 2 Gratuites)', 'Crème dessert au chocolat Bio', 'Crèmeuh Chocolat', 'Crèmeuh Chocolat', 'Danette (Chocolat)', 'Yaourt nature sans lactose', 'Activia (Nature) 12 Pots', 'Activia (Nature) 12 Pots', 'Le yaourt craquant Senoble', 'Le yaourt craquant Senoble', 'Le Yaourt sur lit de Framboises', 'Le Yaourt sur lit de Framboises', 'Danio Poire', 'Délice de yaourt Mirabelles', 'Le Yaourt sur lit de Framboises', 'Danio Poire', 'Le Yaourt sur lit de Framboises', 'Danio Poire', 'Rêve de Lait Noix de Coco', 'Yaourt sucré aromatisé', 'Yaourt sucré aromatisé', \"Pains d'épices au miel\", \"Pain d'épices Spécial Foie Gras\", \"Pain d'épices orange\", \"Foie gras de canard entier au piment d'Espelette\", 'Foie gras de Canard entier à la Fleur de Sel de Guérande', 'Foie gras de Canard entier du Sud-Ouest cuit au torchon', 'Foie gras de Canard entier du Sud-Ouest cuit au torchon', 'Saumon Fumé Ecosse', 'Saumon Fumé Ecosse', \"Saumon Atlantique fumé élevé dans les lochs d'Ecosse\", 'Saumon Fumé Ecosse', \"Saumon Atlantique fumé élevé dans les lochs d'Ecosse\", 'Saumon Atlantique, fumé au bois de hêtre', \"Dégustation noir aux écorces d'orange\", 'Noir pépites cranberries', 'Nougat', 'Nougat', \"Bouillon Cube Huile d'olive Basilic\", \"Bouillon de bœuf en cube issu de l'agriculture biologique\", 'Bouillon cube Légumes sans sel', 'Bouillon cube Légumes sans sel', 'Crousty 2 chocolats - chocolat noir et chocolat blanc', 'Pétales de quinoa au cacao', 'Crousty 3 céréales', 'Crousty premium fruits rouges', 'Crousty 2 chocolats - chocolat noir et chocolat blanc', 'Crousty 3 céréales', 'Crousty premium fruits rouges', 'Crousty premium fruits rouges', 'Crousty 2 chocolats - chocolat noir et chocolat blanc', 'Pétales de quinoa au cacao', 'Crousty 3 céréales', \"Jordan's Country Crisp\", 'Country Crisp - Chocolat noir', 'Country Crisp Délice', 'Pétales Maïs glacés au sucre', 'Smacks', 'Weetos Chocolatey Hoops', 'Purée de pommes de terre nature', \"Mousline Saveur à l'Ancienne façon presse-purée\", 'Purée de pommes de terre en flocons recette au lait entier', \"Mousline Saveur à l'Ancienne façon presse-purée\", 'Purée de pommes de terre en flocons recette au lait entier', \"P'tit gourmand caramel\", \"P'tit onctueux au fromage blanc pêches\", 'Les Mini Lactés Fraise', \"P'tit Gourmand Semoule au lait\", \"P'tit Gourmand Semoule au lait biscuitée\", \"P'tit Gourmand Mini Semoule au Lait\", 'Les Mini Lactés Fraise', 'Les Lactés Framboise', 'Les Mini Lactés Fraise', 'Les Lactés Framboise', 'Mian Tiao saveur boeuf - 85 g - Tien Shan', 'Mian Tiao saveur boeuf - 85 g - Tien Shan', 'Mian Tiao saveur poulet - 85 g - Thien Shan', 'Nouilles Asiatiques Saveur Poulet - 60 g - Maggi', 'Mian Tiao saveur boeuf - 85 g - Tien Shan', 'Nouilles Asiatiques Saveur Poulet - 60 g - Maggi', 'Mian Tiao saveur boeuf - 85 g - Tien Shan', 'Sauce crudités cocktail légère', 'Sauce crudités cocktail légère', 'Sauce salade saveur échalotes ciboulette ', \"Douceur de légumes du soleil avec une pointe d'origan\", \"Pur Soup' Velouté de Légumes du Soleil \", 'La vraie soupe Tomate & Basilic Courgette & Aubergine', 'Soupe doux plaisir légumes et kiri', 'La vraie soupe Tomate & Basilic Courgette & Aubergine', 'La vraie soupe Tomate & Basilic Courgette & Aubergine', 'La vraie soupe Tomate & Basilic Courgette & Aubergine', 'Soupe de pois cassés au lard savoyard', 'Mouliné lentilles corail, lardons & pointe de persil', 'Soupe de pois cassés au lard savoyard', 'Mouliné lentilles corail, lardons & pointe de persil', 'Doux plaisirs Légumes et kiri', 'Soupe champignons et touche de crème', 'Doux plaisirs Légumes et kiri', 'Soupe champignons et touche de crème', 'Doux plaisirs Légumes et kiri', 'Soupe de poissons à base de poissons frais', 'Soupe de poisson', 'Soupe de poissons au sel de Guérande', 'Soupe de poissons au sel de Guérande', \"PurSoup' velouté de tomates\", \"PurSoup' velouté de tomates\", 'Velouté Tomates Basilic', 'Velouté Tomates Basilic', \"Velouté fondant d'épinards aux Saint-Jacques et point de crème Knorr\", 'Soupe Chinoise aux 7 Parfums', 'Mayonnaise légère (10% M.G)', 'Mayonnaise légère La Veloutée au fromage blanc', 'La Mayonnaise Light', 'Mayonnaise légère La Veloutée au fromage blanc', 'Paella. Filets de Poulet & Chorizo', 'Paella. Filets de Poulet & Chorizo', 'Paella. Filets de Poulet & Chorizo', 'Wok Nouilles au poulet curry', 'Wok Nouilles au poulet curry', 'Pesto Vistoria', \"Sauce Pesto à la truffe noire d\\\\'été\", 'Galettes millet et boulghour aux champignons', 'Couscous Grains Moyens', 'Couscous grain moyen', 'Couscous grain moyen', 'Sauce pesto', 'Pesto Basilic', 'Pesto ail des ours', 'Sauce pesto au basilic', 'Pesto tomate', 'Pesto des anges', 'Pesto alla genovese', 'Sauce pesto au basilic', 'Pesto tomate', 'Pesto des anges', 'Pesto alla genovese', 'Bolognaise Bio', 'Bolognaise 3 poivres', 'Bolognaise 3 poivres', 'Bolognaise 3 poivres', 'Bolognaise 3 poivres', '10 Burgers Halal Surgelés', 'Extra Tendre', \"L'extra-Tendre surgelé\", 'Moelleux, haché au bœuf', \"L'extra-Tendre surgelé\", 'Picot - riz miel', 'Picot - riz miel', 'Picot - riz miel', 'Picot - riz miel', 'Mon 1er biscuit au chocolat', 'Mon 1er biscuit au chocolat', 'Mon Goûter Plaisir Biscuit Croissance à la Pomme', 'Barquette fraise', 'Lunettes à la fraise bio', 'BelVita Duo Fourré Fraise Yaourt', 'Eveil Nature', 'Eveil Nature', 'Eveil Nature', 'Eveil Nature', 'Eveil Nature', 'Eveil Nature', 'Les Desserts Crème de riz', 'Les Desserts Crème de riz', \"P'tit onctueux au fromage blanc Fruits exotiques\", \"P'tit onctueux au fromage blanc Fruits exotiques\", \"P'tit onctueux au fromage blanc Fruits exotiques\", \"P'tit onctueux au fromage blanc Fruits exotiques\", \"P'tit onctueux au fromage blanc Fruits exotiques\", 'Blédilait 1er âge', 'Nidal 1', 'Blédilait 1er âge', 'Blédilait Croissance', 'Croissance (de 10 mois à 3 ans)', 'Blédilait Croissance', 'Blédilait Croissance', 'Noir Manjari 64%', 'Lindt Excellence à la pointe de fleur de sel', 'Grand chocolat noir 75% ', 'Lindt Excellence à la pointe de fleur de sel', 'Grand chocolat noir 75% ', 'La Groseille fruitée intense', 'Gelée extra de groseille', 'Gelée extra Groseille', \"Crème de marrons avec morceaux d'Ardèche\", 'Crème de marron à la vanille ', 'Crème de châtaigne nature bio', \"Crème de marrons avec morceaux d'Ardèche\", \"Crème de marrons avec morceaux d'Ardèche\", \"Crème de marrons avec morceaux d'Ardèche\", 'Raisins pressés', 'RAISIN 100% pur jus', 'Raisins pressés', 'Jus De Raisin Blanc', 'RAISIN 100% pur jus', 'RAISIN 100% pur jus', 'RAISIN 100% pur jus', 'Pure Premium Raisins pressés France', 'Pêche de vigne', 'Confiture de pêche', 'Pêche de vigne', 'Pêche de vigne', 'Lindor, assionnement fondant, lait', 'Lindor, assionnement fondant, lait', 'Recette Originale Éclats de Bretzel', 'Recette Originale Éclats de Bretzel (format familial)', 'Recette Originale Éclats de Bretzel', 'Recette Originale Éclats de Bretzel (format familial)', 'Recette Originale Éclats de Bretzel', 'Recette Originale Éclats de Bretzel (format familial)', 'Pralines', 'Pralines', 'Les Perles de Fêtes', 'Assortiment lait noir blanc', 'Assortiment Double Saveur', 'Les Perles de Fêtes', 'Les Perles de Fêtes', 'Les Pyrénéens 30 lait', 'Choco Lolly Cars', 'Choco Lolly Cars', 'Choco Crac', 'Chocolat Lait classique dégustation Bio Alter Eco', 'Choco Crac', 'Choco Crac', 'Nirwana Vegan', 'Bloc, lait noisettes feuilleté praliné', \"Pâte d'amande Chocolat Noir\", \"Recettes de l'Atelier N°7 Eclats de Cacao\", \"Pâte d'amande Chocolat Noir\", \"Recettes de l'Atelier N°7 Eclats de Cacao\", \"L'Original Lait\", 'Lait Raisins Noisettes entières', 'mini rocher lait au praliné', \"Fisherman's Friend Menthe\", \"Fisherman's Friend Menthe\", \"Fisherman's Friend Menthe\", 'Schweppes-tonic-330ml-belgium', 'Ricqles Menthol Soda', 'orangina et sa pulpe', 'Schweppes-tonic-330ml-belgium', 'Schweppes-tonic-330ml-belgium', 'Sirop de citron ', 'Sirop de citron ', 'Tropicana Pure premium Orange sans pulpe', \"100% pur jus d'Orange sans pulpe\", \"100% pur jus d'Orange sans pulpe\", 'Jus Multifruits Pomme, Litchi, Goyave', 'Multifruit', \"Pur jus P'tit dej Vitamines A&C\", \"Pur jus P'tit dej Vitamines A&C\", 'Sirop à presser Grenadine', 'Sirop à presser Grenadine', 'Sirop à presser Grenadine', 'Sirop à presser Grenadine', 'Sirop Grenadine bio', 'Moulin De Valdonne Sirup Weißer Pfirisch', 'Volvic thé  vert  menthe', 'Aquarius', 'Aquarius', 'Mozzarella bio', 'Mozzarella bio', 'Terrine de Canard au Poivre Vert', 'Terrine de Canard au Poivre Vert', 'Biscuits chocolat cacao', 'Biscuits chocolat cacao', 'Nappés au chocolat au lait - 150 g - No Gluten Carrefour', 'Biscuits chocolat cacao', 'Biscuits mini Oursons Pépites de chocolat Bio', 'Biscuits chocolat cacao', 'Biscuits mini Oursons Pépites de chocolat Bio', 'Biscuits chocolat cacao', 'Goûters chocolat noir degustation', 'Foie gras de canard extra Simplissime !', 'Foie gras de canard cru déveiné & assaisonné', 'Foie gras de canard extra éveiné et assaisonné', 'Foie gras de canard cru déveiné & assaisonné', 'Foie gras de canard extra éveiné et assaisonné', 'Foie gras de canard cru déveiné & assaisonné', 'Jambon de Bayonne affine 9 mois minimum', 'Spécialité de foie gras de canard entier du Sud-Ouest cuit au bouillon aromatique', 'Foie gras de canard entier du Sud-Ouest sel & poivre', 'Foie gras de canard entier du Sud-Ouest sel & poivre', 'Spécialité de foie gras de canard entier du Sud-Ouest cuit au bouillon aromatique', 'Foie Gras de Canard entier du Sud-Ouest', 'Spécialité de foie gras de canard entier du Sud-Ouest cuit au bouillon aromatique', 'Foie Gras de Canard entier du Sud-Ouest', 'Foie Gras de Canard entier du Sud-Ouest', 'Jambon sec supérieur. Affinage 9 mois - Tranché', 'Jambon sec supérieur. Affinage 9 mois - Tranché', 'Quart de jambon sec', 'Jambon sec Supérieur ', 'Jambon sec Supérieur ', 'Mini blinis', 'Ktipiti poivrons & yaourt grec', 'Le Blini extra moelleux', 'Mini blinis', '8 Blinis Médium', 'Le Blini extra moelleux', 'Ktipiti poivrons & yaourt grec', '8 Blinis Médium', 'Le Blini extra moelleux', 'Ktipiti poivrons & yaourt grec', '8 Blinis Médium', 'Le Blini extra moelleux', '8 Blinis Médium', 'Francines - Les inratables - Ma pâte à Pancakes', 'Préparation déshydratée pour brandade de morue parmentière', 'Ma pâte à pizza', 'Pâte à Pizza ronde avec de la levure boulangère', 'Pâte à Pizza Ronde', 'Ma pâte à pizza', 'Pâte à Pizza ronde avec de la levure boulangère', 'Pate A Pizza Sans Gluten', 'Ma pâte à pizza', 'Pâte à Pizza ronde avec de la levure boulangère', \"Pâte à Pizza Grande et Fine à L'italienne\", 'Pâte à Pizza fine et réctangulaire', 'Pate A Pizza Sans Gluten', 'Pâte à Mini Pizza à Ma Façon', 'Ma pâte à pizza', 'Pâte à Pizza ronde avec de la levure boulangère', \"Pâte à Pizza Grande et Fine à L'italienne\", 'Pâte à Pizza fine et réctangulaire', 'Pate A Pizza Sans Gluten', 'Pâte à Mini Pizza à Ma Façon', 'Bananenchips - Chips de bananes - banana chips', 'Cocktail salé, croquant et moelleux', 'Cocktail salé, croquant et moelleux', 'Tomato Légumes Veggies', 'Sauce tomate aux légumes bio', 'Sauce tomate aux légumes bio', 'Rosette de Lyon finement tranchée', 'Rosette de Lyon finement tranchée', 'Rosette 12 tranches', 'Mini-rosette', 'Rosette 12 tranches', 'Mini-rosette', 'Rosette 12 tranches', 'Mini-rosette', 'Rosette de Lyon finement tranchée', 'Fluette De Jambon', 'Saucisson à cuire', 'Saucisson à cuire', 'Saucisson à cuire', \"P'tit Fondant \", 'Apéricube (23 % MG) - (Saveurs : Tomate, Jambon, Poivre vert, Oignon)', 'Apéricube (23 % MG) - (Saveurs : Bleu, Jambon, Olives, Paprika) ', 'Fondant au Chèvre', 'La bûche crémeuse', 'Fondant au Chèvre', 'Fondant au Chèvre', 'Fondant au Bleu (7% MG)', 'Fondant au Bleu (7% MG)', 'Fondant au Bleu (7% MG)', 'Caviar de tomates séchées', 'Light 14% au jambon', 'Grillons de canard du Sud-Ouest', 'Caviar de tomates séchées', 'Grillons de canard du Sud-Ouest', 'Caviar de tomates séchées', 'Caviar de tomates séchées', 'Original Griechischer Schafskäse Leicht', 'Original Griechischer Schafskäse Leicht', 'Dés tomates & basilic', 'Salade & Apéritif, Ail & Fines Herbes (40 % MG)', 'Ail & fines herbes (6,8 % MG)', 'Salade & Apéritif, Ail & Fines Herbes (40 % MG)', 'Ail & fines herbes (6,8 % MG)', 'Salade & Apéritif, Ail & Fines Herbes (40 % MG)', 'Ail & fines herbes (6,8 % MG)', 'Fromage à tartiner - Raisin, figue et noix (27,9 % MG)', 'Figue & 3 Noix, x 10 portions (39 % MG)', 'Fromage à tartiner - Raisin, figue et noix (27,9 % MG)', 'Figue & 3 Noix, x 10 portions (39 % MG)', 'Fromage à tartiner - Raisin, figue et noix (27,9 % MG)', 'Fromage à tartiner - Raisin, figue et noix (27,9 % MG)', 'Fromage à tartiner - Raisin, figue et noix (27,9 % MG)', 'Figue & 3 Noix, x 10 portions (39 % MG)', 'Fromage à tartiner - Raisin, figue et noix (27,9 % MG)', 'La Fondue Recette Savoyarde aux 3 Fromages', 'Basilic & Pignons de Pin', 'Naturais (format familial) (18,5% MG)', 'Basilic & Pignons de Pin', 'Basilic & Pignons de Pin', 'Basilic & Pignons de Pin', 'Boursin Ail et Fines Herbes', \"Pik & Croq' Gressins saveur Pizza\", 'Boursin Ail et Fines Herbes', 'Crème de fromage au Camembert (5,8% MG)', 'Crème de fromage au Camembert (5,8% MG)', 'Olives noires a la grecque a la provencale', 'Olives Noires à la Grecque', 'Olives vertes à la farce de poivron doux', 'Olives Vertes Picholine', 'Olive verte cassée piquante sauce escabèche', 'Olives Vertes Picholine', 'Olive verte cassée piquante sauce escabèche', 'Tourtel twist citron', 'Malt Beverage', 'Jupiler 0,0%', 'Malt Beverage', 'Jupiler 0,0%', 'Malt Beverage', 'Préparation pour taboulé tomates,basilic', 'Préparation pour taboulé tomates,basilic', \"Mon taboulé repas ! (poulet à l'orientale)\", 'Préparation pour taboulé tomates,basilic', 'Préparation pour taboulé tomates,basilic', 'Préparation pour taboulé tomates,basilic', 'Préparation pour taboulé tomates,basilic', 'Miel & Ginseng', 'Miel & Ginseng', 'Le Boudoir Original', 'Boudoirs aux œufs frais', 'Boudoirs &quot;Princesse&quot;', '30 Boudoirs aux œufs frais', 'Gâteau marbré', 'Petits cakes aux fruits', 'Sirop Grenadine', 'Sirop  grenadine', 'Sirop parfum Grenadine sans sucres', 'Sirop parfum Grenadine sans sucres', 'Pamplemousse Rose Le 0%', 'Citron Fraise à diluer', \"Sirop d'Orange\", 'Pamplemousse Rose Le 0%', 'Épaule cuite 8 tranches', '9 paupiettes de porc', 'Épaule cuite 8 tranches', '9 paupiettes de porc', 'Le Jambon de Paris -25% de sel', 'Le Jambon de Paris -25% de sel', 'Mon Paris (25% de sel en moins)', 'Jambon de Paris (-25% de sel)', 'Jambon de Paris (-25% de sel)', 'Le Tranché de Poulet', 'Blanc de poulet', 'Blanc de poulet', 'Le Tranché de Poulet', 'Blanc de poulet', 'Blanc de poulet -25% de sel', 'Blanc de poulet -25% de sel', 'Blanc de poulet doré au four (4 tranches)', 'Blanc de poulet Halal', '20 nuggets poulet U', '2 filets de poulet rôtis', '20 nuggets poulet U', 'Délice de poulet doré au four (4 tranches)', \"Déliss' de Poulet fumé\", 'Délice de poulet doré au four (4 tranches)', \"Déliss' de Poulet fumé\", 'Filet de Poulet petites tranches pratiques', 'Délice de poulet doré au four (4 tranches)', 'Dés de Filet de Poulet Rôti', 'Filet de Poulet petites tranches pratiques', 'Délice de poulet doré au four (4 tranches)', 'Dés de Filet de Poulet Rôti', 'Filet de Poulet petites tranches pratiques', 'Délice de poulet doré au four (4 tranches)', \"Déliss' de Poulet fumé\", 'Délice de Poulet', 'Filet de poulet', 'Le Filet Tranché Poulet Barbecue', 'Émincés de filet de poulet au curry', 'Délice de Poulet', 'Filet de Poulet Doré au Four', 'Filet de Poulet Tranché au Curry', 'Émincés de filet de poulet au curry', 'Délice de Poulet', 'Filet de poulet', 'Le Bon Poulet -25% de Sel (lot de 2 + 1 gratuit)', 'Filet de Poulet Doré au Four', 'Filet de Poulet Tranché au Curry', 'Émincés de filet de poulet au curry', 'Délice de Poulet', 'Filet de poulet', 'Le Bon Poulet -25% de Sel (lot de 2 + 1 gratuit)', 'Filet de Poulet Tranché au Curry', 'Émincés de filet de poulet au curry', 'Délice de Poulet', 'Filet de poulet', 'Le Bon Poulet -25% de Sel (lot de 2 + 1 gratuit)', 'Jambon cuit supérieur découenné dégraissé 4T', 'Le Jambon bien élevé (-25% de sel)', 'Tendre Noix Broche -25% de sel', 'Jambon supérieur sans couenne (-25% de sel)', 'Le Supérieur  -25% de Sel sans couenne', 'Jambon supérieur (-25% de sel)', 'Tendre Noix Broche -25% de sel', 'Le Supérieur  -25% de Sel sans couenne', 'Jambon supérieur (-25% de sel)', 'Tendre Noix Broche -25% de sel', 'Tendre noix broche -25% sel', 'Tendre Noix Charcutier -25% de sel', 'Tendre Noix Charcutier -25% de sel', 'Tendre Noix Charcutier -25% de sel', 'Tendre Noix Charcutier -25% de sel', 'Tavuk Dilim Salam Biberli', 'Noix de jambon', 'Tavuk Dilim Salam Biberli', 'Jambon Italien', 'Noix de jambon', 'Tavuk Dilim Salam Biberli', 'Jambon Italien', 'Noix de jambon', 'Tavuk Dilim Salam Biberli', 'Blanc de dinde standard', 'Blanc de dinde standard', 'Dinde Dorée au Four', 'Dinde Dorée au Four', \"Recette à l'italienne Rôtie\", 'Jambon avec couenne mon paris', 'Jambon Cuit qualité supérieure - 8 tranches', 'Le jambon bien élevé, avec couenne', 'Allumettes jambon', 'Dés de jambon cuit standard', 'Jambon cuit supérieur Chiffonnade', 'jambon cuit', 'Le jambon bien élevé, avec couenne', 'Le jambon bien élevé', 'Jambon Supérieur sans Couenne', 'Allumettes jambon', 'Dés de jambon cuit standard', 'Jambon Le Paris -25% sel', 'Dés de jambon cuit standard', 'Jambon blanc découenné et dégraissé', 'Jambon cuit supérieur Chiffonnade', 'Jambon Cuit qualité supérieure - 8 tranches', 'Jambon Le Paris -25% sel', 'Dés de jambon cuit standard', 'Jambon blanc découenné et dégraissé', 'Jambon cuit supérieur Chiffonnade', 'Jambon Cuit qualité supérieure - 8 tranches', \"Recette à l'italienne Rôtie\", 'Jambon Le Paris -25% sel', 'Dés de jambon cuit standard', 'Jambon avec couenne mon paris', 'Jambon blanc découenné et dégraissé', 'Jambon cuit supérieur Chiffonnade', 'Jambon Cuit qualité supérieure - 8 tranches', 'Jambon superieur tranche fin', 'Le Paris & Emmental spécial Baguette', 'Le Paris & Emmental spécial Baguette', 'Jambon cuit de Paris', 'Le Paris & Emmental spécial Baguette', 'Le Paris & Emmental spécial Baguette', 'Saucisson Sec pur boeuf (10+2 gratuites)', 'Saucisson Sec pur boeuf (10+2 gratuites)', 'Saucisson Sec pur boeuf (10+2 gratuites)', 'Saucisson Sec pur boeuf (10+2 gratuites)', 'Carré de Porc Rôti', 'Saucisson Sec pur boeuf (10+2 gratuites)', 'Jambon Fumé Grillé', 'Jambon Fumé Grillé', 'Jambon Fumé Grillé', 'Le Bon Paris Tendre & Epais fumé', 'Le Paris fumé', 'Jambon de Paris fumé', \"Jambon de Vendée à l'ancienne - 2 tranches épaisses\", \"Jambon de Vendée à l'ancienne - 2 tranches épaisses\", \"Fleury Michon - Dés d'épaule\", \"Jambon de Vendée à l'ancienne - 2 tranches épaisses\", \"Jambon de Vendée à l'ancienne - 2 tranches épaisses\", \"Jambon de Vendée à l'ancienne - 2 tranches épaisses\", 'Les Darlons Fumés', 'Les Darlons Fumés', 'Les Darlons Fumés', 'Lardons fumés qualité supérieure', 'Lardons fumés qualité supérieure', 'Les Darlons Fumés', 'Rapé de jambon fumé', 'Rapé de jambon fumé', 'Rapé de jambon fumé', 'Le fumé Sans Couenne au Bois de Chêne', 'Rôti de Porc Cuit', 'Rôti de Porc Cuit', '16 quenelles', 'Suprême soufflés volaille - morilles', 'Soupe potimarron bio', 'Soupe lentilles tomates', 'Top Crunch', \"L'Escargot noir\", \"L'Escargot noir\", 'Petits Croquants aigres-doux', 'Lanières de cornichons aigres-doux', 'Petits Croquants aigres-doux', 'Lanières de cornichons aigres-doux', 'Moutarde aigre-douce', 'Moutarde aigre-douce', \"Moutarde Douce d'Alsace\", 'Le jus de raisin 100% jus de fruits', 'Le jus de raisin 100% jus de fruits', \"Le P'tit Nature Bio\", \"Le P'tit Nature Bio\", 'Crêpes Fourrées Fromage Boursin Ail & Fines Herbes', 'Muesli Gourmand', 'Müesli 5 céréales', 'Muesli Pour Bebe 6eme Mois', 'Casino muesli aux 4 céréales et aux fruits', 'Casino muesli aux 4 céréales et aux fruits', 'Trompettes', 'Foliotes', 'Les Guimauves fofolles', 'Guimauves enrobées de chocolat noir', 'Guimauves enrobées de chocolat noir', 'AC/DC German Beer', 'AC/DC German Beer', 'Orange à base de concentré', \"Jus d'orange à base de jus concentré\", 'Granini Orange', 'Orange à base de concentré', 'Granini Orange', 'Moments Gourmands multrifruits tropical', 'Le fruit Multifruit', 'Le Fruit Pamplemousse', 'Le Fruit Pamplemousse', 'Moments Gourmands multrifruits tropical', '100% pur jus pomme pressé', '100% pur jus Pomme', 'Le pur jus pomme', 'Le pur jus pomme', '100% pur jus pomme pressé', 'Jus de raisin ', '100% pur jus raisin biologique', '100% pur jus raisin biologique', '100% pur jus raisin biologique', 'Jus de raisin ', \"Pur Jus D'oranges Pressées U,\", \"Pur Jus D'orange, Sans Pulpe, 1 Litre, Marque Cora\", \"Marcel bio- pur jus d'orange\", \"Pur Jus D'oranges Pressées U,\", \"Pur Jus D'orange, Sans Pulpe, 1 Litre, Marque Cora\", \"Marcel bio- pur jus d'orange\", 'Jus Orange Banane à base de concentré et de purée', 'Cocktail Vita 12', 'Multifruits Pur jus', 'Apfel-Birnensaft Direktsaft', 'Cocktail de jus de fruits rouges 100 % pur jus', 'pur jus de 3 fruits pressés orange, pamplemousse rose & orange sanguine', 'Passion Orange Banane', 'Raison Ananas Coco', 'pur jus de 3 fruits pressés orange, pamplemousse rose & orange sanguine', '100% pur Jus - Multifruits', 'Pur jus 4 agrumes', 'Bahia - Boisson aux fruits tropicaux', '100% pur Jus - Multifruits', 'Pur jus 4 agrumes', 'Bahia - Boisson aux fruits tropicaux', 'Essentiels Fibres Ananas Mangue', 'Raison Ananas Coco', 'Jus De Pomme Artisanal Bio', 'Bio appelsap', 'Apfelsaft - Jacoby', 'Le Jus de nos régions Pomme', 'Ramseier premium', 'Jus De Pomme Artisanal Bio', 'Jus de pomme 50 cl', 'Apfelsaft - Jacoby', 'Jus De Pomme Artisanal Bio', 'Jus de pomme 50 cl', 'Apfelsaft - Jacoby', 'Emmental Rape', 'Emmental Rape', 'Emmental Rape', 'Raclette nature sans croûte', 'Raclette nature sans croûte', \"Pulp'orange\", 'Barbe à Papa', 'Perrier saveur citron vert', 'Guava juice drink', 'Guava juice drink', 'Guava juice drink', 'Guava juice drink', 'Guava juice drink', 'Guava juice drink', 'Star Wars Space Punch', 'Orange Guarana', 'Breizh Agrum', 'Agrum', 'Kids diabolo menthe', 'Breizh Agrum', 'Saveur Agrumes Pétillant', 'Kidibul', 'Kidibul', 'Sirop Menthe', 'Pure Brewed Japanese Tea Green Tea Cranberry', 'Iced Tea saveur Tropical', 'Pure Brewed Japanese Tea Green Tea Cranberry', 'Iced Tea saveur Tropical', 'Rochambeau thé pêche', 'Boisson Bio Vitalisante Thé Noir Pêche', 'Boisson Bio Vitalisante Thé Noir Pêche', 'Pure Brewed Japanese Tea Green Tea Cranberry', 'Piña Colada Sans alcool', 'Piña Colada Sans alcool', 'Citron vert & kiwi', 'Mister Cocktail Planteur Créole', 'Bionade aux plantes', 'Bionade aux plantes', 'Mister Creole Mojito', 'Mister Creole Mojito', 'petits pains grillés sans sucres ajoutés ', 'Complets sans sucres ajoutés', 'Quenellinis Jambon', 'Soufflés au Comté', 'Soufflés au Comté', 'La pâte à pizza au levain', 'Pâte à pizza Epaisse et Ronde', 'Pâte à pizza rectangulaire', 'Pâte à pizza à la levure boulangère', 'Pâte à pizza rectangulaire', 'Pâte à pizza à la levure boulangère', 'Le Bon Paris, Avec Couenne (4 Tranches)', 'Le Bon Paris, Plaisir & Légèreté (4 Tranches + 1 Gratuite)', 'Le Bon Paris, Avec Couenne (4 Tranches)', 'Le Bon Paris, Plaisir & Légèreté (4 Tranches + 1 Gratuite)', 'Le Bon Paris, Avec Couenne (4 Tranches)', 'Le Bon Paris, Avec Couenne (4 Tranches)', 'Le Bon Paris, Avec Couenne (4 Tranches)', 'Tendre Noix, Supérieur Avec Couenne (4 Tranches)', 'Tendre Noix, Supérieur Avec Couenne (4 Tranches)', 'Tendre Noix, au Torchon (4 Tranches + 1 Gratuite)', 'Tendre Noix, au Torchon (4 Tranches + 1 Gratuite)', 'Tendre Croque, Chef (x 2)', 'Tendre Croque, Chef (x 2)', 'Tendre Croque, Chef (x 2)', 'La Brisée Pur Beurre', 'Pâte brisée', 'Pâte brisée prête à dérouler Monoprix', 'Pâte brisée prête à dérouler Monoprix', '4 Knacks de volaille', 'Knacks Pur Porc', 'Knacki au Jambon', 'American Saucisses', 'Knack pur porc', '4 Knacks de volaille', 'Knacks Pur Porc', 'Knacki au Jambon', '4 Knacks de volaille', 'Knacks Pur Porc', 'Knack pur porc', '4 Knacks de volaille', 'Knacks Pur Porc', 'Knack pur porc', '4 Knacks de volaille', 'Knacks Pur Porc', '4 Knacks de volaille', 'Jambon supérieur Au Torchon avec couenne', 'Jambon Supérieur, Sans couenne (4 Tranches)', 'Jambon Supérieur, Sans couenne (4 Tranches)', 'Si Légère', 'Crème légère de Normandie (15 % MG)', 'Si Légère', 'Crème légère de Normandie (15 % MG)', 'Crème légère de Normandie (15 % MG)', 'Crème légère de Normandie (15 % MG)', 'La Crèmerie Bio, Crème entière Fluide (30 % MG)', 'Crème Fleurette Entière (30 % MG),Très onctueuse', 'Crème Entière Fluide (30 % MG)', 'Crème fraîche onctueuse de Jersiaise', 'Crème fraîche onctueuse de Jersiaise', 'Crème épaisse', 'Crème fraîche de Normandie', 'Crème fraîche onctueuse de Jersiaise', 'Crème Fraîche épaisse', 'Crème épaisse', 'Crème fraîche de Normandie', 'Crème fraîche onctueuse de Jersiaise', 'Crème Fraîche épaisse', 'Crème épaisse', 'Crème fraîche de Normandie', 'Crème fraîche onctueuse de Jersiaise', 'Crème Légère 12% de matière grasse.', 'Crème Entière fluide fluide 2x20cl', 'Crème Entière fluide fluide 2x20cl', 'Crème Entière fluide fluide 2x20cl', 'Crème Entière fluide fluide 2x20cl', 'Crème Entière fluide fluide 2x20cl', \"La Plaquette d'Emile Bridel Doux (60% MG)\", 'Beurre doux (60% MG)', 'Beurre à teneur réduite en matière grasse doux', \"La Plaquette d'Emile Bridel Doux (60% MG)\", 'Beurre doux (60% MG)', 'Beurre à teneur réduite en matière grasse doux', \"La Plaquette d'Emile Bridel Doux (60% MG)\", 'Beurre Gastronomique Doux (82% MG)', 'Beurre A.O.P Charentes-Poitou Doux', 'Beurre du moulin Doux', 'Le Mini Beurre Gastronomique', 'Beurre doux (60% MG)', 'Le Beurre Tendre Doux ', \"La Plaquette d'Emile Bridel Doux (60% MG)\", 'Doux Le Pays (60% MG)', 'Beurre Doux 250g', 'Beurre Gastronomique Doux (82% MG)', 'Le beurre Moulé Doux', 'Beurre doux (60% MG)', 'Beurre tendre doux', '20 Mini Beurres gastronomiques Doux', 'Mini-beurres gastronomiques doux', \"La Plaquette d'Emile Bridel Doux (60% MG)\", 'Beurre de baratte cru Doux', 'Beurre de baratte doux', \"La Plaquette d'Emile Bridel Doux (60% MG)\", 'Beurre de baratte cru Doux', 'Beurre de baratte doux', \"La Plaquette d'Emile Bridel Doux (60% MG)\", 'Beurre de baratte cru Doux', 'Beurre de baratte doux', 'Beurre doux (60% MG)', 'Beurre à teneur réduite en matière grasse doux', 'Beurre Léger Demi-Sel (40% M.G.)', 'Babette Fine Saveur 60% Demi-Sel', 'Beurre Léger Demi-Sel (40% M.G.)', 'Babette Fine Saveur 60% Demi-Sel', 'Beurre de baratte demi-sel bio', 'Le Beurre gourmand noisy', 'Beurre aux cristaux de sel de mer de Noirmoutier', 'Beurre demi-sel aux cristaux de sel de mer (80 % MG)', 'Beurre de Bretagne demi-sel', 'Beurre Léger Demi-Sel (40% M.G.)', 'Babette Fine Saveur 60% Demi-Sel', 'Beurre Gastronomique Fin Demi-Sel', 'Beurre tendre', 'Beurre Léger Demi-Sel (40% M.G.)', 'Babette Fine Saveur 60% Demi-Sel', 'Beurre tendre', 'Beurre Bio demi-sel', 'Beurre breton demi sel', 'Beurre Demi-Sel', 'Beurre à la baratte demi sel', 'Beurre aux cristaux de sel de mer de Noirmoutier', 'Beurre demi-sel aux cristaux de sel de mer (80 % MG)', 'Beurre Léger Demi-Sel (40% M.G.)', 'Beurre tendre', 'Beurre Bio demi-sel', 'Beurre breton demi sel', 'Beurre Demi-Sel', 'Beurre à la baratte demi sel', 'Beurre aux cristaux de sel de mer de Noirmoutier', 'Beurre demi-sel aux cristaux de sel de mer (80 % MG)', 'Beurre Léger Demi-Sel (40% M.G.)', 'Beurre tendre', 'Beurre à la baratte demi sel', 'Beurre Léger Demi-Sel (40% M.G.)', 'Beurre bio de baratte Demi-sel', 'Beurre bio de baratte Demi-sel', 'Beurre gastronomique demi-sel', 'Casino croustillant aux céréales et aux fruits', 'Casino croustillant aux céréales et aux fruits', \"Kellogg's Frosties\", \"Kellogg's Frosties\", 'Caprice des Dieux (31 % MG)', 'Caprice des Dieux, Offre gourmande (30 % MG)', 'Le Délice du Crémier (30 % MG)', 'Double Crème (30 % MG) ', 'Le Délice du Crémier (30 % MG)', 'Double Crème (30 % MG) ', 'Double Crème (30 % MG) ', 'Beurre Tendre et Léger', 'Beurre président gastronomique', 'Beurre Tendre et Léger', 'Beurre Tendre et Léger', 'Beurre tendre doux (82% M.G)', 'Beurre de Bretagne doux', 'Beurre Tendre et Léger', 'Beurre président gastronomique', 'Beurre Tendre et Léger', 'Beurre moulé doux bio (82% MG)', 'Beurre président gastronomique', 'Beurre Tendre et Léger', 'Beurre moulé doux bio (82% MG)', 'Beurre Tendre et Léger', 'Crème légère semi-épaisse', 'Vermicelles', 'Pâte à Sucre', 'Pâte à Sucre', 'Pâte à Sucre', 'Pâte à Sucre', 'Pâte à Sucre', 'Pâte à Sucre', 'Pâte à Sucre', 'Harmony Magnesienne', 'Harmony Magnesienne', 'Marmelade Oranges', \"Marmelade d'Oranges\", 'Marmelade Oranges', \"Marmelade d'Oranges\", 'Marmelade Oranges', 'Confiture framboise 100% issu des fruits  Lucien Georgelin', 'Clair Fruits Framboise', 'Confiture framboise 100% issu des fruits  Lucien Georgelin', 'Saumon & Saumon fumé, Crevettes & Gingembre, Thon & Poivrons', 'Saumon & Saumon fumé, Crevettes & Gingembre, Thon & Poivrons', 'Tartinable de Thon', 'Saumon & Saumon fumé, Crevettes & Gingembre, Thon & Poivrons', \"Pruneaux d'Agen dénoyautés mi-cuits\", \"Pruneaux d'Agen dénoyautés mi-cuits\", \"Pruneaux D'agen\", \"Pruneaux d'Agen dénoyautés \", 'Rapadura', 'Blond pure canne ', 'Blond pure canne ', 'Sticks Vanille', 'Sticks Vanille', 'Sticks Vanille', 'Sticks Vanille', 'Sticks Vanille', 'Croûtons goût ail', 'Croûtons saveur fromage', 'Croutons nature ', \"Croûtons aromatisés à l'ail\", 'Croûtons salades ail & fines herbes', 'Croûtons nature spécial soupe', 'Croûtons de campagne', 'Croûtons saveur fromage', 'Croutons nature bio au blé complet', 'Croûtons salades ail & fines herbes', 'Croûtons ronds frits nature', 'Croûtons salades ail & fines herbes', 'Croûtons ronds frits nature', 'Filets de Maquereaux fumés Provençale', 'Filets de Maquereaux fumés Provençale', 'Filets de Maquereaux fumés Provençale', 'Filets de maquereaux au vin blanc et aux aromates', 'Filets de Maquereaux fumés Provençale', 'Maquereaux et sa Ratatouille', 'Filets de Maquereaux (Marinade Douce au Muscadet)', 'Filets de Maquereaux (Marinade Douce au Muscadet)', 'Sardines de saison Millésime 2015', 'Sardines de saison Millésime 2015', 'Sardines de saison Millésime 2015', 'Sardines de saison Millésime 2015', 'Sardines de saison Millésime 2015', 'Thon entier au naturel cuisson à coeur', 'Thon Albacore au naturel', 'Thon en tranche au naturel', 'Thon en tranche au naturel', 'Thon en tranche au naturel', 'Thon en tranche au naturel', 'Thon sauce Mayonnaise', \"Filets de Maquereaux à l'Indienne\", 'Filets de Maquereaux au citron', \"Filets de Maquereaux à l'Indienne\", 'Filets de Maquereaux au citron', \"Filets de Maquereaux à l'Indienne\", \"Filets de Maquereaux à l'Indienne\", 'Tarte tomates & courgettes, mozzarella', 'Tarte tomates & courgettes, mozzarella', 'Tarte Provencale', 'Tarte Provencale', 'Tarte tomates & courgettes, mozzarella', 'Chips croustillantes saveur bolognaise', 'Chips Paysannes nature', 'Chips Paysannes nature', 'Chips Paysannes nature', 'Chips Paysannes nature', 'Maxi Crok Poulet-Thym', 'Maxi Crok Poulet-Thym', \"Chips à l'Ancienne saveur Moutarde à l'Ancienne\", \"Chips à l'Ancienne saveur Moutarde à l'Ancienne\", \"Chips à l'ancienne nature\", \"Chips à l'Ancienne saveur Moutarde à l'Ancienne\", \"Chips à l'Ancienne saveur Moutarde à l'Ancienne\", 'Tortilla chips Original', 'Doritos sweet chilli pepper', 'Tortilla chips Original', 'Doritos sweet chilli pepper', 'Doritos sweet chilli pepper', 'Doritos sweet chilli pepper', 'Pâtes de fruits - France Marion confiserie', 'Ultra fruit jellies pamplemousse citron orange acérola', 'Pâtes de fruits - France Marion confiserie', 'Pâtes de fruits - France Marion confiserie', \"Huile D'olive Vierge\", 'Kokosöl Nativ', 'Cémoi', 'Tablette Chocolat Au Lait Aux éclats De Noix De Pécan', 'Foie De Morue 200 Capsules 400 MG', 'Pate de tomate seches', 'Pesto alla Genovese', 'Pate de tomate seches', 'Pesto alla Genovese', 'Choco-Mix Oreo', 'Chocolats Côté Ouest', 'Choco-Mix Oreo', 'Choco-Mix Oreo', 'Choco-Mix Oreo', 'Lait BIO demi-écrémé', 'Lait demi-écrémé Bio ', 'Lait demi-écrémé Bio ', 'Lait demi-écrémé Bio ', 'Petits beurre croustillants tablette de chocolat au lait', 'Biscuits nappés chocolat au lait', \"Granola L'Original\", \"Granola L'Original\", \"Granola L'Original\", 'Chips aux 4 Légumes', 'Chips de Banane Plantain', 'Chips aux 4 Légumes', 'Chips crevettes', 'Chips crevettes', 'Chips de Banane Plantain', 'Tortillas Chips goût Salé', 'Figue & 3 Noix (40 % MG)', 'Figue & 3 Noix (40 % MG)', 'Figue & 3 Noix (40 % MG)', 'Biscuits saveur pomme figue', 'Le cookie diététique aux pépites de chocolat', 'Sablés Fourrés Chocolat Noisette', 'Sablés céréales chocolat noir', 'Sablés Fourrés Chocolat Noisette', 'Charles VII craquant chocolat noir 54%', 'Sablés Citron & Graines De Chia Bio', 'Sablés bio au beurre Blé, avoine et Earl Grey', 'Sablés amandes saveur citron', 'Sablés bio au beurre Blé, avoine et Earl Grey', 'Mini croq bio emmental', 'Mini croq bio emmental', \"Macarons d'antan Chocolat intense\", \"Macarons d'antan Chocolat intense\", 'Soja sélection nature', 'Soja sélection nature', 'Brownies au Chocolat', 'Lait Bio \\x90(0 % MG) Écrémé', 'Silhouette bio Écrémé', 'Lait écrémé des campagnes françaises', 'Yaourt à boire aromatisé Goût Vanille', 'Yaourt à boire aromatisé Goût Vanille', 'Yop, Parfum Vanille (Offre Economique)', 'Yop, Parfum Vanille (Offre Economique)', 'Yop, Parfum Vanille (Offre Economique)', 'Coulommiers de caractère (23 % MG) ', 'Coulommiers - Tendre et Onctueux (23 % MG) ', 'Coulommiers - Tendre et Onctueux (23 % MG) ', 'Raclette cumin', 'Soupe 9 legumes', 'Soupe 9 legumes', 'Soupe 9 legumes', 'Soupe 9 legumes', 'Soupe 9 legumes', 'Soupe 9 legumes', 'Potabio du monde - Indien', 'Léger 30% MG', 'Traiteurs & Sandwicheries : Facile à tartiner', 'Planta Fin 60% MG Demi-sel (Tartine et Cuisson)', 'Planta Fin 60% MG Demi-sel (Tartine et Cuisson)', 'Culinesse', \"Duo Saveur d'Ail, Tomate & Persil\", 'Huile de friture', 'Culinesse', 'Culinesse', 'Culinesse', 'Culinesse', 'Culinesse', 'Mini Quatre Quarts', 'Quatre-quarts', '6 magadalenas fourrées à la confiture de fraise', 'Madeleines vanille', 'Madeleine pur beurre', 'Les Madeleines Nature', 'Madeleines marbrées', 'Madeleines coquilles de Bretagne', 'Madeleines vanille', 'Madeleine pur beurre', 'Mini madeleine au miel', 'Les Madeleines Nature', 'Madeleines marbrées', 'Madeleines coquilles de Bretagne', 'Madeleines vanille', 'Madeleine pur beurre', 'Mini madeleine au miel', \"Tablett' de Biscuit Chocolat Noisette\", 'Barre Riches en Fruits Figues Pruneaux', 'Barre Riches en Fruits Figues Pruneaux', \"Craqui'LU\", \"Craqui'LU\", \"Craqui'LU\", 'Biscuits à la cuillère', 'Biscuits à la cuillère pour pâtisserie', 'Biscuits à la cuillère pour pâtisserie', 'Cookies tout choco', 'Cookies tout choco', 'Madeleinettes nature', '9 madeleines pur beurre', 'Madeleines 100% Épeautre', 'Madeleine nature ', \"La Madeleine d'Armor Pur Beurre\", 'Normande', 'Madeleines Grain de Café', 'La madeleine bio', '9 madeleines pur beurre', 'La madeleine bio', '9 madeleines pur beurre', \"La Madeleine d'Armor Pur Beurre\", 'Normande', 'Madeleines Grain de Café', 'Cœur Fondant au Chocolat', 'Mix Milk', 'Moelleux cacao ', 'Dark Chocolate Cake (format familial)', 'Dark Chocolate Cake (format familial)', 'Moelleux cacao ', '4 Crêpes Froment Sucrées', '12 Crêpes Bretonnes sucrées ', '12 Crêpes Bretonnes sucrées ', '8 crêpes moelleuses saveur vanille', '8 crêpes sucrées saveur vanille', 'Crêpes fourrage au chocolat', 'Crêpes Confiture de fraise', '8 crêpes moelleuses saveur vanille', '8 crêpes sucrées saveur vanille', '8 crêpes moelleuses saveur vanille', 'Quatre-quarts breton', 'Le Gâteau Moelleux', 'Quatre-quarts breton', 'Brownies mini aux pépites de chocolat', 'Brownies mini aux pépites de chocolat', 'Amandes decortiquees', 'Amandes décortiquées', \"Eclats d'amandes\", \"Eclats d'amandes\", 'Pâte à sucre orange', 'Pâte à sucre orange', 'Boudin Noir aux Oignons', 'Boudin Blanc de Rethel', 'Mousse de foie supérieure pur porc', 'Terrine de Campagne (-25% de sel)', 'Terrine de Campagne (-25% de sel)', 'Mousse de Canard aux Figues', 'Lapins (mousse de canard)', 'Lapins (mousse de canard)', 'Mousse de Canard aux Figues', 'Lapins (mousse de canard)', 'Fine de foie de canard au Porto', 'Mousse de Canard aux Figues', 'Fine de foie de canard au Porto', 'Lapins (mousse de canard)', 'Lapins (mousse de canard)', 'Mousse de Canard aux Figues', 'Médaillons Mousse Pur Canard aux Pommes caramélisées', 'Flammenkueche champignons', 'Flammenkueche champignons', \"Flammekueche L'Originale\", 'Flammenkueche champignons', \"Flammekueche L'Originale\", 'Flammenkueche champignons', 'Flammenkueche champignons', 'Cervelas 10 tranches', 'Pâte Sablée', 'Pâtes à Flammekueche et à tartes fines', '4 Steaks Hachés 100% Pur Bœuf Surgelés', 'Steaks Hachés Pur Bœuf Façon Bouchère', '4 Steaks Hachés 100% Pur Bœuf Surgelés', 'Steaks Hachés 15% MG 100% Pur Boeuf', 'Steaks Hachés 15% MG 100% Pur Boeuf', 'Steaks Hachés 15% MG 100% Pur Boeuf', '4 Steaks Hachés 100% Pur Bœuf Surgelés', 'Hot dog ketchup', 'Mon Fruit Préféré, Ananas Délicieux', 'Mon Fruit Préféré, Fraise Gourmande', 'Orange Mangue', 'Mon Fruit Préféré, Ananas Délicieux', 'Multivitaminé jus de 9 fruits', 'Mon Fruit Préféré, Fraise Gourmande', 'Mon Fruit Préféré, Framboise Irrésistible', 'Mon Fruit Préféré, Ananas Délicieux', \"Vinaigrette en spray (Huile d'olive 70% & vinaigre balsamique 30%) 65% M.G.\", 'Sauce Crudités Caesar 33% MG', \"Vinaigrette en spray (Huile d'olive 70% & vinaigre balsamique 30%) 65% M.G.\", 'Sauce vinaigrette forte en moutarde', \"Sauce vinaigrette à l'huile d'olive et aux tomates séchées\", 'Vinaigrette MAILLE', \"Vinaigrette en spray (Huile d'olive 70% & vinaigre balsamique 30%) 65% M.G.\", 'Sauce vinaigrette forte en moutarde', \"Sauce vinaigrette à l'huile d'olive et aux tomates séchées\", 'Vinaigrette MAILLE', 'Gâteau breton aux oeufs frais', 'Gâteau breton pruneaux', 'Gâteau breton pruneaux', 'Emmental français Râpé (30 % MG)', 'Emmental Râpé (29 % MG)', \"L' Emmental français râpé (30 % MG)\", \"L' Emmental français râpé (30 % MG)\", \"L' Emmental français râpé (30 % MG)\", 'Cracker parmesan', 'Crackers bacon', 'Crackers bacon', 'Croûtons Croustillants Fromage', 'Mix Saveur de Provence', \"Sardines au citron à l'huile d'arachide\", \"Sardines à l'huile d'olive\", \"Sardines préparées à l'ancienne sans arête à l'huile d'olive extra vierge\", \"Sardines de Saint-Gilles Croix-de-Vie à l'huile d'olive vierge extra 21%\", 'Saucisse grillée & purée de pomme de terre', 'Dattes branchées ', 'Dattes branchées ', \"dattes fraîches Mazafati d'Iran\", \"dattes fraîches Mazafati d'Iran\", 'Dattes Sèches', 'Dattes Sèches', 'Pâte de dattes', 'Mini-brochettes de poulet au miel et au thym grillées au barbecue', 'Epaule cuit standard', 'Epaule cuit standard', 'Epaule cuite choix bloc', 'Gaufres au Miel Bio', 'Gaufres fourrées goût vanille', 'Gaufres hollandaises fourrage caramélisé', 'Gaufres fourrées goût vanille', \"5 Bât' Surimi + Sauce Fromage Ciboulette & Citron\", 'Le Cœur Frais Fromage Ail & Fines Herbes', 'Le Coeur Marin Thon, Thym & Citron', 'Fleur de Surimi', 'Bâtonnets saveur (boite de 12)', 'Bâtonnets de surimi (6 sachets de 3 bâtonnets)', 'Fleur de Surimi', 'Bâtonnets saveur (boite de 12)', 'Bâtonnets de surimi (6 sachets de 3 bâtonnets)', 'Fleur de Surimi', \"5 Bât' Surimi + Sauce Fromage Ciboulette & Citron\", 'Le Cœur Frais Fromage Ail & Fines Herbes', 'Fleur de Surimi', 'Mini Cornichons doux saveur Balsamique', 'Mini Cornichons doux saveur Balsamique', \"Croq'Vert aux 5 épices & aromates\", \"Croq'Vert aux 5 épices & aromates\", \"Croq'Vert aux 5 épices & aromates\", 'Saucisses Cocktail fumées', 'Saucisses Cocktail à la volaille ', \"La p'tite chipolata\", 'Saucisses Cocktail à la volaille ', 'Saucisses Cocktail', 'Saucisses cocktail', 'Saucisses Cocktail fumées', 'Saucisses cocktail de Volaille fumées', 'Saucisses Cocktail à la volaille ', 'Saucisses cocktail', 'Saucisses Cocktail fumées', 'Saucisses cocktail de Volaille fumées', 'Saucisses Cocktail à la volaille ', 'Saucisses cocktail', 'Saucisses cocktail de Volaille fumées', 'Saucisses Cocktail à la volaille ', 'Boudins créole', 'Boudins créole', 'Cocktail Barbecue', 'La Cocktail Légère (-30% de Mat. Gr.)', 'Saucisses Cocktail goût chili', 'Etorki (Offre €co) (33 % MG)', 'Roucoulons Noix (30% MG)', \"Moutarde de Dijon au miel et pain d'épices\", \"Fins Gourmets Pointe d'Épices\", 'Moutarde forte de Djon', \"Fins Gourmets Pointe d'Épices\", \"Moutarde de Dijon au miel et pain d'épices\", 'Moutarde de Dijon au vin blanc', \"Moutarde de Dijon au miel et pain d'épices\", 'Moutarde forte de Djon', \"Fins Gourmets Pointe d'Épices\", \"Fins Gourmets Pointe d'Épices\", \"Fins Gourmets Pointe d'Épices\", 'Moutardes de Dijon forte et onctueuse ', 'Moutarde de dijon fabriquée à la meule de pierre', \"Moutarde de Dijon au miel et pain d'épices\", 'Moutarde de Dijon Leader Price', 'moutarde forte de Dijon BIO', 'Moutarde Bio Forte de Dijon', 'Moutarde de Dijon Fine & Forte', 'Moutarde de Dijon Bio', \"Fins Gourmets Pointe d'Épices\", 'Olvies vertes farcies aux amandes', 'Olvies vertes farcies aux amandes', 'Quatre-quarts aux oeufs frais', 'Quatre-quarts aux oeufs frais', 'Nectar Orange ', \"Nectar d'Orange sans sucres ajoutés\", 'Pomme, jus à base de concentré', 'Jus Pomme A base de jus de pomme concentré', 'Jus Pomme', 'Pomme, jus à base de concentré', 'Pomme, jus à base de concentré', 'Picard - Crème Glacée - Vanille', 'Picard - Crème Glacée - Vanille', 'Genoise fourrée orange', \"PiM's L'Original Orange\", 'Génoises Framboise', 'Genoise fourrée orange', 'Génoises fourrées', 'Génoises Framboise', \"PiM's L'Original Orange\", \"PiM's L'Original Orange\", 'Genoise fourrée orange', 'Génoises fourrées', \"PiM's L'Original Orange\", 'Lardons Fumés (2 barquettes)', 'Lardons fumés (sans couenne, sans cartilage)', 'Lardons Fumés (2 barquettes)', 'Lardons fumés (sans couenne, sans cartilage)', 'Lardons Fumés (2 barquettes)', 'Velours de vinaigre aux agrumes', 'Vinaigrette Miel Moutarde', 'Velours de vinaigre aux échalotes', 'Velours de vinaigre aux agrumes', 'Velours de vinaigre aux échalotes', 'Velours de vinaigre aux agrumes', 'Velours de vinaigre aux échalotes', 'Feuilletée irrésistiblement sans gluten sans lactose', 'Pâte Feuilletée pure beurre', 'Pâte Feuilletée pure beurre', 'Les Croustilles', 'Verrines Salées Apéritives', 'Les Croustilles', 'Aiguillettes de poulet au citron marinées surgelées', '2 Pâtés de Foie 1 Pâté de Campagne', \"Le Pâté Hénaff au Confit d'Oignons\", 'Confiture allégée Myrtille', 'La Myrtille fruitée intense', 'Fiordifrutta Confiture Myrtilles Sauvages  BIO', 'confiture extra de myrtilles', 'Fiordifrutta Confiture Myrtilles Sauvages  BIO', 'Fiordifrutta Confiture Myrtilles Sauvages  BIO', 'Fiordifrutta Confiture Myrtilles Sauvages  BIO', 'Biscuits petit déjeuner Miel, céréales et pépites de chocolat', 'Biscuits pour le Petit déjeuner miel & chocolat', 'Biscuits Matin Abricot, Amande et Pépites de Chocolat', 'Biscuits Matin Abricot, Amande et Pépites de Chocolat', 'Biscuits petit déjeuner Miel, céréales et pépites de chocolat', 'Beurre demi-sel', 'Beurre demi-sel réduit en lactose (80 % M.G.)', \"Beurre aux cristaux de sel de mer de l'île de Noirmoutier\", 'Beurre demi-sel', 'Beurre de baratte biologique demi-sel au sel de Guérande', 'Beurre Aux Cristaux de Sel de Guérande', 'Beurre extra-fin demi-sel', 'Beurre extra fin demi sel', 'Beurre Aux Cristaux de Sel de Guérande', 'Beurre demi-sel réduit en lactose (80 % M.G.)', \"Beurre aux cristaux de sel de mer de l'île de Noirmoutier\", 'Beurre demi-sel', 'Beurre extra-fin demi-sel', 'Beurre extra fin demi sel', 'Beurre Aux Cristaux de Sel de Guérande', 'Beurre demi-sel réduit en lactose (80 % M.G.)', \"Beurre aux cristaux de sel de mer de l'île de Noirmoutier\", 'Beurre demi-sel', 'Beurre Aux Cristaux de Sel de Guérande', 'Beurre demi-sel réduit en lactose (80 % M.G.)', 'Beurre demi-sel', 'Equilence 4', \"Mélanges d'huiles 4 graines\", 'Brique au lait de vache pasteurisé (32 % MG)', 'Brique au lait de vache (32 % MG)', 'Brique au lait de vache (32 % MG)', \"Huile d'Olive Vierge Extra Bio\", 'Confiture Allégée Figue ', 'Confiture Extra de Figues Bio', 'Confiture Allégée Figue ', 'Confiture de Figues de Provence', 'Confiture Extra Figue Bio', 'Confiture Allégée Figue ', 'Mirabelles de Lorraine', 'Mirabelle INTENSE', 'Confiture extra de mirabelles', 'Mirabelle INTENSE', 'Confiture extra mirabelles', 'confiture mirabelles extra bio', 'confiture mirabelles extra bio', 'Croque-Monsieur Gratiné', 'Croque Monsieur Maxi', 'Croque-Monsieur Gratiné', 'Croque Monsieur Maxi', 'Croque à Poêler - Chèvre - Pain aux Graines', 'Croque-Monsieur Gratiné', 'Croque-Monsieur Gratiné', \"Tendre Croc' Bistrot à la béchamel Jambon Fromage à gratiner\", 'Croque-Monsieur Gratiné', \"Tendre Croc' Bistrot à la béchamel Jambon Fromage à gratiner\", 'Croque-Monsieur Gratiné', 'Sweet Chilli', 'Sweet Chilli', 'Boisson cacaotée ', 'Cacao cru ~ Theobroma cacao L ~ Poudre', 'Poudre de cacao', 'Nescafé Chococino', 'Miko Press Choco', 'Poudre de cacao', 'Miko Press Choco', 'Poudre de cacao', 'Chocky', 'Poudre de cacao', 'Nescafé Chococino', 'Chocky', 'Poudre de cacao', 'Nescafé Chococino', 'Jus de pamplemousse rose bio ', 'Pamplemousse rose, 100 % Pur Fruit Pressé', 'Pur jus de pamplemousse rose sélection Floride', '100 % Pur Jus Raisin ', '100 % Pur Jus Raisin ', 'Tiramisu à la framboise fruité et moelleux', 'Tiramisu italien', 'Tiramisu spéculoos', 'Tiramisu italien', 'Tiramisu spéculoos', 'Tiramisu à la framboise fruité et moelleux', 'Tiramisu framboise', 'Sauce Pesto Rosso (basilic et tomates sechées)', 'Sauce Pesto Rosso (basilic et tomates sechées)', 'Mini choux', 'picard Flûtes au sésame ', 'Pétales goût salé', 'Sauce Tomate Olives', 'Sauce Spaghetti', 'Le Polaire Saumon Fumé', 'Saumon fumé Aneth', 'Saumon Fromage Frais sur Pain Polaire', \"Panés de colin d'Alaska\", 'Bâtonnets panés de poisson', \"Filets de Colin d'Alaska panés\", 'Bâtonnets panés de poisson', \"Filets de Colin d'Alaska panés\", 'Petits Pains au lait', 'Petits Pains au lait', 'Petits Pains au lait', 'Petits Pains au lait', 'Baguettes viennoises Nature', 'Dessert végétal, Vanille Bourbon (4 Pots)', 'Les petits plaisirs Soja, Douceur Vanille', '100 % Pur Jus Pomme Mangue', '100 % Pur Jus Pomme Mangue', '100 % Pur Jus Multifruits', '100 % Pur Jus Pomme Mangue', 'Potato Gnocchi', 'Gnocchi farcis tomate et mozzarella', 'Gnocchi di patate', 'Gnocchi di patate', 'Gnocchi à la Pomme de terre', 'Pur jus de pomme de Bretagne', 'Quiche légumes du soleil au jambon', 'Crunchips au sel fin', 'Crunchips au sel fin', 'Crunchips au sel fin', 'Tuiles goût Bacon', 'Tuiles goût Bacon', 'Pizza divina 4 formaggi', 'Four à pierre - Recettes Océanes', 'Piccolinis Prosciutto Formaggio - Jambon Fromage', 'Pizza chèvre cuite au feu de bois bio', 'Taboulé oriental', \"Taboule Oriental a L'huile D'olive\", \"Taboule Oriental a L'huile D'olive\", \"Taboule Oriental a L'huile D'olive\", 'Tortilla Oignons', 'Tortilla Oignons', \"100% Jus d'Ananas Costa Rica\", \"Bio village 100% pur jus d'Ananas\", \"100% Jus d'Ananas Costa Rica\", \"100% Jus d'Ananas Costa Rica\", \"Bio village 100% pur jus d'Ananas\", 'Fromage râpé déshydraté', 'Tomates cerises Parmesan', 'Tomates cerises Parmesan', \"Caviar de tomates à l'ail\", 'Galette au blé noir  jambon emmental mozzarella ', '6 galettes au blé noir', 'Galette au blé noir  jambon emmental mozzarella ', 'Galette au blé noir  jambon emmental mozzarella ', 'Fettucine, Duo de saumons', 'Perles de pâtes et légumes grillés', 'Fettucine, Duo de saumons', 'Speck Crudités Mozzarella (Pâtes, Salade)', 'Speck Crudités Mozzarella (Pâtes, Salade)', 'Edulcorant à base de sucralose', 'Edulcorant à base de sucralose', 'Mini programme bien être', 'Edulcorant Liquide', 'Edulcorant Liquide', 'Edulcorant à base de sucralose', 'Simple & Bon! Duo de Saumon', 'Gourmet saumon cuit et fumé', 'Gourmet saumon cuit et fumé', 'Simple & Bon! Duo de Saumon', 'Pizza Spezia', 'Pizza garnie de fromage, de gouda et de cheddar fondu', 'Pizza Légumes', 'Mousse au chocolat gourmande', 'Mousse au chocolat aux oeufs by Norbert', 'Le Méga, Poulet rôti Mayo légère ', 'Club poulet crudités', 'Sandwich poulet cheddar sauce Mustard', 'Le polaire - poulet rôti sauce kebab', 'Sandwich poulet cheddar sauce Mustard', 'Sandwich poulet cheddar sauce Mustard', 'Galettes de riz fourrage au chocolat', 'Galettes riz chocolat lait', 'Galettes de riz fourrage au chocolat', 'Galettes de riz fourrage au chocolat', 'Galettes de riz fourrage au chocolat', 'Galettes de riz fourrage au chocolat', 'Galettes riz chocolat lait', 'Galettes de riz fourrage au chocolat', \"J'aime le lait d'ici\", 'Beurre Le Hameau demi-sel', \"Beurre au Piment d'Espelette Demi-Sel\", 'Beurre moulé de Bretagne doux', 'Emmental râpé (29% MG)', 'Emmental râpé (29% MG)', 'Emmental râpé (29% MG)', 'Gruyère râpé', 'Emmental râpé (29% MG)', 'Gruyère râpé', 'Emmental râpé (29% MG)', 'Gruyère râpé', 'Emmental râpé (29% MG)', 'Emmental Coeur de Meule ', 'Emmental (30% MG)', 'Emmental Coeur de Meule ', 'Emmental (30% MG)', 'Brioche Tranchée la recette Originale  ', 'Brioche Tranchée la recette Originale  ', 'Brioche Tranchée la recette Originale  ', 'Brioche Tranchée la recette Originale  ', 'Brioche Tranchée la recette Originale  ', \"6 spiralo's chocolat\", 'Pitch choco barre', 'Pitch Choco Barre - Chocolat au Lait', 'DooWap aux Pépites de Chocolat au Lait', 'La brioche tressée au beurre frais', 'Brioche tressée bio', 'Ma brioche Tressée aux Perles de Sucre', 'Brioche tressée à la main (offre économique)', 'Brioche tressée à la main (offre économique)', 'Thé vert Bio Forme', 'Thé vert Bio Forme', 'Cookies noisettes et pépites de chocolat', 'Soja Dessert Vanille Bio ', 'Soja Dessert Vanille Bio ', 'Rice drink moka', 'Boisson Riz Coco', 'Boisson Riz Coco', 'Boisson Riz Coco', 'Sablissime chocolat au lait', 'Soja à cuisiner', 'Cuisine Soja (15% MG)', 'Soja du Sud-Ouest Spécial Cuisine', 'Soja Cuisine (17 % MG) ', 'Soja à cuisiner', 'Soja spécial cuisine', \"Soja spécial Cuisine source d'oméga-3\", 'Cuisine Soja (15% MG)', 'Soja du Sud-Ouest Spécial Cuisine', 'Soja cuisine Bio', 'Cuisine Soja (15% MG)', 'Lait de coco Original', 'Lait de coco Original', 'Dessert amande chocolat', \"Lait D'amande Chocolat\", 'Confiture Fraises extrait de Stévia', 'Fine Ligne Confiture Fraise', 'Confiture Fraises extrait de Stévia', 'Canneberge', 'Canneberge', 'Canneberge', 'Canneberge', 'Galettes de Riz Bio au Chocolat Noir', 'Galette de riz au chocolat noir', 'Galettes de Riz Bio au Chocolat Noir', 'Galette de riz au chocolat noir', 'Galette de riz au chocolat noir', 'Bio Galettes de Riz nappées de Chocolat Noir', 'Bio Galettes de Riz nappées de Chocolat Noir', 'Galette de riz au chocolat noir', 'Aubergine Amande', 'Mexicana', 'Aubergine Amande', 'Mexicana', 'Thon & Boursin poivre', 'Sandwich Delight Nature', 'Perles de Saveurs Vinaigre Balsamique de Modène', 'Confiture de fraises au fructose', 'Confiture de fraises au fructose', 'Confiture allégée fraises', 'Fines gaufrettes chocolat noisettes', \"La paille d'or aux cerises \", \"La paille d'or aux cerises \", \"Motarde au pain d'épices de Dijon\", \"Motarde au pain d'épices de Dijon\", \"Motarde au pain d'épices de Dijon\", 'Moutarde de Dijon', 'Hachés de Poulet rôtis façon Pizza', 'Hachés de Poulet rôtis façon Pizza', 'Hachés de Poulet rôtis façon Pizza', 'Hachés de Poulet rôtis façon Pizza', 'Cordons bleu de volaille (x 2)', \"L'Extra Façon Cordon Bleu (x 2)\", 'Nuggets au poulet croustillants bio', 'Nuggets au poulet croustillants bio', 'Saucisses de Strasbourg (4+1 gratuite)', 'Saucisses de Strasbourg (4+1 gratuite)', 'La Strasbourg', 'Saucisses de Strasbourg (4+1 gratuite)', 'Smoothie Bio Ananas + Banane', 'Smoothie Pineapple Banana Coco', 'Kale Brocoli Kiwi', 'Concombre Avocat Poire', 'Smoothie Bio Ananas + Banane', 'SMOOTHIE MANG-ANAN-ACEROLA', 'Concombre Avocat Poire', 'Innocent Super Smoothie Antioxidant', 'Smoothie fraise et mûre', 'Smoothie Bio Ananas + Banane', 'Kale Brocoli Kiwi', 'Concombre Avocat Poire', 'Smoothie Bio Ananas + Banane', 'Innocent Super Smoothie Antioxidant', 'Smoothie', 'Smoothie fraise banane', 'Smoothie Bio Ananas + Banane', 'SMOOTHIE MANG-ANAN-ACEROLA', 'Kale Brocoli Kiwi', 'Concombre Avocat Poire', 'Smoothie fraise banane', 'Smoothie Bio Ananas + Banane', 'SMOOTHIE MANG-ANAN-ACEROLA', 'Kale Brocoli Kiwi', 'Concombre Avocat Poire', 'Smoothie Bio Ananas + Banane', 'Smoothie Pineapple Banana Coco', 'Kale Brocoli Kiwi', 'Concombre Avocat Poire', 'Gnocchi à la Pommes de terre', 'Gnocchi à la semoule de blé dur', 'Gnocchi à la semoule de blé dur', 'Raviolis jambon cru et fromage', 'Pâtes à la provençale ', 'Cremio Box Thon à la crème', 'Xtrem Box Lardon raclette', 'Radiatori aux fromages ', 'Cremio Box Thon à la crème', 'Xtrem Box Lardon raclette', 'Radiatori aux fromages ', 'Fusilli poulet crème et moelleux au chocolat', \"Le tajine d'agneau et sa semoule parfumée pruneaux et amandes\", 'Pizza Maxi Jambon-Fromage', 'Pizza Maxi Jambon-Fromage', 'Pizza Maxi Jambon-Fromage', 'Pizza feu de bois 3 Fromages', 'Pizza aux 3 Fromages Bio ', 'Le Méga Suédois Jambon Cheddar', 'Huile Vierge de Lin', 'Pure Sesame Oil', 'Fleur de fruits Fraise', 'Confirure Fraises', 'Fleur de fruits Fraise', 'Confirure Fraises', 'Fleur de fruits Fraise', 'Confiture Myrtilles extra', \"L'inégalable fraise & framboise\", 'Fraises Framboises', 'Fraises Framboises', 'Cassoulet du Pays Occitan aux saucisses de Toulouse', 'Le Cassoulet (Pur Porc)', 'Le Cassoulet (Pur Porc)', 'Le Cassoulet (Pur Porc)', 'Jus de Poire', 'Nectar de Poire', 'Poire Williams du Roussillon', 'Confiture allégée Mirabelle', \"Riste d'Aubergines, Recette Provençale\", \"Riste d'Aubergine\", \"Riste d'Aubergine\", \"Riste d'aubergines À la provençale\", 'St-Môret Ligne et plaisir', 'Ligne & Plaisir', 'St-Môret Ligne et plaisir', 'Ligne & Plaisir', 'La cancoillotte du fromager', 'Saint Agur Crème', 'La cancoillotte du fromager', \"Crème de Fourme d'Ambert\", \"Crème de Fourme d'Ambert\", \"Crème de Fourme d'Ambert\", 'St-Môret Ligne et plaisir', 'Ligne & Plaisir', 'La cancoillotte du fromager', '5 Crêpes Délices', '5 Crêpes Délices', 'Crêpes Divines', '5 Crêpes Délices', 'Crêpes moelleuses Saveur Vanille', '5 Crêpes Délices', 'Crêpes moelleuses Saveur Vanille', 'Saumon Fumé Sauvage du Pacifique', 'Saumon fumé biologique', 'Saumon Fumé Sauvage du Pacifique', 'Tartare de Saumon fumé', 'Raisins secs sultanines', 'Raisins Secs Bio', 'Raisins secs sultanines', 'Raisins secs ', 'Raisins secs sultanines', 'Raisins secs ', 'Tarte au Camembert de Normandie', 'Tarte au Camembert de Normandie', 'Bâtonnets Tendres (28 Bâtonnets)', '28 Bâtonnets Saveur Crabe', 'Bâtonnets Tendres (28 Bâtonnets)', '28 Bâtonnets Saveur Crabe', 'Le Bâtonnet Moelleux (+ 4 Bâtonnets Gratuits soit 34 bâtonnets)', '28 Bâtonnets Saveur Crabe', 'Instantané 7 vitamines et calcium (chocolat en poudre)', 'Milka Recette onctueuse au tendre gout chocolat', 'Instantané 7 vitamines et calcium (chocolat en poudre)', 'Cao au cacao maigre ', 'Instantané 7 vitamines et calcium (chocolat en poudre)', 'Milka Recette onctueuse au tendre gout chocolat', \"Pâte de campagne, recette à l'ancienne \", 'Paté de campagne au porc breton', '10 marrons glacés', 'Marrons Glacés Morceaux', 'Marrons Glacés Morceaux', 'Marrons Glacés', 'Cordons Bleus de Dinde', 'Cordons Bleus de Dinde', '80% Cacao Noir', '80% Cacao Noir', \"Chocolat noir 200 g Côte d'Or\", \"Chocolat noir (lot de 2 x 200 g) Côte d'Or\", '80% Cacao Noir', 'Pépites de Poire Noir', 'Chocolat Gingembre NewTree', 'Pépites de Poire Noir', 'Chocolat Gingembre NewTree', \"L'Emmental Français (28 % MG) \", 'Emmental français (29 % MG)', 'Sauce au soja', 'Sauces soja & sésame', 'Sauces soja & sésame', 'Sauces soja & sésame', 'Sauce de soja - Thin Soy Sauce', 'Sauces soja & sésame', 'Sauce de soja - Thin Soy Sauce', 'Pur Jus 2 agrumes', 'Pur Jus 2 agrumes', 'pulpé orange', 'pulpé orange', 'pulpé orange', 'Nems de Porc sauce Nuoc Mâm', 'Nems de Porc sauce Nuoc Mâm', 'Chorizo à griller', 'Chorizo à griller', 'Véritable chorizo doux', 'Saint Agaûne au Comté', 'Saucisson sec boeuf volaille', 'Saucisson sec boeuf volaille', 'Saint Agaûne au Comté', 'Galettes de riz chocolat noir ', 'Galettes de riz chocolat noir ', 'Crackers Allégés Saveur Crème Oignon', 'Cracker Crisps Paprika (60 % de matières grasses en moins)', 'Cracker Crisps Paprika (60 % de matières grasses en moins)', 'Cracker Crisps Paprika (60 % de matières grasses en moins)', 'Cracker Crisps Paprika (60 % de matières grasses en moins)', 'Cracker Crisps Paprika (60 % de matières grasses en moins)', 'Croissants pur beurre surgelés prêts à cuire', 'Croissants pur beurre surgelés prêts à cuire', 'Croissants pur beurre surgelés prêts à cuire', '20 Bâtonnets à base de Chair de poisson saveur crabe', 'Bâtonnets Saveur Crabe (24 bâtonnets) 405 g', '20 Bâtonnets à base de Chair de poisson saveur crabe', 'Le Surimi saveur crabe (27 bâtonnets) - 500 g', '100% pur jus Orange', \"Pur jus d'orange Cuba Brésil\", 'Orange & Carotte ', 'Pure Premium Orange sans pulpe 100% pur fruit pressé', 'Lait entier UHT', 'GrandLait Pleine Saveur Entier', 'Lait Entier Stérilisé UHT', 'Lait entier stérilisé UHT bio', 'GrandLait Pleine Saveur Entier', 'Lait entier UHT', 'Lait entier UHT', 'GrandLait Pleine Saveur Entier', 'Lait entier UHT', 'Lait Entier Stérilisé UHT', 'Lait Demi-écrémé stérilisé UHT', 'Lait stérilisé demi-écrémé', 'Lait stérilisé demi-écrémé', 'Lactel Nr 1', 'Lactel Nr 1', 'Yaourt nature sucré', 'Yaourt nature sucré', 'Basquella', 'Pâte à tartiner noisette, cacao & baobab', 'Cookies maxi pépites de chocolat', 'Petits Garnis Poulet César', 'Mini Mexicano', 'Mini Mexicano', 'Tartelettes fines à la tomate', 'Pâte feuilletée ', 'Pâte feuilletée Trésor de Grand Mère', 'La petite tarte feuilletée pur beurre', 'Délice de Soja', 'Pâtes Rigatoni, Sauce Crème Gorgonzola et Cèpes, Surgelé', 'Crêpes jambon-fromage surgelées', 'Pommes rissolées, aux herbes', 'Crêpes jambon-fromage surgelées', 'Crêpes jambon-fromage surgelées', 'Crème Fraîche Épaisse (30 % MG)', 'Emmental Français râpé (29 % MG)', 'Emmental Français râpé (29 % MG)', 'Emmental Français râpé (29 % MG)', 'Emmental Français râpé (29 % MG)', 'Emmental Français râpé (29 % MG)', 'Lait entier ', 'Lait frais Microfiltré De Normandie', 'Lait frais Microfiltré De Normandie', 'Lait frais Microfiltré De Normandie', 'Fromage frais pur chèvre', 'Fromage de Chèvre', 'Chèvre Frais aux Abricots (18% MG)', 'Fromage frais pur chèvre', 'Fromage de Chèvre', \"Crousti' Express Extra aux Herbes\", \"Frit'up\", \"Crousti' Express Extra aux Herbes\", \"Frit'up\", 'Frites au Four Coupe Rustique', \"Frit'up\", 'Just au four', 'Fine ligne Confiture abricot', \"Confiture d'abricots -30 % de sucres\", \"Confiture d'abricots -30 % de sucres\", \"Confiture d'abricots -30 % de sucres\", 'Fine ligne Confiture abricot', 'Lardons Nature', 'Lardons allumettes', 'Lardons allumettes', 'Croustipate Sablée Pur Beurre', 'Pâte sablée', 'Croustipate Sablée Pur Beurre', 'Pâte sablée', 'Croustipate Sablée Pur Beurre', '100% pur jus pressé Multifruit', \"Sélection Ananas Passion d'Amérique Latine\", \"Sélection Ananas Passion d'Amérique Latine\", 'Premium Pur Jus France Pêche-Abricot', 'Premium Pur Jus France Pêche-Abricot', 'Pure Premium Ruby Breakfast 100% pur fruit pressé', 'Chicken Crousty façon Cordon Bleu', 'Cordons Bleus de dinde aux 2 Fromages', 'Chicken Crousty façon Cordon Bleu', 'Chicken Crousty façon Cordon Bleu', 'Pâturages', 'Petit camembert', 'Camembert au Calvados', 'Camembert Les Croisés', 'Camembert au Calvados', 'Camembert Les Croisés', 'Camembert au Calvados', 'Camembert Les Croisés', 'Petit Brie (31% MG) 500 g', 'Petit Brie (30 % MG)', 'Pains Au Chocolat', 'Yaourt à la vanille de Madagascar au lait entier', 'yaourt saveur vanille', 'Yaourt à la vanille de Madagascar au lait entier', 'Yaourt au lait entier Vanille', 'Yaourt à la vanille de Madagascar au lait entier', 'yaourt saveur vanille', 'yaourt saveur vanille', 'Yaourt à la vanille de Madagascar au lait entier', 'Adelie Bac Vanille', \"Smarties Pop'up\", 'Adelie Bac Vanille', 'Adelie Bac Vanille', 'Adelie Bac Vanille', 'Adelie Bac Vanille', \"Smarties Pop'up\", '100% Oranges sans pulpe', '100 % Pur Jus Orange (Avec Pulpe)', '100 % Pur Jus orange (Avec Pulpe)', 'Jus multivitamines', 'Cocktail 12 fruits multivitaminé', 'Jus multivitaminé de 12 fruits', 'Jus multivitamines', 'Jus de fruits multivitaminé', 'Jus multivitamines', 'Jus multivitaminé de 12 fruits', 'Jus multivitaminé de 12 fruits', 'Nectar tropical Carotte et Tomate Light', 'Nectar Tamarin', 'Nectar tropical Carotte et Tomate Light', 'Nectar tropical Carotte et Tomate Light', 'Soupe aux choux + plantes & chou Kale', '10 Pains au lait au levain pépites de chocolat', '10 Pains au lait au levain pépites de chocolat', '10 Pains au lait aux pépites de chocolat ', '10 Pains au lait au levain pépites de chocolat', 'Les Gourmands Marrons glacés', 'Les Gourmands Marrons glacés', 'Les Gourmands Marrons glacés', 'Les Gourmands Marrons glacés', 'Les Gourmands Marrons glacés', 'Les Gourmands Marrons glacés', 'Lait Demi-Écrémé Stérilisé', 'Lait demi-écrémé Bio', 'Halfvolle melk', 'Lait Demi Écrémé', 'Halfvolle melk', 'Halfvolle melk', 'Fromage à tartiner, ail et fines herbes (24 % MG)', 'Fromage à Tartiner, Ail & Fines Herbes (24 % MG)', 'Fromage à tartiner, ail et fines herbes (24 % MG)', 'Fromage à tartiner, ail et fines herbes (24 % MG)', \"Moules à l'escabèche piquant\", \"Moules à l'escabèche piquant\", 'Moules au Naturel', 'Moules au Naturel', 'Moules au Naturel', '2 Crêpes Pommes', '2 Crêpes Pommes', '2 Crêpes Pommes', '2 Crêpes Pommes', '2 Crêpes Pommes', 'Chips allégée au sel marin de Camargue', 'La Légère -30% de M.G.', 'La Légère (-30% de MG)', 'La Légère -30% de M.G.', 'La Légère (-30% de MG)', 'Le Bâton de Berger Maxi', \"L'affiné\", 'Saucisson Sec petites tranches', 'Petits Bâtons de Berger Nature (2+1 gratuits)', \"L'affiné\", 'Ketchup Allégé (- 50 % Sucres)', '100 % pur jus Douceur du Matin', 'Multifruits pur jus', '100 % pur jus Douceur du Matin', 'Pure Premium Ruby Breakfast (maxi format)', 'Jus de fruits multifruits', 'Jus de fruits multifruits', '100% Issu des Fruits - Spécialité De Figue Cuit au Chaudron', 'Confiture figue noix', 'Figue de Provence', '100% Issu des Fruits - Spécialité De Figue Cuit au Chaudron', '100% Issu des Fruits - Spécialité De Figue Cuit au Chaudron', 'Confiture figue noix', 'Confiture De Figues De Provence ', 'Confiture De Figues De Provence ', '100% Issu des Fruits - Spécialité De Figue Cuit au Chaudron', 'Papalac Céréales Lactés', 'Préparation pour pain et pâtisserie', 'Sauce fajitas ', 'Sauce pour Fajitas', 'Sauce pour Fajitas', 'Sauce pour Fajitas', 'Sauce pour Fajitas', 'Pappardelle', 'Pantacce', 'Pappardelle', 'Eclats de fèves de cacao Noir', 'Eclats de fèves de cacao Noir', \"Huile d'olive de Tunisie vierge extra\", 'Huile d olive vierge extra origine espagne', 'Huile d olive vierge extra origine espagne', 'Huile d olive vierge extra origine espagne', \"Huile d'olive de Nyons\", \"Huile d'olive L'originale\", 'Huile d olive vierge extra origine espagne', \"Huile d'olive de Nyons\", \"Huile d'olive L'originale\", 'Petit Corse Poivrons (22% MG)', 'Brique de Brebis (26,3% MG)', 'Petit Corse Poivrons (22% MG)', 'Tomates mi-séchées aux herbes de Provence ', 'Tomates mi-séchées aux herbes de Provence ', 'Tomates mi-séchées aux herbes de Provence ', 'Truite fumée bio', 'Truite fumee au bois de hêtre ', 'Truite Fumée Bio', 'Truite fumée', \"Truite fumée d'Aquitaine\", 'Truite fumée', 'Truite fumée', 'Tartelettes au citron', 'Tartelettes au citron', 'Jus de pomme de Bretagne', \"L'Incroyable Jus de Pomme Pointe de Gingembre\", 'Jus de pomme de Bretagne', 'Jus de pomme de Bretagne', 'Risotti', 'Riz pour risotto', 'Risotti', 'Risotti', 'Piña Colada sans alcool', 'Mojito sans alcool', 'Champignons de Paris Pieds & Morceaux', 'Champigons de Paris pieds et morceaux', 'Champignons de Paris Pieds & Morceaux', 'Champigons de Paris pieds et morceaux', 'Champignons de Paris Pieds & Morceaux', 'Champigons de Paris pieds et morceaux', 'Champigons de Paris pieds et morceaux', 'Bio Noisettina', 'Bio Noisettina', 'Pains au chocolat (x 10) 450 g - Dia', 'Coraya les perles fromage tomate & basilic', 'Suprêmes au Goût Frais de Crabe', '6 bâtonnets mayonnaise allégée', 'Coraya les perles fromage tomate & basilic', 'Surimi coeur frais provençal', 'Le Cœur Frais Fromage Ail et Fines Herbes', 'Le Coeur Frais fromage basilic', '6 bâtonnets mayonnaise allégée', 'Bâtonnets saveur crabe', 'Coraya les perles fromage tomate & basilic', 'Coraya les perles fromage tomate & basilic', '100% Pur Jus Pomme Pastèque', '100% Pur Jus Pomme Pastèque', \"Jus d'Orange bio\", \"P'tit Déj\", '100% Pur Jus Pomme Pastèque', \"Jus d'Orange bio\", \"P'tit Déj\", 'Allumettes fumées', 'Allumettes fumées', 'Allumettes fumées', 'Lardons sans couenne fumés', 'Lardons de volaille fumés au bois de hêtre', 'Lardons allumettes fumés', 'Fruits Fromage frais', 'Fruits Fromage frais', 'Fruits Fromage frais', 'Yaourt au lait entier saveurs: vanille, fraise des bois, noix de coco, citron', 'Fruits Fromage frais', 'Yaourt au lait entier saveurs: vanille, fraise des bois, noix de coco, citron', 'Yaourt au Lait Entier saveur Vanille', 'Yaourt au lait entier saveur cerise', 'Crèmes desserts au lait entier Café des Indes', 'Crèmes desserts au lait entier Vanille Bourbon', 'Crème dessert Chocolat ', 'Force+', 'Chocolat dessert Noir', 'Crème dessert au chocolat du Vietnam ', 'Chocolat dessert Noir', 'Crème dessert au chocolat du Vietnam ', 'Chocolat dessert Noir', 'Chocolat dessert Noir', 'Chocolat dessert Noir', 'Desserts soja chocolat vanille', 'Crème au chocolat au lait de chèvre', \"Candy'Up Crème dessert\", 'Chocolat dessert Noir', 'Desserts soja chocolat vanille', 'Crème au chocolat au lait de chèvre', \"Candy'Up Crème dessert\", 'Chocolat dessert Noir', 'Crème dessert au chocolat du Vietnam ', 'Mayonnaise dijonnaise ', 'Pâte à tartiner Chocolat-Noisette au lait entier frais', 'Pâte à tartiner Noir & Noisette NewTree', 'Pâte à tartiner noisette - cacao', 'Pâte à tartiner Chokénut', 'Chocolinette noisette, noix de cajou', 'Pâte à tartiner au chocolat noir NewTree', 'Pâte à tartiner au lait NewTree', 'U Nudela', 'Briquettes de jus de pomme bio Paquito X10', 'Briquettes de jus de pomme bio Paquito X10', 'Pomme, Fruits pressés 100% pur jus', 'Pur jus pomme 100% pur fruit pressé', 'Pomme 100 % Pur Jus', '4 saucisses fumées au bois de hêtre', '4 saucisses fumées au bois de hêtre', 'Boisson Au Millet Nature Bio ', 'Boisson Au Millet Nature Bio ', 'Boisson riz et amande', 'Mini Doux et Gourmand', 'Sauce Poivre', 'Sauce aux poivres', 'Three pepper sauce', 'Sauce Poivre', 'Sauce Poivre', 'Sauce Poivre', 'Cornichons Extra Fins Cueillis main', \"Croq'vert Aux 5 Epices & Aromates Extra fins Offre Saisonnière 670 g - Amora\", 'Lait Bio demi-écrémé', 'Chocolat Noir Spécial Pâtisserie', 'Chocolat noir dessert 52% cacao', 'Alter Eco Noir Dessert', 'Chocolat Noir Spécial Pâtisserie', 'Alter Eco Noir Dessert', 'Mix & wok noodles', 'Beurre Doux (82 % MG)', 'Beurre doux gastronomique (82 % MG)', 'Beurre Doux (82 % MG)', 'Beurre Doux (82 % MG)', 'Mortadella bologna I.G.P', 'Mortadella bologna I.G.P', 'Mortadella bologna I.G.P', 'Mortadella bologna I.G.P', 'Rosette Grandes tranches', 'Rosette finement tranchée', 'Rosette des Monts du Lyonnais Dia', 'Rosette des Monts du Lyonnais Dia', 'Knacks Strasbourg (x 10)', 'Knacks Strasbourg (x 10)', 'Cookies Tout Chocolat', 'Choco Cookies', 'Molivo tartine et cuisson bio', 'ProActiv Olive Oil Spread', 'Molivo tartine et cuisson bio', 'ProActiv Olive Oil Spread', 'Omega Spread', 'ProActiv Olive Oil Spread', 'Omega Spread', 'St Hubert Oméga 3', '100 % pur jus de pamplemousse vert', '100 % pur jus de pamplemousse vert', 'Cerise I', 'Cerise I', 'Fraîcheur de fruits Orange Mangue', 'Nectar multivitaminé à base de jus et de purées de fruits partiellement à base de concentré', 'Nectar multivitaminé à base de jus et de purées de fruits partiellement à base de concentré', 'Nectar multivitaminé à base de jus et de purées de fruits partiellement à base de concentré', 'Fraîcheur de fruits Pomme', '6 Gaufres Liégeoises Goût Chocolat', 'Gaufres de Liège aux oeufs frais pétales de sucre', '6 Gaufres Liégeoises Goût Chocolat', 'Gaufres Liégoises Choco', 'Gaufres de Liège aux oeufs frais pétales de sucre', '6 Gaufres Liégeoises Goût Chocolat', '6 Gaufres Liégeoises Goût Chocolat', '6 Gaufres Liégeoises Goût Chocolat', 'Mini Mozzarella (17% MG)', 'Mini Mozzarella (17% MG)', 'Terrine du Sud-Ouest', 'Huile vierge tournesol', 'Coeur de Tournesol (+20% gratuit)', 'huile de tournesol friture + poêlées ', 'huile de tournesol friture + poêlées ', 'huile de tournesol friture + poêlées ', 'Noisette au Suc de Canne Intégral', 'Pâte à tartiner La Chocolate', 'Noisette au Suc de Canne Intégral', 'Pâte à tartiner La Chocolate', 'Noisette au Suc de Canne Intégral', '100% pur jus Clémentine ', '100% pur jus Clémentine ', 'Pur jus clémentine ', '100% pur jus Clémentine ', 'Noix de Pécan grillées et salées', 'Noix de Pécan grillées et salées', 'Noix de Pécan grillées et salées', 'Noix de Pécan grillées et salées', 'Noix de Pécan grillées et salées', \"Croq'vert\", 'Chocolat noir fourré praliné', 'Rocher noir au praliné', 'Chocolat noir Praliné aux éclats de noisettes caramélisées', 'Rocher noir au praliné', 'Chocolat noir fourré praliné', 'Rocher noir au praliné', 'Rocher noir au praliné', 'Fromage de Chèvre Frais Bio U', 'Fromage de Chèvre Frais Bio U', 'Fromage de Chèvre Frais Bio U', 'Confiture Cerise au sucre de canne', \"Lait entier stérilisé UHT issu de l'agriculture biologique\", 'Lait entier stérilisé U.H.T.', \"Lait entier stérilisé UHT issu de l'agriculture biologique\", 'Lait entier stérilisé U.H.T', \"Lait entier stérilisé UHT issu de l'agriculture biologique\", 'Lait entier stérilisé U.H.T', 'Fleur de citron', 'Le Citron Vert', 'Ravioli Légumes - 675 g - Jardin Bio', \"Pruneaux d'Agen très gros\", \"Pruneaux d'Agen, avec noyaux\", \"Pruneaux d'Agen bio mi-cuits\", 'Domino', 'Domino', \"Pruneaux d'Agen bio mi-cuits\", '2 panés au poisson et au fromage', '2 panés au poisson et au fromage', 'Cervelas Ardennais', 'Cervelas Ardennais', 'Cervelas Ardennais', 'Lardons supérieurs fumés', 'Lardons supérieurs fumés', 'Allumettes Lardon Fumés', 'Lardons supérieurs fumés', 'Pringles Original', 'Dessert au soja saveur vanille', 'Dessert Soja vanille', 'Dessert au soja saveur vanille', 'Allumettes lardons nature', 'Allumette lardon', 'Allumettes lardons nature', 'Allumettes de Lardons nature', 'Allumette lardon', '6 pains au chocolat bio', '6 pains au chocolat bio', '6 pains au chocolat bio', 'Pommes allumettes à four', \"Frites du Ch'Nord\", 'Tapenade', 'Tapenade', 'Tapenade', 'Tapenade olives noires', '3 Oeufs avec surprise', '3 Oeufs avec surprise', \"L'Oeuf coque Noisette\", '3 Oeufs avec surprise', \"L'Oeuf coque Noisette\", 'Coconut chocolate', 'Coconut chocolate', 'Lait de coco.', 'Lait de coco.', 'Sea salt & cider vinegar', 'Chips naturel', 'Chips naturel', 'Chips naturel', \"Aiguillettes panées de Colin d'Alaska, Surgelé\", \"Crispies, 8 Portions de Colin d'Alaska\", \"Aiguillettes panées de Colin d'Alaska, Surgelé\", \"Crispies, 8 Portions de Colin d'Alaska\", \"Crispies, 8 Portions de Colin d'Alaska\", 'Pur jus multi fruits', 'Nectar banane', 'Nectar Banane', 'Nectar Banane', 'Nectar gourmand banane', 'Nectar gourmand banane', \"Pâtes de fruits d'Auvergne 5 saveurs\", 'Pâte de mangue', 'Ultra fruit jellies - Cassis Acelora Pomme', \"Pâtes de fruits d'Auvergne 5 saveurs\", \"Pâtes de fruits d'Auvergne 5 saveurs\", 'Ultra fruit jellies - Cassis Acelora Pomme', 'Sandwich Surimi Mayonnaise allégée', 'Sandwich Surimi Mayonnaise allégée', 'Sandwich Surimi Mayonnaise allégée', 'Sandwich Surimi Mayonnaise allégée', \"8 fusées de glace à l'eau\", '10 Ice Pops', 'Rochers de coco', 'Dessert glacé parfum Fraise', 'Natural Frozen Yogurt Natural + Caramel and Peanut', 'Dessert glacé parfum Fraise', 'Natural Frozen Yogurt Natural + Caramel and Peanut', 'Natural Frozen Yogurt Natural + Caramel and Peanut', 'Mousse au chocolat (préparation pour)', 'Maïs Pop Corn', 'Pop Corn au chocolat blanc', 'Popcorn ', 'Proper Corn - Sweet Coconut & Vanilla', 'Tarte aux 3 fromages surgelée', 'Tarte Saumon Poireaux', 'Tarte aux 3 fromages surgelée', 'Tarte Saumon Poireaux', 'Tartelette au Citron de Sicile', 'Tartelette au Citron de Sicile', 'Les Tartelettes Abricot orangé de Provence', 'Cake Muesli/abricot', 'La Terrine aux Poivrons bien élevée', 'La Terrine aux Poivrons bien élevée', 'La Terrine aux Poivrons bien élevée', 'La Terrine aux Poivrons bien élevée', \"Sardines à l'Ancienne à l'Huile d'Olive vierge extra (+ 20 % Gratuit)\", \"Sardines à l'Ancienne à l'Huile d'Olive vierge extra (+ 20 % Gratuit)\", \"Sardines à l'ancienne aux tomates séchées\", 'Sardines à la Tomate', 'Sardines à la Tomate', 'Sardines à la Tomate', \"Sardines à l'ancienne aux tomates séchées\", 'Nouilles orientales saveur boeuf - 85 g - Leader Price', 'Flakes maïs', 'Flakes maïs', 'Corn flakes cacao', 'Tea-Day Caramel', 'boisson au soja, source de calcium', 'Grand Arôme', 'Poudre instantanée', 'caramelo liquido', 'Sauce forte', 'Sauce forte', 'Sauce au Piment fort', 'Sauce au Piment fort', 'Biscuits salés assortiment', 'Mini croustillants au beure au jambon', 'Biscuits salés assortiment', 'Biscuits salés assortiment', 'Biscuits salés assortiment', \"Jus d'ananas à base de jus concentré\", \"Jus d'ananas à base de concentré \", 'Cola 0%', 'Cola light', 'Cola light', 'Netto Cola one light', 'Breizh Cola Sans Sucres', 'Cola light', 'Netto Cola one light', 'Breizh Cola Sans Sucres', 'U.man Cola', 'Brioche tranchée ', 'Brioche tranchée ', 'La brioche tressée Au sucre perlé', 'Poulet fumé emmental', 'La Baguette Poulet / Emmental', 'La Baguette Poulet / Emmental', 'Loves Mie Poulet Emmental', 'Oméga 3 doux', 'Pro activ', 'Pro activ', 'Billes de Chèvre, Miel et Figues', 'Billes de Chèvre, Miel et Figues', 'Œufs de Lompes Rouges', 'Œufs de Lompes Rouges', 'Sobrasada de Mallorca Picante Forte', 'Sobrasada de Mallorca Picante Forte', 'Jambon sec des Pyrénées', 'Jambon sec des Pyrénées', 'Jambon sec des Pyrénées', '5 Blinis', '4 blinis (+1 gratuit)', '5 Blinis', '4 blinis (+1 gratuit)', '4 blinis (+1 gratuit)', 'Crevettes nature BIO décortiquées cuites', 'Crevettes Décortiquées Cuites', 'Crevettes Décortiquées Cuites', 'Petites crevettes roses', 'Crevettes Décortiquées Cuites', 'Petites crevettes roses', 'Crevettes Décortiquées Cuites', 'Pommes de terre à la landaise', 'Fondue de poireaux surgelée Picard', 'Omelette aux pommes de terre, compotée de tomates et poivrons Picard', 'Boulettes de poulet cuites à la thailandaise Picard', 'Boulettes de poulet cuites à la thailandaise Picard', 'Boulettes de poulet cuites à la thailandaise Picard', 'Crème glacée chocolat', 'Crème glacée chocolat', 'Crème glacée Chocolate Midnight Cookies', 'Salami 100 % pur porc', 'Salami 100 % pur porc', 'Spécial ActiFry Dosettes Spécial Frites', \"Spécialité à base d'olive et de basilic\", 'Saveur provençale', 'Saveur provençale', 'Saveur provençale', 'Saveur provençale', 'MayoDuo & Piment Poivron', 'MayoDuo & Piment Poivron', 'MayoDuo & Piment Poivron', 'Mayonnaise La Veloutée', 'Mayonnaise légère ', 'Mayonnaise légère ', 'Mayonnaise La Veloutée', 'Tartinade Amande Orange', 'Purée Sesame 1/2 complet', 'Tartinade Amande Orange', 'Purée Sesame 1/2 complet', 'Purée Sesame 1/2 complet', 'Speculoos pâte a tartiner', 'Jus grenade 100%', 'Jus grenade 100%', 'Jus grenade 100%', 'Pur Jus Grenade', 'Jus grenade 100%', 'Jus grenade 100%', 'Tahin Nature Crème de sésame ', \"Pâte d'amande verte\", \"Pâte d'amande verte\", 'Moutarde estragon', 'Moutarde de Normandie', 'Fine Douce', 'Fine Douce', 'Fine Douce', 'Fine Douce', 'Financiers Pur beurre Citron', 'Mini financiers aux amandes', 'Financiers Pur beurre Citron', 'Saucisses de volaille', 'Saucisses de volaille', 'Saucisses de volaille', 'Pois Chiches Germés- Houmous', \"Le voyage de Mamabé - Houmous à l'ail \", \"Le voyage de Mamabé - Houmous à l'ail \", 'Pois Chiches Germés- Houmous', \"Le voyage de Mamabé - Houmous à l'ail \", 'Pois Chiches Germés- Houmous', 'Bâtonnets de la mer', 'Tartelettes Tatin', 'Gaufres surgelées déjà cuites', 'Gaufres à toaster aux pépites de chocolat ', 'Vacherin glacé Vanille Framboise', 'Le plaisir Framboises-Nougatine', 'Gaufres surgelées déjà cuites', \"Disc'o'fruit\", '2 Cordons bleus de poulet et comté AOP', 'Cordon bleu poulet père dodu x4', 'Cordon bleu poulet père dodu x4', 'Cordon bleu poulet père dodu x4', 'Tarama extra (riche en œufs de Cabillaud, fumés au bois de Hêtre) (+10 % gratuit)', 'Tarama aux œufs de Cabillaud', 'Confiture abricots', 'Confiture Extra Abricot', 'Confiture abricots', 'Confiture abricots', 'Confiture abricots', 'Confiture abricots', 'Tartare Ail sauvage', 'Tartare Ail sauvage', 'Tartare Ail sauvage', 'Philadelphia Nature', 'Farine de pépins de raisin', 'Yaourt de Brebis brassé, confiture de figues et miel', 'Yaourt de Brebis Pistache', 'Yaourt de Brebis brassé, confiture de figues et miel', 'Yaourt de Brebis Pistache', 'Douceur de Brebis nature', 'Yaourt de Brebis Vanille', 'Dessert Végétal Café', 'Dessert Végétal Café', 'Les petits plaisirs Soja Morceaux de Framboise', 'Flûtes trois graines', 'Gressins goût pizza La Mole', 'Gressins aux olives', 'Gressin rubata aux olives', 'Flûtes trois graines', 'Gressins aux olives', 'Gressins aux olives', 'Flûtes trois graines', 'Gressins aux olives', 'Sauce barbecue miel', 'Barbecue Sweet (offre découverte)', 'Smokey barbecue sauce', 'Colona Barbecue Dressing', 'Smokey barbecue sauce', 'Colona Barbecue Dressing', 'Plain flour soft tortillas', 'Plain flour soft tortillas', 'Médaillons saveur Crabe', 'Médaillons saveur Crabe', \"Colin d'Alaska à la Florentine\", 'Médaillons saveur Crabe', \"Colin d'Alaska à la Florentine\", 'Médaillons saveur Crabe', \"Colin d'Alaska à la Florentine\", \"Probiotic'k Nature Sucré\", 'Emprésuré Chocolat saveur Noisette', \"Probiotic'k Nature Sucré\", 'Emprésuré Chocolat saveur Noisette', 'Thé menthe', 'Emprésuré Chocolat saveur Noisette', 'Thé menthe', 'Saint Agaûne', 'Saint Agaûne', 'Saint Agaûne', 'Saint Agaûne', 'Brise de Châtaignes variété Pourette', 'Châtaignes cuites pelées', 'CDP Bio 100 % 3 Agrume', 'Confiture Châtaigne à la Vanille Mamie Douceur', 'Huile vierge de noix de coco', 'Huile vierge de noix de coco', 'Cônes Menthe - Chocolat', 'Cônes Menthe - Chocolat', \"Gelato d'Italia Pistacchio\", \"Gelato d'Italia Pistacchio\", 'sorbet chocolat avec des copeaux de chocolat', 'sorbet chocolat avec des copeaux de chocolat', 'Boisson Petillante Kombucha Framboise', 'Boisson Petillante Kombucha Framboise', 'Boisson Gazeuse saveur Fraise', 'Boisson Gazeuse saveur Fraise', 'Boisson Petillante Kombucha Framboise', 'le Gourmand Homard (14 Bâtonnets)', 'Sauce Béarnaise Bio', 'Sauce Béarnaise Bio', 'Béarnaise', 'Sauce béarnaise', 'Béarnaise', 'Béarnaise', 'Sauce béarnaise', 'Sauce Béarnaise Bio', 'Sauce béarnaise', \"Pur Sirop d'Agave\", \"Sirop d'Agave Bio du Mexique \", \"Sirop d'agave \", \"Sirop d'agave bio\", 'Préparation pour Parmentier de boeuf', 'Sucralose ', 'Édulcorant Sucralose', 'Sucralose ', 'Sucralose ', 'Sucralose ', 'Panier de Yoplait Exotique (Ananas, Coco, Mangue) 8 Pots', 'Panier de Yoplait Exotique (Mangue, Coco, Ananas)', 'Panier de Yoplait Exotique (Ananas, Coco, Mangue) 8 Pots', 'Panier de Yoplait (Pêche, Poire) 4 Pots', 'Panier de Yoplait Exotique (Ananas, Coco, Mangue) 8 Pots', 'Calin + (Fraise, Framboise, Pêche, Abricot)', 'Panier de Yoplait Exotique (Ananas, Coco, Mangue) 8 Pots', \"Pâté Gascon à l'Armagnac et aux Pruneaux d'Agen\", \"Pâté Normand au Camembert d'Isigny\", \"Pâté Normand au Camembert d'Isigny\", 'Arrabbiata Bio', 'Arrabbiata Bio', 'Arrabbiata Bio', 'Arrabbiata Bio', 'Tournesols Mozzarella Tomate', 'Nems au porc, Avec sauce (x 4)', 'Nems au porc avec sauce Nuoc Mâm (x 8)', '6 Nems au Porc et leur sauce ', '6 Nems au Porc et leur sauce ', 'Chutes de truite fumée', 'Chutes de truite fumée', 'Chutes de truite fumée', 'Chutes de truite fumée', 'Just Right', 'Country Crisp 3 Baies', 'beurre biologique', 'beurre biologique', \"Beurre cru à la fleur de sel de l'île de Ré\", \"Beurre cru à la fleur de sel de l'île de Ré\", \"Beurre cru à la fleur de sel de l'île de Ré\", '2 maxi pains hamburger', 'pain Burger sans gluten', 'Tartelette Pomme', 'Tarte aux pommes', 'Tarte aux pommes', 'Monster Rehab', 'Monster Rehab', 'Monster Rehab', 'St Hubert 5 Céréales (Doux, Tartine & Cuisine), (50 % MG)', 'St Hubert Oméga 3 (Sel de Mer, Tartine et Cuisson), (50 % MG)', 'St Hubert Oméga 3 (Sel de Mer, Tartine et Cuisson), (54 % MG)', 'St Hubert Oméga 3 (Sel de Mer, Tartine et Cuisson), (50 % MG)', 'St Hubert Oméga 3 (Sel de Mer, Tartine et Cuisson), (54 % MG)', 'St Hubert Oméga 3 (Sel de Mer, Tartine et Cuisson), (50 % MG)', 'St Hubert Oméga 3 (Sel de Mer, Tartine et Cuisson), (54 % MG)', 'Galettes de Riz', 'Galettes de Riz', 'Galettes de riz au sel marin', 'Lait entier des campagnes françaises', 'Lait entier Dia', 'Lait entier Dia', 'Lait entier Dia', 'Lait entier Dia', \"Chips à l'Ancienne saveur Moutarde\", \"Chips à l'Ancienne saveur Moutarde\", \"Chips à l'Ancienne saveur Moutarde\", \"Chips a l'ancienne au sel marin de Camargue\", 'Cuisine coconut', 'Crème de Coco', 'Cuisine coconut', 'Crème de Coco', 'Cuisine coconut', 'Cuisine coconut', 'Fibra flakes choco', 'Country Crisp Fruits & Noix', 'Muesli croustillant à la châtaigne', 'Cheerios Crunchy Muesli', 'Cheerios Crunchy Muesli', 'Infusion séduction cranberry ', 'Tisane digestion légère', 'Tisane digestion légère', 'Carottes & Coriandre', 'Saucisson Noix de Jambon', 'Petits batons de berger', 'Saucisson BODEGA au Fromage Espagnol - Tradition Espagnole ', 'La Fine Saint Agaûne', 'Fuet Extra aux Figues - Tradition Espagnole', 'La Fine Saint Agaûne', 'Saucisse Sèche Carrefour', 'Saucisse Sèche Carrefour', 'Confiture rhubarbe', 'Rhubarbe rouge', 'Confiture rhubarbe', 'Confiture de rhubarbe fraîche', 'Bouillon cube Légumes sans sel ajouté aromates Jardin Bio', 'Tofu rosso', 'Lipton Ice Tea saveur pêche (lot de 2 x 1,5 L)', 'Lipton Ice Tea saveur pêche (lot de 2 x 1,5 L)', 'Thé glacé saveur pêche', 'Thé pêche Ice Tea', 'Thé glacé saveur pêche', 'Thé pêche Ice Tea', 'Ice tea saveur mangue', 'Ice tea saveur mangue', 'Thé glacé saveur pêche', 'Thé glacé saveur citron', 'Zéro Argumes', 'Zéro Argumes', 'Zéro Argumes', 'Zéro Argumes', '7up free zéro sucres', '7up free zéro sucres', '7up free zéro sucres', 'Zéro Argumes', 'superSol Zumo de tomate', \"Jus D'orange- Sinaasappelsap\", \"Jus D'orange- Sinaasappelsap\", 'Infusion du foie', 'Tisane Allaitement', 'Tisane Allaitement', 'Infusion du foie', 'Tisane Allaitement', 'Tisane Allaitement', 'Tisane Allaitement', 'Infusion du foie', 'Infusion un zeste de pep´s citron-menthe', 'Pain sans gluten brioché chocolat noir', 'Cassis', 'Fruit de la passion', 'Cassis', 'Fruit de la passion', 'Fruit de la passion', 'Fruit de la passion', 'Cassis', 'Fruit de la passion', 'Nestea Thé glacé', 'Nestea Thé glacé', 'Miel de Tilleul', 'Sucettes rondes ', '10 Lollipops Star Wars', '10 Lollipops Star Wars', \"M&m's mix\", 'Candy Fan', \"Pick N'Choc\", \"M&m's mix\", \"M&m's mix\", \"M&m's mix\", \"Pick N'Choc\", 'Thon émietté en sauce tomate', 'Thon émietté en sauce tomate', 'Lait demi-écrémé ', 'Drink lait demi écrémé ', 'Drink lait demi écrémé ', 'Drink lait demi écrémé ', 'Lait demi ecrémé', 'Lait demi ecrémé', 'Moutarde ail & persil', 'Spéculoos des Flandres', 'Spéculoos au vrai beurre', 'Spéculoos des Flandres', 'Saint-Nicolas Speculoos bio', 'Spéculoos des Flandres', \"Werther's Original Golden Mix\", 'Tofu-Filets Oregano', 'Houmous au yaourt grec', 'Houmous Extra', 'Houmous au yaourt grec', 'Houmous Extra', 'Houmous au yaourt grec', 'Houmous Extra', \"Oli d'Olivier verge extra\", 'Nougat à la Pistache', 'Gaufres fourrées chocolat', 'Japan canteen', 'Plateau mixte drive', 'Coulis de Caramel', 'GRAND FERRERO ROCHER', 'Chocolat Bloc noir noisettes entières', 'Pasta & Bruschetta Olives Vertes, Ricotta, Epinards', 'Pasta & Bruschetta Olives Vertes, Ricotta, Epinards', 'Pasta & Bruschetta Olives Vertes, Ricotta, Epinards', 'Pasta & Bruschetta Olives Vertes, Ricotta, Epinards', \"M&M's Intense 65% de cacao\", \"M&M's Intense 65% de cacao\", \"Party Pack M&M's Peanut\", \"M&M's Intense 65% de cacao\", \"M&M's Intense 65% de cacao\", \"M&M's Crispy - Maxi +10%\", 'intense 65% cacao', \"M&M's Crispy - Maxi +10%\", 'intense 65% cacao', 'Forme Sabre laser rempli de chocolats', 'Kinder chocolat mini eggs', 'Forme Sabre laser rempli de chocolats', 'Original Sticky BBQ Sauce', 'Original Sticky BBQ Sauce', 'Super smoothie Antioxydant kiwi, citron vert, herbe de blé et graine de lin', 'Coca-Cola Light sans caféine', 'Coca-Cola Light sans caféine', 'Coca-Cola Light sans caféine', 'FERRERO ROCHER Boîte de 30', 'FERRERO ROCHER Boîte de 30', 'Chocolat au lait du pays alpin (Lot de 5)', 'FERRERO ROCHER Boîte de 30', 'Chocolat au lait du pays alpin (Lot de 5)', 'FERRERO ROCHER Boîte de 30', 'FERRERO ROCHER Boîte de 30', 'FERRERO ROCHER Boîte de 30']\n"
     ]
    }
   ],
   "source": [
    "## liste des produits par catégorie présentant des valeurs aberrantes selon\n",
    "## cette fonction prend trop de temps à s'executer\n",
    "outliers_products=[]\n",
    "for category in df['categories'].unique():\n",
    "    for col in nutriment_cols:\n",
    "        outliers_products=outliers_products+find_outliers_and_clean([str(col)],category,df)\n",
    "        \n",
    "        \n",
    "print(outliers_products)"
   ]
  },
  {
   "cell_type": "code",
   "execution_count": 186,
   "metadata": {},
   "outputs": [
    {
     "name": "stdout",
     "output_type": "stream",
     "text": [
      "len first  7391\n",
      "duplicates 2026\n"
     ]
    },
    {
     "data": {
      "text/plain": [
       "4044"
      ]
     },
     "execution_count": 186,
     "metadata": {},
     "output_type": "execute_result"
    }
   ],
   "source": [
    "import collections\n",
    "print('len first ',len(outliers_products)) ##6070\n",
    "duplicates=[item for item, count in collections.Counter(outliers_products).items() if count > 1] \n",
    "## 2026 produits ayant plus d'une valeur aberrante pour les variables nutritives\n",
    "print('duplicates',len(duplicates))\n",
    "outliers_products=list(collections.OrderedDict.fromkeys(outliers_products))\n",
    "len(outliers_products)"
   ]
  },
  {
   "cell_type": "code",
   "execution_count": 187,
   "metadata": {},
   "outputs": [
    {
     "data": {
      "text/html": [
       "<div>\n",
       "<style scoped>\n",
       "    .dataframe tbody tr th:only-of-type {\n",
       "        vertical-align: middle;\n",
       "    }\n",
       "\n",
       "    .dataframe tbody tr th {\n",
       "        vertical-align: top;\n",
       "    }\n",
       "\n",
       "    .dataframe thead th {\n",
       "        text-align: right;\n",
       "    }\n",
       "</style>\n",
       "<table border=\"1\" class=\"dataframe\">\n",
       "  <thead>\n",
       "    <tr style=\"text-align: right;\">\n",
       "      <th></th>\n",
       "      <th>product_name</th>\n",
       "    </tr>\n",
       "  </thead>\n",
       "  <tbody>\n",
       "    <tr>\n",
       "      <th>226</th>\n",
       "      <td>Pepsi, Nouveau goût !</td>\n",
       "    </tr>\n",
       "    <tr>\n",
       "      <th>458</th>\n",
       "      <td>Stem Ginger Cookies</td>\n",
       "    </tr>\n",
       "    <tr>\n",
       "      <th>664</th>\n",
       "      <td>Aloe Vera Grape &amp; Apple Juice</td>\n",
       "    </tr>\n",
       "    <tr>\n",
       "      <th>15158</th>\n",
       "      <td>Boisson à base de jus de goyave</td>\n",
       "    </tr>\n",
       "    <tr>\n",
       "      <th>15159</th>\n",
       "      <td>Boisson Passion</td>\n",
       "    </tr>\n",
       "    <tr>\n",
       "      <th>...</th>\n",
       "      <td>...</td>\n",
       "    </tr>\n",
       "    <tr>\n",
       "      <th>320598</th>\n",
       "      <td>Crème de Coco</td>\n",
       "    </tr>\n",
       "    <tr>\n",
       "      <th>320601</th>\n",
       "      <td>Nouilles instantanées</td>\n",
       "    </tr>\n",
       "    <tr>\n",
       "      <th>320605</th>\n",
       "      <td>Pad Thaï Sauce Wok</td>\n",
       "    </tr>\n",
       "    <tr>\n",
       "      <th>320607</th>\n",
       "      <td>Pâte de Curry Vert</td>\n",
       "    </tr>\n",
       "    <tr>\n",
       "      <th>320681</th>\n",
       "      <td>Spearmint sans sucres</td>\n",
       "    </tr>\n",
       "  </tbody>\n",
       "</table>\n",
       "<p>4044 rows × 1 columns</p>\n",
       "</div>"
      ],
      "text/plain": [
       "                           product_name\n",
       "226               Pepsi, Nouveau goût !\n",
       "458                 Stem Ginger Cookies\n",
       "664       Aloe Vera Grape & Apple Juice\n",
       "15158   Boisson à base de jus de goyave\n",
       "15159                   Boisson Passion\n",
       "...                                 ...\n",
       "320598                    Crème de Coco\n",
       "320601            Nouilles instantanées\n",
       "320605               Pad Thaï Sauce Wok\n",
       "320607               Pâte de Curry Vert\n",
       "320681            Spearmint sans sucres\n",
       "\n",
       "[4044 rows x 1 columns]"
      ]
     },
     "execution_count": 187,
     "metadata": {},
     "output_type": "execute_result"
    }
   ],
   "source": [
    "## identification des 4044 produits ayant des valeurs aberrantes\n",
    "outliers_df=df[df['product_name'].isin(outliers_products)][['product_name']] \n",
    "outliers_df"
   ]
  },
  {
   "cell_type": "code",
   "execution_count": 188,
   "metadata": {},
   "outputs": [],
   "source": [
    "## suppression des valeurs aberrantes\n",
    "df.drop(outliers_df.index,inplace=True)"
   ]
  },
  {
   "cell_type": "code",
   "execution_count": 189,
   "metadata": {},
   "outputs": [
    {
     "data": {
      "image/png": "[encoded data removed]",
      "text/plain": [
       "<Figure size 1440x720 with 1 Axes>"
      ]
     },
     "metadata": {
      "needs_background": "light"
     },
     "output_type": "display_data"
    }
   ],
   "source": [
    "g=sns.boxplot(data=df[nutriment_cols])\n",
    "g.set_yscale(\"log\")\n"
   ]
  },
  {
   "cell_type": "markdown",
   "metadata": {},
   "source": [
    "# Imputation des valeurs manquantes des variables quantitatives\n",
    "  "
   ]
  },
  {
   "cell_type": "code",
   "execution_count": 190,
   "metadata": {},
   "outputs": [
    {
     "data": {
      "text/plain": [
       "salt_100g           sodium_100g                1.000000\n",
       "saturated-fat_100g  nutrition-score-fr_100g    0.605212\n",
       "energy_100g         nutrition-score-fr_100g    0.434128\n",
       "sugars_100g         nutrition-score-fr_100g    0.424722\n",
       "energy_100g         saturated-fat_100g         0.359098\n",
       "dtype: float64"
      ]
     },
     "execution_count": 190,
     "metadata": {},
     "output_type": "execute_result"
    }
   ],
   "source": [
    "## afin d'utiliser la méthode iterativeImputer, identification des variables suffisamment corrélées entre elles\n",
    "numeric_columns=df.select_dtypes(exclude=['object']).columns.tolist()\n",
    "corr_matrix = df[numeric_columns].corr().abs()\n",
    "\n",
    "\n",
    "\n",
    "sol = (corr_matrix.where(np.triu(np.ones(corr_matrix.shape), k=1).astype(np.bool))\n",
    "                  .stack()\n",
    "                  .sort_values(ascending=False))\n",
    "sol.head()"
   ]
  },
  {
   "cell_type": "code",
   "execution_count": 191,
   "metadata": {},
   "outputs": [
    {
     "data": {
      "text/plain": [
       "['additives_n',\n",
       " 'ingredients_from_palm_oil_n',\n",
       " 'energy_100g',\n",
       " 'sugars_100g',\n",
       " 'proteins_100g',\n",
       " 'salt_100g']"
      ]
     },
     "execution_count": 191,
     "metadata": {},
     "output_type": "execute_result"
    }
   ],
   "source": [
    "## les colonnes sel et sodium ont une corrélation positive absolue égale à 1, et sont confondues\n",
    "## suppression de la variable sodium (sodium_100g)\n",
    "df.drop(columns=['sodium_100g'],axis=1,inplace=True)\n",
    "numeric_columns.remove('sodium_100g')\n",
    "## les colonnes energy_100g,nutrition-score-fr_100g et saturated-fat_100g  corrélées positivement entre elles.\n",
    " # Utilisation Iterativeimputer pour imputer les valeurs manquantes\n",
    "correlated_columns=['nutrition-score-fr_100g','saturated-fat_100g']\n",
    "                    \n",
    "un_correlated_columns=[x for x in numeric_columns if x not in correlated_columns]\n",
    "\n",
    "un_correlated_columns"
   ]
  },
  {
   "cell_type": "code",
   "execution_count": 192,
   "metadata": {},
   "outputs": [],
   "source": [
    "#imputation des valeurs nulles des variables corrélées entre elles par IterativeImputer\n",
    "\n",
    "impute_it=IterativeImputer(missing_values=np.nan,min_value=0)\n",
    "results=impute_it.fit_transform(df[correlated_columns])\n",
    "df_imputed = pd.DataFrame(data = results,columns = correlated_columns)"
   ]
  },
  {
   "cell_type": "code",
   "execution_count": 193,
   "metadata": {},
   "outputs": [],
   "source": [
    "#imputation des valeurs nulles des variables non corrélées entre elles par KNNimputer\n",
    "\n",
    "        \n",
    "        \n",
    "imputer = KNNImputer()\n",
    "results = imputer.fit_transform(df[un_correlated_columns])\n",
    "df_imputed_2=pd.DataFrame(data = results,columns = un_correlated_columns)"
   ]
  },
  {
   "cell_type": "code",
   "execution_count": 194,
   "metadata": {},
   "outputs": [],
   "source": [
    "df[correlated_columns]=df_imputed.values\n",
    "df[un_correlated_columns]=df_imputed_2.values\n",
    "\n"
   ]
  },
  {
   "cell_type": "code",
   "execution_count": 195,
   "metadata": {},
   "outputs": [
    {
     "data": {
      "text/plain": [
       "additives_n                    0.0\n",
       "ingredients_from_palm_oil_n    0.0\n",
       "energy_100g                    0.0\n",
       "saturated-fat_100g             0.0\n",
       "sugars_100g                    0.0\n",
       "proteins_100g                  0.0\n",
       "salt_100g                      0.0\n",
       "nutrition-score-fr_100g        0.0\n",
       "dtype: float64"
      ]
     },
     "execution_count": 195,
     "metadata": {},
     "output_type": "execute_result"
    }
   ],
   "source": [
    "## les variables quantitatives sont à 100% complètes\n",
    "df[numeric_columns].isnull().sum()/len(df)*100"
   ]
  },
  {
   "cell_type": "code",
   "execution_count": 196,
   "metadata": {},
   "outputs": [
    {
     "name": "stdout",
     "output_type": "stream",
     "text": [
      "<class 'pandas.core.frame.DataFrame'>\n",
      "Int64Index: 40431 entries, 106 to 320763\n",
      "Data columns (total 11 columns):\n",
      " #   Column                       Non-Null Count  Dtype  \n",
      "---  ------                       --------------  -----  \n",
      " 0   product_name                 40431 non-null  object \n",
      " 1   categories                   27630 non-null  object \n",
      " 2   additives_n                  40431 non-null  float64\n",
      " 3   ingredients_from_palm_oil_n  40431 non-null  float64\n",
      " 4   nutrition_grade_fr           37838 non-null  object \n",
      " 5   energy_100g                  40431 non-null  float64\n",
      " 6   saturated-fat_100g           40431 non-null  float64\n",
      " 7   sugars_100g                  40431 non-null  float64\n",
      " 8   proteins_100g                40431 non-null  float64\n",
      " 9   salt_100g                    40431 non-null  float64\n",
      " 10  nutrition-score-fr_100g      40431 non-null  float64\n",
      "dtypes: float64(8), object(3)\n",
      "memory usage: 3.7+ MB\n"
     ]
    }
   ],
   "source": [
    "df.info()"
   ]
  },
  {
   "cell_type": "markdown",
   "metadata": {},
   "source": [
    "# Imputation des valeurs manquantes des variables qualitatives\n",
    "  "
   ]
  },
  {
   "cell_type": "code",
   "execution_count": 197,
   "metadata": {},
   "outputs": [],
   "source": [
    "qualitative_columns=df.select_dtypes(include=['object']).columns.tolist()\n"
   ]
  },
  {
   "cell_type": "code",
   "execution_count": 198,
   "metadata": {},
   "outputs": [
    {
     "data": {
      "text/plain": [
       "product_name           0.000000\n",
       "categories            31.661349\n",
       "nutrition_grade_fr     6.413396\n",
       "dtype: float64"
      ]
     },
     "execution_count": 198,
     "metadata": {},
     "output_type": "execute_result"
    }
   ],
   "source": [
    "df[qualitative_columns].isnull().sum()/len(df)*100"
   ]
  },
  {
   "cell_type": "code",
   "execution_count": 199,
   "metadata": {},
   "outputs": [],
   "source": [
    " \n",
    "\n",
    "df[qualitative_columns]=df[qualitative_columns].fillna(\"unknown\") \n"
   ]
  },
  {
   "cell_type": "code",
   "execution_count": 200,
   "metadata": {},
   "outputs": [
    {
     "data": {
      "text/plain": [
       "product_name                   0.0\n",
       "categories                     0.0\n",
       "additives_n                    0.0\n",
       "ingredients_from_palm_oil_n    0.0\n",
       "nutrition_grade_fr             0.0\n",
       "energy_100g                    0.0\n",
       "saturated-fat_100g             0.0\n",
       "sugars_100g                    0.0\n",
       "proteins_100g                  0.0\n",
       "salt_100g                      0.0\n",
       "nutrition-score-fr_100g        0.0\n",
       "dtype: float64"
      ]
     },
     "execution_count": 200,
     "metadata": {},
     "output_type": "execute_result"
    }
   ],
   "source": [
    "df.isnull().sum()/len(df)*100"
   ]
  },
  {
   "cell_type": "code",
   "execution_count": 201,
   "metadata": {},
   "outputs": [
    {
     "data": {
      "text/html": [
       "<div>\n",
       "<style scoped>\n",
       "    .dataframe tbody tr th:only-of-type {\n",
       "        vertical-align: middle;\n",
       "    }\n",
       "\n",
       "    .dataframe tbody tr th {\n",
       "        vertical-align: top;\n",
       "    }\n",
       "\n",
       "    .dataframe thead th {\n",
       "        text-align: right;\n",
       "    }\n",
       "</style>\n",
       "<table border=\"1\" class=\"dataframe\">\n",
       "  <thead>\n",
       "    <tr style=\"text-align: right;\">\n",
       "      <th></th>\n",
       "      <th>additives_n</th>\n",
       "      <th>ingredients_from_palm_oil_n</th>\n",
       "      <th>energy_100g</th>\n",
       "      <th>saturated-fat_100g</th>\n",
       "      <th>sugars_100g</th>\n",
       "      <th>proteins_100g</th>\n",
       "      <th>salt_100g</th>\n",
       "      <th>nutrition-score-fr_100g</th>\n",
       "    </tr>\n",
       "  </thead>\n",
       "  <tbody>\n",
       "    <tr>\n",
       "      <th>count</th>\n",
       "      <td>40431.000000</td>\n",
       "      <td>40431.000000</td>\n",
       "      <td>40431.000000</td>\n",
       "      <td>40431.000000</td>\n",
       "      <td>40431.000000</td>\n",
       "      <td>40431.000000</td>\n",
       "      <td>40431.000000</td>\n",
       "      <td>40431.000000</td>\n",
       "    </tr>\n",
       "    <tr>\n",
       "      <th>mean</th>\n",
       "      <td>1.737914</td>\n",
       "      <td>0.069397</td>\n",
       "      <td>1190.144092</td>\n",
       "      <td>6.348036</td>\n",
       "      <td>16.252571</td>\n",
       "      <td>7.783201</td>\n",
       "      <td>1.482604</td>\n",
       "      <td>11.020155</td>\n",
       "    </tr>\n",
       "    <tr>\n",
       "      <th>std</th>\n",
       "      <td>2.386084</td>\n",
       "      <td>0.248317</td>\n",
       "      <td>1198.174613</td>\n",
       "      <td>8.569365</td>\n",
       "      <td>20.371197</td>\n",
       "      <td>7.939194</td>\n",
       "      <td>4.946284</td>\n",
       "      <td>7.568611</td>\n",
       "    </tr>\n",
       "    <tr>\n",
       "      <th>min</th>\n",
       "      <td>0.000000</td>\n",
       "      <td>0.000000</td>\n",
       "      <td>0.000000</td>\n",
       "      <td>0.000000</td>\n",
       "      <td>0.000000</td>\n",
       "      <td>0.000000</td>\n",
       "      <td>0.000000</td>\n",
       "      <td>0.000000</td>\n",
       "    </tr>\n",
       "    <tr>\n",
       "      <th>25%</th>\n",
       "      <td>0.000000</td>\n",
       "      <td>0.000000</td>\n",
       "      <td>506.000000</td>\n",
       "      <td>0.700000</td>\n",
       "      <td>1.265000</td>\n",
       "      <td>2.000000</td>\n",
       "      <td>0.100000</td>\n",
       "      <td>4.000000</td>\n",
       "    </tr>\n",
       "    <tr>\n",
       "      <th>50%</th>\n",
       "      <td>1.000000</td>\n",
       "      <td>0.000000</td>\n",
       "      <td>1105.000000</td>\n",
       "      <td>3.200000</td>\n",
       "      <td>6.000000</td>\n",
       "      <td>6.000000</td>\n",
       "      <td>0.690000</td>\n",
       "      <td>11.018900</td>\n",
       "    </tr>\n",
       "    <tr>\n",
       "      <th>75%</th>\n",
       "      <td>2.400000</td>\n",
       "      <td>0.000000</td>\n",
       "      <td>1760.000000</td>\n",
       "      <td>8.900000</td>\n",
       "      <td>26.700000</td>\n",
       "      <td>10.200000</td>\n",
       "      <td>1.400000</td>\n",
       "      <td>16.000000</td>\n",
       "    </tr>\n",
       "    <tr>\n",
       "      <th>max</th>\n",
       "      <td>21.000000</td>\n",
       "      <td>2.000000</td>\n",
       "      <td>182764.000000</td>\n",
       "      <td>100.000000</td>\n",
       "      <td>100.000000</td>\n",
       "      <td>100.000000</td>\n",
       "      <td>100.000000</td>\n",
       "      <td>43.060569</td>\n",
       "    </tr>\n",
       "  </tbody>\n",
       "</table>\n",
       "</div>"
      ],
      "text/plain": [
       "        additives_n  ingredients_from_palm_oil_n    energy_100g  \\\n",
       "count  40431.000000                 40431.000000   40431.000000   \n",
       "mean       1.737914                     0.069397    1190.144092   \n",
       "std        2.386084                     0.248317    1198.174613   \n",
       "min        0.000000                     0.000000       0.000000   \n",
       "25%        0.000000                     0.000000     506.000000   \n",
       "50%        1.000000                     0.000000    1105.000000   \n",
       "75%        2.400000                     0.000000    1760.000000   \n",
       "max       21.000000                     2.000000  182764.000000   \n",
       "\n",
       "       saturated-fat_100g   sugars_100g  proteins_100g     salt_100g  \\\n",
       "count        40431.000000  40431.000000   40431.000000  40431.000000   \n",
       "mean             6.348036     16.252571       7.783201      1.482604   \n",
       "std              8.569365     20.371197       7.939194      4.946284   \n",
       "min              0.000000      0.000000       0.000000      0.000000   \n",
       "25%              0.700000      1.265000       2.000000      0.100000   \n",
       "50%              3.200000      6.000000       6.000000      0.690000   \n",
       "75%              8.900000     26.700000      10.200000      1.400000   \n",
       "max            100.000000    100.000000     100.000000    100.000000   \n",
       "\n",
       "       nutrition-score-fr_100g  \n",
       "count             40431.000000  \n",
       "mean                 11.020155  \n",
       "std                   7.568611  \n",
       "min                   0.000000  \n",
       "25%                   4.000000  \n",
       "50%                  11.018900  \n",
       "75%                  16.000000  \n",
       "max                  43.060569  "
      ]
     },
     "execution_count": 201,
     "metadata": {},
     "output_type": "execute_result"
    }
   ],
   "source": [
    "df.describe()"
   ]
  },
  {
   "cell_type": "code",
   "execution_count": 207,
   "metadata": {},
   "outputs": [
    {
     "data": {
      "text/html": [
       "<div>\n",
       "<style scoped>\n",
       "    .dataframe tbody tr th:only-of-type {\n",
       "        vertical-align: middle;\n",
       "    }\n",
       "\n",
       "    .dataframe tbody tr th {\n",
       "        vertical-align: top;\n",
       "    }\n",
       "\n",
       "    .dataframe thead th {\n",
       "        text-align: right;\n",
       "    }\n",
       "</style>\n",
       "<table border=\"1\" class=\"dataframe\">\n",
       "  <thead>\n",
       "    <tr style=\"text-align: right;\">\n",
       "      <th></th>\n",
       "      <th>product_name</th>\n",
       "      <th>categories</th>\n",
       "    </tr>\n",
       "  </thead>\n",
       "  <tbody>\n",
       "    <tr>\n",
       "      <th>56561</th>\n",
       "      <td>Tawny' Orange</td>\n",
       "      <td>unknown</td>\n",
       "    </tr>\n",
       "    <tr>\n",
       "      <th>68125</th>\n",
       "      <td>Beurre D'arachide (sans Sel Ni Sucre)</td>\n",
       "      <td>unknown</td>\n",
       "    </tr>\n",
       "    <tr>\n",
       "      <th>115021</th>\n",
       "      <td>Huile d'Olive Vierge Extra Classico</td>\n",
       "      <td>Aliments et boissons à base de végétaux,Alimen...</td>\n",
       "    </tr>\n",
       "    <tr>\n",
       "      <th>115370</th>\n",
       "      <td>extra virgin cocos</td>\n",
       "      <td>Huiles de coco</td>\n",
       "    </tr>\n",
       "    <tr>\n",
       "      <th>177219</th>\n",
       "      <td>Frites &amp; Fritures</td>\n",
       "      <td>Matières grasses végétales,Huiles de Coprah</td>\n",
       "    </tr>\n",
       "    <tr>\n",
       "      <th>...</th>\n",
       "      <td>...</td>\n",
       "      <td>...</td>\n",
       "    </tr>\n",
       "    <tr>\n",
       "      <th>315860</th>\n",
       "      <td>Huile de coco inodore - BioWise - 400 g</td>\n",
       "      <td>Aliments et boissons à base de végétaux,Alimen...</td>\n",
       "    </tr>\n",
       "    <tr>\n",
       "      <th>316993</th>\n",
       "      <td>virgin coconut oil</td>\n",
       "      <td>unknown</td>\n",
       "    </tr>\n",
       "    <tr>\n",
       "      <th>317235</th>\n",
       "      <td>Dee Thai Huile De Sésame</td>\n",
       "      <td>unknown</td>\n",
       "    </tr>\n",
       "    <tr>\n",
       "      <th>319695</th>\n",
       "      <td>Miel</td>\n",
       "      <td>unknown</td>\n",
       "    </tr>\n",
       "    <tr>\n",
       "      <th>320561</th>\n",
       "      <td>Chicken Cup Of Noodles</td>\n",
       "      <td>unknown</td>\n",
       "    </tr>\n",
       "  </tbody>\n",
       "</table>\n",
       "<p>315 rows × 2 columns</p>\n",
       "</div>"
      ],
      "text/plain": [
       "                                   product_name  \\\n",
       "56561                             Tawny' Orange   \n",
       "68125     Beurre D'arachide (sans Sel Ni Sucre)   \n",
       "115021      Huile d'Olive Vierge Extra Classico   \n",
       "115370                       extra virgin cocos   \n",
       "177219                        Frites & Fritures   \n",
       "...                                         ...   \n",
       "315860  Huile de coco inodore - BioWise - 400 g   \n",
       "316993                       virgin coconut oil   \n",
       "317235                 Dee Thai Huile De Sésame   \n",
       "319695                                     Miel   \n",
       "320561                   Chicken Cup Of Noodles   \n",
       "\n",
       "                                               categories  \n",
       "56561                                             unknown  \n",
       "68125                                             unknown  \n",
       "115021  Aliments et boissons à base de végétaux,Alimen...  \n",
       "115370                                     Huiles de coco  \n",
       "177219        Matières grasses végétales,Huiles de Coprah  \n",
       "...                                                   ...  \n",
       "315860  Aliments et boissons à base de végétaux,Alimen...  \n",
       "316993                                            unknown  \n",
       "317235                                            unknown  \n",
       "319695                                            unknown  \n",
       "320561                                            unknown  \n",
       "\n",
       "[315 rows x 2 columns]"
      ]
     },
     "execution_count": 207,
     "metadata": {},
     "output_type": "execute_result"
    }
   ],
   "source": [
    "## après imputation des valeurs manquantes, on remarque des valeurs aberrantes pour la variables energy\n",
    "## nous allons identifier ses valeurs aberrantes\n",
    "def find_outliers(col,df):\n",
    "\n",
    "    Q1 = df[col].quantile(0.25)\n",
    "    Q3 = df[col].quantile(0.75)\n",
    "    IQR = Q3 - Q1\n",
    "\n",
    "    outliers= df[((df[col] < (Q1 - 1.5 * IQR)) |(df[col] > (Q3 + 1.5 * IQR))).any(axis=1)]\n",
    "   \n",
    "  \n",
    "    if len(outliers)>0:\n",
    "       \n",
    "        return outliers['product_name'].values.tolist()\n",
    "    else:\n",
    "        #print('no outliers for column '+str(col[0])+' and category '+str(category))\n",
    "        return []\n",
    "outliers_energy=find_outliers(['energy_100g'],df)\n",
    "outliers_energy_df=df[df['product_name'].isin(outliers_energy)][['product_name','categories','energy_100g']]\n",
    "outliers_energy_df ##315 produits"
   ]
  },
  {
   "cell_type": "code",
   "execution_count": 211,
   "metadata": {},
   "outputs": [
    {
     "name": "stderr",
     "output_type": "stream",
     "text": [
      "/home/amadou/anaconda3/lib/python3.7/site-packages/ipykernel_launcher.py:2: UserWarning: Boolean Series key will be reindexed to match DataFrame index.\n",
      "  \n"
     ]
    },
    {
     "data": {
      "text/plain": [
       "array([\"Tawny' Orange\", \"Beurre D'arachide (sans Sel Ni Sucre)\",\n",
       "       'Confiserie Firenze Apfel Streuselkuchen Tiefgefror...',\n",
       "       'Lot De 4 Baguettes',\n",
       "       'Tomatentapenade Bakje 150 Gram (baresa) Koeling',\n",
       "       'Sauce beurre blanc et citron confit', 'Diot de Savoie',\n",
       "       'Huile de colza 1L', 'Rillettes De Poulet Roti',\n",
       "       'Baguettines viennoises briochées', 'Confiture Bonne Maman 370g',\n",
       "       'Olives Cocktail Pimentées, Le Sachet De',\n",
       "       'Ecochard Quenelles Nature Barquette 4X120G',\n",
       "       'Lesieur Huile Pepin Raisi',\n",
       "       'Sirop Citron Bio au pur sucre de canne',\n",
       "       'Sirop Saveur pina Colada', 'Chevre Pane',\n",
       "       'Confiture Extra, 4 Fruits Rouges, 370 Grammes, Marque Casino',\n",
       "       '1KG Nuggets Poulet Maitre Coq', 'Huile Vierge De Colza',\n",
       "       'Huile De Pistache 250 ML - La Tourangelle',\n",
       "       'La Tourangelle White Truffle Oil',\n",
       "       '250ML Huile Avocat La Tourangelle', 'Huile pour ok thai',\n",
       "       'Huile Infusee Au Basilic', \"Huile Infusee A L'ail\", 'Equalio',\n",
       "       'Tartelettes aux framboises sur crème pâtissière les 2 pièces 170 Gr',\n",
       "       'Bo Huile Tournesol Ve Bio',\n",
       "       \"Les Créations L'Inestimable huile de noix la bouteille de 25\",\n",
       "       'Panes Façon Cordon Bleu Vegetarien', 'Sirop de citron pressor',\n",
       "       '4 huiles Huile vegetale', 'Huile Speciale Friture Auchan',\n",
       "       'Mélange 4 Huiles Végétales', \"Huile d'olive bio\",\n",
       "       'Lentilles vertes précuites 10min LE BON SEMEUR',\n",
       "       'Frites Bonbon Gélifié Aromatisé',\n",
       "       \"Huile d'olive/cuisson assaisonnement Puget\",\n",
       "       \"Huile d'olive Isio 4\", 'Huile de friture et cuisson',\n",
       "       \"Huile Omega'Claire\", '300G TARTINABLE a LA NOISETTE',\n",
       "       'Crème Glacée Vanille, Coulis Caramel, Bac De 900 Millilitres',\n",
       "       '16 Mignardises Création', '2 Eclairs gourmands citron meringué',\n",
       "       'Huile De Tournesol Végétale 2 Litre',\n",
       "       'La saucisse bien élevée Saucisses avec des morceaux de jambon Sans colorant ni conservateur',\n",
       "       'Creme Fouettee', 'Huile Vierge Avocat', \"Huile D'avocat\",\n",
       "       'Huile De Sésame Grillé', \"Huille d'olive\",\n",
       "       'HUILE BAUX DE PROVENCE', 'Huile Pour Friture',\n",
       "       'HUILE DE MACADAMIA', 'Huile vierge biologique Chanvre',\n",
       "       'Huile de cameline', \"HUILE D'OLIVE EXTRA FRUITEE POCHE\",\n",
       "       'Huile De Coco Désodorisée', \"Huile D'olive Extra Vierge\",\n",
       "       'Huile de pepins de Courge bio', '25CL Huile De Lin Bio Cauvin',\n",
       "       \"Huile d'olive Bio Cauvin Vierge extra\",\n",
       "       'Flammekueche Recette Alsacienne U Les Saveurs, 600g',\n",
       "       \"Huile D'olive à L'ail Et Au Romarin U Saveurs,\",\n",
       "       'Boulgour Bio Traditionnel',\n",
       "       'Eclats De Pois Chiches Bio ? 500G ? Priméal',\n",
       "       'Pain &quot;Mini-boules Rustique&quot;',\n",
       "       'Huile De Carthame Vierge Bio - 500 ML - Bio Planete',\n",
       "       'Huile De Colza & Olive Bio ? Biocolive ? ? Vigean',\n",
       "       'Huile De Pepins De Raisin',\n",
       "       'Huile De Noix De Coco Première Pression à Froid Bio - 500 ML - Vigean',\n",
       "       'Huile vierge de colza', 'Huile De Noix Gourmande',\n",
       "       'Huile De Noix', 'Huile Quatuor',\n",
       "       \"50CL HUILE D'OLIVE FRUITEE Espagne\",\n",
       "       'Huile De Noisette Biologique',\n",
       "       \"Maitre Prunille pruneaux d'agen 25/30\",\n",
       "       'Madeleines Au Miel (14% De Miel)', 'Fromage à Tartiner Au Poivre',\n",
       "       'Jamón  de Cebo Iberico', 'Sirop Frucci, Thé Pêche',\n",
       "       'Gateau Amandes Et Chocolat', 'Crousti tenders',\n",
       "       'Lardons Fumés Sans Couenne', 'Assortiment de roulades',\n",
       "       'Mini pizza chevre lardon', 'Pepins de raisins', 'Pain De Table',\n",
       "       \"Huile d'olive extra vierge delicate\",\n",
       "       \"6 Fish & Crock De Colin D'alaska\",\n",
       "       'Légume Noisettes Carottes, 500 Grammes, Marque Iglo',\n",
       "       'Huile Argan',\n",
       "       'Mélange 6 Huiles Futures Mamans Bio - 500ML - Quintesens',\n",
       "       'Mélange 6 Huiles Bébé Bio - 250ML - Quintesens',\n",
       "       'Cubes Moelleux De Noix De Coco Deshydratee',\n",
       "       'Ecoidees Sirop De Fleur De Coco Bio - Flacon',\n",
       "       'Huile De Coco Vierge Bio - 250ML - Comptoirs & Compagnies',\n",
       "       \"Barres de son d'avoine\",\n",
       "       \"Biscuits Son D'avoine Nappés Chocolat 12 Biscuits\",\n",
       "       \"Huile D'olive Saveur Ail Et Poivron\", 'Dejeunettes',\n",
       "       'Haribo Goldbären Dose 450G', 'Huile de Coco',\n",
       "       'Vitaquell Kokosöl Mild', 'Multigrain knacke', 'Ghee',\n",
       "       'Kokosnussöl', 'Pepsi-cola', 'Fit Chocolate',\n",
       "       'Lotao Huile de coco', 'Foodspring Coconut Oil',\n",
       "       'Pure coconut oil', 'Ryvita Crispbread Pumpkin & Oat',\n",
       "       'Nakd Strawberry Crunch',\n",
       "       'Bunalun Organic Virgin Coconut Oil (432 Millilitre)',\n",
       "       'Carrefour Bio', 'Huile Vierge De Sesame',\n",
       "       \"Huile d'olive Vierge Extra\", 'Organic Coconut Oil',\n",
       "       'Chocolat Liquide', 'Balade So light', 'Finesse',\n",
       "       'Huile De Coco Bio - 325 ML - Amanprana',\n",
       "       'Sodastream - Concentré Cola + 50% Gratuit (3009816)',\n",
       "       'Huile Melange 4 Huiles', 'Gnocchi E Pasta Fresca',\n",
       "       \"Miel D'eucalyptus\", 'HUILE OLIVE LUQUE ESPAGNE',\n",
       "       'Cornetto Mini X8 Fruit', 'virgin coconut oil',\n",
       "       'Dee Thai Huile De Sésame', 'Miel', 'Chicken Cup Of Noodles'],\n",
       "      dtype=object)"
      ]
     },
     "execution_count": 211,
     "metadata": {},
     "output_type": "execute_result"
    }
   ],
   "source": [
    "## identification de tous les outliers de la variable energy dont la catégorie est inconnue\n",
    "outliers_energy_df=outliers_energy_df[df['categories']=='unknown']\n",
    "outliers_energy_df ## 136 outliers dont la catégorie est inconnue"
   ]
  },
  {
   "cell_type": "code",
   "execution_count": 212,
   "metadata": {},
   "outputs": [],
   "source": [
    "## identification de tous les outliers de la variable energy dont la catégorie est inconnue\n",
    "df.drop(df[df['product_name'].isin(outliers_energy_df['product_name'].values)].index, inplace = True)"
   ]
  },
  {
   "cell_type": "code",
   "execution_count": 213,
   "metadata": {},
   "outputs": [
    {
     "data": {
      "text/html": [
       "<div>\n",
       "<style scoped>\n",
       "    .dataframe tbody tr th:only-of-type {\n",
       "        vertical-align: middle;\n",
       "    }\n",
       "\n",
       "    .dataframe tbody tr th {\n",
       "        vertical-align: top;\n",
       "    }\n",
       "\n",
       "    .dataframe thead th {\n",
       "        text-align: right;\n",
       "    }\n",
       "</style>\n",
       "<table border=\"1\" class=\"dataframe\">\n",
       "  <thead>\n",
       "    <tr style=\"text-align: right;\">\n",
       "      <th></th>\n",
       "      <th>additives_n</th>\n",
       "      <th>ingredients_from_palm_oil_n</th>\n",
       "      <th>energy_100g</th>\n",
       "      <th>saturated-fat_100g</th>\n",
       "      <th>sugars_100g</th>\n",
       "      <th>proteins_100g</th>\n",
       "      <th>salt_100g</th>\n",
       "      <th>nutrition-score-fr_100g</th>\n",
       "    </tr>\n",
       "  </thead>\n",
       "  <tbody>\n",
       "    <tr>\n",
       "      <th>count</th>\n",
       "      <td>40295.000000</td>\n",
       "      <td>40295.000000</td>\n",
       "      <td>40295.000000</td>\n",
       "      <td>40295.000000</td>\n",
       "      <td>40295.000000</td>\n",
       "      <td>40295.000000</td>\n",
       "      <td>40295.000000</td>\n",
       "      <td>40295.000000</td>\n",
       "    </tr>\n",
       "    <tr>\n",
       "      <th>mean</th>\n",
       "      <td>1.740404</td>\n",
       "      <td>0.069606</td>\n",
       "      <td>1175.170289</td>\n",
       "      <td>6.307490</td>\n",
       "      <td>16.270850</td>\n",
       "      <td>7.795226</td>\n",
       "      <td>1.485323</td>\n",
       "      <td>10.993131</td>\n",
       "    </tr>\n",
       "    <tr>\n",
       "      <th>std</th>\n",
       "      <td>2.389179</td>\n",
       "      <td>0.248700</td>\n",
       "      <td>766.196829</td>\n",
       "      <td>8.407967</td>\n",
       "      <td>20.364816</td>\n",
       "      <td>7.937021</td>\n",
       "      <td>4.952596</td>\n",
       "      <td>7.561548</td>\n",
       "    </tr>\n",
       "    <tr>\n",
       "      <th>min</th>\n",
       "      <td>0.000000</td>\n",
       "      <td>0.000000</td>\n",
       "      <td>0.000000</td>\n",
       "      <td>0.000000</td>\n",
       "      <td>0.000000</td>\n",
       "      <td>0.000000</td>\n",
       "      <td>0.000000</td>\n",
       "      <td>0.000000</td>\n",
       "    </tr>\n",
       "    <tr>\n",
       "      <th>25%</th>\n",
       "      <td>0.000000</td>\n",
       "      <td>0.000000</td>\n",
       "      <td>504.000000</td>\n",
       "      <td>0.700000</td>\n",
       "      <td>1.300000</td>\n",
       "      <td>2.100000</td>\n",
       "      <td>0.100000</td>\n",
       "      <td>4.000000</td>\n",
       "    </tr>\n",
       "    <tr>\n",
       "      <th>50%</th>\n",
       "      <td>1.000000</td>\n",
       "      <td>0.000000</td>\n",
       "      <td>1100.000000</td>\n",
       "      <td>3.200000</td>\n",
       "      <td>6.100000</td>\n",
       "      <td>6.000000</td>\n",
       "      <td>0.690000</td>\n",
       "      <td>11.018900</td>\n",
       "    </tr>\n",
       "    <tr>\n",
       "      <th>75%</th>\n",
       "      <td>2.400000</td>\n",
       "      <td>0.000000</td>\n",
       "      <td>1751.000000</td>\n",
       "      <td>8.800000</td>\n",
       "      <td>26.790000</td>\n",
       "      <td>10.300000</td>\n",
       "      <td>1.400000</td>\n",
       "      <td>16.000000</td>\n",
       "    </tr>\n",
       "    <tr>\n",
       "      <th>max</th>\n",
       "      <td>21.000000</td>\n",
       "      <td>2.000000</td>\n",
       "      <td>15481.000000</td>\n",
       "      <td>100.000000</td>\n",
       "      <td>100.000000</td>\n",
       "      <td>100.000000</td>\n",
       "      <td>100.000000</td>\n",
       "      <td>43.060569</td>\n",
       "    </tr>\n",
       "  </tbody>\n",
       "</table>\n",
       "</div>"
      ],
      "text/plain": [
       "        additives_n  ingredients_from_palm_oil_n   energy_100g  \\\n",
       "count  40295.000000                 40295.000000  40295.000000   \n",
       "mean       1.740404                     0.069606   1175.170289   \n",
       "std        2.389179                     0.248700    766.196829   \n",
       "min        0.000000                     0.000000      0.000000   \n",
       "25%        0.000000                     0.000000    504.000000   \n",
       "50%        1.000000                     0.000000   1100.000000   \n",
       "75%        2.400000                     0.000000   1751.000000   \n",
       "max       21.000000                     2.000000  15481.000000   \n",
       "\n",
       "       saturated-fat_100g   sugars_100g  proteins_100g     salt_100g  \\\n",
       "count        40295.000000  40295.000000   40295.000000  40295.000000   \n",
       "mean             6.307490     16.270850       7.795226      1.485323   \n",
       "std              8.407967     20.364816       7.937021      4.952596   \n",
       "min              0.000000      0.000000       0.000000      0.000000   \n",
       "25%              0.700000      1.300000       2.100000      0.100000   \n",
       "50%              3.200000      6.100000       6.000000      0.690000   \n",
       "75%              8.800000     26.790000      10.300000      1.400000   \n",
       "max            100.000000    100.000000     100.000000    100.000000   \n",
       "\n",
       "       nutrition-score-fr_100g  \n",
       "count             40295.000000  \n",
       "mean                 10.993131  \n",
       "std                   7.561548  \n",
       "min                   0.000000  \n",
       "25%                   4.000000  \n",
       "50%                  11.018900  \n",
       "75%                  16.000000  \n",
       "max                  43.060569  "
      ]
     },
     "execution_count": 213,
     "metadata": {},
     "output_type": "execute_result"
    }
   ],
   "source": [
    "df.describe()"
   ]
  },
  {
   "cell_type": "code",
   "execution_count": 214,
   "metadata": {},
   "outputs": [],
   "source": [
    "df.to_csv('./cleaned_food.csv',index=False)"
   ]
  }
 ],
 "metadata": {
  "kernelspec": {
   "display_name": "Python 3",
   "language": "python",
   "name": "python3"
  },
  "language_info": {
   "codemirror_mode": {
    "name": "ipython",
    "version": 3
   },
   "file_extension": ".py",
   "mimetype": "text/x-python",
   "name": "python",
   "nbconvert_exporter": "python",
   "pygments_lexer": "ipython3",
   "version": "3.7.6"
  }
 },
 "nbformat": 4,
 "nbformat_minor": 4
}
