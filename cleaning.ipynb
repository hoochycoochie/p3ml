{
 "cells": [
  {
   "cell_type": "code",
   "execution_count": 10,
   "metadata": {},
   "outputs": [],
   "source": [
    "import pandas as pd\n",
    "import numpy as np\n",
    "import matplotlib.pyplot as plt\n",
    "import seaborn as sns\n",
    "#pd.set_option('display.max_rows', None) "
   ]
  },
  {
   "cell_type": "code",
   "execution_count": 11,
   "metadata": {},
   "outputs": [],
   "source": [
    "df=pd.read_csv('./food.csv',sep='\\t',low_memory=False)"
   ]
  },
  {
   "cell_type": "code",
   "execution_count": 32,
   "metadata": {},
   "outputs": [
    {
     "data": {
      "text/plain": [
       "0.7368504732333246"
      ]
     },
     "execution_count": 32,
     "metadata": {},
     "output_type": "execute_result"
    }
   ],
   "source": [
    "df['categories_fr'].isnull().sum()/len(df)"
   ]
  },
  {
   "cell_type": "code",
   "execution_count": 3,
   "metadata": {},
   "outputs": [
    {
     "data": {
      "text/plain": [
       "(320772, 162)"
      ]
     },
     "execution_count": 3,
     "metadata": {},
     "output_type": "execute_result"
    }
   ],
   "source": [
    "df.shape ## 320772 lignes et 172 colonnes"
   ]
  },
  {
   "cell_type": "markdown",
   "metadata": {},
   "source": []
  },
  {
   "cell_type": "markdown",
   "metadata": {},
   "source": [
    "# # Traitements des colonnes"
   ]
  },
  {
   "cell_type": "code",
   "execution_count": 20,
   "metadata": {},
   "outputs": [],
   "source": [
    "## fonction renvoyant les colonnes et le pourcentage de valeurs nulles pour chacune d'elle\n",
    "def columns_na_percentage(df):\n",
    "    na_df=(df.isnull().sum()/len(df)*100).sort_values(ascending=False).reset_index()\n",
    "    na_df.columns = ['Column','na_rate_percent']\n",
    "    return na_df\n",
    "  "
   ]
  },
  {
   "cell_type": "code",
   "execution_count": 24,
   "metadata": {},
   "outputs": [
    {
     "ename": "AttributeError",
     "evalue": "'Series' object has no attribute 'columns'",
     "output_type": "error",
     "traceback": [
      "\u001b[0;31m---------------------------------------------------------------------------\u001b[0m",
      "\u001b[0;31mAttributeError\u001b[0m                            Traceback (most recent call last)",
      "\u001b[0;32m<ipython-input-24-cc03c628d813>\u001b[0m in \u001b[0;36m<module>\u001b[0;34m\u001b[0m\n\u001b[1;32m      3\u001b[0m \u001b[0mna_columns\u001b[0m\u001b[0;34m=\u001b[0m\u001b[0mna_df\u001b[0m\u001b[0;34m[\u001b[0m\u001b[0mna_df\u001b[0m\u001b[0;34m[\u001b[0m\u001b[0;34m'na_rate_percent'\u001b[0m\u001b[0;34m]\u001b[0m\u001b[0;34m>=\u001b[0m\u001b[0;36m50\u001b[0m\u001b[0;34m]\u001b[0m \u001b[0;31m## 128 colonnes ont plus de 50% de valeurs nulles\u001b[0m\u001b[0;34m\u001b[0m\u001b[0;34m\u001b[0m\u001b[0m\n\u001b[1;32m      4\u001b[0m \u001b[0;31m#na_columns[na_columns['Column']=='manufacturing_places']\u001b[0m\u001b[0;34m\u001b[0m\u001b[0;34m\u001b[0m\u001b[0;34m\u001b[0m\u001b[0m\n\u001b[0;32m----> 5\u001b[0;31m \u001b[0mna_columns\u001b[0m\u001b[0;34m.\u001b[0m\u001b[0mColumn\u001b[0m\u001b[0;34m.\u001b[0m\u001b[0mcolumns\u001b[0m\u001b[0;34m.\u001b[0m\u001b[0munique\u001b[0m\u001b[0;34m(\u001b[0m\u001b[0;34m)\u001b[0m\u001b[0;34m\u001b[0m\u001b[0;34m\u001b[0m\u001b[0m\n\u001b[0m",
      "\u001b[0;32m~/anaconda3/lib/python3.7/site-packages/pandas/core/generic.py\u001b[0m in \u001b[0;36m__getattr__\u001b[0;34m(self, name)\u001b[0m\n\u001b[1;32m   5268\u001b[0m             \u001b[0;32mor\u001b[0m \u001b[0mname\u001b[0m \u001b[0;32min\u001b[0m \u001b[0mself\u001b[0m\u001b[0;34m.\u001b[0m\u001b[0m_accessors\u001b[0m\u001b[0;34m\u001b[0m\u001b[0;34m\u001b[0m\u001b[0m\n\u001b[1;32m   5269\u001b[0m         ):\n\u001b[0;32m-> 5270\u001b[0;31m             \u001b[0;32mreturn\u001b[0m \u001b[0mobject\u001b[0m\u001b[0;34m.\u001b[0m\u001b[0m__getattribute__\u001b[0m\u001b[0;34m(\u001b[0m\u001b[0mself\u001b[0m\u001b[0;34m,\u001b[0m \u001b[0mname\u001b[0m\u001b[0;34m)\u001b[0m\u001b[0;34m\u001b[0m\u001b[0;34m\u001b[0m\u001b[0m\n\u001b[0m\u001b[1;32m   5271\u001b[0m         \u001b[0;32melse\u001b[0m\u001b[0;34m:\u001b[0m\u001b[0;34m\u001b[0m\u001b[0;34m\u001b[0m\u001b[0m\n\u001b[1;32m   5272\u001b[0m             \u001b[0;32mif\u001b[0m \u001b[0mself\u001b[0m\u001b[0;34m.\u001b[0m\u001b[0m_info_axis\u001b[0m\u001b[0;34m.\u001b[0m\u001b[0m_can_hold_identifiers_and_holds_name\u001b[0m\u001b[0;34m(\u001b[0m\u001b[0mname\u001b[0m\u001b[0;34m)\u001b[0m\u001b[0;34m:\u001b[0m\u001b[0;34m\u001b[0m\u001b[0;34m\u001b[0m\u001b[0m\n",
      "\u001b[0;31mAttributeError\u001b[0m: 'Series' object has no attribute 'columns'"
     ]
    }
   ],
   "source": [
    "## colonnes comportant trop de valeurs nulles\n",
    "na_df=columns_na_percentage(df)\n",
    "na_columns=na_df[na_df['na_rate_percent']>=50] ## 128 colonnes ont plus de 50% de valeurs nulles\n",
    "#na_columns[na_columns['Column']=='manufacturing_places']\n",
    "na_columns"
   ]
  },
  {
   "cell_type": "code",
   "execution_count": 6,
   "metadata": {},
   "outputs": [],
   "source": [
    "## suppression des colonnes ayant plus 50% de valeurs nulles\n",
    "df.drop(columns=na_columns['Column'].tolist(),axis=1,inplace=True)"
   ]
  },
  {
   "cell_type": "code",
   "execution_count": 8,
   "metadata": {},
   "outputs": [
    {
     "data": {
      "text/plain": [
       "48        NaN\n",
       "183       NaN\n",
       "187       NaN\n",
       "227       NaN\n",
       "233       NaN\n",
       "         ... \n",
       "320747    NaN\n",
       "320748    NaN\n",
       "320752    NaN\n",
       "320755    NaN\n",
       "320766    NaN\n",
       "Name: product_name, Length: 17765, dtype: object"
      ]
     },
     "execution_count": 8,
     "metadata": {},
     "output_type": "execute_result"
    }
   ],
   "source": [
    "## le nom du produit censé être unique et non null\n",
    "## suppression de toutes les lignes dont le nom du produit est non renseigné ou nul\n",
    "mask_to_remove=df[(pd.isna(df['product_name']))|(df['product_name'].str.strip()=='')]\n",
    "len(mask_to_remove['product_name'] )##17765 lignes à supprimmer\n",
    "#df=df[~pd.isna(df['product_name'])]"
   ]
  },
  {
   "cell_type": "code",
   "execution_count": 15,
   "metadata": {},
   "outputs": [],
   "source": [
    "## suppression des produits dont les noms ne sont pas renseignés\n",
    "df.drop(mask_to_remove.index,inplace=True)"
   ]
  },
  {
   "cell_type": "code",
   "execution_count": 16,
   "metadata": {},
   "outputs": [
    {
     "data": {
      "text/html": [
       "<div>\n",
       "<style scoped>\n",
       "    .dataframe tbody tr th:only-of-type {\n",
       "        vertical-align: middle;\n",
       "    }\n",
       "\n",
       "    .dataframe tbody tr th {\n",
       "        vertical-align: top;\n",
       "    }\n",
       "\n",
       "    .dataframe thead th {\n",
       "        text-align: right;\n",
       "    }\n",
       "</style>\n",
       "<table border=\"1\" class=\"dataframe\">\n",
       "  <thead>\n",
       "    <tr style=\"text-align: right;\">\n",
       "      <th></th>\n",
       "      <th>product_name</th>\n",
       "      <th>last_modified_t</th>\n",
       "    </tr>\n",
       "  </thead>\n",
       "  <tbody>\n",
       "    <tr>\n",
       "      <th>0</th>\n",
       "      <td>Farine de blé noir</td>\n",
       "      <td>1474103893</td>\n",
       "    </tr>\n",
       "    <tr>\n",
       "      <th>2</th>\n",
       "      <td>Peanuts</td>\n",
       "      <td>1489069957</td>\n",
       "    </tr>\n",
       "    <tr>\n",
       "      <th>4</th>\n",
       "      <td>Organic Polenta</td>\n",
       "      <td>1489055653</td>\n",
       "    </tr>\n",
       "    <tr>\n",
       "      <th>6</th>\n",
       "      <td>Organic Long Grain White Rice</td>\n",
       "      <td>1489055730</td>\n",
       "    </tr>\n",
       "    <tr>\n",
       "      <th>7</th>\n",
       "      <td>Organic Muesli</td>\n",
       "      <td>1489055712</td>\n",
       "    </tr>\n",
       "    <tr>\n",
       "      <th>...</th>\n",
       "      <td>...</td>\n",
       "      <td>...</td>\n",
       "    </tr>\n",
       "    <tr>\n",
       "      <th>320753</th>\n",
       "      <td>Lager</td>\n",
       "      <td>1444561971</td>\n",
       "    </tr>\n",
       "    <tr>\n",
       "      <th>320754</th>\n",
       "      <td>nf test</td>\n",
       "      <td>1472253428</td>\n",
       "    </tr>\n",
       "    <tr>\n",
       "      <th>320757</th>\n",
       "      <td>Amandes</td>\n",
       "      <td>1491079939</td>\n",
       "    </tr>\n",
       "    <tr>\n",
       "      <th>320760</th>\n",
       "      <td>Poireaux</td>\n",
       "      <td>1460898286</td>\n",
       "    </tr>\n",
       "    <tr>\n",
       "      <th>320771</th>\n",
       "      <td>Sugar Free Drink Mix, Peach Tea</td>\n",
       "      <td>1491244499</td>\n",
       "    </tr>\n",
       "  </tbody>\n",
       "</table>\n",
       "<p>106092 rows × 2 columns</p>\n",
       "</div>"
      ],
      "text/plain": [
       "                           product_name last_modified_t\n",
       "0                    Farine de blé noir      1474103893\n",
       "2                               Peanuts      1489069957\n",
       "4                       Organic Polenta      1489055653\n",
       "6         Organic Long Grain White Rice      1489055730\n",
       "7                        Organic Muesli      1489055712\n",
       "...                                 ...             ...\n",
       "320753                            Lager      1444561971\n",
       "320754                          nf test      1472253428\n",
       "320757                          Amandes      1491079939\n",
       "320760                         Poireaux      1460898286\n",
       "320771  Sugar Free Drink Mix, Peach Tea      1491244499\n",
       "\n",
       "[106092 rows x 2 columns]"
      ]
     },
     "execution_count": 16,
     "metadata": {},
     "output_type": "execute_result"
    }
   ],
   "source": [
    "## vérification de doublons pour le nom du produit 106092 doublons\n",
    "df[df['product_name'].duplicated(keep=False)][['product_name','last_modified_t']]"
   ]
  },
  {
   "cell_type": "code",
   "execution_count": 17,
   "metadata": {},
   "outputs": [],
   "source": [
    "## suppression des doublons sur les produits\n",
    "df.drop_duplicates(subset='product_name',keep='last',inplace=True)"
   ]
  },
  {
   "cell_type": "code",
   "execution_count": 18,
   "metadata": {},
   "outputs": [
    {
     "name": "stdout",
     "output_type": "stream",
     "text": [
      "<class 'pandas.core.frame.DataFrame'>\n",
      "Int64Index: 221346 entries, 1 to 320771\n",
      "Data columns (total 34 columns):\n",
      " #   Column                                   Non-Null Count   Dtype  \n",
      "---  ------                                   --------------   -----  \n",
      " 0   code                                     221342 non-null  object \n",
      " 1   url                                      221342 non-null  object \n",
      " 2   creator                                  221345 non-null  object \n",
      " 3   created_t                                221346 non-null  object \n",
      " 4   created_datetime                         221342 non-null  object \n",
      " 5   last_modified_t                          221346 non-null  object \n",
      " 6   last_modified_datetime                   221346 non-null  object \n",
      " 7   product_name                             221346 non-null  object \n",
      " 8   brands                                   210532 non-null  object \n",
      " 9   brands_tags                              210526 non-null  object \n",
      " 10  countries                                221145 non-null  object \n",
      " 11  countries_tags                           221145 non-null  object \n",
      " 12  countries_fr                             221145 non-null  object \n",
      " 13  ingredients_text                         174581 non-null  object \n",
      " 14  serving_size                             144599 non-null  object \n",
      " 15  additives_n                              174577 non-null  float64\n",
      " 16  additives                                174551 non-null  object \n",
      " 17  ingredients_from_palm_oil_n              174577 non-null  float64\n",
      " 18  ingredients_that_may_be_from_palm_oil_n  174577 non-null  float64\n",
      " 19  nutrition_grade_fr                       157577 non-null  object \n",
      " 20  states                                   221321 non-null  object \n",
      " 21  states_tags                              221321 non-null  object \n",
      " 22  states_fr                                221321 non-null  object \n",
      " 23  energy_100g                              184296 non-null  float64\n",
      " 24  fat_100g                                 169736 non-null  float64\n",
      " 25  saturated-fat_100g                       162893 non-null  float64\n",
      " 26  carbohydrates_100g                       169458 non-null  float64\n",
      " 27  sugars_100g                              173535 non-null  float64\n",
      " 28  fiber_100g                               142059 non-null  float64\n",
      " 29  proteins_100g                            183398 non-null  float64\n",
      " 30  salt_100g                                179948 non-null  float64\n",
      " 31  sodium_100g                              179912 non-null  float64\n",
      " 32  nutrition-score-fr_100g                  157577 non-null  float64\n",
      " 33  nutrition-score-uk_100g                  157577 non-null  float64\n",
      "dtypes: float64(14), object(20)\n",
      "memory usage: 59.1+ MB\n"
     ]
    }
   ],
   "source": [
    "df.info()"
   ]
  },
  {
   "cell_type": "code",
   "execution_count": 19,
   "metadata": {},
   "outputs": [
    {
     "data": {
      "text/plain": [
       "['energy_100g',\n",
       " 'fat_100g',\n",
       " 'saturated-fat_100g',\n",
       " 'carbohydrates_100g',\n",
       " 'sugars_100g',\n",
       " 'fiber_100g',\n",
       " 'proteins_100g',\n",
       " 'salt_100g',\n",
       " 'sodium_100g',\n",
       " 'nutrition-score-fr_100g',\n",
       " 'nutrition-score-uk_100g']"
      ]
     },
     "execution_count": 19,
     "metadata": {},
     "output_type": "execute_result"
    }
   ],
   "source": [
    "## identification des colonnes décrivant la part nutritionnelle pour 100g\n",
    "nutriment_cols=[i for i in df.columns.tolist() if i.endswith('_100g')]\n",
    "nutriment_cols"
   ]
  },
  {
   "cell_type": "code",
   "execution_count": 20,
   "metadata": {},
   "outputs": [
    {
     "data": {
      "text/html": [
       "<div>\n",
       "<style scoped>\n",
       "    .dataframe tbody tr th:only-of-type {\n",
       "        vertical-align: middle;\n",
       "    }\n",
       "\n",
       "    .dataframe tbody tr th {\n",
       "        vertical-align: top;\n",
       "    }\n",
       "\n",
       "    .dataframe thead th {\n",
       "        text-align: right;\n",
       "    }\n",
       "</style>\n",
       "<table border=\"1\" class=\"dataframe\">\n",
       "  <thead>\n",
       "    <tr style=\"text-align: right;\">\n",
       "      <th></th>\n",
       "      <th>energy_100g</th>\n",
       "      <th>fat_100g</th>\n",
       "      <th>saturated-fat_100g</th>\n",
       "      <th>carbohydrates_100g</th>\n",
       "      <th>sugars_100g</th>\n",
       "      <th>fiber_100g</th>\n",
       "      <th>proteins_100g</th>\n",
       "      <th>salt_100g</th>\n",
       "      <th>sodium_100g</th>\n",
       "      <th>nutrition-score-fr_100g</th>\n",
       "      <th>nutrition-score-uk_100g</th>\n",
       "    </tr>\n",
       "  </thead>\n",
       "  <tbody>\n",
       "    <tr>\n",
       "      <th>46</th>\n",
       "      <td>NaN</td>\n",
       "      <td>NaN</td>\n",
       "      <td>NaN</td>\n",
       "      <td>NaN</td>\n",
       "      <td>NaN</td>\n",
       "      <td>NaN</td>\n",
       "      <td>NaN</td>\n",
       "      <td>NaN</td>\n",
       "      <td>NaN</td>\n",
       "      <td>NaN</td>\n",
       "      <td>NaN</td>\n",
       "    </tr>\n",
       "    <tr>\n",
       "      <th>136</th>\n",
       "      <td>NaN</td>\n",
       "      <td>NaN</td>\n",
       "      <td>NaN</td>\n",
       "      <td>NaN</td>\n",
       "      <td>NaN</td>\n",
       "      <td>NaN</td>\n",
       "      <td>NaN</td>\n",
       "      <td>NaN</td>\n",
       "      <td>NaN</td>\n",
       "      <td>NaN</td>\n",
       "      <td>NaN</td>\n",
       "    </tr>\n",
       "    <tr>\n",
       "      <th>177</th>\n",
       "      <td>NaN</td>\n",
       "      <td>NaN</td>\n",
       "      <td>NaN</td>\n",
       "      <td>NaN</td>\n",
       "      <td>NaN</td>\n",
       "      <td>NaN</td>\n",
       "      <td>NaN</td>\n",
       "      <td>NaN</td>\n",
       "      <td>NaN</td>\n",
       "      <td>NaN</td>\n",
       "      <td>NaN</td>\n",
       "    </tr>\n",
       "    <tr>\n",
       "      <th>178</th>\n",
       "      <td>NaN</td>\n",
       "      <td>NaN</td>\n",
       "      <td>NaN</td>\n",
       "      <td>NaN</td>\n",
       "      <td>NaN</td>\n",
       "      <td>NaN</td>\n",
       "      <td>NaN</td>\n",
       "      <td>NaN</td>\n",
       "      <td>NaN</td>\n",
       "      <td>NaN</td>\n",
       "      <td>NaN</td>\n",
       "    </tr>\n",
       "    <tr>\n",
       "      <th>179</th>\n",
       "      <td>NaN</td>\n",
       "      <td>NaN</td>\n",
       "      <td>NaN</td>\n",
       "      <td>NaN</td>\n",
       "      <td>NaN</td>\n",
       "      <td>NaN</td>\n",
       "      <td>NaN</td>\n",
       "      <td>NaN</td>\n",
       "      <td>NaN</td>\n",
       "      <td>NaN</td>\n",
       "      <td>NaN</td>\n",
       "    </tr>\n",
       "  </tbody>\n",
       "</table>\n",
       "</div>"
      ],
      "text/plain": [
       "     energy_100g  fat_100g  saturated-fat_100g  carbohydrates_100g  \\\n",
       "46           NaN       NaN                 NaN                 NaN   \n",
       "136          NaN       NaN                 NaN                 NaN   \n",
       "177          NaN       NaN                 NaN                 NaN   \n",
       "178          NaN       NaN                 NaN                 NaN   \n",
       "179          NaN       NaN                 NaN                 NaN   \n",
       "\n",
       "     sugars_100g  fiber_100g  proteins_100g  salt_100g  sodium_100g  \\\n",
       "46           NaN         NaN            NaN        NaN          NaN   \n",
       "136          NaN         NaN            NaN        NaN          NaN   \n",
       "177          NaN         NaN            NaN        NaN          NaN   \n",
       "178          NaN         NaN            NaN        NaN          NaN   \n",
       "179          NaN         NaN            NaN        NaN          NaN   \n",
       "\n",
       "     nutrition-score-fr_100g  nutrition-score-uk_100g  \n",
       "46                       NaN                      NaN  \n",
       "136                      NaN                      NaN  \n",
       "177                      NaN                      NaN  \n",
       "178                      NaN                      NaN  \n",
       "179                      NaN                      NaN  "
      ]
     },
     "execution_count": 20,
     "metadata": {},
     "output_type": "execute_result"
    }
   ],
   "source": [
    "all_missing_nutritional = df[df[\"energy_100g\"].isna()\n",
    "                            & df[\"proteins_100g\"].isna()\n",
    "                            & df[\"sugars_100g\"].isna()\n",
    "                            & df[\"fat_100g\"].isna()\n",
    "            &df['sugars_100g'].isna()&\n",
    " df['fiber_100g'].isna() & df[ 'nutrition-score-fr_100g'].isna()& df['nutrition-score-uk_100g'].isna() \n",
    "                            & df[\"saturated-fat_100g\"].isna()\n",
    "                            & df[\"carbohydrates_100g\"].isna()\n",
    "                            & df[\"sodium_100g\"].isna() \n",
    "                    ] \n",
    "all_missing_nutritional[nutriment_cols].head() ## 35727"
   ]
  },
  {
   "cell_type": "code",
   "execution_count": 21,
   "metadata": {},
   "outputs": [],
   "source": [
    "## suppression des colonnes dont toutes les valeurs nutritives sont inconnues ainsi que les nutriscores\n",
    "df.drop(all_missing_nutritional.index,inplace=True)\n",
    "\n"
   ]
  },
  {
   "cell_type": "code",
   "execution_count": 16,
   "metadata": {},
   "outputs": [
    {
     "name": "stdout",
     "output_type": "stream",
     "text": [
      "<class 'pandas.core.frame.DataFrame'>\n",
      "Int64Index: 185619 entries, 1 to 320771\n",
      "Data columns (total 10 columns):\n",
      " #   Column                   Non-Null Count   Dtype  \n",
      "---  ------                   --------------   -----  \n",
      " 0   energy_100g              184296 non-null  float64\n",
      " 1   fat_100g                 169736 non-null  float64\n",
      " 2   saturated-fat_100g       162893 non-null  float64\n",
      " 3   carbohydrates_100g       169458 non-null  float64\n",
      " 4   sugars_100g              173535 non-null  float64\n",
      " 5   fiber_100g               142059 non-null  float64\n",
      " 6   proteins_100g            183398 non-null  float64\n",
      " 7   salt_100g                179943 non-null  float64\n",
      " 8   sodium_100g              179912 non-null  float64\n",
      " 9   nutrition-score-fr_100g  157577 non-null  float64\n",
      "dtypes: float64(10)\n",
      "memory usage: 15.6 MB\n"
     ]
    }
   ],
   "source": [
    "## les colonnes code, url,creator,created_t,created_datetime,last_modified_t,last_modified_datetime\n",
    "  # sont peu utiles, et plus relatives au stockage en base de données\n",
    "\n",
    "## les variables 'nutrition-score-uk_100g' et 'nutrition-score-fr_100g' sont identiques\n",
    "## les variables countries et states, sont des concaténation de pays ce qui peut s'avérer très complexe\n",
    "## Au final, on ne garde que les colonnes des valeurs nutritives des produits et leur nutriscore\n",
    "cols_to_remove=['code','url','creator','created_t',\n",
    "                'created_datetime','last_modified_t',\n",
    "                'last_modified_datetime','nutrition-score-uk_100g',\n",
    "                'countries','countries_tags',\n",
    "                'countries_fr',\n",
    "                'brands',\n",
    "                'brands_tags',\n",
    "                'ingredients_text'\n",
    "               \n",
    "               ]\n",
    "\n",
    "#df['nutrition-score-uk_100g'].isnull().sum()==df['nutrition-score-fr_100g'].isnull().sum()\n",
    "\n",
    "\n",
    "df=df[nutriment_cols]\n",
    "df.drop('nutrition-score-uk_100g',axis=1,inplace=True)\n",
    "df.info()"
   ]
  },
  {
   "cell_type": "code",
   "execution_count": 17,
   "metadata": {},
   "outputs": [
    {
     "name": "stdout",
     "output_type": "stream",
     "text": [
      "<class 'pandas.core.frame.DataFrame'>\n",
      "Int64Index: 185619 entries, 1 to 320771\n",
      "Data columns (total 10 columns):\n",
      " #   Column                   Non-Null Count   Dtype  \n",
      "---  ------                   --------------   -----  \n",
      " 0   energy_100g              184296 non-null  float64\n",
      " 1   fat_100g                 169736 non-null  float64\n",
      " 2   saturated-fat_100g       162893 non-null  float64\n",
      " 3   carbohydrates_100g       169458 non-null  float64\n",
      " 4   sugars_100g              173535 non-null  float64\n",
      " 5   fiber_100g               142059 non-null  float64\n",
      " 6   proteins_100g            183398 non-null  float64\n",
      " 7   salt_100g                179943 non-null  float64\n",
      " 8   sodium_100g              179912 non-null  float64\n",
      " 9   nutrition-score-fr_100g  157577 non-null  float64\n",
      "dtypes: float64(10)\n",
      "memory usage: 15.6 MB\n"
     ]
    }
   ],
   "source": [
    "df.info()"
   ]
  },
  {
   "cell_type": "code",
   "execution_count": 7,
   "metadata": {},
   "outputs": [],
   "source": [
    "from pandas.plotting import scatter_matrix\n",
    "def clean_df(df):\n",
    "    ## colonnes comportant trop de valeurs nulles\n",
    "    na_df=columns_na_percentage(df)\n",
    "    na_columns=na_df[na_df['na_rate_percent']>=50] ## 128 colonnes ont plus de 50% de valeurs nulles\n",
    "#na_columns[na_columns['Column']=='manufacturing_places']\n",
    "    \n",
    "    ## suppression des colonnes ayant plus 50% de valeurs nulles\n",
    "    df.drop(columns=na_columns['Column'].tolist(),axis=1,inplace=True)\n",
    "    ## le nom du produit censé être unique et non null\n",
    "    ## suppression de toutes les lignes dont le nom du produit est non renseigné ou nul\n",
    "    mask_to_remove=df[(pd.isna(df['product_name']))|(df['product_name'].str.strip()=='')]\n",
    "    len(mask_to_remove['product_name']) ##17765 lignes à supprimmer\n",
    "    #df=df[~pd.isna(df['product_name'])]\n",
    "    ## suppression des produits dont les noms ne sont pas renseignés\n",
    "    df.drop(mask_to_remove.index,inplace=True)\n",
    "    ## vérification de doublons pour le nom du produit 106092 doublons\n",
    "    df[df['product_name'].duplicated(keep=False)][['product_name','last_modified_t']]\n",
    "    ## suppression des doublons sur les produits\n",
    "    df.drop_duplicates(subset='product_name',keep='last',inplace=True)\n",
    "    ## identification des colonnes décrivant la part nutritionnelle pour 100g\n",
    "    nutriment_cols=[i for i in df.columns.tolist() if i.endswith('_100g')]\n",
    "    \n",
    "    all_missing_nutritional = df[df[\"energy_100g\"].isna()\n",
    "                            & df[\"proteins_100g\"].isna()\n",
    "                            & df[\"sugars_100g\"].isna()\n",
    "                            & df[\"fat_100g\"].isna()\n",
    "            &df['sugars_100g'].isna()&\n",
    "     df['fiber_100g'].isna() & df[ 'nutrition-score-fr_100g'].isna()& df['nutrition-score-uk_100g'].isna() \n",
    "                            & df[\"saturated-fat_100g\"].isna()\n",
    "                            & df[\"carbohydrates_100g\"].isna()\n",
    "                            & df[\"sodium_100g\"].isna() \n",
    "                    ] \n",
    "    all_missing_nutritional[nutriment_cols].head() ## 35727\n",
    "    ## suppression des colonnes dont toutes les valeurs nutritives sont inconnues ainsi que les nutriscores\n",
    "    df.drop(all_missing_nutritional.index,inplace=True)\n",
    "    \n",
    "        ## les colonnes code, url,creator,created_t,created_datetime,last_modified_t,last_modified_datetime\n",
    "      # sont peu utiles, et plus relatives au stockage en base de données\n",
    "\n",
    "    ## les variables 'nutrition-score-uk_100g' et 'nutrition-score-fr_100g' sont identiques\n",
    "    ## les variables countries et states, sont des concaténation de pays ce qui peut s'avérer très complexe\n",
    "    ## Au final, on ne garde que les colonnes des valeurs nutritives des produits et leur nutriscore et le nombre d'additifs présent\n",
    "    cols_to_remove=['code','url','creator','created_t',\n",
    "                    'created_datetime','last_modified_t',\n",
    "                    'last_modified_datetime','nutrition-score-uk_100g',\n",
    "                    'countries',\n",
    "                    'countries_tags',\n",
    "                    'countries_fr',\n",
    "                    'brands',\n",
    "                    'brands_tags',\n",
    "                    'ingredients_text'\n",
    "\n",
    "                   ]\n",
    "\n",
    "    #df['nutrition-score-uk_100g'].isnull().sum()==df['nutrition-score-fr_100g'].isnull().sum()\n",
    "\n",
    "    nutriment_cols.remove('nutrition-score-uk_100g')\n",
    "    relevant_cols = nutriment_cols\n",
    "    #relevant_cols.append('additives_n')\n",
    "    relevant_cols.append('product_name')\n",
    "    \n",
    "    print('relevant_cols',relevant_cols)\n",
    "    df=df[relevant_cols]\n",
    "    \n",
    "    df=df.set_index('product_name')\n",
    "    df.to_csv('./cleaned_food.csv')\n",
    "    df.info()\n"
   ]
  },
  {
   "cell_type": "code",
   "execution_count": 8,
   "metadata": {},
   "outputs": [
    {
     "name": "stdout",
     "output_type": "stream",
     "text": [
      "relevant_cols ['energy_100g', 'fat_100g', 'saturated-fat_100g', 'carbohydrates_100g', 'sugars_100g', 'fiber_100g', 'proteins_100g', 'salt_100g', 'sodium_100g', 'nutrition-score-fr_100g', 'product_name']\n",
      "<class 'pandas.core.frame.DataFrame'>\n",
      "Index: 185619 entries, Banana Chips Sweetened (Whole) to Sugar Free Drink Mix, Peach Tea\n",
      "Data columns (total 10 columns):\n",
      " #   Column                   Non-Null Count   Dtype  \n",
      "---  ------                   --------------   -----  \n",
      " 0   energy_100g              184296 non-null  float64\n",
      " 1   fat_100g                 169736 non-null  float64\n",
      " 2   saturated-fat_100g       162893 non-null  float64\n",
      " 3   carbohydrates_100g       169458 non-null  float64\n",
      " 4   sugars_100g              173535 non-null  float64\n",
      " 5   fiber_100g               142059 non-null  float64\n",
      " 6   proteins_100g            183398 non-null  float64\n",
      " 7   salt_100g                179943 non-null  float64\n",
      " 8   sodium_100g              179912 non-null  float64\n",
      " 9   nutrition-score-fr_100g  157577 non-null  float64\n",
      "dtypes: float64(10)\n",
      "memory usage: 15.6+ MB\n"
     ]
    }
   ],
   "source": [
    "clean_df(df)"
   ]
  }
 ],
 "metadata": {
  "kernelspec": {
   "display_name": "Python 3",
   "language": "python",
   "name": "python3"
  },
  "language_info": {
   "codemirror_mode": {
    "name": "ipython",
    "version": 3
   },
   "file_extension": ".py",
   "mimetype": "text/x-python",
   "name": "python",
   "nbconvert_exporter": "python",
   "pygments_lexer": "ipython3",
   "version": "3.7.6"
  }
 },
 "nbformat": 4,
 "nbformat_minor": 4
}
