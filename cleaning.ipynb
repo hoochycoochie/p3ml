{
 "cells": [
  {
   "cell_type": "markdown",
   "metadata": {},
   "source": [
    "Le jeu de données Open Food Facts est disponible sur le site officiel (ou disponible à ce lien en téléchargement). Les variables sont définies à cette adresse.\n",
    "\n",
    "Les champs sont séparés en quatre sections :\n",
    "\n",
    "Les informations générales sur la fiche du produit : nom, date de modification, etc.\n",
    "Un ensemble de tags : catégorie du produit, localisation, origine, etc.\n",
    "Les ingrédients composant les produits et leurs additifs éventuels.\n",
    "Des informations nutritionnelles : quantité en grammes d’un nutriment pour 100 grammes du produit."
   ]
  },
  {
   "cell_type": "markdown",
   "metadata": {},
   "source": [
    "# Partie 1 Idée d'application\n",
    "\n",
    "Pour répondre à l'appel de l'Agence française santé publique, et en fonction des données à notre disposition,\n",
    "nous proposons une application (web et ou mobile) qui propose des produits et ou catégories de produits au consommateur suivant les caractéristiques suivantes:\n",
    "- le pays dans lequel où il réside et où les produits sont disponibles, \n",
    "- le sexe\n",
    "- l'âge\n",
    "- le poids \n",
    "- la taille\n",
    "- les maladies dont souffre éventuellement le consommateur\n",
    "- voir mêmes les éventuelles allergies\n",
    "\n",
    "Bien entendu, la mise en place d'une application nécessité une collaboration avec des médecins, diététiciens, nutritionnistes afin de connaitre les nutriments et leurs valeurs respectives dont le consommateur a besoin selon sa situation tout minimisant l'impact sur l'environnement voir le nutriscore"
   ]
  },
  {
   "cell_type": "code",
   "execution_count": 351,
   "metadata": {},
   "outputs": [],
   "source": [
    "import pandas as pd\n",
    "import numpy as np\n",
    "import matplotlib.pyplot as plt\n",
    "import seaborn as sns\n",
    "from sklearn.experimental import enable_iterative_imputer\n",
    "from sklearn.impute import IterativeImputer\n",
    "from sklearn.impute import KNNImputer \n",
    "#pd.set_option('display.max_rows', None) "
   ]
  },
  {
   "cell_type": "code",
   "execution_count": 352,
   "metadata": {},
   "outputs": [],
   "source": [
    "df=pd.read_csv('./food.csv',sep='\\t',low_memory=False)"
   ]
  },
  {
   "cell_type": "code",
   "execution_count": 353,
   "metadata": {},
   "outputs": [
    {
     "data": {
      "text/plain": [
       "(320772, 162)"
      ]
     },
     "execution_count": 353,
     "metadata": {},
     "output_type": "execute_result"
    }
   ],
   "source": [
    "df.shape ## 320772 lignes et 172 colonnes"
   ]
  },
  {
   "cell_type": "markdown",
   "metadata": {},
   "source": [
    "Afin de répondre à notre idée d'application ,la première chose qu'on fait reste le filtrage des données par pays.Etant donnée, qu'on vit en France, on s'intéresse aux produits disponibles en France"
   ]
  },
  {
   "cell_type": "code",
   "execution_count": 354,
   "metadata": {},
   "outputs": [],
   "source": [
    "## filtrage des produits disponibles en France\n",
    "df=df[(pd.notnull(df['countries'])) & (\n",
    "(df['countries'].str.contains('FR')) |\n",
    "    (df['countries'].str.contains('France'))\n",
    "    | (df['countries'].str.contains('france'))\n",
    "    | (df['countries'].str.contains('French'))\n",
    "     | (df['countries'].str.contains('french'))\n",
    ")]"
   ]
  },
  {
   "cell_type": "code",
   "execution_count": 355,
   "metadata": {},
   "outputs": [
    {
     "data": {
      "text/plain": [
       "code                         0.000000\n",
       "url                          0.000000\n",
       "creator                      0.000000\n",
       "created_t                    0.000000\n",
       "created_datetime             0.001019\n",
       "                              ...    \n",
       "carbon-footprint_100g       99.820653\n",
       "nutrition-score-fr_100g     37.641388\n",
       "nutrition-score-uk_100g     37.641388\n",
       "glycemic-index_100g        100.000000\n",
       "water-hardness_100g        100.000000\n",
       "Length: 162, dtype: float64"
      ]
     },
     "execution_count": 355,
     "metadata": {},
     "output_type": "execute_result"
    }
   ],
   "source": [
    "df.isnull().sum()/len(df)*100"
   ]
  },
  {
   "cell_type": "code",
   "execution_count": null,
   "metadata": {},
   "outputs": [],
   "source": []
  },
  {
   "cell_type": "markdown",
   "metadata": {},
   "source": [
    "#  Traitements des colonnes"
   ]
  },
  {
   "cell_type": "code",
   "execution_count": 356,
   "metadata": {},
   "outputs": [],
   "source": [
    "## fonction renvoyant les colonnes et le pourcentage de valeurs nulles pour chacune d'elle\n",
    "def columns_na_percentage(df):\n",
    "    na_df=(df.isnull().sum()/len(df)*100).sort_values(ascending=False).reset_index()\n",
    "    na_df.columns = ['Column','na_rate_percent']\n",
    "    return na_df\n",
    "  "
   ]
  },
  {
   "cell_type": "code",
   "execution_count": 357,
   "metadata": {},
   "outputs": [
    {
     "data": {
      "text/html": [
       "<div>\n",
       "<style scoped>\n",
       "    .dataframe tbody tr th:only-of-type {\n",
       "        vertical-align: middle;\n",
       "    }\n",
       "\n",
       "    .dataframe tbody tr th {\n",
       "        vertical-align: top;\n",
       "    }\n",
       "\n",
       "    .dataframe thead th {\n",
       "        text-align: right;\n",
       "    }\n",
       "</style>\n",
       "<table border=\"1\" class=\"dataframe\">\n",
       "  <thead>\n",
       "    <tr style=\"text-align: right;\">\n",
       "      <th></th>\n",
       "      <th>Column</th>\n",
       "      <th>na_rate_percent</th>\n",
       "    </tr>\n",
       "  </thead>\n",
       "  <tbody>\n",
       "    <tr>\n",
       "      <th>0</th>\n",
       "      <td>water-hardness_100g</td>\n",
       "      <td>100.000000</td>\n",
       "    </tr>\n",
       "    <tr>\n",
       "      <th>1</th>\n",
       "      <td>nervonic-acid_100g</td>\n",
       "      <td>100.000000</td>\n",
       "    </tr>\n",
       "    <tr>\n",
       "      <th>2</th>\n",
       "      <td>mead-acid_100g</td>\n",
       "      <td>100.000000</td>\n",
       "    </tr>\n",
       "    <tr>\n",
       "      <th>3</th>\n",
       "      <td>gondoic-acid_100g</td>\n",
       "      <td>100.000000</td>\n",
       "    </tr>\n",
       "    <tr>\n",
       "      <th>4</th>\n",
       "      <td>elaidic-acid_100g</td>\n",
       "      <td>100.000000</td>\n",
       "    </tr>\n",
       "    <tr>\n",
       "      <th>...</th>\n",
       "      <td>...</td>\n",
       "      <td>...</td>\n",
       "    </tr>\n",
       "    <tr>\n",
       "      <th>115</th>\n",
       "      <td>generic_name</td>\n",
       "      <td>61.194897</td>\n",
       "    </tr>\n",
       "    <tr>\n",
       "      <th>116</th>\n",
       "      <td>purchase_places</td>\n",
       "      <td>56.025435</td>\n",
       "    </tr>\n",
       "    <tr>\n",
       "      <th>117</th>\n",
       "      <td>fiber_100g</td>\n",
       "      <td>53.524772</td>\n",
       "    </tr>\n",
       "    <tr>\n",
       "      <th>118</th>\n",
       "      <td>carbohydrates_100g</td>\n",
       "      <td>52.130760</td>\n",
       "    </tr>\n",
       "    <tr>\n",
       "      <th>119</th>\n",
       "      <td>fat_100g</td>\n",
       "      <td>51.691565</td>\n",
       "    </tr>\n",
       "  </tbody>\n",
       "</table>\n",
       "<p>120 rows × 2 columns</p>\n",
       "</div>"
      ],
      "text/plain": [
       "                  Column  na_rate_percent\n",
       "0    water-hardness_100g       100.000000\n",
       "1     nervonic-acid_100g       100.000000\n",
       "2         mead-acid_100g       100.000000\n",
       "3      gondoic-acid_100g       100.000000\n",
       "4      elaidic-acid_100g       100.000000\n",
       "..                   ...              ...\n",
       "115         generic_name        61.194897\n",
       "116      purchase_places        56.025435\n",
       "117           fiber_100g        53.524772\n",
       "118   carbohydrates_100g        52.130760\n",
       "119             fat_100g        51.691565\n",
       "\n",
       "[120 rows x 2 columns]"
      ]
     },
     "execution_count": 357,
     "metadata": {},
     "output_type": "execute_result"
    }
   ],
   "source": [
    "## variables comportant plus de 50% de valeurs manquantes\n",
    "na_df=columns_na_percentage(df)\n",
    "na_columns=na_df[na_df['na_rate_percent']>=50] ## 120 colonnes ont plus de 50% de valeurs nulles\n",
    "#na_columns[na_columns['Column']=='manufacturing_places']\n",
    "na_columns"
   ]
  },
  {
   "cell_type": "code",
   "execution_count": 358,
   "metadata": {},
   "outputs": [],
   "source": [
    "## suppression des colonnes ayant plus 50% de valeurs nulles\n",
    "df.drop(columns=na_columns['Column'].tolist(),axis=1,inplace=True)"
   ]
  },
  {
   "cell_type": "code",
   "execution_count": 359,
   "metadata": {},
   "outputs": [],
   "source": [
    "## les colonnes code, url,creator,created_t,created_datetime,last_modified_t,last_modified_datetime\n",
    "  # sont peu utiles, et plus relatives au stockage en base de données\n",
    "  # par conséquent, nous les supprimons\n",
    "unuseless_columns =['code', 'url','creator','created_t','created_datetime','last_modified_t','last_modified_datetime']\n",
    "df.drop(columns=unuseless_columns,axis=1,inplace=True)"
   ]
  },
  {
   "cell_type": "code",
   "execution_count": 360,
   "metadata": {},
   "outputs": [],
   "source": [
    "## ['categories','categories_tags','categories_fr','main_category'] restent les mêmes, on ne garde que categories\n",
    "## ['brands','brands_tags'] restent les mêmes, on ne garde que brands\n",
    "## ['additives_n','additives'] restent les mêmes, on ne garde que additives_n\n",
    "\n",
    "## Au final, on ne retient que les variables suivantes\n",
    "relevant_cols=[\n",
    "    'product_name',\n",
    "    \n",
    "    'categories',\n",
    "    'additives_n',\n",
    "    'ingredients_from_palm_oil_n',\n",
    "    'nutrition_grade_fr',\n",
    "    \n",
    "    \n",
    "    ## toutes les valeurs nutritionnelles\n",
    "    'energy_100g', \n",
    "    'saturated-fat_100g',\n",
    "    'sugars_100g',\n",
    "    'proteins_100g',\n",
    "    'salt_100g', \n",
    "    'sodium_100g',\n",
    "    'nutrition-score-fr_100g',\n",
    "       \n",
    "    \n",
    "]\n",
    "df=df[relevant_cols]"
   ]
  },
  {
   "cell_type": "markdown",
   "metadata": {},
   "source": [
    "## Traitement des lignes"
   ]
  },
  {
   "cell_type": "code",
   "execution_count": 361,
   "metadata": {},
   "outputs": [
    {
     "data": {
      "text/html": [
       "<div>\n",
       "<style scoped>\n",
       "    .dataframe tbody tr th:only-of-type {\n",
       "        vertical-align: middle;\n",
       "    }\n",
       "\n",
       "    .dataframe tbody tr th {\n",
       "        vertical-align: top;\n",
       "    }\n",
       "\n",
       "    .dataframe thead th {\n",
       "        text-align: right;\n",
       "    }\n",
       "</style>\n",
       "<table border=\"1\" class=\"dataframe\">\n",
       "  <thead>\n",
       "    <tr style=\"text-align: right;\">\n",
       "      <th></th>\n",
       "      <th>product_name</th>\n",
       "    </tr>\n",
       "  </thead>\n",
       "  <tbody>\n",
       "    <tr>\n",
       "      <th>48</th>\n",
       "      <td>NaN</td>\n",
       "    </tr>\n",
       "    <tr>\n",
       "      <th>183</th>\n",
       "      <td>NaN</td>\n",
       "    </tr>\n",
       "    <tr>\n",
       "      <th>187</th>\n",
       "      <td>NaN</td>\n",
       "    </tr>\n",
       "    <tr>\n",
       "      <th>227</th>\n",
       "      <td>NaN</td>\n",
       "    </tr>\n",
       "    <tr>\n",
       "      <th>280</th>\n",
       "      <td>NaN</td>\n",
       "    </tr>\n",
       "    <tr>\n",
       "      <th>...</th>\n",
       "      <td>...</td>\n",
       "    </tr>\n",
       "    <tr>\n",
       "      <th>320718</th>\n",
       "      <td>NaN</td>\n",
       "    </tr>\n",
       "    <tr>\n",
       "      <th>320745</th>\n",
       "      <td>NaN</td>\n",
       "    </tr>\n",
       "    <tr>\n",
       "      <th>320746</th>\n",
       "      <td>NaN</td>\n",
       "    </tr>\n",
       "    <tr>\n",
       "      <th>320747</th>\n",
       "      <td>NaN</td>\n",
       "    </tr>\n",
       "    <tr>\n",
       "      <th>320755</th>\n",
       "      <td>NaN</td>\n",
       "    </tr>\n",
       "  </tbody>\n",
       "</table>\n",
       "<p>7172 rows × 1 columns</p>\n",
       "</div>"
      ],
      "text/plain": [
       "       product_name\n",
       "48              NaN\n",
       "183             NaN\n",
       "187             NaN\n",
       "227             NaN\n",
       "280             NaN\n",
       "...             ...\n",
       "320718          NaN\n",
       "320745          NaN\n",
       "320746          NaN\n",
       "320747          NaN\n",
       "320755          NaN\n",
       "\n",
       "[7172 rows x 1 columns]"
      ]
     },
     "execution_count": 361,
     "metadata": {},
     "output_type": "execute_result"
    }
   ],
   "source": [
    "## le nom du produit censé être unique et non nul\n",
    "## suppression de toutes les lignes dont le nom du produit est non renseigné ou nul\n",
    "missing_product_name=df[(pd.isna(df['product_name']))|(df['product_name'].str.strip()=='')]\n",
    "missing_product_name[['product_name']] ##7172 lignes à supprimmer\n",
    "#df=df[~pd.isna(df['product_name'])]"
   ]
  },
  {
   "cell_type": "code",
   "execution_count": 362,
   "metadata": {},
   "outputs": [],
   "source": [
    "## suppression des produits dont les noms ne sont pas renseignés\n",
    "df.drop(mask_to_remove.index,inplace=True)"
   ]
  },
  {
   "cell_type": "code",
   "execution_count": 363,
   "metadata": {},
   "outputs": [
    {
     "data": {
      "text/html": [
       "<div>\n",
       "<style scoped>\n",
       "    .dataframe tbody tr th:only-of-type {\n",
       "        vertical-align: middle;\n",
       "    }\n",
       "\n",
       "    .dataframe tbody tr th {\n",
       "        vertical-align: top;\n",
       "    }\n",
       "\n",
       "    .dataframe thead th {\n",
       "        text-align: right;\n",
       "    }\n",
       "</style>\n",
       "<table border=\"1\" class=\"dataframe\">\n",
       "  <thead>\n",
       "    <tr style=\"text-align: right;\">\n",
       "      <th></th>\n",
       "      <th>product_name</th>\n",
       "    </tr>\n",
       "  </thead>\n",
       "  <tbody>\n",
       "    <tr>\n",
       "      <th>0</th>\n",
       "      <td>Farine de blé noir</td>\n",
       "    </tr>\n",
       "    <tr>\n",
       "      <th>240</th>\n",
       "      <td>7Up</td>\n",
       "    </tr>\n",
       "    <tr>\n",
       "      <th>242</th>\n",
       "      <td>Madeleines nature</td>\n",
       "    </tr>\n",
       "    <tr>\n",
       "      <th>271</th>\n",
       "      <td>Terrine de campagne</td>\n",
       "    </tr>\n",
       "    <tr>\n",
       "      <th>284</th>\n",
       "      <td>Chair à saucisse</td>\n",
       "    </tr>\n",
       "    <tr>\n",
       "      <th>...</th>\n",
       "      <td>...</td>\n",
       "    </tr>\n",
       "    <tr>\n",
       "      <th>320711</th>\n",
       "      <td>Lardons</td>\n",
       "    </tr>\n",
       "    <tr>\n",
       "      <th>320715</th>\n",
       "      <td>Graine couscous fin</td>\n",
       "    </tr>\n",
       "    <tr>\n",
       "      <th>320743</th>\n",
       "      <td>Gingembre</td>\n",
       "    </tr>\n",
       "    <tr>\n",
       "      <th>320757</th>\n",
       "      <td>Amandes</td>\n",
       "    </tr>\n",
       "    <tr>\n",
       "      <th>320760</th>\n",
       "      <td>Poireaux</td>\n",
       "    </tr>\n",
       "  </tbody>\n",
       "</table>\n",
       "<p>23497 rows × 1 columns</p>\n",
       "</div>"
      ],
      "text/plain": [
       "               product_name\n",
       "0        Farine de blé noir\n",
       "240                     7Up\n",
       "242       Madeleines nature\n",
       "271     Terrine de campagne\n",
       "284        Chair à saucisse\n",
       "...                     ...\n",
       "320711              Lardons\n",
       "320715  Graine couscous fin\n",
       "320743            Gingembre\n",
       "320757              Amandes\n",
       "320760             Poireaux\n",
       "\n",
       "[23497 rows x 1 columns]"
      ]
     },
     "execution_count": 363,
     "metadata": {},
     "output_type": "execute_result"
    }
   ],
   "source": [
    "## vérification de doublons pour le nom du produit 23497 doublons\n",
    "df[df['product_name'].duplicated(keep=False)][['product_name']]"
   ]
  },
  {
   "cell_type": "code",
   "execution_count": 364,
   "metadata": {},
   "outputs": [],
   "source": [
    "## suppression des doublons sur les produits\n",
    "df.drop_duplicates(subset='product_name',keep='last',inplace=True)"
   ]
  },
  {
   "cell_type": "code",
   "execution_count": 365,
   "metadata": {},
   "outputs": [
    {
     "data": {
      "text/plain": [
       "['energy_100g',\n",
       " 'saturated-fat_100g',\n",
       " 'sugars_100g',\n",
       " 'proteins_100g',\n",
       " 'salt_100g',\n",
       " 'sodium_100g',\n",
       " 'nutrition-score-fr_100g']"
      ]
     },
     "execution_count": 365,
     "metadata": {},
     "output_type": "execute_result"
    }
   ],
   "source": [
    "## identification des colonnes décrivant la part nutritionnelle pour 100g\n",
    "nutriment_cols=[i for i in df.columns.tolist() if i.endswith('_100g')]\n",
    "nutriment_cols"
   ]
  },
  {
   "cell_type": "code",
   "execution_count": 366,
   "metadata": {},
   "outputs": [
    {
     "name": "stdout",
     "output_type": "stream",
     "text": [
      "columns with negative values ['sugars_100g', 'nutrition-score-fr_100g']\n"
     ]
    }
   ],
   "source": [
    "## vérification des lignes comportant des valeurs nutritionnelles négatives\n",
    "negative_cols=[]\n",
    "for col in nutriment_cols:\n",
    "    if len(df[df[col]<0])>0:\n",
    "        negative_cols.append(col)\n",
    "\n",
    "print('columns with negative values',negative_cols) \n",
    "## les variables ['sugars_100g', 'fiber_100g', 'proteins_100g', 'nutrition-score-fr_100g']\n",
    "              ## comportent des valeurs négatives\n",
    "## suppression des lignes comportant des valeurs nutritionnelles négatives\n",
    "for col in negative_cols:\n",
    "    df.drop(index=df.loc[df[col]<0,col].index,inplace=True)\n",
    "\n"
   ]
  },
  {
   "cell_type": "code",
   "execution_count": 367,
   "metadata": {},
   "outputs": [
    {
     "data": {
      "text/plain": [
       "21582"
      ]
     },
     "execution_count": 367,
     "metadata": {},
     "output_type": "execute_result"
    }
   ],
   "source": [
    "## identification des lignes dont toutes les valeurs nutritionnelles sont inconnues\n",
    "all_missing_nutritional = df[df[\"energy_100g\"].isna()\n",
    "                            & df[\"proteins_100g\"].isna()\n",
    "                            & df[\"sugars_100g\"].isna()\n",
    "                          \n",
    "            &df['sugars_100g'].isna()\n",
    "                            \n",
    "   \n",
    "                             & df[ 'nutrition-score-fr_100g'].isna()\n",
    "                           \n",
    "                            & df[\"saturated-fat_100g\"].isna()\n",
    "                             \n",
    "                            & df[\"sodium_100g\"].isna() \n",
    "                    ] \n",
    "len(all_missing_nutritional[nutriment_cols] )## 21582"
   ]
  },
  {
   "cell_type": "code",
   "execution_count": 368,
   "metadata": {},
   "outputs": [],
   "source": [
    "## suppression des lignes dont toutes les valeurs nutritives sont inconnues ainsi que les nutriscores\n",
    "df.drop(all_missing_nutritional.index,inplace=True)\n",
    "\n"
   ]
  },
  {
   "cell_type": "code",
   "execution_count": 369,
   "metadata": {},
   "outputs": [
    {
     "data": {
      "text/plain": [
       "product_name                    0.000000\n",
       "categories                     28.778580\n",
       "additives_n                    33.956071\n",
       "ingredients_from_palm_oil_n    33.956071\n",
       "nutrition_grade_fr              6.274589\n",
       "energy_100g                     0.537308\n",
       "saturated-fat_100g              4.552506\n",
       "sugars_100g                     4.260246\n",
       "proteins_100g                   1.027405\n",
       "salt_100g                       4.192801\n",
       "sodium_100g                     4.195050\n",
       "nutrition-score-fr_100g         6.274589\n",
       "dtype: float64"
      ]
     },
     "execution_count": 369,
     "metadata": {},
     "output_type": "execute_result"
    }
   ],
   "source": [
    "df.isnull().sum()/len(df)*100"
   ]
  },
  {
   "cell_type": "markdown",
   "metadata": {},
   "source": [
    "# Analyse et recherche des valeurs aberrantes avec IQR (Inter Quartile Range)"
   ]
  },
  {
   "cell_type": "code",
   "execution_count": 370,
   "metadata": {},
   "outputs": [
    {
     "data": {
      "text/html": [
       "<div>\n",
       "<style scoped>\n",
       "    .dataframe tbody tr th:only-of-type {\n",
       "        vertical-align: middle;\n",
       "    }\n",
       "\n",
       "    .dataframe tbody tr th {\n",
       "        vertical-align: top;\n",
       "    }\n",
       "\n",
       "    .dataframe thead th {\n",
       "        text-align: right;\n",
       "    }\n",
       "</style>\n",
       "<table border=\"1\" class=\"dataframe\">\n",
       "  <thead>\n",
       "    <tr style=\"text-align: right;\">\n",
       "      <th></th>\n",
       "      <th>additives_n</th>\n",
       "      <th>ingredients_from_palm_oil_n</th>\n",
       "      <th>energy_100g</th>\n",
       "      <th>saturated-fat_100g</th>\n",
       "      <th>sugars_100g</th>\n",
       "      <th>proteins_100g</th>\n",
       "      <th>salt_100g</th>\n",
       "      <th>sodium_100g</th>\n",
       "      <th>nutrition-score-fr_100g</th>\n",
       "    </tr>\n",
       "  </thead>\n",
       "  <tbody>\n",
       "    <tr>\n",
       "      <th>count</th>\n",
       "      <td>29377.000000</td>\n",
       "      <td>29377.000000</td>\n",
       "      <td>44242.000000</td>\n",
       "      <td>42456.000000</td>\n",
       "      <td>42586.000000</td>\n",
       "      <td>44024.000000</td>\n",
       "      <td>42616.000000</td>\n",
       "      <td>42615.000000</td>\n",
       "      <td>41690.000000</td>\n",
       "    </tr>\n",
       "    <tr>\n",
       "      <th>mean</th>\n",
       "      <td>2.348334</td>\n",
       "      <td>0.099976</td>\n",
       "      <td>1192.784382</td>\n",
       "      <td>6.388728</td>\n",
       "      <td>15.455371</td>\n",
       "      <td>7.748537</td>\n",
       "      <td>1.311959</td>\n",
       "      <td>0.516530</td>\n",
       "      <td>11.102279</td>\n",
       "    </tr>\n",
       "    <tr>\n",
       "      <th>std</th>\n",
       "      <td>2.757704</td>\n",
       "      <td>0.304591</td>\n",
       "      <td>1173.160069</td>\n",
       "      <td>8.970960</td>\n",
       "      <td>20.003384</td>\n",
       "      <td>7.929492</td>\n",
       "      <td>4.680861</td>\n",
       "      <td>1.842803</td>\n",
       "      <td>7.790992</td>\n",
       "    </tr>\n",
       "    <tr>\n",
       "      <th>min</th>\n",
       "      <td>0.000000</td>\n",
       "      <td>0.000000</td>\n",
       "      <td>0.000000</td>\n",
       "      <td>0.000000</td>\n",
       "      <td>0.000000</td>\n",
       "      <td>0.000000</td>\n",
       "      <td>0.000000</td>\n",
       "      <td>0.000000</td>\n",
       "      <td>0.000000</td>\n",
       "    </tr>\n",
       "    <tr>\n",
       "      <th>25%</th>\n",
       "      <td>0.000000</td>\n",
       "      <td>0.000000</td>\n",
       "      <td>503.000000</td>\n",
       "      <td>0.600000</td>\n",
       "      <td>1.200000</td>\n",
       "      <td>1.900000</td>\n",
       "      <td>0.100000</td>\n",
       "      <td>0.039370</td>\n",
       "      <td>4.000000</td>\n",
       "    </tr>\n",
       "    <tr>\n",
       "      <th>50%</th>\n",
       "      <td>1.000000</td>\n",
       "      <td>0.000000</td>\n",
       "      <td>1106.000000</td>\n",
       "      <td>2.900000</td>\n",
       "      <td>5.500000</td>\n",
       "      <td>6.000000</td>\n",
       "      <td>0.680000</td>\n",
       "      <td>0.267716</td>\n",
       "      <td>11.000000</td>\n",
       "    </tr>\n",
       "    <tr>\n",
       "      <th>75%</th>\n",
       "      <td>4.000000</td>\n",
       "      <td>0.000000</td>\n",
       "      <td>1770.000000</td>\n",
       "      <td>9.300000</td>\n",
       "      <td>24.700000</td>\n",
       "      <td>10.200000</td>\n",
       "      <td>1.400000</td>\n",
       "      <td>0.551181</td>\n",
       "      <td>17.000000</td>\n",
       "    </tr>\n",
       "    <tr>\n",
       "      <th>max</th>\n",
       "      <td>21.000000</td>\n",
       "      <td>2.000000</td>\n",
       "      <td>182764.000000</td>\n",
       "      <td>210.000000</td>\n",
       "      <td>105.000000</td>\n",
       "      <td>100.000000</td>\n",
       "      <td>211.000000</td>\n",
       "      <td>83.000000</td>\n",
       "      <td>40.000000</td>\n",
       "    </tr>\n",
       "  </tbody>\n",
       "</table>\n",
       "</div>"
      ],
      "text/plain": [
       "        additives_n  ingredients_from_palm_oil_n    energy_100g  \\\n",
       "count  29377.000000                 29377.000000   44242.000000   \n",
       "mean       2.348334                     0.099976    1192.784382   \n",
       "std        2.757704                     0.304591    1173.160069   \n",
       "min        0.000000                     0.000000       0.000000   \n",
       "25%        0.000000                     0.000000     503.000000   \n",
       "50%        1.000000                     0.000000    1106.000000   \n",
       "75%        4.000000                     0.000000    1770.000000   \n",
       "max       21.000000                     2.000000  182764.000000   \n",
       "\n",
       "       saturated-fat_100g   sugars_100g  proteins_100g     salt_100g  \\\n",
       "count        42456.000000  42586.000000   44024.000000  42616.000000   \n",
       "mean             6.388728     15.455371       7.748537      1.311959   \n",
       "std              8.970960     20.003384       7.929492      4.680861   \n",
       "min              0.000000      0.000000       0.000000      0.000000   \n",
       "25%              0.600000      1.200000       1.900000      0.100000   \n",
       "50%              2.900000      5.500000       6.000000      0.680000   \n",
       "75%              9.300000     24.700000      10.200000      1.400000   \n",
       "max            210.000000    105.000000     100.000000    211.000000   \n",
       "\n",
       "        sodium_100g  nutrition-score-fr_100g  \n",
       "count  42615.000000             41690.000000  \n",
       "mean       0.516530                11.102279  \n",
       "std        1.842803                 7.790992  \n",
       "min        0.000000                 0.000000  \n",
       "25%        0.039370                 4.000000  \n",
       "50%        0.267716                11.000000  \n",
       "75%        0.551181                17.000000  \n",
       "max       83.000000                40.000000  "
      ]
     },
     "execution_count": 370,
     "metadata": {},
     "output_type": "execute_result"
    }
   ],
   "source": [
    "df.describe()"
   ]
  },
  {
   "cell_type": "code",
   "execution_count": 371,
   "metadata": {},
   "outputs": [
    {
     "data": {
      "image/png": "[encoded data removed]",
      "text/plain": [
       "<Figure size 1440x720 with 1 Axes>"
      ]
     },
     "metadata": {
      "needs_background": "light"
     },
     "output_type": "display_data"
    }
   ],
   "source": [
    "## afin de détecter d'éventuelles valeurs aberrantes, \n",
    "## nous traçons les boxplot pour  chaque valeurs nutritives ainsi que les nutriscore\n",
    "\n",
    "## boxplot\n",
    "from matplotlib import rcParams\n",
    "\n",
    "rcParams['figure.figsize'] = 20,10\n",
    "g=sns.boxplot(data=df[nutriment_cols])\n",
    "g.set_yscale(\"log\")\n",
    "\n",
    "## présence de plusieurs valeurs aberrantes sauf pour le nutriscore\n"
   ]
  },
  {
   "cell_type": "code",
   "execution_count": 372,
   "metadata": {},
   "outputs": [],
   "source": [
    "## suppression de toutes les valeurs nutririonnelles supérieures à 100g\n",
    "##df[df[nutriment_cols]>100]\n",
    "nutriment_cols=[i for i in df.columns.tolist() if i.endswith('_100g')]\n",
    "for col in nutriment_cols:\n",
    "    if col !='energy_100g':\n",
    "        if len(df[df[col]>100]):\n",
    "            #print(df[df[col]>100][col])\n",
    "            df.drop(index=df[df[col]>100].index,inplace=True)"
   ]
  },
  {
   "cell_type": "code",
   "execution_count": 373,
   "metadata": {},
   "outputs": [
    {
     "data": {
      "text/plain": [
       "product_name                    0.000000\n",
       "categories                     28.782462\n",
       "additives_n                    33.958404\n",
       "ingredients_from_palm_oil_n    33.958404\n",
       "nutrition_grade_fr              6.273187\n",
       "energy_100g                     0.537381\n",
       "saturated-fat_100g              4.550871\n",
       "sugars_100g                     4.260821\n",
       "proteins_100g                   1.025295\n",
       "salt_100g                       4.191119\n",
       "sodium_100g                     4.193367\n",
       "nutrition-score-fr_100g         6.273187\n",
       "dtype: float64"
      ]
     },
     "execution_count": 373,
     "metadata": {},
     "output_type": "execute_result"
    }
   ],
   "source": [
    "df.isnull().sum()/len(df)*100"
   ]
  },
  {
   "cell_type": "code",
   "execution_count": 374,
   "metadata": {},
   "outputs": [],
   "source": [
    "## fonction qui calcule les valeurs aberrantes et les supprime et renvoit un nouveau dataframe\n",
    "from scipy import stats\n",
    "import numpy as np\n",
    " \n",
    "\n",
    "def find_outliers_and_clean(cols):\n",
    "    Q1 = df[cols].quantile(0.25)\n",
    "    Q3 = df[cols].quantile(0.75)\n",
    "    IQR = Q3 - Q1\n",
    "\n",
    "    outliers= df[((df[cols] < (Q1 - 1.5 * IQR)) |(df[cols] > (Q3 + 1.5 * IQR))).any(axis=1)]\n",
    "    #print(outliers.head(5))\n",
    "    new_df=df.drop(index=outliers.index)\n",
    "    return new_df\n",
    "    "
   ]
  },
  {
   "cell_type": "code",
   "execution_count": 375,
   "metadata": {},
   "outputs": [
    {
     "data": {
      "text/html": [
       "<div>\n",
       "<style scoped>\n",
       "    .dataframe tbody tr th:only-of-type {\n",
       "        vertical-align: middle;\n",
       "    }\n",
       "\n",
       "    .dataframe tbody tr th {\n",
       "        vertical-align: top;\n",
       "    }\n",
       "\n",
       "    .dataframe thead th {\n",
       "        text-align: right;\n",
       "    }\n",
       "</style>\n",
       "<table border=\"1\" class=\"dataframe\">\n",
       "  <thead>\n",
       "    <tr style=\"text-align: right;\">\n",
       "      <th></th>\n",
       "      <th>additives_n</th>\n",
       "      <th>ingredients_from_palm_oil_n</th>\n",
       "      <th>energy_100g</th>\n",
       "      <th>saturated-fat_100g</th>\n",
       "      <th>sugars_100g</th>\n",
       "      <th>proteins_100g</th>\n",
       "      <th>salt_100g</th>\n",
       "      <th>sodium_100g</th>\n",
       "      <th>nutrition-score-fr_100g</th>\n",
       "    </tr>\n",
       "  </thead>\n",
       "  <tbody>\n",
       "    <tr>\n",
       "      <th>count</th>\n",
       "      <td>24775.000000</td>\n",
       "      <td>24775.000000</td>\n",
       "      <td>36659.000000</td>\n",
       "      <td>35026.000000</td>\n",
       "      <td>35133.000000</td>\n",
       "      <td>36457.000000</td>\n",
       "      <td>35186.000000</td>\n",
       "      <td>35185.000000</td>\n",
       "      <td>34500.000000</td>\n",
       "    </tr>\n",
       "    <tr>\n",
       "      <th>mean</th>\n",
       "      <td>2.481937</td>\n",
       "      <td>0.105308</td>\n",
       "      <td>1090.233160</td>\n",
       "      <td>5.090490</td>\n",
       "      <td>13.586403</td>\n",
       "      <td>6.656751</td>\n",
       "      <td>0.773666</td>\n",
       "      <td>0.304601</td>\n",
       "      <td>10.090203</td>\n",
       "    </tr>\n",
       "    <tr>\n",
       "      <th>std</th>\n",
       "      <td>2.813300</td>\n",
       "      <td>0.312171</td>\n",
       "      <td>733.410039</td>\n",
       "      <td>5.786998</td>\n",
       "      <td>15.939172</td>\n",
       "      <td>5.687721</td>\n",
       "      <td>0.738253</td>\n",
       "      <td>0.290651</td>\n",
       "      <td>7.685734</td>\n",
       "    </tr>\n",
       "    <tr>\n",
       "      <th>min</th>\n",
       "      <td>0.000000</td>\n",
       "      <td>0.000000</td>\n",
       "      <td>0.000000</td>\n",
       "      <td>0.000000</td>\n",
       "      <td>0.000000</td>\n",
       "      <td>0.000000</td>\n",
       "      <td>0.000000</td>\n",
       "      <td>0.000000</td>\n",
       "      <td>0.000000</td>\n",
       "    </tr>\n",
       "    <tr>\n",
       "      <th>25%</th>\n",
       "      <td>0.000000</td>\n",
       "      <td>0.000000</td>\n",
       "      <td>445.000000</td>\n",
       "      <td>0.600000</td>\n",
       "      <td>1.500000</td>\n",
       "      <td>2.000000</td>\n",
       "      <td>0.100000</td>\n",
       "      <td>0.039370</td>\n",
       "      <td>3.000000</td>\n",
       "    </tr>\n",
       "    <tr>\n",
       "      <th>50%</th>\n",
       "      <td>2.000000</td>\n",
       "      <td>0.000000</td>\n",
       "      <td>1000.000000</td>\n",
       "      <td>2.615000</td>\n",
       "      <td>5.900000</td>\n",
       "      <td>5.800000</td>\n",
       "      <td>0.630000</td>\n",
       "      <td>0.248031</td>\n",
       "      <td>10.000000</td>\n",
       "    </tr>\n",
       "    <tr>\n",
       "      <th>75%</th>\n",
       "      <td>4.000000</td>\n",
       "      <td>0.000000</td>\n",
       "      <td>1708.000000</td>\n",
       "      <td>7.900000</td>\n",
       "      <td>22.100000</td>\n",
       "      <td>9.200000</td>\n",
       "      <td>1.258570</td>\n",
       "      <td>0.495000</td>\n",
       "      <td>16.000000</td>\n",
       "    </tr>\n",
       "    <tr>\n",
       "      <th>max</th>\n",
       "      <td>21.000000</td>\n",
       "      <td>2.000000</td>\n",
       "      <td>3665.000000</td>\n",
       "      <td>22.300000</td>\n",
       "      <td>59.900000</td>\n",
       "      <td>22.600000</td>\n",
       "      <td>3.340000</td>\n",
       "      <td>1.314961</td>\n",
       "      <td>36.000000</td>\n",
       "    </tr>\n",
       "  </tbody>\n",
       "</table>\n",
       "</div>"
      ],
      "text/plain": [
       "        additives_n  ingredients_from_palm_oil_n   energy_100g  \\\n",
       "count  24775.000000                 24775.000000  36659.000000   \n",
       "mean       2.481937                     0.105308   1090.233160   \n",
       "std        2.813300                     0.312171    733.410039   \n",
       "min        0.000000                     0.000000      0.000000   \n",
       "25%        0.000000                     0.000000    445.000000   \n",
       "50%        2.000000                     0.000000   1000.000000   \n",
       "75%        4.000000                     0.000000   1708.000000   \n",
       "max       21.000000                     2.000000   3665.000000   \n",
       "\n",
       "       saturated-fat_100g   sugars_100g  proteins_100g     salt_100g  \\\n",
       "count        35026.000000  35133.000000   36457.000000  35186.000000   \n",
       "mean             5.090490     13.586403       6.656751      0.773666   \n",
       "std              5.786998     15.939172       5.687721      0.738253   \n",
       "min              0.000000      0.000000       0.000000      0.000000   \n",
       "25%              0.600000      1.500000       2.000000      0.100000   \n",
       "50%              2.615000      5.900000       5.800000      0.630000   \n",
       "75%              7.900000     22.100000       9.200000      1.258570   \n",
       "max             22.300000     59.900000      22.600000      3.340000   \n",
       "\n",
       "        sodium_100g  nutrition-score-fr_100g  \n",
       "count  35185.000000             34500.000000  \n",
       "mean       0.304601                10.090203  \n",
       "std        0.290651                 7.685734  \n",
       "min        0.000000                 0.000000  \n",
       "25%        0.039370                 3.000000  \n",
       "50%        0.248031                10.000000  \n",
       "75%        0.495000                16.000000  \n",
       "max        1.314961                36.000000  "
      ]
     },
     "execution_count": 375,
     "metadata": {},
     "output_type": "execute_result"
    }
   ],
   "source": [
    "## suppression des valeurs aberrantes avec la méthode interquartile\n",
    "df=find_outliers_and_clean(nutriment_cols)\n",
    "df.describe()"
   ]
  },
  {
   "cell_type": "code",
   "execution_count": 376,
   "metadata": {},
   "outputs": [
    {
     "data": {
      "image/png": "[encoded data removed]",
      "text/plain": [
       "<Figure size 1440x720 with 1 Axes>"
      ]
     },
     "metadata": {
      "needs_background": "light"
     },
     "output_type": "display_data"
    }
   ],
   "source": [
    "g=sns.boxplot(data=df[nutriment_cols])\n",
    "g.set_yscale(\"log\")"
   ]
  },
  {
   "cell_type": "markdown",
   "metadata": {},
   "source": [
    "# Imputation des valeurs manquantes des variables quantitatives\n",
    "  "
   ]
  },
  {
   "cell_type": "code",
   "execution_count": 377,
   "metadata": {},
   "outputs": [
    {
     "data": {
      "text/plain": [
       "salt_100g           sodium_100g                1.000000\n",
       "saturated-fat_100g  nutrition-score-fr_100g    0.743108\n",
       "energy_100g         nutrition-score-fr_100g    0.695281\n",
       "                    saturated-fat_100g         0.601540\n",
       "sugars_100g         nutrition-score-fr_100g    0.530787\n",
       "dtype: float64"
      ]
     },
     "execution_count": 377,
     "metadata": {},
     "output_type": "execute_result"
    }
   ],
   "source": [
    "numeric_columns=df.select_dtypes(exclude=['object']).columns.tolist()\n",
    "corr_matrix = df[numeric_columns].corr().abs()\n",
    "\n",
    "#the matrix is symmetric so we need to extract upper triangle matrix without diagonal (k = 1)\n",
    "\n",
    "sol = (corr_matrix.where(np.triu(np.ones(corr_matrix.shape), k=1).astype(np.bool))\n",
    "                  .stack()\n",
    "                  .sort_values(ascending=False))\n",
    "sol.head()"
   ]
  },
  {
   "cell_type": "code",
   "execution_count": 378,
   "metadata": {},
   "outputs": [
    {
     "data": {
      "text/plain": [
       "['additives_n',\n",
       " 'ingredients_from_palm_oil_n',\n",
       " 'sugars_100g',\n",
       " 'proteins_100g',\n",
       " 'salt_100g']"
      ]
     },
     "execution_count": 378,
     "metadata": {},
     "output_type": "execute_result"
    }
   ],
   "source": [
    "## les colonnes sel et sodium ont une corrélation positive absolue égale à 1, et sont confondues\n",
    "## suppression de la variable sodium (sodium_100g)\n",
    "df.drop(columns=['sodium_100g'],axis=1,inplace=True)\n",
    "numeric_columns.remove('sodium_100g')\n",
    "## les colonnes energy_100g,nutrition-score-fr_100g et saturated-fat_100g  corrélées positivement entre elles.\n",
    " # Utilisation Iterativeimputer pour imputer les valeurs manquantes\n",
    "correlated_columns=['energy_100g',\n",
    "                    'nutrition-score-fr_100g','saturated-fat_100g']\n",
    "un_correlated_columns=[x for x in numeric_columns if x not in correlated_columns]\n",
    "\n",
    "un_correlated_columns"
   ]
  },
  {
   "cell_type": "code",
   "execution_count": 379,
   "metadata": {},
   "outputs": [],
   "source": [
    "#imputation des valeurs nulles des variables corrélées entre elles par IterativeImputer\n",
    "\n",
    "impute_it=IterativeImputer(missing_values=np.nan,min_value=0)\n",
    "results=impute_it.fit_transform(df[correlated_columns])\n",
    "df_imputed = pd.DataFrame(data = results,columns = correlated_columns)"
   ]
  },
  {
   "cell_type": "code",
   "execution_count": 380,
   "metadata": {},
   "outputs": [],
   "source": [
    "#imputation des valeurs nulles des variables non corrélées entre elles par KNNimputer\n",
    "\n",
    "        \n",
    "        \n",
    "imputer = KNNImputer()\n",
    "results = imputer.fit_transform(df[un_correlated_columns])\n",
    "df_imputed_2=pd.DataFrame(data = results,columns = un_correlated_columns)"
   ]
  },
  {
   "cell_type": "code",
   "execution_count": 381,
   "metadata": {},
   "outputs": [],
   "source": [
    "df[correlated_columns]=df_imputed.values\n",
    "df[un_correlated_columns]=df_imputed_2.values\n",
    "\n"
   ]
  },
  {
   "cell_type": "code",
   "execution_count": 382,
   "metadata": {},
   "outputs": [
    {
     "data": {
      "text/plain": [
       "additives_n                    0.0\n",
       "ingredients_from_palm_oil_n    0.0\n",
       "energy_100g                    0.0\n",
       "saturated-fat_100g             0.0\n",
       "sugars_100g                    0.0\n",
       "proteins_100g                  0.0\n",
       "salt_100g                      0.0\n",
       "nutrition-score-fr_100g        0.0\n",
       "dtype: float64"
      ]
     },
     "execution_count": 382,
     "metadata": {},
     "output_type": "execute_result"
    }
   ],
   "source": [
    "## les variables quantitatives sont à 100% complètes\n",
    "df[numeric_columns].isnull().sum()/len(df)*100"
   ]
  },
  {
   "cell_type": "code",
   "execution_count": 383,
   "metadata": {},
   "outputs": [
    {
     "name": "stdout",
     "output_type": "stream",
     "text": [
      "<class 'pandas.core.frame.DataFrame'>\n",
      "Int64Index: 36844 entries, 106 to 320763\n",
      "Data columns (total 11 columns):\n",
      " #   Column                       Non-Null Count  Dtype  \n",
      "---  ------                       --------------  -----  \n",
      " 0   product_name                 36844 non-null  object \n",
      " 1   categories                   26798 non-null  object \n",
      " 2   additives_n                  36844 non-null  float64\n",
      " 3   ingredients_from_palm_oil_n  36844 non-null  float64\n",
      " 4   nutrition_grade_fr           34500 non-null  object \n",
      " 5   energy_100g                  36844 non-null  float64\n",
      " 6   saturated-fat_100g           36844 non-null  float64\n",
      " 7   sugars_100g                  36844 non-null  float64\n",
      " 8   proteins_100g                36844 non-null  float64\n",
      " 9   salt_100g                    36844 non-null  float64\n",
      " 10  nutrition-score-fr_100g      36844 non-null  float64\n",
      "dtypes: float64(8), object(3)\n",
      "memory usage: 3.4+ MB\n"
     ]
    }
   ],
   "source": [
    "df.info()"
   ]
  },
  {
   "cell_type": "markdown",
   "metadata": {},
   "source": [
    "# Imputation des valeurs manquantes des variables qualitatives\n",
    "  "
   ]
  },
  {
   "cell_type": "code",
   "execution_count": 384,
   "metadata": {},
   "outputs": [],
   "source": [
    "qualitative_columns=df.select_dtypes(include=['object']).columns.tolist()\n"
   ]
  },
  {
   "cell_type": "code",
   "execution_count": 385,
   "metadata": {},
   "outputs": [
    {
     "data": {
      "text/plain": [
       "product_name           0.000000\n",
       "categories            27.266312\n",
       "nutrition_grade_fr     6.361959\n",
       "dtype: float64"
      ]
     },
     "execution_count": 385,
     "metadata": {},
     "output_type": "execute_result"
    }
   ],
   "source": [
    "df[qualitative_columns].isnull().sum()/len(df)*100"
   ]
  },
  {
   "cell_type": "code",
   "execution_count": 386,
   "metadata": {},
   "outputs": [],
   "source": [
    " \n",
    "\n",
    "df[qualitative_columns]=df[qualitative_columns].fillna(\"unknown\") \n"
   ]
  },
  {
   "cell_type": "code",
   "execution_count": 387,
   "metadata": {},
   "outputs": [
    {
     "data": {
      "text/plain": [
       "product_name                   0.0\n",
       "categories                     0.0\n",
       "additives_n                    0.0\n",
       "ingredients_from_palm_oil_n    0.0\n",
       "nutrition_grade_fr             0.0\n",
       "energy_100g                    0.0\n",
       "saturated-fat_100g             0.0\n",
       "sugars_100g                    0.0\n",
       "proteins_100g                  0.0\n",
       "salt_100g                      0.0\n",
       "nutrition-score-fr_100g        0.0\n",
       "dtype: float64"
      ]
     },
     "execution_count": 387,
     "metadata": {},
     "output_type": "execute_result"
    }
   ],
   "source": [
    "df.isnull().sum()/len(df)*100"
   ]
  },
  {
   "cell_type": "code",
   "execution_count": 388,
   "metadata": {},
   "outputs": [],
   "source": [
    "df.to_csv('./cleaned_food.csv',index=False)"
   ]
  }
 ],
 "metadata": {
  "kernelspec": {
   "display_name": "Python 3",
   "language": "python",
   "name": "python3"
  },
  "language_info": {
   "codemirror_mode": {
    "name": "ipython",
    "version": 3
   },
   "file_extension": ".py",
   "mimetype": "text/x-python",
   "name": "python",
   "nbconvert_exporter": "python",
   "pygments_lexer": "ipython3",
   "version": "3.7.6"
  }
 },
 "nbformat": 4,
 "nbformat_minor": 4
}
