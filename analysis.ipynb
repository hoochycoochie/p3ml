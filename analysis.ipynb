{
 "cells": [
  {
   "cell_type": "code",
   "execution_count": 1,
   "metadata": {},
   "outputs": [],
   "source": [
    "import pandas as pd\n",
    "import numpy as np\n",
    "import matplotlib.pyplot as plt\n",
    "import seaborn as sns\n",
    "from sklearn.decomposition import PCA,KernelPCA\n",
    "from sklearn.preprocessing import StandardScaler\n",
    "from sklearn.experimental import enable_iterative_imputer\n",
    "from sklearn.impute import IterativeImputer\n",
    "from sklearn.pipeline import Pipeline\n",
    "#pd.set_option('display.max_rows', None) "
   ]
  },
  {
   "cell_type": "code",
   "execution_count": 2,
   "metadata": {},
   "outputs": [],
   "source": [
    "df=pd.read_csv('./cleaned_food.csv',index_col=None)\n"
   ]
  },
  {
   "cell_type": "code",
   "execution_count": 3,
   "metadata": {},
   "outputs": [
    {
     "data": {
      "text/plain": [
       "(36844, 11)"
      ]
     },
     "execution_count": 3,
     "metadata": {},
     "output_type": "execute_result"
    }
   ],
   "source": [
    "df.shape ## 36844 lignes et 12 colonnes\n"
   ]
  },
  {
   "cell_type": "code",
   "execution_count": 4,
   "metadata": {},
   "outputs": [
    {
     "data": {
      "text/html": [
       "<div>\n",
       "<style scoped>\n",
       "    .dataframe tbody tr th:only-of-type {\n",
       "        vertical-align: middle;\n",
       "    }\n",
       "\n",
       "    .dataframe tbody tr th {\n",
       "        vertical-align: top;\n",
       "    }\n",
       "\n",
       "    .dataframe thead th {\n",
       "        text-align: right;\n",
       "    }\n",
       "</style>\n",
       "<table border=\"1\" class=\"dataframe\">\n",
       "  <thead>\n",
       "    <tr style=\"text-align: right;\">\n",
       "      <th></th>\n",
       "      <th>product_name</th>\n",
       "      <th>categories</th>\n",
       "      <th>additives_n</th>\n",
       "      <th>ingredients_from_palm_oil_n</th>\n",
       "      <th>nutrition_grade_fr</th>\n",
       "      <th>energy_100g</th>\n",
       "      <th>saturated-fat_100g</th>\n",
       "      <th>sugars_100g</th>\n",
       "      <th>proteins_100g</th>\n",
       "      <th>salt_100g</th>\n",
       "      <th>nutrition-score-fr_100g</th>\n",
       "    </tr>\n",
       "  </thead>\n",
       "  <tbody>\n",
       "    <tr>\n",
       "      <th>0</th>\n",
       "      <td>Lion Peanut x2</td>\n",
       "      <td>unknown</td>\n",
       "      <td>1.0</td>\n",
       "      <td>0.0</td>\n",
       "      <td>e</td>\n",
       "      <td>1883.0</td>\n",
       "      <td>12.50000</td>\n",
       "      <td>57.500</td>\n",
       "      <td>2.50</td>\n",
       "      <td>0.09652</td>\n",
       "      <td>22.000000</td>\n",
       "    </tr>\n",
       "    <tr>\n",
       "      <th>1</th>\n",
       "      <td>Pack de 2 Twix</td>\n",
       "      <td>unknown</td>\n",
       "      <td>3.4</td>\n",
       "      <td>0.4</td>\n",
       "      <td>unknown</td>\n",
       "      <td>1481.0</td>\n",
       "      <td>6.89119</td>\n",
       "      <td>22.062</td>\n",
       "      <td>6.25</td>\n",
       "      <td>0.63680</td>\n",
       "      <td>12.840248</td>\n",
       "    </tr>\n",
       "    <tr>\n",
       "      <th>2</th>\n",
       "      <td>Praliné Amande Et Noisette</td>\n",
       "      <td>unknown</td>\n",
       "      <td>0.0</td>\n",
       "      <td>0.2</td>\n",
       "      <td>d</td>\n",
       "      <td>2406.0</td>\n",
       "      <td>2.90000</td>\n",
       "      <td>50.300</td>\n",
       "      <td>9.50</td>\n",
       "      <td>0.00300</td>\n",
       "      <td>14.000000</td>\n",
       "    </tr>\n",
       "    <tr>\n",
       "      <th>3</th>\n",
       "      <td>Pepsi, Nouveau goût !</td>\n",
       "      <td>Sodas au cola</td>\n",
       "      <td>2.0</td>\n",
       "      <td>0.0</td>\n",
       "      <td>e</td>\n",
       "      <td>177.0</td>\n",
       "      <td>0.00000</td>\n",
       "      <td>10.400</td>\n",
       "      <td>0.00</td>\n",
       "      <td>0.02540</td>\n",
       "      <td>13.000000</td>\n",
       "    </tr>\n",
       "    <tr>\n",
       "      <th>4</th>\n",
       "      <td>Tarte Poireaux Et Lardons</td>\n",
       "      <td>unknown</td>\n",
       "      <td>4.8</td>\n",
       "      <td>0.4</td>\n",
       "      <td>d</td>\n",
       "      <td>1079.0</td>\n",
       "      <td>11.00000</td>\n",
       "      <td>1.000</td>\n",
       "      <td>7.50</td>\n",
       "      <td>0.80000</td>\n",
       "      <td>15.000000</td>\n",
       "    </tr>\n",
       "  </tbody>\n",
       "</table>\n",
       "</div>"
      ],
      "text/plain": [
       "                 product_name     categories  additives_n  \\\n",
       "0              Lion Peanut x2        unknown          1.0   \n",
       "1              Pack de 2 Twix        unknown          3.4   \n",
       "2  Praliné Amande Et Noisette        unknown          0.0   \n",
       "3       Pepsi, Nouveau goût !  Sodas au cola          2.0   \n",
       "4   Tarte Poireaux Et Lardons        unknown          4.8   \n",
       "\n",
       "   ingredients_from_palm_oil_n nutrition_grade_fr  energy_100g  \\\n",
       "0                          0.0                  e       1883.0   \n",
       "1                          0.4            unknown       1481.0   \n",
       "2                          0.2                  d       2406.0   \n",
       "3                          0.0                  e        177.0   \n",
       "4                          0.4                  d       1079.0   \n",
       "\n",
       "   saturated-fat_100g  sugars_100g  proteins_100g  salt_100g  \\\n",
       "0            12.50000       57.500           2.50    0.09652   \n",
       "1             6.89119       22.062           6.25    0.63680   \n",
       "2             2.90000       50.300           9.50    0.00300   \n",
       "3             0.00000       10.400           0.00    0.02540   \n",
       "4            11.00000        1.000           7.50    0.80000   \n",
       "\n",
       "   nutrition-score-fr_100g  \n",
       "0                22.000000  \n",
       "1                12.840248  \n",
       "2                14.000000  \n",
       "3                13.000000  \n",
       "4                15.000000  "
      ]
     },
     "execution_count": 4,
     "metadata": {},
     "output_type": "execute_result"
    }
   ],
   "source": [
    "df.head()"
   ]
  },
  {
   "cell_type": "code",
   "execution_count": 5,
   "metadata": {},
   "outputs": [
    {
     "data": {
      "text/plain": [
       "['product_name',\n",
       " 'categories',\n",
       " 'additives_n',\n",
       " 'ingredients_from_palm_oil_n',\n",
       " 'nutrition_grade_fr',\n",
       " 'energy_100g',\n",
       " 'saturated-fat_100g',\n",
       " 'sugars_100g',\n",
       " 'proteins_100g',\n",
       " 'salt_100g',\n",
       " 'nutrition-score-fr_100g']"
      ]
     },
     "execution_count": 5,
     "metadata": {},
     "output_type": "execute_result"
    }
   ],
   "source": [
    "df.columns.tolist()"
   ]
  },
  {
   "cell_type": "markdown",
   "metadata": {},
   "source": [
    "__Variables quantitatives:__\n",
    "  <br/><u>Variables quantitatives continues</u>\n",
    "  - nutrition-score-fr_100g: score nutritionnel  pour une portion de 100g du produitn\n",
    "  - energy_100g, proteins_100g, sugars_100g, saturated-fat_100g, salt_100g: valeurs nutritionelles pour une portion de 100g du produit ou de l'aliment enregistré\n",
    "  <br/><u>Variables quantitatives discrètes</u>\n",
    "  - additives_n: le nombre d'additifs présent dans le produit\n",
    "__Variables qualitatives:__\n",
    "\n",
    "<u>Variables qualitatives nominales:</u>\n",
    "- product_name: Nom du produit \n",
    "- brands: Marque du produit \n",
    "- ingredients_from_palm_oil_n: présence ou non d'huile de palme dans le produit ou dans préparation\n",
    "\n",
    "\n",
    "<u>Variables qualitatives ordinales:</u>\n",
    "- nutriscore_grade: impact environnemental du produit allant de A à E\n",
    "\n",
    " "
   ]
  },
  {
   "cell_type": "code",
   "execution_count": 6,
   "metadata": {},
   "outputs": [
    {
     "data": {
      "text/plain": [
       "product_name                   0.0\n",
       "categories                     0.0\n",
       "additives_n                    0.0\n",
       "ingredients_from_palm_oil_n    0.0\n",
       "nutrition_grade_fr             0.0\n",
       "energy_100g                    0.0\n",
       "saturated-fat_100g             0.0\n",
       "sugars_100g                    0.0\n",
       "proteins_100g                  0.0\n",
       "salt_100g                      0.0\n",
       "nutrition-score-fr_100g        0.0\n",
       "dtype: float64"
      ]
     },
     "execution_count": 6,
     "metadata": {},
     "output_type": "execute_result"
    }
   ],
   "source": [
    "df.isnull().sum()/len(df)"
   ]
  },
  {
   "cell_type": "markdown",
   "metadata": {},
   "source": [
    "## 1 - Analyse univariée"
   ]
  },
  {
   "cell_type": "code",
   "execution_count": 6,
   "metadata": {},
   "outputs": [
    {
     "data": {
      "text/html": [
       "<div>\n",
       "<style scoped>\n",
       "    .dataframe tbody tr th:only-of-type {\n",
       "        vertical-align: middle;\n",
       "    }\n",
       "\n",
       "    .dataframe tbody tr th {\n",
       "        vertical-align: top;\n",
       "    }\n",
       "\n",
       "    .dataframe thead th {\n",
       "        text-align: right;\n",
       "    }\n",
       "</style>\n",
       "<table border=\"1\" class=\"dataframe\">\n",
       "  <thead>\n",
       "    <tr style=\"text-align: right;\">\n",
       "      <th></th>\n",
       "      <th>energy_100g</th>\n",
       "      <th>fat_100g</th>\n",
       "      <th>saturated-fat_100g</th>\n",
       "      <th>carbohydrates_100g</th>\n",
       "      <th>sugars_100g</th>\n",
       "      <th>fiber_100g</th>\n",
       "      <th>proteins_100g</th>\n",
       "      <th>salt_100g</th>\n",
       "      <th>nutrition-score-fr_100g</th>\n",
       "      <th>additives_n</th>\n",
       "      <th>ingredients_from_palm_oil_n</th>\n",
       "    </tr>\n",
       "  </thead>\n",
       "  <tbody>\n",
       "    <tr>\n",
       "      <th>count</th>\n",
       "      <td>126940.000000</td>\n",
       "      <td>126940.000000</td>\n",
       "      <td>126940.000000</td>\n",
       "      <td>126940.000000</td>\n",
       "      <td>126940.000000</td>\n",
       "      <td>126940.000000</td>\n",
       "      <td>126940.000000</td>\n",
       "      <td>126940.000000</td>\n",
       "      <td>126940.000000</td>\n",
       "      <td>126940.000000</td>\n",
       "      <td>126940.000000</td>\n",
       "    </tr>\n",
       "    <tr>\n",
       "      <th>mean</th>\n",
       "      <td>1073.644235</td>\n",
       "      <td>11.319481</td>\n",
       "      <td>4.447746</td>\n",
       "      <td>33.048637</td>\n",
       "      <td>16.768007</td>\n",
       "      <td>1.648430</td>\n",
       "      <td>5.828840</td>\n",
       "      <td>0.826336</td>\n",
       "      <td>10.217589</td>\n",
       "      <td>2.358704</td>\n",
       "      <td>0.030436</td>\n",
       "    </tr>\n",
       "    <tr>\n",
       "      <th>std</th>\n",
       "      <td>719.949968</td>\n",
       "      <td>11.980265</td>\n",
       "      <td>5.474661</td>\n",
       "      <td>27.741334</td>\n",
       "      <td>18.772504</td>\n",
       "      <td>1.935867</td>\n",
       "      <td>5.792857</td>\n",
       "      <td>0.820232</td>\n",
       "      <td>7.704703</td>\n",
       "      <td>2.621087</td>\n",
       "      <td>0.163843</td>\n",
       "    </tr>\n",
       "    <tr>\n",
       "      <th>min</th>\n",
       "      <td>0.000000</td>\n",
       "      <td>0.000000</td>\n",
       "      <td>0.000000</td>\n",
       "      <td>0.000000</td>\n",
       "      <td>0.000000</td>\n",
       "      <td>0.000000</td>\n",
       "      <td>0.000000</td>\n",
       "      <td>0.000000</td>\n",
       "      <td>0.000000</td>\n",
       "      <td>0.000000</td>\n",
       "      <td>0.000000</td>\n",
       "    </tr>\n",
       "    <tr>\n",
       "      <th>25%</th>\n",
       "      <td>410.000000</td>\n",
       "      <td>0.200000</td>\n",
       "      <td>0.187267</td>\n",
       "      <td>7.330000</td>\n",
       "      <td>2.000000</td>\n",
       "      <td>0.000000</td>\n",
       "      <td>0.800000</td>\n",
       "      <td>0.100000</td>\n",
       "      <td>3.000000</td>\n",
       "      <td>0.200000</td>\n",
       "      <td>0.000000</td>\n",
       "    </tr>\n",
       "    <tr>\n",
       "      <th>50%</th>\n",
       "      <td>1046.000000</td>\n",
       "      <td>7.500000</td>\n",
       "      <td>2.170000</td>\n",
       "      <td>24.800000</td>\n",
       "      <td>8.330000</td>\n",
       "      <td>1.020000</td>\n",
       "      <td>4.410000</td>\n",
       "      <td>0.635000</td>\n",
       "      <td>10.000000</td>\n",
       "      <td>2.000000</td>\n",
       "      <td>0.000000</td>\n",
       "    </tr>\n",
       "    <tr>\n",
       "      <th>75%</th>\n",
       "      <td>1674.000000</td>\n",
       "      <td>20.000000</td>\n",
       "      <td>6.900000</td>\n",
       "      <td>58.000000</td>\n",
       "      <td>28.000000</td>\n",
       "      <td>2.580000</td>\n",
       "      <td>8.300000</td>\n",
       "      <td>1.300000</td>\n",
       "      <td>16.000000</td>\n",
       "      <td>3.000000</td>\n",
       "      <td>0.000000</td>\n",
       "    </tr>\n",
       "    <tr>\n",
       "      <th>max</th>\n",
       "      <td>3703.000000</td>\n",
       "      <td>81.533570</td>\n",
       "      <td>29.765893</td>\n",
       "      <td>131.323478</td>\n",
       "      <td>72.400000</td>\n",
       "      <td>8.750000</td>\n",
       "      <td>24.000000</td>\n",
       "      <td>3.660000</td>\n",
       "      <td>37.000000</td>\n",
       "      <td>31.000000</td>\n",
       "      <td>2.000000</td>\n",
       "    </tr>\n",
       "  </tbody>\n",
       "</table>\n",
       "</div>"
      ],
      "text/plain": [
       "         energy_100g       fat_100g  saturated-fat_100g  carbohydrates_100g  \\\n",
       "count  126940.000000  126940.000000       126940.000000       126940.000000   \n",
       "mean     1073.644235      11.319481            4.447746           33.048637   \n",
       "std       719.949968      11.980265            5.474661           27.741334   \n",
       "min         0.000000       0.000000            0.000000            0.000000   \n",
       "25%       410.000000       0.200000            0.187267            7.330000   \n",
       "50%      1046.000000       7.500000            2.170000           24.800000   \n",
       "75%      1674.000000      20.000000            6.900000           58.000000   \n",
       "max      3703.000000      81.533570           29.765893          131.323478   \n",
       "\n",
       "         sugars_100g     fiber_100g  proteins_100g      salt_100g  \\\n",
       "count  126940.000000  126940.000000  126940.000000  126940.000000   \n",
       "mean       16.768007       1.648430       5.828840       0.826336   \n",
       "std        18.772504       1.935867       5.792857       0.820232   \n",
       "min         0.000000       0.000000       0.000000       0.000000   \n",
       "25%         2.000000       0.000000       0.800000       0.100000   \n",
       "50%         8.330000       1.020000       4.410000       0.635000   \n",
       "75%        28.000000       2.580000       8.300000       1.300000   \n",
       "max        72.400000       8.750000      24.000000       3.660000   \n",
       "\n",
       "       nutrition-score-fr_100g    additives_n  ingredients_from_palm_oil_n  \n",
       "count            126940.000000  126940.000000                126940.000000  \n",
       "mean                 10.217589       2.358704                     0.030436  \n",
       "std                   7.704703       2.621087                     0.163843  \n",
       "min                   0.000000       0.000000                     0.000000  \n",
       "25%                   3.000000       0.200000                     0.000000  \n",
       "50%                  10.000000       2.000000                     0.000000  \n",
       "75%                  16.000000       3.000000                     0.000000  \n",
       "max                  37.000000      31.000000                     2.000000  "
      ]
     },
     "execution_count": 6,
     "metadata": {},
     "output_type": "execute_result"
    }
   ],
   "source": [
    "## analyse univariée\n",
    "df.describe()"
   ]
  },
  {
   "cell_type": "markdown",
   "metadata": {},
   "source": [
    "La variable énergie a une échelle de valeurs bien plus importante, on note aussi ,au regard des écart-types, que les dispersions sont très différentes"
   ]
  },
  {
   "cell_type": "markdown",
   "metadata": {},
   "source": [
    "## Analyse des variables quantitatives"
   ]
  },
  {
   "cell_type": "markdown",
   "metadata": {},
   "source": [
    "###    Analyse de la variable quantitative discrète nombre d'additifs (additives_n)"
   ]
  },
  {
   "cell_type": "code",
   "execution_count": 7,
   "metadata": {},
   "outputs": [
    {
     "ename": "ValueError",
     "evalue": "Could not interpret input 'class'",
     "output_type": "error",
     "traceback": [
      "\u001b[0;31m---------------------------------------------------------------------------\u001b[0m",
      "\u001b[0;31mValueError\u001b[0m                                Traceback (most recent call last)",
      "\u001b[0;32m<ipython-input-7-0d0f1e3a0ed1>\u001b[0m in \u001b[0;36m<module>\u001b[0;34m\u001b[0m\n\u001b[0;32m----> 1\u001b[0;31m \u001b[0msns\u001b[0m\u001b[0;34m.\u001b[0m\u001b[0mbarplot\u001b[0m\u001b[0;34m(\u001b[0m\u001b[0mx\u001b[0m \u001b[0;34m=\u001b[0m \u001b[0;34m'class'\u001b[0m\u001b[0;34m,\u001b[0m \u001b[0my\u001b[0m \u001b[0;34m=\u001b[0m \u001b[0;34m'fare'\u001b[0m\u001b[0;34m,\u001b[0m \u001b[0mdata\u001b[0m \u001b[0;34m=\u001b[0m \u001b[0mdf\u001b[0m\u001b[0;34m[\u001b[0m\u001b[0;34m'additives_n'\u001b[0m\u001b[0;34m]\u001b[0m\u001b[0;34m)\u001b[0m\u001b[0;34m\u001b[0m\u001b[0;34m\u001b[0m\u001b[0m\n\u001b[0m",
      "\u001b[0;32m~/anaconda3/lib/python3.7/site-packages/seaborn/_decorators.py\u001b[0m in \u001b[0;36minner_f\u001b[0;34m(*args, **kwargs)\u001b[0m\n\u001b[1;32m     44\u001b[0m             )\n\u001b[1;32m     45\u001b[0m         \u001b[0mkwargs\u001b[0m\u001b[0;34m.\u001b[0m\u001b[0mupdate\u001b[0m\u001b[0;34m(\u001b[0m\u001b[0;34m{\u001b[0m\u001b[0mk\u001b[0m\u001b[0;34m:\u001b[0m \u001b[0marg\u001b[0m \u001b[0;32mfor\u001b[0m \u001b[0mk\u001b[0m\u001b[0;34m,\u001b[0m \u001b[0marg\u001b[0m \u001b[0;32min\u001b[0m \u001b[0mzip\u001b[0m\u001b[0;34m(\u001b[0m\u001b[0msig\u001b[0m\u001b[0;34m.\u001b[0m\u001b[0mparameters\u001b[0m\u001b[0;34m,\u001b[0m \u001b[0margs\u001b[0m\u001b[0;34m)\u001b[0m\u001b[0;34m}\u001b[0m\u001b[0;34m)\u001b[0m\u001b[0;34m\u001b[0m\u001b[0;34m\u001b[0m\u001b[0m\n\u001b[0;32m---> 46\u001b[0;31m         \u001b[0;32mreturn\u001b[0m \u001b[0mf\u001b[0m\u001b[0;34m(\u001b[0m\u001b[0;34m**\u001b[0m\u001b[0mkwargs\u001b[0m\u001b[0;34m)\u001b[0m\u001b[0;34m\u001b[0m\u001b[0;34m\u001b[0m\u001b[0m\n\u001b[0m\u001b[1;32m     47\u001b[0m     \u001b[0;32mreturn\u001b[0m \u001b[0minner_f\u001b[0m\u001b[0;34m\u001b[0m\u001b[0;34m\u001b[0m\u001b[0m\n\u001b[1;32m     48\u001b[0m \u001b[0;34m\u001b[0m\u001b[0m\n",
      "\u001b[0;32m~/anaconda3/lib/python3.7/site-packages/seaborn/categorical.py\u001b[0m in \u001b[0;36mbarplot\u001b[0;34m(x, y, hue, data, order, hue_order, estimator, ci, n_boot, units, seed, orient, color, palette, saturation, errcolor, errwidth, capsize, dodge, ax, **kwargs)\u001b[0m\n\u001b[1;32m   3183\u001b[0m                           \u001b[0mestimator\u001b[0m\u001b[0;34m,\u001b[0m \u001b[0mci\u001b[0m\u001b[0;34m,\u001b[0m \u001b[0mn_boot\u001b[0m\u001b[0;34m,\u001b[0m \u001b[0munits\u001b[0m\u001b[0;34m,\u001b[0m \u001b[0mseed\u001b[0m\u001b[0;34m,\u001b[0m\u001b[0;34m\u001b[0m\u001b[0;34m\u001b[0m\u001b[0m\n\u001b[1;32m   3184\u001b[0m                           \u001b[0morient\u001b[0m\u001b[0;34m,\u001b[0m \u001b[0mcolor\u001b[0m\u001b[0;34m,\u001b[0m \u001b[0mpalette\u001b[0m\u001b[0;34m,\u001b[0m \u001b[0msaturation\u001b[0m\u001b[0;34m,\u001b[0m\u001b[0;34m\u001b[0m\u001b[0;34m\u001b[0m\u001b[0m\n\u001b[0;32m-> 3185\u001b[0;31m                           errcolor, errwidth, capsize, dodge)\n\u001b[0m\u001b[1;32m   3186\u001b[0m \u001b[0;34m\u001b[0m\u001b[0m\n\u001b[1;32m   3187\u001b[0m     \u001b[0;32mif\u001b[0m \u001b[0max\u001b[0m \u001b[0;32mis\u001b[0m \u001b[0;32mNone\u001b[0m\u001b[0;34m:\u001b[0m\u001b[0;34m\u001b[0m\u001b[0;34m\u001b[0m\u001b[0m\n",
      "\u001b[0;32m~/anaconda3/lib/python3.7/site-packages/seaborn/categorical.py\u001b[0m in \u001b[0;36m__init__\u001b[0;34m(self, x, y, hue, data, order, hue_order, estimator, ci, n_boot, units, seed, orient, color, palette, saturation, errcolor, errwidth, capsize, dodge)\u001b[0m\n\u001b[1;32m   1583\u001b[0m         \u001b[0;34m\"\"\"Initialize the plotter.\"\"\"\u001b[0m\u001b[0;34m\u001b[0m\u001b[0;34m\u001b[0m\u001b[0m\n\u001b[1;32m   1584\u001b[0m         self.establish_variables(x, y, hue, data, orient,\n\u001b[0;32m-> 1585\u001b[0;31m                                  order, hue_order, units)\n\u001b[0m\u001b[1;32m   1586\u001b[0m         \u001b[0mself\u001b[0m\u001b[0;34m.\u001b[0m\u001b[0mestablish_colors\u001b[0m\u001b[0;34m(\u001b[0m\u001b[0mcolor\u001b[0m\u001b[0;34m,\u001b[0m \u001b[0mpalette\u001b[0m\u001b[0;34m,\u001b[0m \u001b[0msaturation\u001b[0m\u001b[0;34m)\u001b[0m\u001b[0;34m\u001b[0m\u001b[0;34m\u001b[0m\u001b[0m\n\u001b[1;32m   1587\u001b[0m         \u001b[0mself\u001b[0m\u001b[0;34m.\u001b[0m\u001b[0mestimate_statistic\u001b[0m\u001b[0;34m(\u001b[0m\u001b[0mestimator\u001b[0m\u001b[0;34m,\u001b[0m \u001b[0mci\u001b[0m\u001b[0;34m,\u001b[0m \u001b[0mn_boot\u001b[0m\u001b[0;34m,\u001b[0m \u001b[0mseed\u001b[0m\u001b[0;34m)\u001b[0m\u001b[0;34m\u001b[0m\u001b[0;34m\u001b[0m\u001b[0m\n",
      "\u001b[0;32m~/anaconda3/lib/python3.7/site-packages/seaborn/categorical.py\u001b[0m in \u001b[0;36mestablish_variables\u001b[0;34m(self, x, y, hue, data, orient, order, hue_order, units)\u001b[0m\n\u001b[1;32m    151\u001b[0m                 \u001b[0;32mif\u001b[0m \u001b[0misinstance\u001b[0m\u001b[0;34m(\u001b[0m\u001b[0mvar\u001b[0m\u001b[0;34m,\u001b[0m \u001b[0mstr\u001b[0m\u001b[0;34m)\u001b[0m\u001b[0;34m:\u001b[0m\u001b[0;34m\u001b[0m\u001b[0;34m\u001b[0m\u001b[0m\n\u001b[1;32m    152\u001b[0m                     \u001b[0merr\u001b[0m \u001b[0;34m=\u001b[0m \u001b[0;34m\"Could not interpret input '{}'\"\u001b[0m\u001b[0;34m.\u001b[0m\u001b[0mformat\u001b[0m\u001b[0;34m(\u001b[0m\u001b[0mvar\u001b[0m\u001b[0;34m)\u001b[0m\u001b[0;34m\u001b[0m\u001b[0;34m\u001b[0m\u001b[0m\n\u001b[0;32m--> 153\u001b[0;31m                     \u001b[0;32mraise\u001b[0m \u001b[0mValueError\u001b[0m\u001b[0;34m(\u001b[0m\u001b[0merr\u001b[0m\u001b[0;34m)\u001b[0m\u001b[0;34m\u001b[0m\u001b[0;34m\u001b[0m\u001b[0m\n\u001b[0m\u001b[1;32m    154\u001b[0m \u001b[0;34m\u001b[0m\u001b[0m\n\u001b[1;32m    155\u001b[0m             \u001b[0;31m# Figure out the plotting orientation\u001b[0m\u001b[0;34m\u001b[0m\u001b[0;34m\u001b[0m\u001b[0;34m\u001b[0m\u001b[0m\n",
      "\u001b[0;31mValueError\u001b[0m: Could not interpret input 'class'"
     ]
    }
   ],
   "source": [
    "\n",
    "sns.barplot(x = 'class', y = 'fare', data = df['additives_n'])"
   ]
  },
  {
   "cell_type": "code",
   "execution_count": 11,
   "metadata": {},
   "outputs": [
    {
     "data": {
      "image/png": "[encoded data removed]",
      "text/plain": [
       "<Figure size 1440x720 with 1 Axes>"
      ]
     },
     "metadata": {
      "needs_background": "light"
     },
     "output_type": "display_data"
    }
   ],
   "source": [
    "## boxplot\n",
    "from matplotlib import rcParams\n",
    "\n",
    "rcParams['figure.figsize'] = 20,10\n",
    "\n",
    "\n",
    " \n",
    "g=sns.boxplot(data=df)\n",
    "#g.set_yscale(\"log\")"
   ]
  },
  {
   "cell_type": "markdown",
   "metadata": {},
   "source": [
    "# 2 - Analyse multivariée"
   ]
  },
  {
   "cell_type": "code",
   "execution_count": 14,
   "metadata": {},
   "outputs": [
    {
     "data": {
      "text/plain": [
       "['additives_n',\n",
       " 'ingredients_from_palm_oil_n',\n",
       " 'energy_100g',\n",
       " 'saturated-fat_100g',\n",
       " 'sugars_100g',\n",
       " 'proteins_100g',\n",
       " 'salt_100g']"
      ]
     },
     "execution_count": 14,
     "metadata": {},
     "output_type": "execute_result"
    }
   ],
   "source": [
    "## filtrage des variables quantitatives pour l'analyse en composantes principales\n",
    "numeric_columns=df.select_dtypes(exclude=['object']).columns.tolist()\n",
    "pca_cols=[i for i in numeric_columns if  i!='nutrition-score-fr_100g']\n",
    "\n",
    "pca_cols"
   ]
  },
  {
   "cell_type": "code",
   "execution_count": 39,
   "metadata": {},
   "outputs": [
    {
     "data": {
      "text/html": [
       "<div>\n",
       "<style scoped>\n",
       "    .dataframe tbody tr th:only-of-type {\n",
       "        vertical-align: middle;\n",
       "    }\n",
       "\n",
       "    .dataframe tbody tr th {\n",
       "        vertical-align: top;\n",
       "    }\n",
       "\n",
       "    .dataframe thead th {\n",
       "        text-align: right;\n",
       "    }\n",
       "</style>\n",
       "<table border=\"1\" class=\"dataframe\">\n",
       "  <thead>\n",
       "    <tr style=\"text-align: right;\">\n",
       "      <th></th>\n",
       "      <th>additives_n</th>\n",
       "      <th>ingredients_from_palm_oil_n</th>\n",
       "      <th>energy_100g</th>\n",
       "      <th>saturated-fat_100g</th>\n",
       "      <th>sugars_100g</th>\n",
       "      <th>proteins_100g</th>\n",
       "      <th>salt_100g</th>\n",
       "    </tr>\n",
       "  </thead>\n",
       "  <tbody>\n",
       "    <tr>\n",
       "      <th>additives_n</th>\n",
       "      <td>1.000000</td>\n",
       "      <td>0.232017</td>\n",
       "      <td>0.065690</td>\n",
       "      <td>0.014626</td>\n",
       "      <td>0.082200</td>\n",
       "      <td>-0.046803</td>\n",
       "      <td>0.054106</td>\n",
       "    </tr>\n",
       "    <tr>\n",
       "      <th>ingredients_from_palm_oil_n</th>\n",
       "      <td>0.232017</td>\n",
       "      <td>1.000000</td>\n",
       "      <td>0.256517</td>\n",
       "      <td>0.201056</td>\n",
       "      <td>0.184470</td>\n",
       "      <td>-0.006194</td>\n",
       "      <td>-0.012101</td>\n",
       "    </tr>\n",
       "    <tr>\n",
       "      <th>energy_100g</th>\n",
       "      <td>0.065690</td>\n",
       "      <td>0.256517</td>\n",
       "      <td>1.000000</td>\n",
       "      <td>0.610550</td>\n",
       "      <td>0.433433</td>\n",
       "      <td>0.260753</td>\n",
       "      <td>0.120373</td>\n",
       "    </tr>\n",
       "    <tr>\n",
       "      <th>saturated-fat_100g</th>\n",
       "      <td>0.014626</td>\n",
       "      <td>0.201056</td>\n",
       "      <td>0.610550</td>\n",
       "      <td>1.000000</td>\n",
       "      <td>0.284793</td>\n",
       "      <td>0.255047</td>\n",
       "      <td>0.060372</td>\n",
       "    </tr>\n",
       "    <tr>\n",
       "      <th>sugars_100g</th>\n",
       "      <td>0.082200</td>\n",
       "      <td>0.184470</td>\n",
       "      <td>0.433433</td>\n",
       "      <td>0.284793</td>\n",
       "      <td>1.000000</td>\n",
       "      <td>-0.196138</td>\n",
       "      <td>-0.383189</td>\n",
       "    </tr>\n",
       "    <tr>\n",
       "      <th>proteins_100g</th>\n",
       "      <td>-0.046803</td>\n",
       "      <td>-0.006194</td>\n",
       "      <td>0.260753</td>\n",
       "      <td>0.255047</td>\n",
       "      <td>-0.196138</td>\n",
       "      <td>1.000000</td>\n",
       "      <td>0.514620</td>\n",
       "    </tr>\n",
       "    <tr>\n",
       "      <th>salt_100g</th>\n",
       "      <td>0.054106</td>\n",
       "      <td>-0.012101</td>\n",
       "      <td>0.120373</td>\n",
       "      <td>0.060372</td>\n",
       "      <td>-0.383189</td>\n",
       "      <td>0.514620</td>\n",
       "      <td>1.000000</td>\n",
       "    </tr>\n",
       "  </tbody>\n",
       "</table>\n",
       "</div>"
      ],
      "text/plain": [
       "                             additives_n  ingredients_from_palm_oil_n  \\\n",
       "additives_n                     1.000000                     0.232017   \n",
       "ingredients_from_palm_oil_n     0.232017                     1.000000   \n",
       "energy_100g                     0.065690                     0.256517   \n",
       "saturated-fat_100g              0.014626                     0.201056   \n",
       "sugars_100g                     0.082200                     0.184470   \n",
       "proteins_100g                  -0.046803                    -0.006194   \n",
       "salt_100g                       0.054106                    -0.012101   \n",
       "\n",
       "                             energy_100g  saturated-fat_100g  sugars_100g  \\\n",
       "additives_n                     0.065690            0.014626     0.082200   \n",
       "ingredients_from_palm_oil_n     0.256517            0.201056     0.184470   \n",
       "energy_100g                     1.000000            0.610550     0.433433   \n",
       "saturated-fat_100g              0.610550            1.000000     0.284793   \n",
       "sugars_100g                     0.433433            0.284793     1.000000   \n",
       "proteins_100g                   0.260753            0.255047    -0.196138   \n",
       "salt_100g                       0.120373            0.060372    -0.383189   \n",
       "\n",
       "                             proteins_100g  salt_100g  \n",
       "additives_n                      -0.046803   0.054106  \n",
       "ingredients_from_palm_oil_n      -0.006194  -0.012101  \n",
       "energy_100g                       0.260753   0.120373  \n",
       "saturated-fat_100g                0.255047   0.060372  \n",
       "sugars_100g                      -0.196138  -0.383189  \n",
       "proteins_100g                     1.000000   0.514620  \n",
       "salt_100g                         0.514620   1.000000  "
      ]
     },
     "execution_count": 39,
     "metadata": {},
     "output_type": "execute_result"
    }
   ],
   "source": [
    "df[pca_cols].corr()\n",
    "## on note une faible corrélation entre les variables"
   ]
  },
  {
   "cell_type": "code",
   "execution_count": 15,
   "metadata": {},
   "outputs": [],
   "source": [
    "#from pandas.plotting import scatter_matrix\n",
    "#scatter_matrix(df,figsize=(25,25));"
   ]
  },
  {
   "cell_type": "code",
   "execution_count": 26,
   "metadata": {},
   "outputs": [
    {
     "data": {
      "text/plain": [
       "array([[1.0000e+00, 0.0000e+00, 1.8830e+03, ..., 5.7500e+01, 2.5000e+00,\n",
       "        9.6520e-02],\n",
       "       [3.4000e+00, 4.0000e-01, 1.4810e+03, ..., 2.2062e+01, 6.2500e+00,\n",
       "        6.3680e-01],\n",
       "       [0.0000e+00, 2.0000e-01, 2.4060e+03, ..., 5.0300e+01, 9.5000e+00,\n",
       "        3.0000e-03],\n",
       "       ...,\n",
       "       [2.2000e+00, 2.0000e-01, 1.0840e+03, ..., 1.0500e+01, 8.7000e+00,\n",
       "        2.9000e-01],\n",
       "       [1.2000e+00, 0.0000e+00, 2.4060e+03, ..., 3.8900e+00, 2.1220e+01,\n",
       "        1.0000e-01],\n",
       "       [0.0000e+00, 0.0000e+00, 2.1000e+01, ..., 5.0000e-01, 5.0000e-01,\n",
       "        2.5400e-02]])"
      ]
     },
     "execution_count": 26,
     "metadata": {},
     "output_type": "execute_result"
    }
   ],
   "source": [
    "\n",
    "data=df.loc[:, pca_cols].values\n",
    "data"
   ]
  },
  {
   "cell_type": "code",
   "execution_count": 41,
   "metadata": {},
   "outputs": [],
   "source": [
    "## création d'un objet pipeline de normalisation et de l'acp\n",
    "pipeline1=Pipeline([\n",
    "    ('standard_scaler',StandardScaler()),\n",
    "    ('pca',PCA(0.90)) ## on espère 90% de la variance\n",
    "])"
   ]
  },
  {
   "cell_type": "code",
   "execution_count": 42,
   "metadata": {},
   "outputs": [
    {
     "data": {
      "text/plain": [
       "array([[ 2.01019922, -2.14665283, -1.56818538, -0.68535979,  0.46045187,\n",
       "         0.30754514],\n",
       "       [ 1.11898758, -0.55981616,  0.68488867,  0.45470497,  0.11394929,\n",
       "        -0.04427759],\n",
       "       [ 1.80507169, -1.42912589, -1.28830978,  0.18994294,  1.90574305,\n",
       "        -0.31916932],\n",
       "       ...,\n",
       "       [ 0.75940164, -0.09319974, -0.19935318,  0.33114424, -0.96578876,\n",
       "        -0.75465603],\n",
       "       [ 1.07531521,  1.32858081, -0.99848981, -0.12007611,  0.62636945,\n",
       "        -1.73000714],\n",
       "       [-2.23394357, -0.86561109, -0.46039942,  0.7078343 , -0.52496144,\n",
       "        -0.12015378]])"
      ]
     },
     "execution_count": 42,
     "metadata": {},
     "output_type": "execute_result"
    }
   ],
   "source": [
    "## exécution du pipeline\n",
    "pipeline1.fit_transform(data)"
   ]
  },
  {
   "cell_type": "code",
   "execution_count": 43,
   "metadata": {},
   "outputs": [
    {
     "name": "stdout",
     "output_type": "stream",
     "text": [
      "pca==== PCA(n_components=0.9)\n"
     ]
    },
    {
     "data": {
      "image/png": "[encoded data removed]",
      "text/plain": [
       "<Figure size 1440x720 with 1 Axes>"
      ]
     },
     "metadata": {
      "needs_background": "light"
     },
     "output_type": "display_data"
    }
   ],
   "source": [
    "## visualisation des composantes principales\n",
    "pca=pipeline1[1]\n",
    "print('pca====',pca)\n",
    "plt.bar(range(pca.n_components_),pca.explained_variance_ratio_.cumsum())\n",
    "plt.xlabel('Principal components')\n",
    "plt.ylabel('explained variance ratio')\n",
    "\n",
    "plt.xticks(range(pca.n_components_))\n",
    "plt.show()"
   ]
  },
  {
   "cell_type": "code",
   "execution_count": 37,
   "metadata": {},
   "outputs": [
    {
     "data": {
      "text/plain": [
       "array([0.30017215, 0.55207725, 0.71427013, 0.81877934, 0.89188375,\n",
       "       0.95633579])"
      ]
     },
     "execution_count": 37,
     "metadata": {},
     "output_type": "execute_result"
    }
   ],
   "source": [
    "\n",
    "\n",
    "## la dimension intrinsèque de nos données est égale à 3\n",
    "## par conséquent nos données peuvent être réduite à 3 voir 4 dimensions  au lieu de 10\n",
    "## tout en gardant 70% de la variabilité\n",
    "pca.explained_variance_ratio_.cumsum()"
   ]
  },
  {
   "cell_type": "code",
   "execution_count": null,
   "metadata": {},
   "outputs": [],
   "source": []
  }
 ],
 "metadata": {
  "kernelspec": {
   "display_name": "Python 3",
   "language": "python",
   "name": "python3"
  },
  "language_info": {
   "codemirror_mode": {
    "name": "ipython",
    "version": 3
   },
   "file_extension": ".py",
   "mimetype": "text/x-python",
   "name": "python",
   "nbconvert_exporter": "python",
   "pygments_lexer": "ipython3",
   "version": "3.7.6"
  }
 },
 "nbformat": 4,
 "nbformat_minor": 4
}
